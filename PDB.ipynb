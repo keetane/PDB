{
 "cells": [
  {
   "cell_type": "markdown",
   "metadata": {},
   "source": [
    "# PDB\n",
    "#### https://www.rcsb.org/\n",
    "#### https://bi.biopapyrus.jp/python/biopython/pdb.html\n",
    "#### https://github.com/williamgilpin/pypdb/blob/master/demos/demos.ipynb"
   ]
  },
  {
   "cell_type": "code",
   "execution_count": 2,
   "metadata": {},
   "outputs": [],
   "source": [
    "from IPython.display import HTML\n",
    "from pypdb import *\n",
    "\n",
    "import time\n",
    "from Bio.PDB import PDBList\n",
    "from tqdm import tqdm"
   ]
  },
  {
   "cell_type": "markdown",
   "metadata": {},
   "source": [
    "### keywordsの検索結果のPDB IDのリストを返す\n",
    "### PDB IDの数をprint"
   ]
  },
  {
   "cell_type": "code",
   "execution_count": null,
   "metadata": {},
   "outputs": [],
   "source": [
    "q = input('keywords? ')\n",
    "pdb_ids = Query(q).search()\n",
    "print('the number of PDB IDs are ' + str(len(pdb_ids)))"
   ]
  },
  {
   "cell_type": "code",
   "execution_count": null,
   "metadata": {},
   "outputs": [],
   "source": []
  },
  {
   "cell_type": "code",
   "execution_count": 29,
   "metadata": {},
   "outputs": [],
   "source": [
    "pdbl = PDBList()\n",
    "dir_name = q + '/'"
   ]
  },
  {
   "cell_type": "code",
   "execution_count": 36,
   "metadata": {},
   "outputs": [
    {
     "name": "stdin",
     "output_type": "stream",
     "text": [
      "Downloads? y/n m\n"
     ]
    },
    {
     "name": "stdout",
     "output_type": "stream",
     "text": [
      "fertig\n"
     ]
    }
   ],
   "source": [
    "download = input('Downloads? y/n')\n",
    "if download == 'y':\n",
    "    for pdb_id in tqdm(pdb_ids, position=0):\n",
    "        pdbl.retrieve_pdb_file(pdb_id, pdir=dir_name)\n",
    "        time.sleep(10)\n",
    "print('fertig')"
   ]
  }
 ],
 "metadata": {
  "kernelspec": {
   "display_name": "Python 3",
   "language": "python",
   "name": "python3"
  },
  "language_info": {
   "codemirror_mode": {
    "name": "ipython",
    "version": 3
   },
   "file_extension": ".py",
   "mimetype": "text/x-python",
   "name": "python",
   "nbconvert_exporter": "python",
   "pygments_lexer": "ipython3",
   "version": "3.7.9"
  }
 },
 "nbformat": 4,
 "nbformat_minor": 4
}
