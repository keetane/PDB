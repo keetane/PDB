{
 "cells": [
  {
   "cell_type": "markdown",
   "id": "challenging-orlando",
   "metadata": {},
   "source": [
    "# UniprotからPDBを検索する"
   ]
  },
  {
   "cell_type": "code",
   "execution_count": 1,
   "id": "northern-courtesy",
   "metadata": {},
   "outputs": [],
   "source": [
    "import pandas as pd\n",
    "from urllib.request import urlopen\n",
    "import numpy as np\n",
    "from lxml import etree\n",
    "from Bio import SeqIO\n",
    "from Bio.PDB import PDBList as pdbl\n",
    "import urllib.parse\n",
    "import urllib.request\n",
    "import json"
   ]
  },
  {
   "cell_type": "markdown",
   "id": "comfortable-briefs",
   "metadata": {},
   "source": [
    "### Target名をUniprotで検索"
   ]
  },
  {
   "cell_type": "code",
   "execution_count": 2,
   "id": "dutch-windsor",
   "metadata": {},
   "outputs": [
    {
     "name": "stdin",
     "output_type": "stream",
     "text": [
      "target name? synuclein\n"
     ]
    },
    {
     "data": {
      "text/html": [
       "<div>\n",
       "<style scoped>\n",
       "    .dataframe tbody tr th:only-of-type {\n",
       "        vertical-align: middle;\n",
       "    }\n",
       "\n",
       "    .dataframe tbody tr th {\n",
       "        vertical-align: top;\n",
       "    }\n",
       "\n",
       "    .dataframe thead th {\n",
       "        text-align: right;\n",
       "    }\n",
       "</style>\n",
       "<table border=\"1\" class=\"dataframe\">\n",
       "  <thead>\n",
       "    <tr style=\"text-align: right;\">\n",
       "      <th></th>\n",
       "      <th>Unnamed: 0</th>\n",
       "      <th>Entry</th>\n",
       "      <th>Entry name</th>\n",
       "      <th>Unnamed: 3</th>\n",
       "      <th>Protein names</th>\n",
       "      <th>Gene names</th>\n",
       "      <th>Organism</th>\n",
       "      <th>Length</th>\n",
       "      <th>e</th>\n",
       "    </tr>\n",
       "  </thead>\n",
       "  <tbody>\n",
       "    <tr>\n",
       "      <th>0</th>\n",
       "      <td>NaN</td>\n",
       "      <td>Q63544</td>\n",
       "      <td>SYUG_RAT</td>\n",
       "      <td>NaN</td>\n",
       "      <td>Gamma-synuclein</td>\n",
       "      <td>Sncg</td>\n",
       "      <td>Rattus norvegicus (Rat)</td>\n",
       "      <td>123</td>\n",
       "      <td>NaN</td>\n",
       "    </tr>\n",
       "    <tr>\n",
       "      <th>1</th>\n",
       "      <td>NaN</td>\n",
       "      <td>P37840</td>\n",
       "      <td>SYUA_HUMAN</td>\n",
       "      <td>NaN</td>\n",
       "      <td>Alpha-synuclein</td>\n",
       "      <td>SNCA NACP, PARK1</td>\n",
       "      <td>Homo sapiens (Human)</td>\n",
       "      <td>140</td>\n",
       "      <td>NaN</td>\n",
       "    </tr>\n",
       "    <tr>\n",
       "      <th>2</th>\n",
       "      <td>NaN</td>\n",
       "      <td>O55042</td>\n",
       "      <td>SYUA_MOUSE</td>\n",
       "      <td>NaN</td>\n",
       "      <td>Alpha-synuclein</td>\n",
       "      <td>Snca Syn</td>\n",
       "      <td>Mus musculus (Mouse)</td>\n",
       "      <td>140</td>\n",
       "      <td>NaN</td>\n",
       "    </tr>\n",
       "    <tr>\n",
       "      <th>3</th>\n",
       "      <td>NaN</td>\n",
       "      <td>O76070</td>\n",
       "      <td>SYUG_HUMAN</td>\n",
       "      <td>NaN</td>\n",
       "      <td>Gamma-synuclein</td>\n",
       "      <td>SNCG BCSG1, PERSYN, PRSN</td>\n",
       "      <td>Homo sapiens (Human)</td>\n",
       "      <td>127</td>\n",
       "      <td>NaN</td>\n",
       "    </tr>\n",
       "    <tr>\n",
       "      <th>4</th>\n",
       "      <td>NaN</td>\n",
       "      <td>Q16143</td>\n",
       "      <td>SYUB_HUMAN</td>\n",
       "      <td>NaN</td>\n",
       "      <td>Beta-synuclein</td>\n",
       "      <td>SNCB</td>\n",
       "      <td>Homo sapiens (Human)</td>\n",
       "      <td>134</td>\n",
       "      <td>NaN</td>\n",
       "    </tr>\n",
       "  </tbody>\n",
       "</table>\n",
       "</div>"
      ],
      "text/plain": [
       "   Unnamed: 0   Entry  Entry name  Unnamed: 3    Protein names  \\\n",
       "0         NaN  Q63544    SYUG_RAT         NaN  Gamma-synuclein   \n",
       "1         NaN  P37840  SYUA_HUMAN         NaN  Alpha-synuclein   \n",
       "2         NaN  O55042  SYUA_MOUSE         NaN  Alpha-synuclein   \n",
       "3         NaN  O76070  SYUG_HUMAN         NaN  Gamma-synuclein   \n",
       "4         NaN  Q16143  SYUB_HUMAN         NaN   Beta-synuclein   \n",
       "\n",
       "                 Gene names                 Organism  Length   e  \n",
       "0                      Sncg  Rattus norvegicus (Rat)     123 NaN  \n",
       "1          SNCA NACP, PARK1     Homo sapiens (Human)     140 NaN  \n",
       "2                  Snca Syn     Mus musculus (Mouse)     140 NaN  \n",
       "3  SNCG BCSG1, PERSYN, PRSN     Homo sapiens (Human)     127 NaN  \n",
       "4                      SNCB     Homo sapiens (Human)     134 NaN  "
      ]
     },
     "execution_count": 2,
     "metadata": {},
     "output_type": "execute_result"
    }
   ],
   "source": [
    "target = input('target name?')\n",
    "uniprot = 'https://www.uniprot.org/uniprot/?query={}&sort=score'.format(target)\n",
    "list = pd.read_html(uniprot)[0]\n",
    "list.head()"
   ]
  },
  {
   "cell_type": "markdown",
   "id": "decreased-amateur",
   "metadata": {},
   "source": [
    "### TargetのUniprotKB(Entry)を指定してxmlを取得"
   ]
  },
  {
   "cell_type": "code",
   "execution_count": 3,
   "id": "classified-latest",
   "metadata": {},
   "outputs": [
    {
     "name": "stdin",
     "output_type": "stream",
     "text": [
      "rowID?  1\n"
     ]
    }
   ],
   "source": [
    "rowID = input('rowID? ')\n",
    "UniprotKB = list['Entry'][int(rowID)]\n",
    "handle = urlopen(\"http://www.uniprot.org/uniprot/{}.xml\".format(UniprotKB))\n",
    "record = SeqIO.read(handle, \"uniprot-xml\")\n",
    "# print(record)"
   ]
  },
  {
   "cell_type": "markdown",
   "id": "scenic-cornwall",
   "metadata": {},
   "source": [
    "### xmlの一部をDataFrameに変換"
   ]
  },
  {
   "cell_type": "code",
   "execution_count": 4,
   "id": "serial-certificate",
   "metadata": {},
   "outputs": [],
   "source": [
    "dbx = record.dbxrefs\n",
    "dfIO = pd.DataFrame(dbx)\n",
    "df = dfIO[0].str.split(':', expand=True)"
   ]
  },
  {
   "cell_type": "markdown",
   "id": "consolidated-palmer",
   "metadata": {},
   "source": [
    "### DataFrameにカラム名をつける"
   ]
  },
  {
   "cell_type": "code",
   "execution_count": 5,
   "id": "skilled-decimal",
   "metadata": {},
   "outputs": [
    {
     "data": {
      "text/html": [
       "<div>\n",
       "<style scoped>\n",
       "    .dataframe tbody tr th:only-of-type {\n",
       "        vertical-align: middle;\n",
       "    }\n",
       "\n",
       "    .dataframe tbody tr th {\n",
       "        vertical-align: top;\n",
       "    }\n",
       "\n",
       "    .dataframe thead th {\n",
       "        text-align: right;\n",
       "    }\n",
       "</style>\n",
       "<table border=\"1\" class=\"dataframe\">\n",
       "  <thead>\n",
       "    <tr style=\"text-align: right;\">\n",
       "      <th></th>\n",
       "      <th>name</th>\n",
       "      <th>id</th>\n",
       "      <th>and</th>\n",
       "    </tr>\n",
       "  </thead>\n",
       "  <tbody>\n",
       "    <tr>\n",
       "      <th>0</th>\n",
       "      <td>ABCD</td>\n",
       "      <td>P37840</td>\n",
       "      <td>None</td>\n",
       "    </tr>\n",
       "    <tr>\n",
       "      <th>1</th>\n",
       "      <td>Antibodypedia</td>\n",
       "      <td>14688</td>\n",
       "      <td>None</td>\n",
       "    </tr>\n",
       "    <tr>\n",
       "      <th>2</th>\n",
       "      <td>BMRB</td>\n",
       "      <td>P37840</td>\n",
       "      <td>None</td>\n",
       "    </tr>\n",
       "    <tr>\n",
       "      <th>3</th>\n",
       "      <td>Bgee</td>\n",
       "      <td>ENSG00000145335</td>\n",
       "      <td>None</td>\n",
       "    </tr>\n",
       "    <tr>\n",
       "      <th>4</th>\n",
       "      <td>BindingDB</td>\n",
       "      <td>P37840</td>\n",
       "      <td>None</td>\n",
       "    </tr>\n",
       "    <tr>\n",
       "      <th>...</th>\n",
       "      <td>...</td>\n",
       "      <td>...</td>\n",
       "      <td>...</td>\n",
       "    </tr>\n",
       "    <tr>\n",
       "      <th>418</th>\n",
       "      <td>VEuPathDB</td>\n",
       "      <td>HostDB</td>\n",
       "      <td>ENSG00000145335.15</td>\n",
       "    </tr>\n",
       "    <tr>\n",
       "      <th>419</th>\n",
       "      <td>eggNOG</td>\n",
       "      <td>ENOG502S0Q7</td>\n",
       "      <td>None</td>\n",
       "    </tr>\n",
       "    <tr>\n",
       "      <th>420</th>\n",
       "      <td>iPTMnet</td>\n",
       "      <td>P37840</td>\n",
       "      <td>None</td>\n",
       "    </tr>\n",
       "    <tr>\n",
       "      <th>421</th>\n",
       "      <td>jPOST</td>\n",
       "      <td>P37840</td>\n",
       "      <td>None</td>\n",
       "    </tr>\n",
       "    <tr>\n",
       "      <th>422</th>\n",
       "      <td>neXtProt</td>\n",
       "      <td>NX_P37840</td>\n",
       "      <td>None</td>\n",
       "    </tr>\n",
       "  </tbody>\n",
       "</table>\n",
       "<p>423 rows × 3 columns</p>\n",
       "</div>"
      ],
      "text/plain": [
       "              name               id                 and\n",
       "0             ABCD           P37840                None\n",
       "1    Antibodypedia            14688                None\n",
       "2             BMRB           P37840                None\n",
       "3             Bgee  ENSG00000145335                None\n",
       "4        BindingDB           P37840                None\n",
       "..             ...              ...                 ...\n",
       "418      VEuPathDB           HostDB  ENSG00000145335.15\n",
       "419         eggNOG      ENOG502S0Q7                None\n",
       "420        iPTMnet           P37840                None\n",
       "421          jPOST           P37840                None\n",
       "422       neXtProt        NX_P37840                None\n",
       "\n",
       "[423 rows x 3 columns]"
      ]
     },
     "execution_count": 5,
     "metadata": {},
     "output_type": "execute_result"
    }
   ],
   "source": [
    "df.columns = ['name', 'id', 'and']\n",
    "df"
   ]
  },
  {
   "cell_type": "markdown",
   "id": "regional-museum",
   "metadata": {},
   "source": [
    "### PDBのrowを指定してlistに格納"
   ]
  },
  {
   "cell_type": "code",
   "execution_count": 6,
   "id": "reported-lucas",
   "metadata": {},
   "outputs": [
    {
     "data": {
      "text/plain": [
       "48"
      ]
     },
     "execution_count": 6,
     "metadata": {},
     "output_type": "execute_result"
    }
   ],
   "source": [
    "dfPDB = df[df['name']=='PDB']\n",
    "PDBs = dfPDB['id'].values.tolist()\n",
    "len(PDBs)"
   ]
  },
  {
   "cell_type": "markdown",
   "id": "authentic-louis",
   "metadata": {},
   "source": [
    "### target名のdirectoryを作ってPDBを全てDL"
   ]
  },
  {
   "cell_type": "code",
   "execution_count": 10,
   "id": "broke-junior",
   "metadata": {
    "collapsed": true,
    "jupyter": {
     "outputs_hidden": true
    }
   },
   "outputs": [
    {
     "name": "stderr",
     "output_type": "stream",
     "text": [
      "WARNING: The default download format has changed from PDB to PDBx/mmCif\n"
     ]
    },
    {
     "name": "stdout",
     "output_type": "stream",
     "text": [
      "Downloading PDB structure '1U6D'...\n"
     ]
    },
    {
     "name": "stderr",
     "output_type": "stream",
     "text": [
      "WARNING: The default download format has changed from PDB to PDBx/mmCif\n"
     ]
    },
    {
     "name": "stdout",
     "output_type": "stream",
     "text": [
      "Downloading PDB structure '1ZGK'...\n"
     ]
    },
    {
     "name": "stderr",
     "output_type": "stream",
     "text": [
      "WARNING: The default download format has changed from PDB to PDBx/mmCif\n"
     ]
    },
    {
     "name": "stdout",
     "output_type": "stream",
     "text": [
      "Downloading PDB structure '2FLU'...\n"
     ]
    },
    {
     "name": "stderr",
     "output_type": "stream",
     "text": [
      "WARNING: The default download format has changed from PDB to PDBx/mmCif\n"
     ]
    },
    {
     "name": "stdout",
     "output_type": "stream",
     "text": [
      "Downloading PDB structure '3VNG'...\n"
     ]
    },
    {
     "name": "stderr",
     "output_type": "stream",
     "text": [
      "WARNING: The default download format has changed from PDB to PDBx/mmCif\n"
     ]
    },
    {
     "name": "stdout",
     "output_type": "stream",
     "text": [
      "Downloading PDB structure '3VNH'...\n"
     ]
    },
    {
     "name": "stderr",
     "output_type": "stream",
     "text": [
      "WARNING: The default download format has changed from PDB to PDBx/mmCif\n"
     ]
    },
    {
     "name": "stdout",
     "output_type": "stream",
     "text": [
      "Downloading PDB structure '3ZGC'...\n"
     ]
    },
    {
     "name": "stderr",
     "output_type": "stream",
     "text": [
      "WARNING: The default download format has changed from PDB to PDBx/mmCif\n"
     ]
    },
    {
     "name": "stdout",
     "output_type": "stream",
     "text": [
      "Downloading PDB structure '3ZGD'...\n"
     ]
    },
    {
     "name": "stderr",
     "output_type": "stream",
     "text": [
      "WARNING: The default download format has changed from PDB to PDBx/mmCif\n"
     ]
    },
    {
     "name": "stdout",
     "output_type": "stream",
     "text": [
      "Downloading PDB structure '4CXI'...\n"
     ]
    },
    {
     "name": "stderr",
     "output_type": "stream",
     "text": [
      "WARNING: The default download format has changed from PDB to PDBx/mmCif\n"
     ]
    },
    {
     "name": "stdout",
     "output_type": "stream",
     "text": [
      "Downloading PDB structure '4CXJ'...\n"
     ]
    },
    {
     "name": "stderr",
     "output_type": "stream",
     "text": [
      "WARNING: The default download format has changed from PDB to PDBx/mmCif\n"
     ]
    },
    {
     "name": "stdout",
     "output_type": "stream",
     "text": [
      "Downloading PDB structure '4CXT'...\n"
     ]
    },
    {
     "name": "stderr",
     "output_type": "stream",
     "text": [
      "WARNING: The default download format has changed from PDB to PDBx/mmCif\n"
     ]
    },
    {
     "name": "stdout",
     "output_type": "stream",
     "text": [
      "Downloading PDB structure '4IFJ'...\n"
     ]
    },
    {
     "name": "stderr",
     "output_type": "stream",
     "text": [
      "WARNING: The default download format has changed from PDB to PDBx/mmCif\n"
     ]
    },
    {
     "name": "stdout",
     "output_type": "stream",
     "text": [
      "Downloading PDB structure '4IFL'...\n"
     ]
    },
    {
     "name": "stderr",
     "output_type": "stream",
     "text": [
      "WARNING: The default download format has changed from PDB to PDBx/mmCif\n"
     ]
    },
    {
     "name": "stdout",
     "output_type": "stream",
     "text": [
      "Downloading PDB structure '4IFN'...\n"
     ]
    },
    {
     "name": "stderr",
     "output_type": "stream",
     "text": [
      "WARNING: The default download format has changed from PDB to PDBx/mmCif\n"
     ]
    },
    {
     "name": "stdout",
     "output_type": "stream",
     "text": [
      "Downloading PDB structure '4IN4'...\n"
     ]
    },
    {
     "name": "stderr",
     "output_type": "stream",
     "text": [
      "WARNING: The default download format has changed from PDB to PDBx/mmCif\n"
     ]
    },
    {
     "name": "stdout",
     "output_type": "stream",
     "text": [
      "Downloading PDB structure '4IQK'...\n"
     ]
    },
    {
     "name": "stderr",
     "output_type": "stream",
     "text": [
      "WARNING: The default download format has changed from PDB to PDBx/mmCif\n"
     ]
    },
    {
     "name": "stdout",
     "output_type": "stream",
     "text": [
      "Downloading PDB structure '4L7B'...\n"
     ]
    },
    {
     "name": "stderr",
     "output_type": "stream",
     "text": [
      "WARNING: The default download format has changed from PDB to PDBx/mmCif\n"
     ]
    },
    {
     "name": "stdout",
     "output_type": "stream",
     "text": [
      "Downloading PDB structure '4L7C'...\n"
     ]
    },
    {
     "name": "stderr",
     "output_type": "stream",
     "text": [
      "WARNING: The default download format has changed from PDB to PDBx/mmCif\n"
     ]
    },
    {
     "name": "stdout",
     "output_type": "stream",
     "text": [
      "Downloading PDB structure '4L7D'...\n"
     ]
    },
    {
     "name": "stderr",
     "output_type": "stream",
     "text": [
      "WARNING: The default download format has changed from PDB to PDBx/mmCif\n"
     ]
    },
    {
     "name": "stdout",
     "output_type": "stream",
     "text": [
      "Downloading PDB structure '4N1B'...\n"
     ]
    },
    {
     "name": "stderr",
     "output_type": "stream",
     "text": [
      "WARNING: The default download format has changed from PDB to PDBx/mmCif\n"
     ]
    },
    {
     "name": "stdout",
     "output_type": "stream",
     "text": [
      "Downloading PDB structure '4XMB'...\n"
     ]
    },
    {
     "name": "stderr",
     "output_type": "stream",
     "text": [
      "WARNING: The default download format has changed from PDB to PDBx/mmCif\n"
     ]
    },
    {
     "name": "stdout",
     "output_type": "stream",
     "text": [
      "Downloading PDB structure '5DAD'...\n"
     ]
    },
    {
     "name": "stderr",
     "output_type": "stream",
     "text": [
      "WARNING: The default download format has changed from PDB to PDBx/mmCif\n"
     ]
    },
    {
     "name": "stdout",
     "output_type": "stream",
     "text": [
      "Downloading PDB structure '5DAF'...\n"
     ]
    },
    {
     "name": "stderr",
     "output_type": "stream",
     "text": [
      "WARNING: The default download format has changed from PDB to PDBx/mmCif\n"
     ]
    },
    {
     "name": "stdout",
     "output_type": "stream",
     "text": [
      "Downloading PDB structure '5F72'...\n"
     ]
    },
    {
     "name": "stderr",
     "output_type": "stream",
     "text": [
      "WARNING: The default download format has changed from PDB to PDBx/mmCif\n"
     ]
    },
    {
     "name": "stdout",
     "output_type": "stream",
     "text": [
      "Downloading PDB structure '5GIT'...\n"
     ]
    },
    {
     "name": "stderr",
     "output_type": "stream",
     "text": [
      "WARNING: The default download format has changed from PDB to PDBx/mmCif\n"
     ]
    },
    {
     "name": "stdout",
     "output_type": "stream",
     "text": [
      "Downloading PDB structure '5NLB'...\n"
     ]
    },
    {
     "name": "stderr",
     "output_type": "stream",
     "text": [
      "WARNING: The default download format has changed from PDB to PDBx/mmCif\n"
     ]
    },
    {
     "name": "stdout",
     "output_type": "stream",
     "text": [
      "Downloading PDB structure '5WFL'...\n"
     ]
    },
    {
     "name": "stderr",
     "output_type": "stream",
     "text": [
      "WARNING: The default download format has changed from PDB to PDBx/mmCif\n"
     ]
    },
    {
     "name": "stdout",
     "output_type": "stream",
     "text": [
      "Downloading PDB structure '5WFV'...\n"
     ]
    },
    {
     "name": "stderr",
     "output_type": "stream",
     "text": [
      "WARNING: The default download format has changed from PDB to PDBx/mmCif\n"
     ]
    },
    {
     "name": "stdout",
     "output_type": "stream",
     "text": [
      "Downloading PDB structure '5WG1'...\n"
     ]
    },
    {
     "name": "stderr",
     "output_type": "stream",
     "text": [
      "WARNING: The default download format has changed from PDB to PDBx/mmCif\n"
     ]
    },
    {
     "name": "stdout",
     "output_type": "stream",
     "text": [
      "Downloading PDB structure '5WHL'...\n"
     ]
    },
    {
     "name": "stderr",
     "output_type": "stream",
     "text": [
      "WARNING: The default download format has changed from PDB to PDBx/mmCif\n"
     ]
    },
    {
     "name": "stdout",
     "output_type": "stream",
     "text": [
      "Downloading PDB structure '5WHO'...\n"
     ]
    },
    {
     "name": "stderr",
     "output_type": "stream",
     "text": [
      "WARNING: The default download format has changed from PDB to PDBx/mmCif\n"
     ]
    },
    {
     "name": "stdout",
     "output_type": "stream",
     "text": [
      "Downloading PDB structure '5WIY'...\n"
     ]
    },
    {
     "name": "stderr",
     "output_type": "stream",
     "text": [
      "WARNING: The default download format has changed from PDB to PDBx/mmCif\n"
     ]
    },
    {
     "name": "stdout",
     "output_type": "stream",
     "text": [
      "Downloading PDB structure '5X54'...\n"
     ]
    },
    {
     "name": "stderr",
     "output_type": "stream",
     "text": [
      "WARNING: The default download format has changed from PDB to PDBx/mmCif\n"
     ]
    },
    {
     "name": "stdout",
     "output_type": "stream",
     "text": [
      "Downloading PDB structure '6FFM'...\n"
     ]
    },
    {
     "name": "stderr",
     "output_type": "stream",
     "text": [
      "WARNING: The default download format has changed from PDB to PDBx/mmCif\n"
     ]
    },
    {
     "name": "stdout",
     "output_type": "stream",
     "text": [
      "Downloading PDB structure '6FMP'...\n"
     ]
    },
    {
     "name": "stderr",
     "output_type": "stream",
     "text": [
      "WARNING: The default download format has changed from PDB to PDBx/mmCif\n"
     ]
    },
    {
     "name": "stdout",
     "output_type": "stream",
     "text": [
      "Downloading PDB structure '6FMQ'...\n"
     ]
    },
    {
     "name": "stderr",
     "output_type": "stream",
     "text": [
      "WARNING: The default download format has changed from PDB to PDBx/mmCif\n"
     ]
    },
    {
     "name": "stdout",
     "output_type": "stream",
     "text": [
      "Downloading PDB structure '6HWS'...\n"
     ]
    },
    {
     "name": "stderr",
     "output_type": "stream",
     "text": [
      "WARNING: The default download format has changed from PDB to PDBx/mmCif\n"
     ]
    },
    {
     "name": "stdout",
     "output_type": "stream",
     "text": [
      "Downloading PDB structure '6LRZ'...\n"
     ]
    },
    {
     "name": "stderr",
     "output_type": "stream",
     "text": [
      "WARNING: The default download format has changed from PDB to PDBx/mmCif\n"
     ]
    },
    {
     "name": "stdout",
     "output_type": "stream",
     "text": [
      "Downloading PDB structure '6ROG'...\n"
     ]
    },
    {
     "name": "stderr",
     "output_type": "stream",
     "text": [
      "WARNING: The default download format has changed from PDB to PDBx/mmCif\n"
     ]
    },
    {
     "name": "stdout",
     "output_type": "stream",
     "text": [
      "Downloading PDB structure '6SP1'...\n"
     ]
    },
    {
     "name": "stderr",
     "output_type": "stream",
     "text": [
      "WARNING: The default download format has changed from PDB to PDBx/mmCif\n"
     ]
    },
    {
     "name": "stdout",
     "output_type": "stream",
     "text": [
      "Downloading PDB structure '6SP4'...\n"
     ]
    },
    {
     "name": "stderr",
     "output_type": "stream",
     "text": [
      "WARNING: The default download format has changed from PDB to PDBx/mmCif\n"
     ]
    },
    {
     "name": "stdout",
     "output_type": "stream",
     "text": [
      "Downloading PDB structure '6T7V'...\n"
     ]
    },
    {
     "name": "stderr",
     "output_type": "stream",
     "text": [
      "WARNING: The default download format has changed from PDB to PDBx/mmCif\n"
     ]
    },
    {
     "name": "stdout",
     "output_type": "stream",
     "text": [
      "Downloading PDB structure '6T7Z'...\n"
     ]
    },
    {
     "name": "stderr",
     "output_type": "stream",
     "text": [
      "WARNING: The default download format has changed from PDB to PDBx/mmCif\n"
     ]
    },
    {
     "name": "stdout",
     "output_type": "stream",
     "text": [
      "Downloading PDB structure '6TG8'...\n"
     ]
    },
    {
     "name": "stderr",
     "output_type": "stream",
     "text": [
      "WARNING: The default download format has changed from PDB to PDBx/mmCif\n"
     ]
    },
    {
     "name": "stdout",
     "output_type": "stream",
     "text": [
      "Downloading PDB structure '6TYM'...\n"
     ]
    },
    {
     "name": "stderr",
     "output_type": "stream",
     "text": [
      "WARNING: The default download format has changed from PDB to PDBx/mmCif\n"
     ]
    },
    {
     "name": "stdout",
     "output_type": "stream",
     "text": [
      "Downloading PDB structure '6TYP'...\n"
     ]
    },
    {
     "name": "stderr",
     "output_type": "stream",
     "text": [
      "WARNING: The default download format has changed from PDB to PDBx/mmCif\n"
     ]
    },
    {
     "name": "stdout",
     "output_type": "stream",
     "text": [
      "Downloading PDB structure '6UF0'...\n"
     ]
    },
    {
     "name": "stderr",
     "output_type": "stream",
     "text": [
      "WARNING: The default download format has changed from PDB to PDBx/mmCif\n"
     ]
    },
    {
     "name": "stdout",
     "output_type": "stream",
     "text": [
      "Downloading PDB structure '6V6Z'...\n"
     ]
    },
    {
     "name": "stderr",
     "output_type": "stream",
     "text": [
      "WARNING: The default download format has changed from PDB to PDBx/mmCif\n"
     ]
    },
    {
     "name": "stdout",
     "output_type": "stream",
     "text": [
      "Downloading PDB structure '6W66'...\n"
     ]
    },
    {
     "name": "stderr",
     "output_type": "stream",
     "text": [
      "WARNING: The default download format has changed from PDB to PDBx/mmCif\n"
     ]
    },
    {
     "name": "stdout",
     "output_type": "stream",
     "text": [
      "Downloading PDB structure '6W67'...\n"
     ]
    },
    {
     "name": "stderr",
     "output_type": "stream",
     "text": [
      "WARNING: The default download format has changed from PDB to PDBx/mmCif\n"
     ]
    },
    {
     "name": "stdout",
     "output_type": "stream",
     "text": [
      "Downloading PDB structure '6W68'...\n"
     ]
    },
    {
     "name": "stderr",
     "output_type": "stream",
     "text": [
      "WARNING: The default download format has changed from PDB to PDBx/mmCif\n"
     ]
    },
    {
     "name": "stdout",
     "output_type": "stream",
     "text": [
      "Downloading PDB structure '6W69'...\n"
     ]
    },
    {
     "name": "stderr",
     "output_type": "stream",
     "text": [
      "WARNING: The default download format has changed from PDB to PDBx/mmCif\n"
     ]
    },
    {
     "name": "stdout",
     "output_type": "stream",
     "text": [
      "Downloading PDB structure '6WCQ'...\n"
     ]
    },
    {
     "name": "stderr",
     "output_type": "stream",
     "text": [
      "WARNING: The default download format has changed from PDB to PDBx/mmCif\n"
     ]
    },
    {
     "name": "stdout",
     "output_type": "stream",
     "text": [
      "Downloading PDB structure '6Z6A'...\n",
      "fertig\n"
     ]
    }
   ],
   "source": [
    "for pdb_id in PDBs:\n",
    "        pdbl().retrieve_pdb_file(pdb_id, pdir=target)\n",
    "print('fertig')"
   ]
  },
  {
   "cell_type": "markdown",
   "id": "applied-southeast",
   "metadata": {},
   "source": [
    "# RCSB PDBでTargetを検索\n",
    "https://www.rcsb.org/"
   ]
  },
  {
   "cell_type": "code",
   "execution_count": 7,
   "id": "native-jacob",
   "metadata": {},
   "outputs": [
    {
     "data": {
      "text/html": [
       "<div>\n",
       "<style scoped>\n",
       "    .dataframe tbody tr th:only-of-type {\n",
       "        vertical-align: middle;\n",
       "    }\n",
       "\n",
       "    .dataframe tbody tr th {\n",
       "        vertical-align: top;\n",
       "    }\n",
       "\n",
       "    .dataframe thead tr th {\n",
       "        text-align: left;\n",
       "    }\n",
       "</style>\n",
       "<table border=\"1\" class=\"dataframe\">\n",
       "  <thead>\n",
       "    <tr>\n",
       "      <th></th>\n",
       "      <th colspan=\"6\" halign=\"left\">Entity ID: 1</th>\n",
       "    </tr>\n",
       "    <tr>\n",
       "      <th></th>\n",
       "      <th>Molecule</th>\n",
       "      <th>Chains</th>\n",
       "      <th>Sequence Length</th>\n",
       "      <th>Organism</th>\n",
       "      <th>Details</th>\n",
       "      <th>Image</th>\n",
       "    </tr>\n",
       "  </thead>\n",
       "  <tbody>\n",
       "    <tr>\n",
       "      <th>0</th>\n",
       "      <td>Alpha-synuclein</td>\n",
       "      <td>A</td>\n",
       "      <td>140</td>\n",
       "      <td>Homo sapiens</td>\n",
       "      <td>Mutation(s): 0&amp;nbspGene Names:&amp;nbspSNCA,&amp;nbspN...</td>\n",
       "      <td>NaN</td>\n",
       "    </tr>\n",
       "    <tr>\n",
       "      <th>1</th>\n",
       "      <td>UniProt &amp; NIH Common Fund Data Resources</td>\n",
       "      <td>UniProt &amp; NIH Common Fund Data Resources</td>\n",
       "      <td>UniProt &amp; NIH Common Fund Data Resources</td>\n",
       "      <td>UniProt &amp; NIH Common Fund Data Resources</td>\n",
       "      <td>UniProt &amp; NIH Common Fund Data Resources</td>\n",
       "      <td>UniProt &amp; NIH Common Fund Data Resources</td>\n",
       "    </tr>\n",
       "    <tr>\n",
       "      <th>2</th>\n",
       "      <td>Find proteins for&amp;nbspP37840&amp;nbsp(Homo sapiens...</td>\n",
       "      <td>Find proteins for&amp;nbspP37840&amp;nbsp(Homo sapiens...</td>\n",
       "      <td>Find proteins for&amp;nbspP37840&amp;nbsp(Homo sapiens...</td>\n",
       "      <td>Find proteins for&amp;nbspP37840&amp;nbsp(Homo sapiens...</td>\n",
       "      <td>Find proteins for&amp;nbspP37840&amp;nbsp(Homo sapiens...</td>\n",
       "      <td>Find proteins for&amp;nbspP37840&amp;nbsp(Homo sapiens...</td>\n",
       "    </tr>\n",
       "    <tr>\n",
       "      <th>3</th>\n",
       "      <td>PHAROS: &amp;nbspP37840GTEx: &amp;nbspENSG00000145335</td>\n",
       "      <td>PHAROS: &amp;nbspP37840GTEx: &amp;nbspENSG00000145335</td>\n",
       "      <td>PHAROS: &amp;nbspP37840GTEx: &amp;nbspENSG00000145335</td>\n",
       "      <td>PHAROS: &amp;nbspP37840GTEx: &amp;nbspENSG00000145335</td>\n",
       "      <td>PHAROS: &amp;nbspP37840GTEx: &amp;nbspENSG00000145335</td>\n",
       "      <td>PHAROS: &amp;nbspP37840GTEx: &amp;nbspENSG00000145335</td>\n",
       "    </tr>\n",
       "    <tr>\n",
       "      <th>4</th>\n",
       "      <td>Protein Feature ViewExpand</td>\n",
       "      <td>Protein Feature ViewExpand</td>\n",
       "      <td>Protein Feature ViewExpand</td>\n",
       "      <td>Protein Feature ViewExpand</td>\n",
       "      <td>Protein Feature ViewExpand</td>\n",
       "      <td>Protein Feature ViewExpand</td>\n",
       "    </tr>\n",
       "    <tr>\n",
       "      <th>5</th>\n",
       "      <td>Reference SequencesetTimeout(function(){  Rcsb...</td>\n",
       "      <td>Reference SequencesetTimeout(function(){  Rcsb...</td>\n",
       "      <td>Reference SequencesetTimeout(function(){  Rcsb...</td>\n",
       "      <td>Reference SequencesetTimeout(function(){  Rcsb...</td>\n",
       "      <td>Reference SequencesetTimeout(function(){  Rcsb...</td>\n",
       "      <td>Reference SequencesetTimeout(function(){  Rcsb...</td>\n",
       "    </tr>\n",
       "  </tbody>\n",
       "</table>\n",
       "</div>"
      ],
      "text/plain": [
       "                                        Entity ID: 1  \\\n",
       "                                            Molecule   \n",
       "0                                    Alpha-synuclein   \n",
       "1           UniProt & NIH Common Fund Data Resources   \n",
       "2  Find proteins for&nbspP37840&nbsp(Homo sapiens...   \n",
       "3      PHAROS: &nbspP37840GTEx: &nbspENSG00000145335   \n",
       "4                         Protein Feature ViewExpand   \n",
       "5  Reference SequencesetTimeout(function(){  Rcsb...   \n",
       "\n",
       "                                                      \\\n",
       "                                              Chains   \n",
       "0                                                  A   \n",
       "1           UniProt & NIH Common Fund Data Resources   \n",
       "2  Find proteins for&nbspP37840&nbsp(Homo sapiens...   \n",
       "3      PHAROS: &nbspP37840GTEx: &nbspENSG00000145335   \n",
       "4                         Protein Feature ViewExpand   \n",
       "5  Reference SequencesetTimeout(function(){  Rcsb...   \n",
       "\n",
       "                                                      \\\n",
       "                                     Sequence Length   \n",
       "0                                                140   \n",
       "1           UniProt & NIH Common Fund Data Resources   \n",
       "2  Find proteins for&nbspP37840&nbsp(Homo sapiens...   \n",
       "3      PHAROS: &nbspP37840GTEx: &nbspENSG00000145335   \n",
       "4                         Protein Feature ViewExpand   \n",
       "5  Reference SequencesetTimeout(function(){  Rcsb...   \n",
       "\n",
       "                                                      \\\n",
       "                                            Organism   \n",
       "0                                       Homo sapiens   \n",
       "1           UniProt & NIH Common Fund Data Resources   \n",
       "2  Find proteins for&nbspP37840&nbsp(Homo sapiens...   \n",
       "3      PHAROS: &nbspP37840GTEx: &nbspENSG00000145335   \n",
       "4                         Protein Feature ViewExpand   \n",
       "5  Reference SequencesetTimeout(function(){  Rcsb...   \n",
       "\n",
       "                                                      \\\n",
       "                                             Details   \n",
       "0  Mutation(s): 0&nbspGene Names:&nbspSNCA,&nbspN...   \n",
       "1           UniProt & NIH Common Fund Data Resources   \n",
       "2  Find proteins for&nbspP37840&nbsp(Homo sapiens...   \n",
       "3      PHAROS: &nbspP37840GTEx: &nbspENSG00000145335   \n",
       "4                         Protein Feature ViewExpand   \n",
       "5  Reference SequencesetTimeout(function(){  Rcsb...   \n",
       "\n",
       "                                                      \n",
       "                                               Image  \n",
       "0                                                NaN  \n",
       "1           UniProt & NIH Common Fund Data Resources  \n",
       "2  Find proteins for&nbspP37840&nbsp(Homo sapiens...  \n",
       "3      PHAROS: &nbspP37840GTEx: &nbspENSG00000145335  \n",
       "4                         Protein Feature ViewExpand  \n",
       "5  Reference SequencesetTimeout(function(){  Rcsb...  "
      ]
     },
     "execution_count": 7,
     "metadata": {},
     "output_type": "execute_result"
    }
   ],
   "source": [
    "rcsb_url = 'https://www.rcsb.org/structure/' + PDBs[0]\n",
    "df = pd.read_html(rcsb_url)\n",
    "df[0]"
   ]
  },
  {
   "cell_type": "markdown",
   "id": "foreign-healthcare",
   "metadata": {},
   "source": [
    "### TargetのFASTAを取得"
   ]
  },
  {
   "cell_type": "code",
   "execution_count": 8,
   "id": "concrete-channels",
   "metadata": {},
   "outputs": [
    {
     "data": {
      "text/plain": [
       "Seq('MDVFMKGLSKAKEGVVAAAEKTKQGVAEAAGKTKEGVLYVGSKTKEGVVHGVAT...PEA')"
      ]
     },
     "execution_count": 8,
     "metadata": {},
     "output_type": "execute_result"
    }
   ],
   "source": [
    "record.seq"
   ]
  },
  {
   "cell_type": "markdown",
   "id": "infectious-contest",
   "metadata": {},
   "source": [
    "# 相同性を確認する"
   ]
  },
  {
   "cell_type": "markdown",
   "id": "trying-easter",
   "metadata": {},
   "source": [
    "### ターゲットをUniprotで検索する"
   ]
  },
  {
   "cell_type": "code",
   "execution_count": 9,
   "id": "gorgeous-kentucky",
   "metadata": {},
   "outputs": [
    {
     "name": "stdin",
     "output_type": "stream",
     "text": [
      "target name? synuclein\n"
     ]
    },
    {
     "data": {
      "text/html": [
       "<div>\n",
       "<style scoped>\n",
       "    .dataframe tbody tr th:only-of-type {\n",
       "        vertical-align: middle;\n",
       "    }\n",
       "\n",
       "    .dataframe tbody tr th {\n",
       "        vertical-align: top;\n",
       "    }\n",
       "\n",
       "    .dataframe thead th {\n",
       "        text-align: right;\n",
       "    }\n",
       "</style>\n",
       "<table border=\"1\" class=\"dataframe\">\n",
       "  <thead>\n",
       "    <tr style=\"text-align: right;\">\n",
       "      <th></th>\n",
       "      <th>Unnamed: 0</th>\n",
       "      <th>Entry</th>\n",
       "      <th>Entry name</th>\n",
       "      <th>Unnamed: 3</th>\n",
       "      <th>Protein names</th>\n",
       "      <th>Gene names</th>\n",
       "      <th>Organism</th>\n",
       "      <th>Length</th>\n",
       "      <th>e</th>\n",
       "    </tr>\n",
       "  </thead>\n",
       "  <tbody>\n",
       "    <tr>\n",
       "      <th>0</th>\n",
       "      <td>NaN</td>\n",
       "      <td>Q63544</td>\n",
       "      <td>SYUG_RAT</td>\n",
       "      <td>NaN</td>\n",
       "      <td>Gamma-synuclein</td>\n",
       "      <td>Sncg</td>\n",
       "      <td>Rattus norvegicus (Rat)</td>\n",
       "      <td>123</td>\n",
       "      <td>NaN</td>\n",
       "    </tr>\n",
       "    <tr>\n",
       "      <th>1</th>\n",
       "      <td>NaN</td>\n",
       "      <td>P37840</td>\n",
       "      <td>SYUA_HUMAN</td>\n",
       "      <td>NaN</td>\n",
       "      <td>Alpha-synuclein</td>\n",
       "      <td>SNCA NACP, PARK1</td>\n",
       "      <td>Homo sapiens (Human)</td>\n",
       "      <td>140</td>\n",
       "      <td>NaN</td>\n",
       "    </tr>\n",
       "    <tr>\n",
       "      <th>2</th>\n",
       "      <td>NaN</td>\n",
       "      <td>O55042</td>\n",
       "      <td>SYUA_MOUSE</td>\n",
       "      <td>NaN</td>\n",
       "      <td>Alpha-synuclein</td>\n",
       "      <td>Snca Syn</td>\n",
       "      <td>Mus musculus (Mouse)</td>\n",
       "      <td>140</td>\n",
       "      <td>NaN</td>\n",
       "    </tr>\n",
       "    <tr>\n",
       "      <th>3</th>\n",
       "      <td>NaN</td>\n",
       "      <td>O76070</td>\n",
       "      <td>SYUG_HUMAN</td>\n",
       "      <td>NaN</td>\n",
       "      <td>Gamma-synuclein</td>\n",
       "      <td>SNCG BCSG1, PERSYN, PRSN</td>\n",
       "      <td>Homo sapiens (Human)</td>\n",
       "      <td>127</td>\n",
       "      <td>NaN</td>\n",
       "    </tr>\n",
       "    <tr>\n",
       "      <th>4</th>\n",
       "      <td>NaN</td>\n",
       "      <td>Q16143</td>\n",
       "      <td>SYUB_HUMAN</td>\n",
       "      <td>NaN</td>\n",
       "      <td>Beta-synuclein</td>\n",
       "      <td>SNCB</td>\n",
       "      <td>Homo sapiens (Human)</td>\n",
       "      <td>134</td>\n",
       "      <td>NaN</td>\n",
       "    </tr>\n",
       "  </tbody>\n",
       "</table>\n",
       "</div>"
      ],
      "text/plain": [
       "   Unnamed: 0   Entry  Entry name  Unnamed: 3    Protein names  \\\n",
       "0         NaN  Q63544    SYUG_RAT         NaN  Gamma-synuclein   \n",
       "1         NaN  P37840  SYUA_HUMAN         NaN  Alpha-synuclein   \n",
       "2         NaN  O55042  SYUA_MOUSE         NaN  Alpha-synuclein   \n",
       "3         NaN  O76070  SYUG_HUMAN         NaN  Gamma-synuclein   \n",
       "4         NaN  Q16143  SYUB_HUMAN         NaN   Beta-synuclein   \n",
       "\n",
       "                 Gene names                 Organism  Length   e  \n",
       "0                      Sncg  Rattus norvegicus (Rat)     123 NaN  \n",
       "1          SNCA NACP, PARK1     Homo sapiens (Human)     140 NaN  \n",
       "2                  Snca Syn     Mus musculus (Mouse)     140 NaN  \n",
       "3  SNCG BCSG1, PERSYN, PRSN     Homo sapiens (Human)     127 NaN  \n",
       "4                      SNCB     Homo sapiens (Human)     134 NaN  "
      ]
     },
     "execution_count": 9,
     "metadata": {},
     "output_type": "execute_result"
    }
   ],
   "source": [
    "target = input('target name?')\n",
    "uniprot = 'https://www.uniprot.org/uniprot/?query={}&sort=score'.format(target)\n",
    "list = pd.read_html(uniprot)[0]\n",
    "list.head()"
   ]
  },
  {
   "cell_type": "markdown",
   "id": "permanent-lindsay",
   "metadata": {},
   "source": [
    "### HumanにFilteringする"
   ]
  },
  {
   "cell_type": "code",
   "execution_count": 10,
   "id": "organizational-effectiveness",
   "metadata": {},
   "outputs": [
    {
     "data": {
      "text/html": [
       "<div>\n",
       "<style scoped>\n",
       "    .dataframe tbody tr th:only-of-type {\n",
       "        vertical-align: middle;\n",
       "    }\n",
       "\n",
       "    .dataframe tbody tr th {\n",
       "        vertical-align: top;\n",
       "    }\n",
       "\n",
       "    .dataframe thead th {\n",
       "        text-align: right;\n",
       "    }\n",
       "</style>\n",
       "<table border=\"1\" class=\"dataframe\">\n",
       "  <thead>\n",
       "    <tr style=\"text-align: right;\">\n",
       "      <th></th>\n",
       "      <th>Unnamed: 0</th>\n",
       "      <th>Entry</th>\n",
       "      <th>Entry name</th>\n",
       "      <th>Unnamed: 3</th>\n",
       "      <th>Protein names</th>\n",
       "      <th>Gene names</th>\n",
       "      <th>Organism</th>\n",
       "      <th>Length</th>\n",
       "      <th>e</th>\n",
       "    </tr>\n",
       "  </thead>\n",
       "  <tbody>\n",
       "    <tr>\n",
       "      <th>1</th>\n",
       "      <td>NaN</td>\n",
       "      <td>P37840</td>\n",
       "      <td>SYUA_HUMAN</td>\n",
       "      <td>NaN</td>\n",
       "      <td>Alpha-synuclein</td>\n",
       "      <td>SNCA NACP, PARK1</td>\n",
       "      <td>Homo sapiens (Human)</td>\n",
       "      <td>140</td>\n",
       "      <td>NaN</td>\n",
       "    </tr>\n",
       "    <tr>\n",
       "      <th>3</th>\n",
       "      <td>NaN</td>\n",
       "      <td>O76070</td>\n",
       "      <td>SYUG_HUMAN</td>\n",
       "      <td>NaN</td>\n",
       "      <td>Gamma-synuclein</td>\n",
       "      <td>SNCG BCSG1, PERSYN, PRSN</td>\n",
       "      <td>Homo sapiens (Human)</td>\n",
       "      <td>127</td>\n",
       "      <td>NaN</td>\n",
       "    </tr>\n",
       "    <tr>\n",
       "      <th>4</th>\n",
       "      <td>NaN</td>\n",
       "      <td>Q16143</td>\n",
       "      <td>SYUB_HUMAN</td>\n",
       "      <td>NaN</td>\n",
       "      <td>Beta-synuclein</td>\n",
       "      <td>SNCB</td>\n",
       "      <td>Homo sapiens (Human)</td>\n",
       "      <td>134</td>\n",
       "      <td>NaN</td>\n",
       "    </tr>\n",
       "    <tr>\n",
       "      <th>15</th>\n",
       "      <td>NaN</td>\n",
       "      <td>Q9Y6H5</td>\n",
       "      <td>SNCAP_HUMAN</td>\n",
       "      <td>NaN</td>\n",
       "      <td>Synphilin-1</td>\n",
       "      <td>SNCAIP</td>\n",
       "      <td>Homo sapiens (Human)</td>\n",
       "      <td>919</td>\n",
       "      <td>NaN</td>\n",
       "    </tr>\n",
       "    <tr>\n",
       "      <th>16</th>\n",
       "      <td>NaN</td>\n",
       "      <td>Q8ND56</td>\n",
       "      <td>LS14A_HUMAN</td>\n",
       "      <td>NaN</td>\n",
       "      <td>Protein LSM14 homolog A</td>\n",
       "      <td>LSM14A C19orf13, FAM61A, RAP55, RAP55A</td>\n",
       "      <td>Homo sapiens (Human)</td>\n",
       "      <td>463</td>\n",
       "      <td>NaN</td>\n",
       "    </tr>\n",
       "  </tbody>\n",
       "</table>\n",
       "</div>"
      ],
      "text/plain": [
       "    Unnamed: 0   Entry   Entry name  Unnamed: 3            Protein names  \\\n",
       "1          NaN  P37840   SYUA_HUMAN         NaN          Alpha-synuclein   \n",
       "3          NaN  O76070   SYUG_HUMAN         NaN          Gamma-synuclein   \n",
       "4          NaN  Q16143   SYUB_HUMAN         NaN           Beta-synuclein   \n",
       "15         NaN  Q9Y6H5  SNCAP_HUMAN         NaN              Synphilin-1   \n",
       "16         NaN  Q8ND56  LS14A_HUMAN         NaN  Protein LSM14 homolog A   \n",
       "\n",
       "                                Gene names              Organism  Length   e  \n",
       "1                         SNCA NACP, PARK1  Homo sapiens (Human)     140 NaN  \n",
       "3                 SNCG BCSG1, PERSYN, PRSN  Homo sapiens (Human)     127 NaN  \n",
       "4                                     SNCB  Homo sapiens (Human)     134 NaN  \n",
       "15                                  SNCAIP  Homo sapiens (Human)     919 NaN  \n",
       "16  LSM14A C19orf13, FAM61A, RAP55, RAP55A  Homo sapiens (Human)     463 NaN  "
      ]
     },
     "execution_count": 10,
     "metadata": {},
     "output_type": "execute_result"
    }
   ],
   "source": [
    "human = list[list['Organism'] == 'Homo sapiens (Human)']\n",
    "human.head()"
   ]
  },
  {
   "cell_type": "code",
   "execution_count": 11,
   "id": "strategic-lindsay",
   "metadata": {},
   "outputs": [
    {
     "name": "stdin",
     "output_type": "stream",
     "text": [
      "rowID?  1\n"
     ]
    },
    {
     "name": "stdout",
     "output_type": "stream",
     "text": [
      "ID: P37840\n",
      "Name: SYUA_HUMAN\n",
      "Description: Alpha-synuclein\n",
      "Database cross-references: ABCD:P37840, Antibodypedia:14688, BMRB:P37840, Bgee:ENSG00000145335, BindingDB:P37840, BioGRID-ORCS:6622, BioGRID:112506, BioMuta:SNCA, CCDS:CCDS3634.1, CCDS:CCDS43252.1, CORUM:P37840, CTD:6622, ChEMBL:CHEMBL6152, ChiTaRS:SNCA, DIP:DIP-35354N, DMDM:586067, DNASU:6622, DOI:10.1002/ana.10795, DOI:10.1002/mds.25421, DOI:10.1002/pro.2056, DOI:10.1002/pro.630, DOI:10.1006/bbrc.1994.2816, DOI:10.1006/bbrc.2000.4253, DOI:10.1016/0014-5793(94)00395-5, DOI:10.1016/0888-7543(95)80208-4, DOI:10.1016/j.celrep.2012.06.012, DOI:10.1016/j.febslet.2004.09.038, DOI:10.1016/j.jmb.2019.04.031, DOI:10.1016/j.nbd.2004.01.001, DOI:10.1021/bi027363r, DOI:10.1021/bi0341152, DOI:10.1021/bi101912q, DOI:10.1021/bi400199p, DOI:10.1021/bi900539p, DOI:10.1021/cn500332w, DOI:10.1038/nature10324, DOI:10.1038/nature15368, DOI:10.1038/ncb748, DOI:10.1038/ng0298-106, DOI:10.1038/ng1285, DOI:10.1038/nn.4529, DOI:10.1038/nsmb.3194, DOI:10.1038/s41467-018-05971-2, DOI:10.1073/pnas.90.23.11282, DOI:10.1074/jbc.275.1.390, DOI:10.1074/jbc.m003542200, DOI:10.1074/jbc.m110414200, DOI:10.1074/jbc.m114.553297, DOI:10.1074/jbc.m115.691592, DOI:10.1074/jbc.m213217200, DOI:10.1074/jbc.m411805200, DOI:10.1083/jcb.201512016, DOI:10.1096/fj.09-133082, DOI:10.1101/gr.165801, DOI:10.1101/gr.2596504, DOI:10.1126/science.1195227, DOI:10.1126/science.276.5321.2045, DOI:10.1186/1752-0509-5-17, DOI:10.1212/wnl.0b013e31828727ba, DOI:10.1242/jcs.213017, DOI:10.1523/jneurosci.1594-04.2004, DOI:10.2174/1566524033361690, DisGeNET:6622, DisProt:DP00070, DrugBank:DB02709, DrugBank:DB09130, EMBL:AF163864, EMBL:AK290169, EMBL:AY049786, EMBL:BC013293, EMBL:BC108275, EMBL:CH471057, EMBL:CR457058, EMBL:D31839, EMBL:DQ088379, EMBL:L08850, EMBL:L36674, EMBL:L36675, EMBL:U46897, EMBL:U46898, EMBL:U46899, EMBL:U46901, EPD:P37840, Ensembl:ENST00000336904, Ensembl:ENST00000345009, Ensembl:ENST00000394986, Ensembl:ENST00000394989, Ensembl:ENST00000394991, Ensembl:ENST00000420646, Ensembl:ENST00000505199, Ensembl:ENST00000506244, Ensembl:ENST00000508895, Ensembl:ENST00000618500, Ensembl:ENST00000673718, EvolutionaryTrace:P37840, ExpressionAtlas:P37840, GO:GO:0000122, GO:GO:0000149, GO:GO:0000287, GO:GO:0000976, GO:GO:0001774, GO:GO:0001921, GO:GO:0003779, GO:GO:0004860, GO:GO:0005507, GO:GO:0005509, GO:GO:0005543, GO:GO:0005576, GO:GO:0005615, GO:GO:0005634, GO:GO:0005737, GO:GO:0005739, GO:GO:0005764, GO:GO:0005829, GO:GO:0005886, GO:GO:0005938, GO:GO:0006469, GO:GO:0006919, GO:GO:0007268, GO:GO:0008198, GO:GO:0008270, GO:GO:0010040, GO:GO:0010517, GO:GO:0010642, GO:GO:0014059, GO:GO:0015629, GO:GO:0016020, GO:GO:0016079, GO:GO:0016082, GO:GO:0016234, GO:GO:0016491, GO:GO:0019894, GO:GO:0022898, GO:GO:0030424, GO:GO:0030426, GO:GO:0030544, GO:GO:0031115, GO:GO:0031623, GO:GO:0031648, GO:GO:0032026, GO:GO:0032410, GO:GO:0032496, GO:GO:0032769, GO:GO:0032991, GO:GO:0033138, GO:GO:0034341, GO:GO:0034599, GO:GO:0035067, GO:GO:0035493, GO:GO:0035543, GO:GO:0042393, GO:GO:0042416, GO:GO:0042802, GO:GO:0043014, GO:GO:0043025, GO:GO:0043027, GO:GO:0043065, GO:GO:0043066, GO:GO:0043154, GO:GO:0043679, GO:GO:0045807, GO:GO:0045920, GO:GO:0045921, GO:GO:0048156, GO:GO:0048471, GO:GO:0048488, GO:GO:0050729, GO:GO:0050808, GO:GO:0051219, GO:GO:0051262, GO:GO:0051281, GO:GO:0051583, GO:GO:0051585, GO:GO:0051612, GO:GO:0051621, GO:GO:0051622, GO:GO:0060732, GO:GO:0070495, GO:GO:0070555, GO:GO:0070840, GO:GO:0071280, GO:GO:0071872, GO:GO:0071902, GO:GO:0097435, GO:GO:0099512, GO:GO:1901214, GO:GO:1901215, GO:GO:1901216, GO:GO:1902957, GO:GO:1903136, GO:GO:1903284, GO:GO:1903285, GO:GO:1903421, GO:GO:1903426, GO:GO:1904715, GO:GO:1905606, GO:GO:1990000, GeneCards:SNCA, GeneID:6622, GeneReviews:SNCA, GeneTree:ENSGT00950000183175, GeneWiki:Alpha-synuclein, Genevisible:P37840, GenomeRNAi:6622, GlyConnect:2893, HGNC:HGNC:11138, HOGENOM:CLU_129378_1_0_1, HPA:ENSG00000145335, IDEAL:IID00302, InParanoid:P37840, IntAct:P37840, InterPro:IPR001058, InterPro:IPR002460, KEGG:hsa:6622, MIM:127750, MIM:163890, MIM:168600, MIM:168601, MIM:605543, MINT:P37840, MalaCards:SNCA, MassIVE:P37840, MaxQB:P37840, MetOSite:P37840, NCBI Taxonomy:9606, NIAGADS:ENSG00000145335, OMA:PENEAYE, OpenTargets:ENSG00000145335, Orphanet:1648, Orphanet:171695, Orphanet:2828, Orphanet:411602, OrthoDB:1535098at2759, PANTHER:PTHR13820, PANTHER:PTHR13820:SF5, PDB:1XQ8, PDB:2JN5, PDB:2KKW, PDB:2M55, PDB:2N0A, PDB:2X6M, PDB:3Q25, PDB:3Q26, PDB:3Q27, PDB:3Q28, PDB:3Q29, PDB:4BXL, PDB:4R0U, PDB:4R0W, PDB:4RIK, PDB:4RIL, PDB:4ZNN, PDB:5CRW, PDB:6A6B, PDB:6CT7, PDB:6CU7, PDB:6CU8, PDB:6FLT, PDB:6H6B, PDB:6I42, PDB:6L1T, PDB:6L1U, PDB:6L4S, PDB:6LRQ, PDB:6OSJ, PDB:6OSL, PDB:6OSM, PDB:6PEO, PDB:6PES, PDB:6RT0, PDB:6RTB, PDB:6SST, PDB:6SSX, PDB:6UFR, PDB:6XYO, PDB:6XYP, PDB:6XYQ, PDB:7NCA, PDB:7NCG, PDB:7NCH, PDB:7NCI, PDB:7NCJ, PDB:7NCK, PDBsum:1XQ8, PDBsum:2JN5, PDBsum:2KKW, PDBsum:2M55, PDBsum:2N0A, PDBsum:2X6M, PDBsum:3Q25, PDBsum:3Q26, PDBsum:3Q27, PDBsum:3Q28, PDBsum:3Q29, PDBsum:4BXL, PDBsum:4R0U, PDBsum:4R0W, PDBsum:4RIK, PDBsum:4RIL, PDBsum:4ZNN, PDBsum:5CRW, PDBsum:6A6B, PDBsum:6CT7, PDBsum:6CU7, PDBsum:6CU8, PDBsum:6FLT, PDBsum:6H6B, PDBsum:6I42, PDBsum:6L1T, PDBsum:6L1U, PDBsum:6L4S, PDBsum:6LRQ, PDBsum:6OSJ, PDBsum:6OSL, PDBsum:6OSM, PDBsum:6PEO, PDBsum:6PES, PDBsum:6RT0, PDBsum:6RTB, PDBsum:6SST, PDBsum:6SSX, PDBsum:6UFR, PDBsum:6XYO, PDBsum:6XYP, PDBsum:6XYQ, PDBsum:7NCA, PDBsum:7NCG, PDBsum:7NCH, PDBsum:7NCI, PDBsum:7NCJ, PDBsum:7NCK, PIR:A49669, PIR:S56746, PRIDE:P37840, PRINTS:PR01211, PRINTS:PR01212, PRO:PR:P37840, PathwayCommons:P37840, PaxDb:P37840, PeptideAtlas:P37840, Pfam:PF01387, PharmGKB:PA35986, Pharos:P37840, PhosphoSitePlus:P37840, PhylomeDB:P37840, Proteomes:UP000005640, ProteomicsDB:55279, ProteomicsDB:55280, ProteomicsDB:55281, PubMed:10617630, PubMed:10852916, PubMed:11156617, PubMed:11162638, PubMed:11813001, PubMed:11821392, PubMed:12558071, PubMed:12859192, PubMed:12859200, PubMed:12893833, PubMed:14702039, PubMed:14755719, PubMed:15207266, PubMed:15282274, PubMed:15489334, PubMed:15498564, PubMed:15615727, PubMed:19722699, PubMed:19762560, PubMed:20798282, PubMed:21269460, PubMed:21319811, PubMed:21462277, PubMed:21841800, PubMed:22407793, PubMed:22854022, PubMed:23427326, PubMed:23457019, PubMed:23607618, PubMed:24936070, PubMed:25561023, PubMed:26352473, PubMed:26442590, PubMed:27018801, PubMed:27597756, PubMed:28288128, PubMed:30190461, PubMed:30404828, PubMed:31034892, PubMed:7601450, PubMed:7802671, PubMed:8194594, PubMed:8248242, PubMed:9197268, PubMed:9462735, RNAct:P37840, Reactome:R-HSA-977225, RefSeq:NP_000336.1, RefSeq:NP_001139526.1, RefSeq:NP_001139527.1, RefSeq:NP_009292.1, RefSeq:XP_011530510.1, RefSeq:XP_016864051.1, RefSeq:XP_016864052.1, SIGNOR:P37840, SMR:P37840, STRING:9606.ENSP00000338345, SignaLink:P37840, Swiss-Prot:A8K2A4, Swiss-Prot:P37840, Swiss-Prot:Q13701, Swiss-Prot:Q4JHI3, Swiss-Prot:Q6IAU6, Swiss-Prot:SYUA_HUMAN, SwissPalm:P37840, TCDB:1.C.77.1.1, TopDownProteomics:P37840-1, TreeFam:TF332776, UCSC:uc003hso.3, VEuPathDB:HostDB:ENSG00000145335.15, eggNOG:ENOG502S0Q7, iPTMnet:P37840, jPOST:P37840, neXtProt:NX_P37840\n",
      "Number of features: 51\n",
      "/dataset=Swiss-Prot\n",
      "/created=1994-10-01\n",
      "/modified=2021-06-02\n",
      "/version=238\n",
      "/accessions=['P37840', 'A8K2A4', 'Q13701', 'Q4JHI3', 'Q6IAU6']\n",
      "/recommendedName_fullName=['Alpha-synuclein']\n",
      "/alternativeName_fullName=['Non-A beta component of AD amyloid', 'Non-A4 component of amyloid precursor']\n",
      "/alternativeName_shortName=['NACP']\n",
      "/gene_name_primary=SNCA\n",
      "/gene_name_synonym=['NACP', 'PARK1']\n",
      "/taxonomy=['Eukaryota', 'Metazoa', 'Chordata', 'Craniata', 'Vertebrata', 'Euteleostomi', 'Mammalia', 'Eutheria', 'Euarchontoglires', 'Primates', 'Haplorrhini', 'Catarrhini', 'Hominidae', 'Homo']\n",
      "/organism=Homo sapiens (Human)\n",
      "/references=[Reference(title='Molecular cloning of cDNA encoding an unrecognized component of amyloid in Alzheimer disease.', ...), Reference(title='The NACP/synuclein gene: chromosomal assignment and screening for alterations in Alzheimer disease.', ...), Reference(title=\"Tissue-dependent alternative splicing of mRNA for NACP, the precursor of non-A beta component of Alzheimer's disease amyloid.\", ...), Reference(title='', ...), Reference(title='Human and mouse alpha-synuclein genes: comparative genomic sequence analysis and identification of a novel gene regulatory element.', ...), Reference(title='', ...), Reference(title='Complete sequencing and characterization of 21,243 full-length human cDNAs.', ...), Reference(title='Cloning of human full open reading frames in Gateway(TM) system entry vector (pDONR201).', ...), Reference(title='', ...), Reference(title='', ...), Reference(title='The status, quality, and expansion of the NIH full-length cDNA project: the Mammalian Gene Collection (MGC).', ...), Reference(title='', ...), Reference(title='Identification of two distinct synucleins from human brain.', ...), Reference(title=\"Constitutive phosphorylation of the Parkinson's disease associated alpha-synuclein.\", ...), Reference(title='Synucleins are a novel class of substrates for G protein-coupled receptor kinases.', ...), Reference(title='Activated Fyn phosphorylates alpha-synuclein at tyrosine residue 125.', ...), Reference(title='Alpha-synuclein interacts with phospholipase D isozymes and inhibits pervanadate-induced phospholipase D activation in human embryonic kidney-293 cells.', ...), Reference(title='alpha-Synuclein is phosphorylated in synucleinopathy lesions.', ...), Reference(title='Nuclear localization of alpha-synuclein and its interaction with histones.', ...), Reference(title='Role of alpha-synuclein carboxy-terminus on fibril formation in vitro.', ...), Reference(title='Recent advances on alpha-synuclein cell biology: functions and dysfunctions.', ...), Reference(title='Identification and characterization of a novel Pyk2/related adhesion focal tyrosine kinase-associated protein that inhibits alpha-synuclein phosphorylation.', ...), Reference(title='Abnormal alpha-synuclein interactions with rab3a and rabphilin in diffuse Lewy body disease.', ...), Reference(title='Lipid rafts mediate the synaptic localization of alpha-synuclein.', ...), Reference(title='Characterization of hydrophobic residue requirements for alpha-synuclein fibrillization.', ...), Reference(title='Alpha-synuclein promotes SNARE-complex assembly in vivo and in vitro.', ...), Reference(title='Initial characterization of the human central proteome.', ...), Reference(title=\"Coordination features and affinity of the Cu(2)+ site in the alpha-synuclein protein of Parkinson's disease.\", ...), Reference(title='alpha-Synuclein occurs physiologically as a helically folded tetramer that resists aggregation.', ...), Reference(title='SERF protein is a direct modifier of amyloid fiber assembly.', ...), Reference(title='N-Terminal acetylation is critical for forming alpha-helical oligomer of alpha-synuclein.', ...), Reference(title='Dopamine Transporter Activity Is Modulated by alpha-Synuclein.', ...), Reference(title='Munc18-1 is a molecular chaperone for alpha-synuclein, controlling its self-replicating aggregation.', ...), Reference(title='alpha-Synuclein promotes dilation of the exocytotic fusion pore.', ...), Reference(title='Soluble alpha-synuclein facilitates priming and fusion by releasing Ca2+ from the thapsigargin-sensitive Ca2+ pool in PC12 cells.', ...), Reference(title='Increased Aggregation Tendency of Alpha-Synuclein in a Fully Disordered Protein Complex.', ...), Reference(title='Structure and dynamics of micelle-bound human alpha-synuclein.', ...), Reference(title='Interaction with synphilin-1 promotes inclusion formation of alpha-synuclein: mechanistic insights and pathological implication.', ...), Reference(title='Structures of segments of alpha-synuclein fused to maltose-binding protein suggest intermediate states during amyloid formation.', ...), Reference(title='NMR structure of calmodulin complexed to an N-terminally acetylated alpha-synuclein peptide.', ...), Reference(title='Structure of the toxic core of alpha-synuclein from invisible crystals.', ...), Reference(title='Solid-state NMR structure of a pathogenic fibril of full-length human alpha-synuclein.', ...), Reference(title='Cryo-EM of full-length alpha-synuclein reveals fibril polymorphs with a common structural kernel.', ...), Reference(title=\"Mutation in the alpha-synuclein gene identified in families with Parkinson's disease.\", ...), Reference(title=\"Ala30Pro mutation in the gene encoding alpha-synuclein in Parkinson's disease.\", ...), Reference(title='The new mutation, E46K, of alpha-synuclein causes Parkinson and Lewy body dementia.', ...), Reference(title='Mutation E46K increases phospholipid binding and assembly into filaments of human alpha-synuclein.', ...), Reference(title=\"Alpha-synuclein p.H50Q, a novel pathogenic mutation for Parkinson's disease.\", ...), Reference(title='A novel alpha-synuclein missense mutation in Parkinson disease.', ...), Reference(title='The H50Q mutation enhances alpha-synuclein aggregation, secretion, and toxicity.', ...), Reference(title=\"Molecular determinants of alpha-synuclein mutants' oligomerization and membrane interactions.\", ...)]\n",
      "/comment_function=['Neuronal protein that plays several roles in synaptic activity such as regulation of synaptic vesicle trafficking and subsequent neurotransmitter release. Participates as a monomer in synaptic vesicle exocytosis by enhancing vesicle priming, fusion and dilation of exocytotic fusion pores (PubMed:28288128, PubMed:30404828). Mechanistically, acts by increasing local Ca(2+) release from microdomains which is essential for the enhancement of ATP-induced exocytosis (PubMed:30404828). Acts also as a molecular chaperone in its multimeric membrane-bound state, assisting in the folding of synaptic fusion components called SNAREs (Soluble NSF Attachment Protein REceptors) at presynaptic plasma membrane in conjunction with cysteine string protein-alpha/DNAJC5 (PubMed:20798282). This chaperone activity is important to sustain normal SNARE-complex assembly during aging (PubMed:20798282). Plays also a role in the regulation of the dopamine neurotransmission by associating with the dopamine transporter (DAT1) and thereby modulating its activity (PubMed:26442590).']\n",
      "/comment_subunit=['Soluble monomer. Homotetramer (PubMed:21841800). A dynamic intracellular population of tetramers and monomers coexists normally and the tetramer plays an essential role in maintaining homeostasis (PubMed:21841800). Interacts with UCHL1 (By similarity). Interacts with phospholipase D and histones. Interacts (via N-terminus) with synphilin-1/SNCAIP; this interaction promotes formation of SNCA inclusions in the cytoplasm (PubMed:19762560). Interacts with CALM1 (PubMed:23607618). Interacts with STXBP1; this interaction controls SNCA self-replicating aggregation (PubMed:27597756). Interacts with SNARE components VAMP2 and SNAP25; these interactions allows SNARE complex assembly and integrity (PubMed:20798282). Interacts with RPH3A and RAB3A (PubMed:15207266). Interacts with SERF1A; this interaction promotes the aggregation of SNCA (PubMed:22854022, PubMed:31034892).']\n",
      "/comment_interaction_intactId=['EBI-985879', 'EBI-22011868', 'EBI-5278159', 'EBI-9254597', 'EBI-25840993', 'EBI-11529439', 'EBI-1044383', 'EBI-701692', 'EBI-1222467', 'EBI-77613', 'EBI-10694449', 'EBI-2875816', 'EBI-10186132', 'EBI-707573', 'EBI-712767', 'EBI-1048913', 'EBI-10988864', 'EBI-516580', 'EBI-78035', 'EBI-518823', 'EBI-2837444', 'EBI-12891828', 'EBI-10697767', 'EBI-397435', 'EBI-25850646', 'EBI-718729', 'EBI-1210604', 'EBI-1057156', 'EBI-1056029', 'EBI-1104674', 'EBI-350590', 'EBI-2872414', 'EBI-9087876', 'EBI-446479', 'EBI-718185', 'EBI-25842538', 'EBI-3908248', 'EBI-7779316', 'EBI-11132357', 'EBI-395274', 'EBI-9246952', 'EBI-949824', 'EBI-396453', 'EBI-10226858', 'EBI-10253815', 'EBI-713279', 'EBI-515315', 'EBI-10691738', 'EBI-356942', 'EBI-373586', 'EBI-79722', 'EBI-750650', 'EBI-301762', 'EBI-2680288', 'EBI-25845242', 'EBI-3923226', 'EBI-629985', 'EBI-466029', 'EBI-12823003', 'EBI-366258', 'EBI-21911304', 'EBI-2127319', 'EBI-2796400', 'EBI-714379', 'EBI-2432309', 'EBI-1044640', 'EBI-11985629', 'EBI-21591415', 'EBI-1108377', 'EBI-25835523', 'EBI-10258746', 'EBI-739832', 'EBI-2340947', 'EBI-9088215', 'EBI-5323863', 'EBI-347779', 'EBI-79452', 'EBI-10694180', 'EBI-7796455', 'EBI-366233', 'EBI-8487781', 'EBI-4397720', 'EBI-21250407', 'EBI-2512452', 'EBI-9092052', 'EBI-3932264', 'EBI-996616', 'EBI-10698053', 'EBI-744871', 'EBI-18577082', 'EBI-25888682', 'EBI-1058491', 'EBI-25830200', 'EBI-2555014', 'EBI-21659863', 'EBI-17159452', 'EBI-6309018', 'EBI-716063', 'EBI-629434', 'EBI-1383528', 'EBI-706254', 'EBI-21251460', 'EBI-5280197', 'EBI-357598', 'EBI-359720', 'EBI-712367', 'EBI-14093916', 'EBI-286642', 'EBI-22012855', 'EBI-741332', 'EBI-714023', 'EBI-21535400', 'EBI-25829984', 'EBI-749039', 'EBI-914207', 'EBI-743938', 'EBI-752324', 'EBI-632609', 'EBI-727004', 'EBI-1047513', 'EBI-21283682', 'EBI-10182463', 'EBI-6661445', 'EBI-9845742', 'EBI-717182', 'EBI-15577909', 'EBI-727106', 'EBI-6589365', 'EBI-11959123', 'EBI-7067260', 'EBI-8345366', 'EBI-307104', 'EBI-373258', 'EBI-712466', 'EBI-25831443', 'EBI-21560407', 'EBI-1047158', 'EBI-348333', 'EBI-12151837', 'EBI-25840535', 'EBI-74615', 'EBI-3927802', 'EBI-81290', 'EBI-487083', 'EBI-350864', 'EBI-1797313', 'EBI-357304', 'EBI-749370', 'EBI-6657186', 'EBI-11530712', 'EBI-17761788', 'EBI-10696113', 'EBI-520113', 'EBI-12157263', 'EBI-11141397', 'EBI-358545', 'EBI-743923', 'EBI-306940', 'EBI-25842419', 'EBI-2682299', 'EBI-8834821', 'EBI-2813661', 'EBI-10699005', 'EBI-8490788', 'EBI-12021938', 'EBI-25831303', 'EBI-7839708', 'EBI-9684465']\n",
      "/comment_subcellularlocation_location=['Cytoplasm', 'Membrane', 'Nucleus', 'Cell junction', 'Synapse', 'Secreted']\n",
      "/comment_alternativeproducts_isoform=['P37840-1', 'P37840-2', 'P37840-3']\n",
      "/comment_tissuespecificity=['Highly expressed in presynaptic terminals in the central nervous system. Expressed principally in brain.']\n",
      "/comment_domain=[\"The 'non A-beta component of Alzheimer disease amyloid plaque' domain (NAC domain) is involved in fibrils formation. The middle hydrophobic region forms the core of the filaments. The C-terminus may regulate aggregation and determine the diameter of the filaments.\"]\n",
      "/comment_PTM=['Phosphorylated, predominantly on serine residues. Phosphorylation by CK1 appears to occur on residues distinct from the residue phosphorylated by other kinases. Phosphorylation of Ser-129 is selective and extensive in synucleinopathy lesions. In vitro, phosphorylation at Ser-129 promoted insoluble fibril formation. Phosphorylated on Tyr-125 by a PTK2B-dependent pathway upon osmotic stress.', 'Hallmark lesions of neurodegenerative synucleinopathies contain alpha-synuclein that is modified by nitration of tyrosine residues and possibly by dityrosine cross-linking to generated stable oligomers.', 'Ubiquitinated. The predominant conjugate is the diubiquitinated form (By similarity).', 'Acetylation at Met-1 seems to be important for proper folding and native oligomeric structure.']\n",
      "/comment_disease=['Genetic alterations of SNCA resulting in aberrant polymerization into fibrils, are associated with several neurodegenerative diseases (synucleinopathies). SNCA fibrillar aggregates represent the major non A-beta component of Alzheimer disease amyloid plaque, and a major component of Lewy body inclusions. They are also found within Lewy body (LB)-like intraneuronal inclusions, glial inclusions and axonal spheroids in neurodegeneration with brain iron accumulation type 1.', 'The disease is caused by variants affecting the gene represented in this entry.']\n",
      "/comment_similarity=['Belongs to the synuclein family.']\n",
      "/comment_onlineinformation=['NIEHS-SNPs@http://egp.gs.washington.edu/data/snca/']\n",
      "/proteinExistence=['evidence at protein level']\n",
      "/keywords=['3D-structure', 'Acetylation', 'Alternative splicing', 'Alzheimer disease', 'Amyloid', 'Cell junction', 'Copper', 'Cytoplasm', 'Direct protein sequencing', 'Disease variant', 'Membrane', 'Metal-binding', 'Neurodegeneration', 'Nucleus', 'Parkinson disease', 'Parkinsonism', 'Phosphoprotein', 'Reference proteome', 'Repeat', 'Secreted', 'Synapse', 'Ubl conjugation']\n",
      "/key=['1', '2', '3', '4', '5', '6', '7', '8', '9', '10', '11', '12', '13', '14', '15', '16', '17', '18', '19', '20', '21', '22', '23', '24', '25', '26', '27', '28', '29', '30', '31', '32', '33', '34', '35', '36', '37', '38', '39', '40', '41', '42', '43', '44', '45', '46', '47']\n",
      "/type=['ECO:0000250', 'ECO:0000256', 'ECO:0000269', 'ECO:0000303', 'ECO:0000305', 'ECO:0007829']\n",
      "/sequence_length=140\n",
      "/sequence_mass=14460\n",
      "/sequence_checksum=6BB2F12128931663\n",
      "/sequence_modified=1994-10-01\n",
      "/sequence_version=1\n",
      "/molecule_type=protein\n",
      "Seq('MDVFMKGLSKAKEGVVAAAEKTKQGVAEAAGKTKEGVLYVGSKTKEGVVHGVAT...PEA')\n"
     ]
    }
   ],
   "source": [
    "rowID = input('rowID? ')\n",
    "KCTD17 = list['Entry'][int(rowID)]\n",
    "handle = urlopen(\"http://www.uniprot.org/uniprot/{}.xml\".format(KCTD17))\n",
    "record = SeqIO.read(handle, \"uniprot-xml\")\n",
    "print(record)"
   ]
  },
  {
   "cell_type": "code",
   "execution_count": null,
   "id": "chubby-franklin",
   "metadata": {},
   "outputs": [],
   "source": []
  }
 ],
 "metadata": {
  "kernelspec": {
   "display_name": "Python 3",
   "language": "python",
   "name": "python3"
  },
  "language_info": {
   "codemirror_mode": {
    "name": "ipython",
    "version": 3
   },
   "file_extension": ".py",
   "mimetype": "text/x-python",
   "name": "python",
   "nbconvert_exporter": "python",
   "pygments_lexer": "ipython3",
   "version": "3.7.9"
  }
 },
 "nbformat": 4,
 "nbformat_minor": 5
}
