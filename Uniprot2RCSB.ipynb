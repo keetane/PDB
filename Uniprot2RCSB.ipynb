{
 "cells": [
  {
   "cell_type": "markdown",
   "id": "prepared-dylan",
   "metadata": {},
   "source": [
    "# RCSB PDBから取得するxmlから情報を取得する\n",
    "https://www.rcsb.org/"
   ]
  },
  {
   "cell_type": "code",
   "execution_count": 1,
   "id": "smoking-european",
   "metadata": {},
   "outputs": [],
   "source": [
    "import pandas as pd\n",
    "from urllib.request import urlopen\n",
    "import numpy as np\n",
    "from lxml import etree\n",
    "from Bio import SeqIO\n",
    "from Bio.PDB import PDBList as pdbl\n",
    "import urllib.parse\n",
    "import urllib.request\n",
    "import json"
   ]
  },
  {
   "cell_type": "markdown",
   "id": "amazing-paradise",
   "metadata": {},
   "source": [
    "### Target名をUniprotで検索"
   ]
  },
  {
   "cell_type": "code",
   "execution_count": 58,
   "id": "iraqi-people",
   "metadata": {},
   "outputs": [
    {
     "name": "stdin",
     "output_type": "stream",
     "text": [
      "target name? Keap1\n"
     ]
    },
    {
     "data": {
      "text/html": [
       "<div>\n",
       "<style scoped>\n",
       "    .dataframe tbody tr th:only-of-type {\n",
       "        vertical-align: middle;\n",
       "    }\n",
       "\n",
       "    .dataframe tbody tr th {\n",
       "        vertical-align: top;\n",
       "    }\n",
       "\n",
       "    .dataframe thead th {\n",
       "        text-align: right;\n",
       "    }\n",
       "</style>\n",
       "<table border=\"1\" class=\"dataframe\">\n",
       "  <thead>\n",
       "    <tr style=\"text-align: right;\">\n",
       "      <th></th>\n",
       "      <th>Unnamed: 0</th>\n",
       "      <th>Entry</th>\n",
       "      <th>Entry name</th>\n",
       "      <th>Unnamed: 3</th>\n",
       "      <th>Protein names</th>\n",
       "      <th>Gene names</th>\n",
       "      <th>Organism</th>\n",
       "      <th>Length</th>\n",
       "      <th>e</th>\n",
       "    </tr>\n",
       "  </thead>\n",
       "  <tbody>\n",
       "    <tr>\n",
       "      <th>0</th>\n",
       "      <td>NaN</td>\n",
       "      <td>Q14145</td>\n",
       "      <td>KEAP1_HUMAN</td>\n",
       "      <td>NaN</td>\n",
       "      <td>Kelch-like ECH-associated protein 1</td>\n",
       "      <td>KEAP1 INRF2, KIAA0132, KLHL19</td>\n",
       "      <td>Homo sapiens (Human)</td>\n",
       "      <td>624</td>\n",
       "      <td>NaN</td>\n",
       "    </tr>\n",
       "    <tr>\n",
       "      <th>1</th>\n",
       "      <td>NaN</td>\n",
       "      <td>Q9Z2X8</td>\n",
       "      <td>KEAP1_MOUSE</td>\n",
       "      <td>NaN</td>\n",
       "      <td>Kelch-like ECH-associated protein 1</td>\n",
       "      <td>Keap1 Inrf2, Kiaa0132</td>\n",
       "      <td>Mus musculus (Mouse)</td>\n",
       "      <td>624</td>\n",
       "      <td>NaN</td>\n",
       "    </tr>\n",
       "    <tr>\n",
       "      <th>2</th>\n",
       "      <td>NaN</td>\n",
       "      <td>P57790</td>\n",
       "      <td>KEAP1_RAT</td>\n",
       "      <td>NaN</td>\n",
       "      <td>Kelch-like ECH-associated protein 1</td>\n",
       "      <td>Keap1 Inrf2</td>\n",
       "      <td>Rattus norvegicus (Rat)</td>\n",
       "      <td>624</td>\n",
       "      <td>NaN</td>\n",
       "    </tr>\n",
       "    <tr>\n",
       "      <th>3</th>\n",
       "      <td>NaN</td>\n",
       "      <td>Q684M4</td>\n",
       "      <td>KEAP1_PIG</td>\n",
       "      <td>NaN</td>\n",
       "      <td>Kelch-like ECH-associated protein 1</td>\n",
       "      <td>KEAP1</td>\n",
       "      <td>Sus scrofa (Pig)</td>\n",
       "      <td>624</td>\n",
       "      <td>NaN</td>\n",
       "    </tr>\n",
       "    <tr>\n",
       "      <th>4</th>\n",
       "      <td>NaN</td>\n",
       "      <td>A0A2R8Q1W5</td>\n",
       "      <td>KEP1B_DANRE</td>\n",
       "      <td>NaN</td>\n",
       "      <td>Kelch-like ECH-associated protein 1...</td>\n",
       "      <td>keap1b</td>\n",
       "      <td>Danio rerio (Zebrafish) (Brachydanio rerio)</td>\n",
       "      <td>587</td>\n",
       "      <td>NaN</td>\n",
       "    </tr>\n",
       "  </tbody>\n",
       "</table>\n",
       "</div>"
      ],
      "text/plain": [
       "   Unnamed: 0       Entry   Entry name  Unnamed: 3  \\\n",
       "0         NaN      Q14145  KEAP1_HUMAN         NaN   \n",
       "1         NaN      Q9Z2X8  KEAP1_MOUSE         NaN   \n",
       "2         NaN      P57790    KEAP1_RAT         NaN   \n",
       "3         NaN      Q684M4    KEAP1_PIG         NaN   \n",
       "4         NaN  A0A2R8Q1W5  KEP1B_DANRE         NaN   \n",
       "\n",
       "                            Protein names                     Gene names  \\\n",
       "0     Kelch-like ECH-associated protein 1  KEAP1 INRF2, KIAA0132, KLHL19   \n",
       "1     Kelch-like ECH-associated protein 1          Keap1 Inrf2, Kiaa0132   \n",
       "2     Kelch-like ECH-associated protein 1                    Keap1 Inrf2   \n",
       "3     Kelch-like ECH-associated protein 1                          KEAP1   \n",
       "4  Kelch-like ECH-associated protein 1...                         keap1b   \n",
       "\n",
       "                                      Organism  Length   e  \n",
       "0                         Homo sapiens (Human)     624 NaN  \n",
       "1                         Mus musculus (Mouse)     624 NaN  \n",
       "2                      Rattus norvegicus (Rat)     624 NaN  \n",
       "3                             Sus scrofa (Pig)     624 NaN  \n",
       "4  Danio rerio (Zebrafish) (Brachydanio rerio)     587 NaN  "
      ]
     },
     "execution_count": 58,
     "metadata": {},
     "output_type": "execute_result"
    }
   ],
   "source": [
    "target = input('target name?')\n",
    "uniprot = 'https://www.uniprot.org/uniprot/?query={}&sort=score'.format(target)\n",
    "list = pd.read_html(uniprot)[0]\n",
    "list.head()"
   ]
  },
  {
   "cell_type": "markdown",
   "id": "coordinate-special",
   "metadata": {},
   "source": [
    "### TargetのUniprotKB(Entry)を指定してxmlを取得"
   ]
  },
  {
   "cell_type": "code",
   "execution_count": 47,
   "id": "introductory-wagner",
   "metadata": {},
   "outputs": [
    {
     "name": "stdin",
     "output_type": "stream",
     "text": [
      "rowID?  0\n"
     ]
    }
   ],
   "source": [
    "rowID = input('rowID? ')\n",
    "UniprotKB = list['Entry'][int(rowID)]\n",
    "handle = urlopen(\"http://www.uniprot.org/uniprot/{}.xml\".format(UniprotKB))\n",
    "record = SeqIO.read(handle, \"uniprot-xml\")\n",
    "# print(record)"
   ]
  },
  {
   "cell_type": "markdown",
   "id": "searching-jacob",
   "metadata": {},
   "source": [
    "### xmlの一部をDataFrameに変換"
   ]
  },
  {
   "cell_type": "code",
   "execution_count": 18,
   "id": "killing-exhibition",
   "metadata": {},
   "outputs": [],
   "source": [
    "dbx = record.dbxrefs\n",
    "dfIO = pd.DataFrame(dbx)\n",
    "df = dfIO[0].str.split(':', expand=True)"
   ]
  },
  {
   "cell_type": "markdown",
   "id": "interior-young",
   "metadata": {},
   "source": [
    "### DataFrameにカラム名をつける"
   ]
  },
  {
   "cell_type": "code",
   "execution_count": 19,
   "id": "scenic-pollution",
   "metadata": {},
   "outputs": [
    {
     "data": {
      "text/html": [
       "<div>\n",
       "<style scoped>\n",
       "    .dataframe tbody tr th:only-of-type {\n",
       "        vertical-align: middle;\n",
       "    }\n",
       "\n",
       "    .dataframe tbody tr th {\n",
       "        vertical-align: top;\n",
       "    }\n",
       "\n",
       "    .dataframe thead th {\n",
       "        text-align: right;\n",
       "    }\n",
       "</style>\n",
       "<table border=\"1\" class=\"dataframe\">\n",
       "  <thead>\n",
       "    <tr style=\"text-align: right;\">\n",
       "      <th></th>\n",
       "      <th>name</th>\n",
       "      <th>id</th>\n",
       "      <th>and</th>\n",
       "    </tr>\n",
       "  </thead>\n",
       "  <tbody>\n",
       "    <tr>\n",
       "      <th>0</th>\n",
       "      <td>ABCD</td>\n",
       "      <td>Q14145</td>\n",
       "      <td>None</td>\n",
       "    </tr>\n",
       "    <tr>\n",
       "      <th>1</th>\n",
       "      <td>Antibodypedia</td>\n",
       "      <td>1418</td>\n",
       "      <td>None</td>\n",
       "    </tr>\n",
       "    <tr>\n",
       "      <th>2</th>\n",
       "      <td>BMRB</td>\n",
       "      <td>Q14145</td>\n",
       "      <td>None</td>\n",
       "    </tr>\n",
       "    <tr>\n",
       "      <th>3</th>\n",
       "      <td>Bgee</td>\n",
       "      <td>ENSG00000079999</td>\n",
       "      <td>None</td>\n",
       "    </tr>\n",
       "    <tr>\n",
       "      <th>4</th>\n",
       "      <td>BindingDB</td>\n",
       "      <td>Q14145</td>\n",
       "      <td>None</td>\n",
       "    </tr>\n",
       "    <tr>\n",
       "      <th>...</th>\n",
       "      <td>...</td>\n",
       "      <td>...</td>\n",
       "      <td>...</td>\n",
       "    </tr>\n",
       "    <tr>\n",
       "      <th>318</th>\n",
       "      <td>VEuPathDB</td>\n",
       "      <td>HostDB</td>\n",
       "      <td>ENSG00000079999.13</td>\n",
       "    </tr>\n",
       "    <tr>\n",
       "      <th>319</th>\n",
       "      <td>eggNOG</td>\n",
       "      <td>KOG4441</td>\n",
       "      <td>None</td>\n",
       "    </tr>\n",
       "    <tr>\n",
       "      <th>320</th>\n",
       "      <td>iPTMnet</td>\n",
       "      <td>Q14145</td>\n",
       "      <td>None</td>\n",
       "    </tr>\n",
       "    <tr>\n",
       "      <th>321</th>\n",
       "      <td>jPOST</td>\n",
       "      <td>Q14145</td>\n",
       "      <td>None</td>\n",
       "    </tr>\n",
       "    <tr>\n",
       "      <th>322</th>\n",
       "      <td>neXtProt</td>\n",
       "      <td>NX_Q14145</td>\n",
       "      <td>None</td>\n",
       "    </tr>\n",
       "  </tbody>\n",
       "</table>\n",
       "<p>323 rows × 3 columns</p>\n",
       "</div>"
      ],
      "text/plain": [
       "              name               id                 and\n",
       "0             ABCD           Q14145                None\n",
       "1    Antibodypedia             1418                None\n",
       "2             BMRB           Q14145                None\n",
       "3             Bgee  ENSG00000079999                None\n",
       "4        BindingDB           Q14145                None\n",
       "..             ...              ...                 ...\n",
       "318      VEuPathDB           HostDB  ENSG00000079999.13\n",
       "319         eggNOG          KOG4441                None\n",
       "320        iPTMnet           Q14145                None\n",
       "321          jPOST           Q14145                None\n",
       "322       neXtProt        NX_Q14145                None\n",
       "\n",
       "[323 rows x 3 columns]"
      ]
     },
     "execution_count": 19,
     "metadata": {},
     "output_type": "execute_result"
    }
   ],
   "source": [
    "df.columns = ['name', 'id', 'and']\n",
    "df"
   ]
  },
  {
   "cell_type": "markdown",
   "id": "excess-front",
   "metadata": {},
   "source": [
    "### PDBのrowを指定してlistに格納"
   ]
  },
  {
   "cell_type": "code",
   "execution_count": 20,
   "id": "serial-claim",
   "metadata": {},
   "outputs": [
    {
     "data": {
      "text/plain": [
       "53"
      ]
     },
     "execution_count": 20,
     "metadata": {},
     "output_type": "execute_result"
    }
   ],
   "source": [
    "dfPDB = df[df['name']=='PDB']\n",
    "PDBs = dfPDB['id'].values.tolist()\n",
    "len(PDBs)"
   ]
  },
  {
   "cell_type": "code",
   "execution_count": 36,
   "id": "julian-bulgaria",
   "metadata": {},
   "outputs": [
    {
     "data": {
      "text/html": [
       "<div>\n",
       "<style scoped>\n",
       "    .dataframe tbody tr th:only-of-type {\n",
       "        vertical-align: middle;\n",
       "    }\n",
       "\n",
       "    .dataframe tbody tr th {\n",
       "        vertical-align: top;\n",
       "    }\n",
       "\n",
       "    .dataframe thead th {\n",
       "        text-align: right;\n",
       "    }\n",
       "</style>\n",
       "<table border=\"1\" class=\"dataframe\">\n",
       "  <thead>\n",
       "    <tr style=\"text-align: right;\">\n",
       "      <th></th>\n",
       "      <th>name</th>\n",
       "      <th>id</th>\n",
       "      <th>and</th>\n",
       "    </tr>\n",
       "  </thead>\n",
       "  <tbody>\n",
       "    <tr>\n",
       "      <th>0</th>\n",
       "      <td>ABCD</td>\n",
       "      <td>Q14145</td>\n",
       "      <td>None</td>\n",
       "    </tr>\n",
       "    <tr>\n",
       "      <th>1</th>\n",
       "      <td>Antibodypedia</td>\n",
       "      <td>1418</td>\n",
       "      <td>None</td>\n",
       "    </tr>\n",
       "    <tr>\n",
       "      <th>2</th>\n",
       "      <td>BMRB</td>\n",
       "      <td>Q14145</td>\n",
       "      <td>None</td>\n",
       "    </tr>\n",
       "    <tr>\n",
       "      <th>3</th>\n",
       "      <td>Bgee</td>\n",
       "      <td>ENSG00000079999</td>\n",
       "      <td>None</td>\n",
       "    </tr>\n",
       "    <tr>\n",
       "      <th>4</th>\n",
       "      <td>BindingDB</td>\n",
       "      <td>Q14145</td>\n",
       "      <td>None</td>\n",
       "    </tr>\n",
       "    <tr>\n",
       "      <th>...</th>\n",
       "      <td>...</td>\n",
       "      <td>...</td>\n",
       "      <td>...</td>\n",
       "    </tr>\n",
       "    <tr>\n",
       "      <th>318</th>\n",
       "      <td>VEuPathDB</td>\n",
       "      <td>HostDB</td>\n",
       "      <td>ENSG00000079999.13</td>\n",
       "    </tr>\n",
       "    <tr>\n",
       "      <th>319</th>\n",
       "      <td>eggNOG</td>\n",
       "      <td>KOG4441</td>\n",
       "      <td>None</td>\n",
       "    </tr>\n",
       "    <tr>\n",
       "      <th>320</th>\n",
       "      <td>iPTMnet</td>\n",
       "      <td>Q14145</td>\n",
       "      <td>None</td>\n",
       "    </tr>\n",
       "    <tr>\n",
       "      <th>321</th>\n",
       "      <td>jPOST</td>\n",
       "      <td>Q14145</td>\n",
       "      <td>None</td>\n",
       "    </tr>\n",
       "    <tr>\n",
       "      <th>322</th>\n",
       "      <td>neXtProt</td>\n",
       "      <td>NX_Q14145</td>\n",
       "      <td>None</td>\n",
       "    </tr>\n",
       "  </tbody>\n",
       "</table>\n",
       "<p>323 rows × 3 columns</p>\n",
       "</div>"
      ],
      "text/plain": [
       "              name               id                 and\n",
       "0             ABCD           Q14145                None\n",
       "1    Antibodypedia             1418                None\n",
       "2             BMRB           Q14145                None\n",
       "3             Bgee  ENSG00000079999                None\n",
       "4        BindingDB           Q14145                None\n",
       "..             ...              ...                 ...\n",
       "318      VEuPathDB           HostDB  ENSG00000079999.13\n",
       "319         eggNOG          KOG4441                None\n",
       "320        iPTMnet           Q14145                None\n",
       "321          jPOST           Q14145                None\n",
       "322       neXtProt        NX_Q14145                None\n",
       "\n",
       "[323 rows x 3 columns]"
      ]
     },
     "execution_count": 36,
     "metadata": {},
     "output_type": "execute_result"
    }
   ],
   "source": [
    "df"
   ]
  },
  {
   "cell_type": "markdown",
   "id": "departmental-singles",
   "metadata": {},
   "source": [
    "### target名のdirectoryを作ってPDBを全てDL"
   ]
  },
  {
   "cell_type": "code",
   "execution_count": 10,
   "id": "controlled-assignment",
   "metadata": {
    "collapsed": true,
    "jupyter": {
     "outputs_hidden": true
    }
   },
   "outputs": [
    {
     "name": "stderr",
     "output_type": "stream",
     "text": [
      "WARNING: The default download format has changed from PDB to PDBx/mmCif\n"
     ]
    },
    {
     "name": "stdout",
     "output_type": "stream",
     "text": [
      "Downloading PDB structure '1U6D'...\n"
     ]
    },
    {
     "name": "stderr",
     "output_type": "stream",
     "text": [
      "WARNING: The default download format has changed from PDB to PDBx/mmCif\n"
     ]
    },
    {
     "name": "stdout",
     "output_type": "stream",
     "text": [
      "Downloading PDB structure '1ZGK'...\n"
     ]
    },
    {
     "name": "stderr",
     "output_type": "stream",
     "text": [
      "WARNING: The default download format has changed from PDB to PDBx/mmCif\n"
     ]
    },
    {
     "name": "stdout",
     "output_type": "stream",
     "text": [
      "Downloading PDB structure '2FLU'...\n"
     ]
    },
    {
     "name": "stderr",
     "output_type": "stream",
     "text": [
      "WARNING: The default download format has changed from PDB to PDBx/mmCif\n"
     ]
    },
    {
     "name": "stdout",
     "output_type": "stream",
     "text": [
      "Downloading PDB structure '3VNG'...\n"
     ]
    },
    {
     "name": "stderr",
     "output_type": "stream",
     "text": [
      "WARNING: The default download format has changed from PDB to PDBx/mmCif\n"
     ]
    },
    {
     "name": "stdout",
     "output_type": "stream",
     "text": [
      "Downloading PDB structure '3VNH'...\n"
     ]
    },
    {
     "name": "stderr",
     "output_type": "stream",
     "text": [
      "WARNING: The default download format has changed from PDB to PDBx/mmCif\n"
     ]
    },
    {
     "name": "stdout",
     "output_type": "stream",
     "text": [
      "Downloading PDB structure '3ZGC'...\n"
     ]
    },
    {
     "name": "stderr",
     "output_type": "stream",
     "text": [
      "WARNING: The default download format has changed from PDB to PDBx/mmCif\n"
     ]
    },
    {
     "name": "stdout",
     "output_type": "stream",
     "text": [
      "Downloading PDB structure '3ZGD'...\n"
     ]
    },
    {
     "name": "stderr",
     "output_type": "stream",
     "text": [
      "WARNING: The default download format has changed from PDB to PDBx/mmCif\n"
     ]
    },
    {
     "name": "stdout",
     "output_type": "stream",
     "text": [
      "Downloading PDB structure '4CXI'...\n"
     ]
    },
    {
     "name": "stderr",
     "output_type": "stream",
     "text": [
      "WARNING: The default download format has changed from PDB to PDBx/mmCif\n"
     ]
    },
    {
     "name": "stdout",
     "output_type": "stream",
     "text": [
      "Downloading PDB structure '4CXJ'...\n"
     ]
    },
    {
     "name": "stderr",
     "output_type": "stream",
     "text": [
      "WARNING: The default download format has changed from PDB to PDBx/mmCif\n"
     ]
    },
    {
     "name": "stdout",
     "output_type": "stream",
     "text": [
      "Downloading PDB structure '4CXT'...\n"
     ]
    },
    {
     "name": "stderr",
     "output_type": "stream",
     "text": [
      "WARNING: The default download format has changed from PDB to PDBx/mmCif\n"
     ]
    },
    {
     "name": "stdout",
     "output_type": "stream",
     "text": [
      "Downloading PDB structure '4IFJ'...\n"
     ]
    },
    {
     "name": "stderr",
     "output_type": "stream",
     "text": [
      "WARNING: The default download format has changed from PDB to PDBx/mmCif\n"
     ]
    },
    {
     "name": "stdout",
     "output_type": "stream",
     "text": [
      "Downloading PDB structure '4IFL'...\n"
     ]
    },
    {
     "name": "stderr",
     "output_type": "stream",
     "text": [
      "WARNING: The default download format has changed from PDB to PDBx/mmCif\n"
     ]
    },
    {
     "name": "stdout",
     "output_type": "stream",
     "text": [
      "Downloading PDB structure '4IFN'...\n"
     ]
    },
    {
     "name": "stderr",
     "output_type": "stream",
     "text": [
      "WARNING: The default download format has changed from PDB to PDBx/mmCif\n"
     ]
    },
    {
     "name": "stdout",
     "output_type": "stream",
     "text": [
      "Downloading PDB structure '4IN4'...\n"
     ]
    },
    {
     "name": "stderr",
     "output_type": "stream",
     "text": [
      "WARNING: The default download format has changed from PDB to PDBx/mmCif\n"
     ]
    },
    {
     "name": "stdout",
     "output_type": "stream",
     "text": [
      "Downloading PDB structure '4IQK'...\n"
     ]
    },
    {
     "name": "stderr",
     "output_type": "stream",
     "text": [
      "WARNING: The default download format has changed from PDB to PDBx/mmCif\n"
     ]
    },
    {
     "name": "stdout",
     "output_type": "stream",
     "text": [
      "Downloading PDB structure '4L7B'...\n"
     ]
    },
    {
     "name": "stderr",
     "output_type": "stream",
     "text": [
      "WARNING: The default download format has changed from PDB to PDBx/mmCif\n"
     ]
    },
    {
     "name": "stdout",
     "output_type": "stream",
     "text": [
      "Downloading PDB structure '4L7C'...\n"
     ]
    },
    {
     "name": "stderr",
     "output_type": "stream",
     "text": [
      "WARNING: The default download format has changed from PDB to PDBx/mmCif\n"
     ]
    },
    {
     "name": "stdout",
     "output_type": "stream",
     "text": [
      "Downloading PDB structure '4L7D'...\n"
     ]
    },
    {
     "name": "stderr",
     "output_type": "stream",
     "text": [
      "WARNING: The default download format has changed from PDB to PDBx/mmCif\n"
     ]
    },
    {
     "name": "stdout",
     "output_type": "stream",
     "text": [
      "Downloading PDB structure '4N1B'...\n"
     ]
    },
    {
     "name": "stderr",
     "output_type": "stream",
     "text": [
      "WARNING: The default download format has changed from PDB to PDBx/mmCif\n"
     ]
    },
    {
     "name": "stdout",
     "output_type": "stream",
     "text": [
      "Downloading PDB structure '4XMB'...\n"
     ]
    },
    {
     "name": "stderr",
     "output_type": "stream",
     "text": [
      "WARNING: The default download format has changed from PDB to PDBx/mmCif\n"
     ]
    },
    {
     "name": "stdout",
     "output_type": "stream",
     "text": [
      "Downloading PDB structure '5DAD'...\n"
     ]
    },
    {
     "name": "stderr",
     "output_type": "stream",
     "text": [
      "WARNING: The default download format has changed from PDB to PDBx/mmCif\n"
     ]
    },
    {
     "name": "stdout",
     "output_type": "stream",
     "text": [
      "Downloading PDB structure '5DAF'...\n"
     ]
    },
    {
     "name": "stderr",
     "output_type": "stream",
     "text": [
      "WARNING: The default download format has changed from PDB to PDBx/mmCif\n"
     ]
    },
    {
     "name": "stdout",
     "output_type": "stream",
     "text": [
      "Downloading PDB structure '5F72'...\n"
     ]
    },
    {
     "name": "stderr",
     "output_type": "stream",
     "text": [
      "WARNING: The default download format has changed from PDB to PDBx/mmCif\n"
     ]
    },
    {
     "name": "stdout",
     "output_type": "stream",
     "text": [
      "Downloading PDB structure '5GIT'...\n"
     ]
    },
    {
     "name": "stderr",
     "output_type": "stream",
     "text": [
      "WARNING: The default download format has changed from PDB to PDBx/mmCif\n"
     ]
    },
    {
     "name": "stdout",
     "output_type": "stream",
     "text": [
      "Downloading PDB structure '5NLB'...\n"
     ]
    },
    {
     "name": "stderr",
     "output_type": "stream",
     "text": [
      "WARNING: The default download format has changed from PDB to PDBx/mmCif\n"
     ]
    },
    {
     "name": "stdout",
     "output_type": "stream",
     "text": [
      "Downloading PDB structure '5WFL'...\n"
     ]
    },
    {
     "name": "stderr",
     "output_type": "stream",
     "text": [
      "WARNING: The default download format has changed from PDB to PDBx/mmCif\n"
     ]
    },
    {
     "name": "stdout",
     "output_type": "stream",
     "text": [
      "Downloading PDB structure '5WFV'...\n"
     ]
    },
    {
     "name": "stderr",
     "output_type": "stream",
     "text": [
      "WARNING: The default download format has changed from PDB to PDBx/mmCif\n"
     ]
    },
    {
     "name": "stdout",
     "output_type": "stream",
     "text": [
      "Downloading PDB structure '5WG1'...\n"
     ]
    },
    {
     "name": "stderr",
     "output_type": "stream",
     "text": [
      "WARNING: The default download format has changed from PDB to PDBx/mmCif\n"
     ]
    },
    {
     "name": "stdout",
     "output_type": "stream",
     "text": [
      "Downloading PDB structure '5WHL'...\n"
     ]
    },
    {
     "name": "stderr",
     "output_type": "stream",
     "text": [
      "WARNING: The default download format has changed from PDB to PDBx/mmCif\n"
     ]
    },
    {
     "name": "stdout",
     "output_type": "stream",
     "text": [
      "Downloading PDB structure '5WHO'...\n"
     ]
    },
    {
     "name": "stderr",
     "output_type": "stream",
     "text": [
      "WARNING: The default download format has changed from PDB to PDBx/mmCif\n"
     ]
    },
    {
     "name": "stdout",
     "output_type": "stream",
     "text": [
      "Downloading PDB structure '5WIY'...\n"
     ]
    },
    {
     "name": "stderr",
     "output_type": "stream",
     "text": [
      "WARNING: The default download format has changed from PDB to PDBx/mmCif\n"
     ]
    },
    {
     "name": "stdout",
     "output_type": "stream",
     "text": [
      "Downloading PDB structure '5X54'...\n"
     ]
    },
    {
     "name": "stderr",
     "output_type": "stream",
     "text": [
      "WARNING: The default download format has changed from PDB to PDBx/mmCif\n"
     ]
    },
    {
     "name": "stdout",
     "output_type": "stream",
     "text": [
      "Downloading PDB structure '6FFM'...\n"
     ]
    },
    {
     "name": "stderr",
     "output_type": "stream",
     "text": [
      "WARNING: The default download format has changed from PDB to PDBx/mmCif\n"
     ]
    },
    {
     "name": "stdout",
     "output_type": "stream",
     "text": [
      "Downloading PDB structure '6FMP'...\n"
     ]
    },
    {
     "name": "stderr",
     "output_type": "stream",
     "text": [
      "WARNING: The default download format has changed from PDB to PDBx/mmCif\n"
     ]
    },
    {
     "name": "stdout",
     "output_type": "stream",
     "text": [
      "Downloading PDB structure '6FMQ'...\n"
     ]
    },
    {
     "name": "stderr",
     "output_type": "stream",
     "text": [
      "WARNING: The default download format has changed from PDB to PDBx/mmCif\n"
     ]
    },
    {
     "name": "stdout",
     "output_type": "stream",
     "text": [
      "Downloading PDB structure '6HWS'...\n"
     ]
    },
    {
     "name": "stderr",
     "output_type": "stream",
     "text": [
      "WARNING: The default download format has changed from PDB to PDBx/mmCif\n"
     ]
    },
    {
     "name": "stdout",
     "output_type": "stream",
     "text": [
      "Downloading PDB structure '6LRZ'...\n"
     ]
    },
    {
     "name": "stderr",
     "output_type": "stream",
     "text": [
      "WARNING: The default download format has changed from PDB to PDBx/mmCif\n"
     ]
    },
    {
     "name": "stdout",
     "output_type": "stream",
     "text": [
      "Downloading PDB structure '6ROG'...\n"
     ]
    },
    {
     "name": "stderr",
     "output_type": "stream",
     "text": [
      "WARNING: The default download format has changed from PDB to PDBx/mmCif\n"
     ]
    },
    {
     "name": "stdout",
     "output_type": "stream",
     "text": [
      "Downloading PDB structure '6SP1'...\n"
     ]
    },
    {
     "name": "stderr",
     "output_type": "stream",
     "text": [
      "WARNING: The default download format has changed from PDB to PDBx/mmCif\n"
     ]
    },
    {
     "name": "stdout",
     "output_type": "stream",
     "text": [
      "Downloading PDB structure '6SP4'...\n"
     ]
    },
    {
     "name": "stderr",
     "output_type": "stream",
     "text": [
      "WARNING: The default download format has changed from PDB to PDBx/mmCif\n"
     ]
    },
    {
     "name": "stdout",
     "output_type": "stream",
     "text": [
      "Downloading PDB structure '6T7V'...\n"
     ]
    },
    {
     "name": "stderr",
     "output_type": "stream",
     "text": [
      "WARNING: The default download format has changed from PDB to PDBx/mmCif\n"
     ]
    },
    {
     "name": "stdout",
     "output_type": "stream",
     "text": [
      "Downloading PDB structure '6T7Z'...\n"
     ]
    },
    {
     "name": "stderr",
     "output_type": "stream",
     "text": [
      "WARNING: The default download format has changed from PDB to PDBx/mmCif\n"
     ]
    },
    {
     "name": "stdout",
     "output_type": "stream",
     "text": [
      "Downloading PDB structure '6TG8'...\n"
     ]
    },
    {
     "name": "stderr",
     "output_type": "stream",
     "text": [
      "WARNING: The default download format has changed from PDB to PDBx/mmCif\n"
     ]
    },
    {
     "name": "stdout",
     "output_type": "stream",
     "text": [
      "Downloading PDB structure '6TYM'...\n"
     ]
    },
    {
     "name": "stderr",
     "output_type": "stream",
     "text": [
      "WARNING: The default download format has changed from PDB to PDBx/mmCif\n"
     ]
    },
    {
     "name": "stdout",
     "output_type": "stream",
     "text": [
      "Downloading PDB structure '6TYP'...\n"
     ]
    },
    {
     "name": "stderr",
     "output_type": "stream",
     "text": [
      "WARNING: The default download format has changed from PDB to PDBx/mmCif\n"
     ]
    },
    {
     "name": "stdout",
     "output_type": "stream",
     "text": [
      "Downloading PDB structure '6UF0'...\n"
     ]
    },
    {
     "name": "stderr",
     "output_type": "stream",
     "text": [
      "WARNING: The default download format has changed from PDB to PDBx/mmCif\n"
     ]
    },
    {
     "name": "stdout",
     "output_type": "stream",
     "text": [
      "Downloading PDB structure '6V6Z'...\n"
     ]
    },
    {
     "name": "stderr",
     "output_type": "stream",
     "text": [
      "WARNING: The default download format has changed from PDB to PDBx/mmCif\n"
     ]
    },
    {
     "name": "stdout",
     "output_type": "stream",
     "text": [
      "Downloading PDB structure '6W66'...\n"
     ]
    },
    {
     "name": "stderr",
     "output_type": "stream",
     "text": [
      "WARNING: The default download format has changed from PDB to PDBx/mmCif\n"
     ]
    },
    {
     "name": "stdout",
     "output_type": "stream",
     "text": [
      "Downloading PDB structure '6W67'...\n"
     ]
    },
    {
     "name": "stderr",
     "output_type": "stream",
     "text": [
      "WARNING: The default download format has changed from PDB to PDBx/mmCif\n"
     ]
    },
    {
     "name": "stdout",
     "output_type": "stream",
     "text": [
      "Downloading PDB structure '6W68'...\n"
     ]
    },
    {
     "name": "stderr",
     "output_type": "stream",
     "text": [
      "WARNING: The default download format has changed from PDB to PDBx/mmCif\n"
     ]
    },
    {
     "name": "stdout",
     "output_type": "stream",
     "text": [
      "Downloading PDB structure '6W69'...\n"
     ]
    },
    {
     "name": "stderr",
     "output_type": "stream",
     "text": [
      "WARNING: The default download format has changed from PDB to PDBx/mmCif\n"
     ]
    },
    {
     "name": "stdout",
     "output_type": "stream",
     "text": [
      "Downloading PDB structure '6WCQ'...\n"
     ]
    },
    {
     "name": "stderr",
     "output_type": "stream",
     "text": [
      "WARNING: The default download format has changed from PDB to PDBx/mmCif\n"
     ]
    },
    {
     "name": "stdout",
     "output_type": "stream",
     "text": [
      "Downloading PDB structure '6Z6A'...\n",
      "fertig\n"
     ]
    }
   ],
   "source": [
    "for pdb_id in PDBs:\n",
    "        pdbl().retrieve_pdb_file(pdb_id, pdir=target)\n",
    "print('fertig')"
   ]
  },
  {
   "cell_type": "markdown",
   "id": "happy-perception",
   "metadata": {},
   "source": [
    "### RCSB PDBでTargetを検索"
   ]
  },
  {
   "cell_type": "code",
   "execution_count": 14,
   "id": "announced-heaven",
   "metadata": {},
   "outputs": [
    {
     "data": {
      "text/html": [
       "<div>\n",
       "<style scoped>\n",
       "    .dataframe tbody tr th:only-of-type {\n",
       "        vertical-align: middle;\n",
       "    }\n",
       "\n",
       "    .dataframe tbody tr th {\n",
       "        vertical-align: top;\n",
       "    }\n",
       "\n",
       "    .dataframe thead tr th {\n",
       "        text-align: left;\n",
       "    }\n",
       "</style>\n",
       "<table border=\"1\" class=\"dataframe\">\n",
       "  <thead>\n",
       "    <tr>\n",
       "      <th></th>\n",
       "      <th colspan=\"6\" halign=\"left\">Entity ID: 1</th>\n",
       "    </tr>\n",
       "    <tr>\n",
       "      <th></th>\n",
       "      <th>Molecule</th>\n",
       "      <th>Chains</th>\n",
       "      <th>Sequence Length</th>\n",
       "      <th>Organism</th>\n",
       "      <th>Details</th>\n",
       "      <th>Image</th>\n",
       "    </tr>\n",
       "  </thead>\n",
       "  <tbody>\n",
       "    <tr>\n",
       "      <th>0</th>\n",
       "      <td>kelch-like ECH-associated protein 1</td>\n",
       "      <td>A [auth X]</td>\n",
       "      <td>308</td>\n",
       "      <td>Homo sapiens</td>\n",
       "      <td>Mutation(s): 0&amp;nbspGene Names:&amp;nbspKEAP1,&amp;nbsp...</td>\n",
       "      <td>NaN</td>\n",
       "    </tr>\n",
       "    <tr>\n",
       "      <th>1</th>\n",
       "      <td>UniProt &amp; NIH Common Fund Data Resources</td>\n",
       "      <td>UniProt &amp; NIH Common Fund Data Resources</td>\n",
       "      <td>UniProt &amp; NIH Common Fund Data Resources</td>\n",
       "      <td>UniProt &amp; NIH Common Fund Data Resources</td>\n",
       "      <td>UniProt &amp; NIH Common Fund Data Resources</td>\n",
       "      <td>UniProt &amp; NIH Common Fund Data Resources</td>\n",
       "    </tr>\n",
       "    <tr>\n",
       "      <th>2</th>\n",
       "      <td>Find proteins for&amp;nbspQ14145&amp;nbsp(Homo sapiens...</td>\n",
       "      <td>Find proteins for&amp;nbspQ14145&amp;nbsp(Homo sapiens...</td>\n",
       "      <td>Find proteins for&amp;nbspQ14145&amp;nbsp(Homo sapiens...</td>\n",
       "      <td>Find proteins for&amp;nbspQ14145&amp;nbsp(Homo sapiens...</td>\n",
       "      <td>Find proteins for&amp;nbspQ14145&amp;nbsp(Homo sapiens...</td>\n",
       "      <td>Find proteins for&amp;nbspQ14145&amp;nbsp(Homo sapiens...</td>\n",
       "    </tr>\n",
       "    <tr>\n",
       "      <th>3</th>\n",
       "      <td>PHAROS: &amp;nbspQ14145GTEx: &amp;nbspENSG00000079999</td>\n",
       "      <td>PHAROS: &amp;nbspQ14145GTEx: &amp;nbspENSG00000079999</td>\n",
       "      <td>PHAROS: &amp;nbspQ14145GTEx: &amp;nbspENSG00000079999</td>\n",
       "      <td>PHAROS: &amp;nbspQ14145GTEx: &amp;nbspENSG00000079999</td>\n",
       "      <td>PHAROS: &amp;nbspQ14145GTEx: &amp;nbspENSG00000079999</td>\n",
       "      <td>PHAROS: &amp;nbspQ14145GTEx: &amp;nbspENSG00000079999</td>\n",
       "    </tr>\n",
       "    <tr>\n",
       "      <th>4</th>\n",
       "      <td>Protein Feature ViewExpand</td>\n",
       "      <td>Protein Feature ViewExpand</td>\n",
       "      <td>Protein Feature ViewExpand</td>\n",
       "      <td>Protein Feature ViewExpand</td>\n",
       "      <td>Protein Feature ViewExpand</td>\n",
       "      <td>Protein Feature ViewExpand</td>\n",
       "    </tr>\n",
       "    <tr>\n",
       "      <th>5</th>\n",
       "      <td>Reference SequencesetTimeout(function(){  Rcsb...</td>\n",
       "      <td>Reference SequencesetTimeout(function(){  Rcsb...</td>\n",
       "      <td>Reference SequencesetTimeout(function(){  Rcsb...</td>\n",
       "      <td>Reference SequencesetTimeout(function(){  Rcsb...</td>\n",
       "      <td>Reference SequencesetTimeout(function(){  Rcsb...</td>\n",
       "      <td>Reference SequencesetTimeout(function(){  Rcsb...</td>\n",
       "    </tr>\n",
       "  </tbody>\n",
       "</table>\n",
       "</div>"
      ],
      "text/plain": [
       "                                        Entity ID: 1  \\\n",
       "                                            Molecule   \n",
       "0                kelch-like ECH-associated protein 1   \n",
       "1           UniProt & NIH Common Fund Data Resources   \n",
       "2  Find proteins for&nbspQ14145&nbsp(Homo sapiens...   \n",
       "3      PHAROS: &nbspQ14145GTEx: &nbspENSG00000079999   \n",
       "4                         Protein Feature ViewExpand   \n",
       "5  Reference SequencesetTimeout(function(){  Rcsb...   \n",
       "\n",
       "                                                      \\\n",
       "                                              Chains   \n",
       "0                                         A [auth X]   \n",
       "1           UniProt & NIH Common Fund Data Resources   \n",
       "2  Find proteins for&nbspQ14145&nbsp(Homo sapiens...   \n",
       "3      PHAROS: &nbspQ14145GTEx: &nbspENSG00000079999   \n",
       "4                         Protein Feature ViewExpand   \n",
       "5  Reference SequencesetTimeout(function(){  Rcsb...   \n",
       "\n",
       "                                                      \\\n",
       "                                     Sequence Length   \n",
       "0                                                308   \n",
       "1           UniProt & NIH Common Fund Data Resources   \n",
       "2  Find proteins for&nbspQ14145&nbsp(Homo sapiens...   \n",
       "3      PHAROS: &nbspQ14145GTEx: &nbspENSG00000079999   \n",
       "4                         Protein Feature ViewExpand   \n",
       "5  Reference SequencesetTimeout(function(){  Rcsb...   \n",
       "\n",
       "                                                      \\\n",
       "                                            Organism   \n",
       "0                                       Homo sapiens   \n",
       "1           UniProt & NIH Common Fund Data Resources   \n",
       "2  Find proteins for&nbspQ14145&nbsp(Homo sapiens...   \n",
       "3      PHAROS: &nbspQ14145GTEx: &nbspENSG00000079999   \n",
       "4                         Protein Feature ViewExpand   \n",
       "5  Reference SequencesetTimeout(function(){  Rcsb...   \n",
       "\n",
       "                                                      \\\n",
       "                                             Details   \n",
       "0  Mutation(s): 0&nbspGene Names:&nbspKEAP1,&nbsp...   \n",
       "1           UniProt & NIH Common Fund Data Resources   \n",
       "2  Find proteins for&nbspQ14145&nbsp(Homo sapiens...   \n",
       "3      PHAROS: &nbspQ14145GTEx: &nbspENSG00000079999   \n",
       "4                         Protein Feature ViewExpand   \n",
       "5  Reference SequencesetTimeout(function(){  Rcsb...   \n",
       "\n",
       "                                                      \n",
       "                                               Image  \n",
       "0                                                NaN  \n",
       "1           UniProt & NIH Common Fund Data Resources  \n",
       "2  Find proteins for&nbspQ14145&nbsp(Homo sapiens...  \n",
       "3      PHAROS: &nbspQ14145GTEx: &nbspENSG00000079999  \n",
       "4                         Protein Feature ViewExpand  \n",
       "5  Reference SequencesetTimeout(function(){  Rcsb...  "
      ]
     },
     "execution_count": 14,
     "metadata": {},
     "output_type": "execute_result"
    }
   ],
   "source": [
    "rcsb_url = 'https://www.rcsb.org/structure/' + PDBs[0]\n",
    "df = pd.read_html(rcsb_url)\n",
    "df[0]"
   ]
  },
  {
   "cell_type": "markdown",
   "id": "latin-sleep",
   "metadata": {},
   "source": [
    "### TargetのFASTAを取得"
   ]
  },
  {
   "cell_type": "code",
   "execution_count": 55,
   "id": "tracked-atmosphere",
   "metadata": {},
   "outputs": [
    {
     "data": {
      "text/plain": [
       "Seq('MQPDPRPSGAGACCRFLPLQSQCPEGAGDAVMYASTECKAEVTPSQHGNRTFSY...CTC')"
      ]
     },
     "execution_count": 55,
     "metadata": {},
     "output_type": "execute_result"
    }
   ],
   "source": [
    "record.seq"
   ]
  },
  {
   "cell_type": "markdown",
   "id": "computational-costa",
   "metadata": {},
   "source": [
    "# 相同性を確認する"
   ]
  },
  {
   "cell_type": "markdown",
   "id": "japanese-bracket",
   "metadata": {},
   "source": [
    "### ターゲットをUniprotで検索する"
   ]
  },
  {
   "cell_type": "code",
   "execution_count": 60,
   "id": "sharp-gross",
   "metadata": {},
   "outputs": [
    {
     "name": "stdin",
     "output_type": "stream",
     "text": [
      "target name? KCTD\n"
     ]
    },
    {
     "data": {
      "text/html": [
       "<div>\n",
       "<style scoped>\n",
       "    .dataframe tbody tr th:only-of-type {\n",
       "        vertical-align: middle;\n",
       "    }\n",
       "\n",
       "    .dataframe tbody tr th {\n",
       "        vertical-align: top;\n",
       "    }\n",
       "\n",
       "    .dataframe thead th {\n",
       "        text-align: right;\n",
       "    }\n",
       "</style>\n",
       "<table border=\"1\" class=\"dataframe\">\n",
       "  <thead>\n",
       "    <tr style=\"text-align: right;\">\n",
       "      <th></th>\n",
       "      <th>Unnamed: 0</th>\n",
       "      <th>Entry</th>\n",
       "      <th>Entry name</th>\n",
       "      <th>Unnamed: 3</th>\n",
       "      <th>Protein names</th>\n",
       "      <th>Gene names</th>\n",
       "      <th>Organism</th>\n",
       "      <th>Length</th>\n",
       "      <th>e</th>\n",
       "    </tr>\n",
       "  </thead>\n",
       "  <tbody>\n",
       "    <tr>\n",
       "      <th>0</th>\n",
       "      <td>NaN</td>\n",
       "      <td>Q7L273</td>\n",
       "      <td>KCTD9_HUMAN</td>\n",
       "      <td>NaN</td>\n",
       "      <td>BTB/POZ domain-containing protein K...</td>\n",
       "      <td>KCTD9</td>\n",
       "      <td>Homo sapiens (Human)</td>\n",
       "      <td>389</td>\n",
       "      <td>NaN</td>\n",
       "    </tr>\n",
       "    <tr>\n",
       "      <th>1</th>\n",
       "      <td>NaN</td>\n",
       "      <td>Q8N5Z5</td>\n",
       "      <td>KCD17_HUMAN</td>\n",
       "      <td>NaN</td>\n",
       "      <td>BTB/POZ domain-containing protein K...</td>\n",
       "      <td>KCTD17</td>\n",
       "      <td>Homo sapiens (Human)</td>\n",
       "      <td>321</td>\n",
       "      <td>NaN</td>\n",
       "    </tr>\n",
       "    <tr>\n",
       "      <th>2</th>\n",
       "      <td>NaN</td>\n",
       "      <td>Q96MP8</td>\n",
       "      <td>KCTD7_HUMAN</td>\n",
       "      <td>NaN</td>\n",
       "      <td>BTB/POZ domain-containing protein K...</td>\n",
       "      <td>KCTD7</td>\n",
       "      <td>Homo sapiens (Human)</td>\n",
       "      <td>289</td>\n",
       "      <td>NaN</td>\n",
       "    </tr>\n",
       "    <tr>\n",
       "      <th>3</th>\n",
       "      <td>NaN</td>\n",
       "      <td>Q8NC69</td>\n",
       "      <td>KCTD6_HUMAN</td>\n",
       "      <td>NaN</td>\n",
       "      <td>BTB/POZ domain-containing protein K...</td>\n",
       "      <td>KCTD6</td>\n",
       "      <td>Homo sapiens (Human)</td>\n",
       "      <td>237</td>\n",
       "      <td>NaN</td>\n",
       "    </tr>\n",
       "    <tr>\n",
       "      <th>4</th>\n",
       "      <td>NaN</td>\n",
       "      <td>Q8WZ19</td>\n",
       "      <td>BACD1_HUMAN</td>\n",
       "      <td>NaN</td>\n",
       "      <td>BTB/POZ domain-containing adapter f...</td>\n",
       "      <td>KCTD13 BACURD1, PDIP1, POLDIP1, FKSG86, PP6832</td>\n",
       "      <td>Homo sapiens (Human)</td>\n",
       "      <td>329</td>\n",
       "      <td>NaN</td>\n",
       "    </tr>\n",
       "  </tbody>\n",
       "</table>\n",
       "</div>"
      ],
      "text/plain": [
       "   Unnamed: 0   Entry   Entry name  Unnamed: 3  \\\n",
       "0         NaN  Q7L273  KCTD9_HUMAN         NaN   \n",
       "1         NaN  Q8N5Z5  KCD17_HUMAN         NaN   \n",
       "2         NaN  Q96MP8  KCTD7_HUMAN         NaN   \n",
       "3         NaN  Q8NC69  KCTD6_HUMAN         NaN   \n",
       "4         NaN  Q8WZ19  BACD1_HUMAN         NaN   \n",
       "\n",
       "                            Protein names  \\\n",
       "0  BTB/POZ domain-containing protein K...   \n",
       "1  BTB/POZ domain-containing protein K...   \n",
       "2  BTB/POZ domain-containing protein K...   \n",
       "3  BTB/POZ domain-containing protein K...   \n",
       "4  BTB/POZ domain-containing adapter f...   \n",
       "\n",
       "                                       Gene names              Organism  \\\n",
       "0                                           KCTD9  Homo sapiens (Human)   \n",
       "1                                          KCTD17  Homo sapiens (Human)   \n",
       "2                                           KCTD7  Homo sapiens (Human)   \n",
       "3                                           KCTD6  Homo sapiens (Human)   \n",
       "4  KCTD13 BACURD1, PDIP1, POLDIP1, FKSG86, PP6832  Homo sapiens (Human)   \n",
       "\n",
       "   Length   e  \n",
       "0     389 NaN  \n",
       "1     321 NaN  \n",
       "2     289 NaN  \n",
       "3     237 NaN  \n",
       "4     329 NaN  "
      ]
     },
     "execution_count": 60,
     "metadata": {},
     "output_type": "execute_result"
    }
   ],
   "source": [
    "target = input('target name?')\n",
    "uniprot = 'https://www.uniprot.org/uniprot/?query={}&sort=score'.format(target)\n",
    "list = pd.read_html(uniprot)[0]\n",
    "list.head()"
   ]
  },
  {
   "cell_type": "markdown",
   "id": "sufficient-childhood",
   "metadata": {},
   "source": [
    "### HumanにFilteringする"
   ]
  },
  {
   "cell_type": "code",
   "execution_count": 85,
   "id": "southwest-induction",
   "metadata": {},
   "outputs": [
    {
     "data": {
      "text/html": [
       "<div>\n",
       "<style scoped>\n",
       "    .dataframe tbody tr th:only-of-type {\n",
       "        vertical-align: middle;\n",
       "    }\n",
       "\n",
       "    .dataframe tbody tr th {\n",
       "        vertical-align: top;\n",
       "    }\n",
       "\n",
       "    .dataframe thead th {\n",
       "        text-align: right;\n",
       "    }\n",
       "</style>\n",
       "<table border=\"1\" class=\"dataframe\">\n",
       "  <thead>\n",
       "    <tr style=\"text-align: right;\">\n",
       "      <th></th>\n",
       "      <th>Unnamed: 0</th>\n",
       "      <th>Entry</th>\n",
       "      <th>Entry name</th>\n",
       "      <th>Unnamed: 3</th>\n",
       "      <th>Protein names</th>\n",
       "      <th>Gene names</th>\n",
       "      <th>Organism</th>\n",
       "      <th>Length</th>\n",
       "      <th>e</th>\n",
       "    </tr>\n",
       "  </thead>\n",
       "  <tbody>\n",
       "    <tr>\n",
       "      <th>0</th>\n",
       "      <td>NaN</td>\n",
       "      <td>Q7L273</td>\n",
       "      <td>KCTD9_HUMAN</td>\n",
       "      <td>NaN</td>\n",
       "      <td>BTB/POZ domain-containing protein K...</td>\n",
       "      <td>KCTD9</td>\n",
       "      <td>Homo sapiens (Human)</td>\n",
       "      <td>389</td>\n",
       "      <td>NaN</td>\n",
       "    </tr>\n",
       "    <tr>\n",
       "      <th>1</th>\n",
       "      <td>NaN</td>\n",
       "      <td>Q8N5Z5</td>\n",
       "      <td>KCD17_HUMAN</td>\n",
       "      <td>NaN</td>\n",
       "      <td>BTB/POZ domain-containing protein K...</td>\n",
       "      <td>KCTD17</td>\n",
       "      <td>Homo sapiens (Human)</td>\n",
       "      <td>321</td>\n",
       "      <td>NaN</td>\n",
       "    </tr>\n",
       "    <tr>\n",
       "      <th>2</th>\n",
       "      <td>NaN</td>\n",
       "      <td>Q96MP8</td>\n",
       "      <td>KCTD7_HUMAN</td>\n",
       "      <td>NaN</td>\n",
       "      <td>BTB/POZ domain-containing protein K...</td>\n",
       "      <td>KCTD7</td>\n",
       "      <td>Homo sapiens (Human)</td>\n",
       "      <td>289</td>\n",
       "      <td>NaN</td>\n",
       "    </tr>\n",
       "    <tr>\n",
       "      <th>3</th>\n",
       "      <td>NaN</td>\n",
       "      <td>Q8NC69</td>\n",
       "      <td>KCTD6_HUMAN</td>\n",
       "      <td>NaN</td>\n",
       "      <td>BTB/POZ domain-containing protein K...</td>\n",
       "      <td>KCTD6</td>\n",
       "      <td>Homo sapiens (Human)</td>\n",
       "      <td>237</td>\n",
       "      <td>NaN</td>\n",
       "    </tr>\n",
       "    <tr>\n",
       "      <th>4</th>\n",
       "      <td>NaN</td>\n",
       "      <td>Q8WZ19</td>\n",
       "      <td>BACD1_HUMAN</td>\n",
       "      <td>NaN</td>\n",
       "      <td>BTB/POZ domain-containing adapter f...</td>\n",
       "      <td>KCTD13 BACURD1, PDIP1, POLDIP1, FKSG86, PP6832</td>\n",
       "      <td>Homo sapiens (Human)</td>\n",
       "      <td>329</td>\n",
       "      <td>NaN</td>\n",
       "    </tr>\n",
       "  </tbody>\n",
       "</table>\n",
       "</div>"
      ],
      "text/plain": [
       "   Unnamed: 0   Entry   Entry name  Unnamed: 3  \\\n",
       "0         NaN  Q7L273  KCTD9_HUMAN         NaN   \n",
       "1         NaN  Q8N5Z5  KCD17_HUMAN         NaN   \n",
       "2         NaN  Q96MP8  KCTD7_HUMAN         NaN   \n",
       "3         NaN  Q8NC69  KCTD6_HUMAN         NaN   \n",
       "4         NaN  Q8WZ19  BACD1_HUMAN         NaN   \n",
       "\n",
       "                            Protein names  \\\n",
       "0  BTB/POZ domain-containing protein K...   \n",
       "1  BTB/POZ domain-containing protein K...   \n",
       "2  BTB/POZ domain-containing protein K...   \n",
       "3  BTB/POZ domain-containing protein K...   \n",
       "4  BTB/POZ domain-containing adapter f...   \n",
       "\n",
       "                                       Gene names              Organism  \\\n",
       "0                                           KCTD9  Homo sapiens (Human)   \n",
       "1                                          KCTD17  Homo sapiens (Human)   \n",
       "2                                           KCTD7  Homo sapiens (Human)   \n",
       "3                                           KCTD6  Homo sapiens (Human)   \n",
       "4  KCTD13 BACURD1, PDIP1, POLDIP1, FKSG86, PP6832  Homo sapiens (Human)   \n",
       "\n",
       "   Length   e  \n",
       "0     389 NaN  \n",
       "1     321 NaN  \n",
       "2     289 NaN  \n",
       "3     237 NaN  \n",
       "4     329 NaN  "
      ]
     },
     "execution_count": 85,
     "metadata": {},
     "output_type": "execute_result"
    }
   ],
   "source": [
    "human = list[list['Organism'] == 'Homo sapiens (Human)']\n",
    "human.head()"
   ]
  },
  {
   "cell_type": "code",
   "execution_count": 63,
   "id": "going-duplicate",
   "metadata": {},
   "outputs": [
    {
     "name": "stdin",
     "output_type": "stream",
     "text": [
      "rowID?  1\n"
     ]
    },
    {
     "name": "stdout",
     "output_type": "stream",
     "text": [
      "ID: Q8N5Z5\n",
      "Name: KCD17_HUMAN\n",
      "Description: BTB/POZ domain-containing protein KCTD17\n",
      "Database cross-references: Antibodypedia:11878, Bgee:ENSG00000100379, BioGRID-ORCS:79734, BioGRID:122848, BioMuta:KCTD17, CCDS:CCDS13940.2, CCDS:CCDS74854.1, CTD:79734, DMDM:205371782, DNASU:79734, DOI:10.1016/j.ajhg.2015.04.008, DOI:10.1038/990031, DOI:10.1038/ncomms6081, DOI:10.1038/ng1285, DOI:10.1042/bcj20170527, DOI:10.1101/gr.2596504, DisGeNET:79734, EMBL:AK022304, EMBL:AL022314, EMBL:BC025403, EMBL:BC031038, EMBL:CH471095, EPD:Q8N5Z5, Ensembl:ENST00000402077, Ensembl:ENST00000403888, ExpressionAtlas:Q8N5Z5, GO:GO:0005737, GO:GO:0005783, GO:GO:0030030, GO:GO:0031463, GO:GO:0032469, GO:GO:0042802, GO:GO:0043161, GO:GO:0045724, GO:GO:0051260, GO:GO:0097602, Gene3D:3.30.710.10, GeneCards:KCTD17, GeneID:79734, GeneTree:ENSGT00940000161746, Genevisible:Q8N5Z5, GenomeRNAi:79734, HGNC:HGNC:25705, HOGENOM:CLU_070830_2_0_1, HPA:ENSG00000100379, InParanoid:Q8N5Z5, IntAct:Q8N5Z5, InterPro:IPR000210, InterPro:IPR003131, InterPro:IPR011333, KEGG:hsa:79734, MIM:616386, MIM:616398, MINT:Q8N5Z5, MalaCards:KCTD17, MassIVE:Q8N5Z5, MaxQB:Q8N5Z5, NCBI Taxonomy:9606, OMA:HACCYKP, OpenTargets:ENSG00000100379, Orphanet:36899, OrthoDB:1333587at2759, PDB:5A6R, PDBsum:5A6R, PRIDE:Q8N5Z5, PRO:PR:Q8N5Z5, PathwayCommons:Q8N5Z5, PeptideAtlas:Q8N5Z5, Pfam:PF02214, PharmGKB:PA142671638, Pharos:Q8N5Z5, PhosphoSitePlus:Q8N5Z5, PhylomeDB:Q8N5Z5, Proteomes:UP000005640, ProteomicsDB:72116, ProteomicsDB:72117, PubMed:10591208, PubMed:14702039, PubMed:15489334, PubMed:25270598, PubMed:25983243, PubMed:28963344, RNAct:Q8N5Z5, RefSeq:NP_001269613.1, RefSeq:NP_001269614.1, RefSeq:NP_001269615.1, RefSeq:NP_078957.2, SMART:SM00225, SMR:Q8N5Z5, STRING:9606.ENSP00000385096, SUPFAM:SSF54695, Swiss-Prot:B0QYA9, Swiss-Prot:B0QYB0, Swiss-Prot:KCD17_HUMAN, Swiss-Prot:O95517, Swiss-Prot:Q8N5Z5, TreeFam:TF313754, UCSC:uc010gxb.5, VEuPathDB:HostDB:ENSG00000100379.17, eggNOG:KOG2715, iPTMnet:Q8N5Z5, jPOST:Q8N5Z5, neXtProt:NX_Q8N5Z5\n",
      "Number of features: 21\n",
      "/dataset=Swiss-Prot\n",
      "/created=2006-07-25\n",
      "/modified=2021-06-02\n",
      "/version=142\n",
      "/accessions=['Q8N5Z5', 'B0QYA9', 'B0QYB0', 'O95517']\n",
      "/recommendedName_fullName=['BTB/POZ domain-containing protein KCTD17']\n",
      "/gene_name_primary=KCTD17\n",
      "/taxonomy=['Eukaryota', 'Metazoa', 'Chordata', 'Craniata', 'Vertebrata', 'Euteleostomi', 'Mammalia', 'Eutheria', 'Euarchontoglires', 'Primates', 'Haplorrhini', 'Catarrhini', 'Hominidae', 'Homo']\n",
      "/organism=Homo sapiens (Human)\n",
      "/references=[Reference(title='The DNA sequence of human chromosome 22.', ...), Reference(title='', ...), Reference(title='The status, quality, and expansion of the NIH full-length cDNA project: the Mammalian Gene Collection (MGC).', ...), Reference(title='Complete sequencing and characterization of 21,243 full-length human cDNAs.', ...), Reference(title='Ubiquitin-proteasome system controls ciliogenesis at the initial step of axoneme extension.', ...), Reference(title='A missense mutation in KCTD17 causes autosomal dominant myoclonus-dystonia.', ...), Reference(title='Structural complexity in the KCTD family of Cullin3-dependent E3 ubiquitin ligases.', ...)]\n",
      "/comment_function=['Is a positive regulator of ciliogenesis, playing a crucial role in the initial steps of axoneme extension. It acts as a substrate-adapter for CUL3-RING ubiquitin ligase complexes which mediate the ubiquitination and subsequent proteasomal degradation of TCHP, a protein involved in ciliogenesis down-regulation (PubMed:25270598). May be involved in endoplasmic reticulum calcium ion homeostasis (PubMed:25983243).']\n",
      "/comment_subunit=['Homopentamer; forms an closed pentamer (PubMed:28963344). Interacts with CUL3; interaction is direct and forms a 5:5 heterodecamer (PubMed:28963344). Interacts with TCHP (PubMed:25270598). Interacts with CUL3, as part of the BCR(KCTD17) E3 ubiquitin ligase complex, at least composed of CUL3, KCTD17 and RBX1 (PubMed:25270598).']\n",
      "/comment_interaction_intactId=['EBI-743960', 'EBI-25830928', 'EBI-21535880', 'EBI-718729', 'EBI-25837549', 'EBI-16041593', 'EBI-446479', 'EBI-930865', 'EBI-10976677', 'EBI-2513774', 'EBI-348399', 'EBI-10226858', 'EBI-9641086', 'EBI-351506', 'EBI-473886', 'EBI-356991', 'EBI-517086', 'EBI-466029', 'EBI-399080', 'EBI-21591415', 'EBI-8070286', 'EBI-11742507', 'EBI-473196', 'EBI-713635', 'EBI-12141505', 'EBI-602382', 'EBI-25882629', 'EBI-25884072', 'EBI-359252', 'EBI-5280197', 'EBI-752074', 'EBI-413628', 'EBI-286642', 'EBI-9090795', 'EBI-2623095', 'EBI-5235340', 'EBI-749295', 'EBI-723127', 'EBI-372899', 'EBI-717399', 'EBI-741480', 'EBI-1052596', 'EBI-359832', 'EBI-25872486', 'EBI-10189368']\n",
      "/comment_subcellularlocation_location=['Cytoplasm']\n",
      "/comment_alternativeproducts_isoform=['Q8N5Z5-1', 'Q8N5Z5-2']\n",
      "/comment_tissuespecificity=['Highly expressed in brain. Highest expression is observed in the putamen and the thalamus.']\n",
      "/comment_disease=['The disease is caused by variants affecting the gene represented in this entry.']\n",
      "/proteinExistence=['evidence at protein level']\n",
      "/keywords=['3D-structure', 'Alternative splicing', 'Cilium biogenesis/degradation', 'Coiled coil', 'Cytoplasm', 'Disease variant', 'Dystonia', 'Reference proteome', 'Ubl conjugation pathway']\n",
      "/key=['1', '2', '3', '4', '5', '6', '7', '8', '9', '10']\n",
      "/type=['ECO:0000255', 'ECO:0000256', 'ECO:0000269', 'ECO:0000303', 'ECO:0000305', 'ECO:0007829']\n",
      "/sequence_length=321\n",
      "/sequence_mass=35670\n",
      "/sequence_checksum=DB80D4B4BD8CB7E7\n",
      "/sequence_modified=2008-09-02\n",
      "/sequence_version=3\n",
      "/molecule_type=protein\n",
      "Seq('MQTPRPAMRMEAGEAAPPAGAGGRAAGGWGKWVRLNVGGTVFLTTRQTLCREQK...VPI')\n"
     ]
    }
   ],
   "source": [
    "rowID = input('rowID? ')\n",
    "KCTD17 = list['Entry'][int(rowID)]\n",
    "handle = urlopen(\"http://www.uniprot.org/uniprot/{}.xml\".format(KCTD17))\n",
    "record = SeqIO.read(handle, \"uniprot-xml\")\n",
    "print(record)"
   ]
  },
  {
   "cell_type": "code",
   "execution_count": null,
   "id": "dominant-pottery",
   "metadata": {},
   "outputs": [],
   "source": []
  }
 ],
 "metadata": {
  "kernelspec": {
   "display_name": "Python 3",
   "language": "python",
   "name": "python3"
  },
  "language_info": {
   "codemirror_mode": {
    "name": "ipython",
    "version": 3
   },
   "file_extension": ".py",
   "mimetype": "text/x-python",
   "name": "python",
   "nbconvert_exporter": "python",
   "pygments_lexer": "ipython3",
   "version": "3.7.9"
  }
 },
 "nbformat": 4,
 "nbformat_minor": 5
}
