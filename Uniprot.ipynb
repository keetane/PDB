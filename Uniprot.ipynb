{
 "cells": [
  {
   "cell_type": "code",
   "execution_count": 1,
   "id": "subtle-danish",
   "metadata": {},
   "outputs": [
    {
     "ename": "ModuleNotFoundError",
     "evalue": "No module named 'Bio'",
     "output_type": "error",
     "traceback": [
      "\u001b[0;31m---------------------------------------------------------------------------\u001b[0m",
      "\u001b[0;31mModuleNotFoundError\u001b[0m                       Traceback (most recent call last)",
      "Cell \u001b[0;32mIn [1], line 3\u001b[0m\n\u001b[1;32m      1\u001b[0m \u001b[38;5;66;03m# ライブラリのimport\u001b[39;00m\n\u001b[1;32m      2\u001b[0m \u001b[38;5;28;01mimport\u001b[39;00m \u001b[38;5;21;01mpandas\u001b[39;00m \u001b[38;5;28;01mas\u001b[39;00m \u001b[38;5;21;01mpd\u001b[39;00m\n\u001b[0;32m----> 3\u001b[0m \u001b[38;5;28;01mfrom\u001b[39;00m \u001b[38;5;21;01mBio\u001b[39;00m \u001b[38;5;28;01mimport\u001b[39;00m SeqIO\n\u001b[1;32m      4\u001b[0m \u001b[38;5;28;01mfrom\u001b[39;00m \u001b[38;5;21;01mBio\u001b[39;00m\u001b[38;5;21;01m.\u001b[39;00m\u001b[38;5;21;01mPDB\u001b[39;00m \u001b[38;5;28;01mimport\u001b[39;00m PDBList \u001b[38;5;28;01mas\u001b[39;00m pdbl\n\u001b[1;32m      5\u001b[0m \u001b[38;5;28;01mfrom\u001b[39;00m \u001b[38;5;21;01murllib\u001b[39;00m\u001b[38;5;21;01m.\u001b[39;00m\u001b[38;5;21;01mrequest\u001b[39;00m \u001b[38;5;28;01mimport\u001b[39;00m urlopen\n",
      "\u001b[0;31mModuleNotFoundError\u001b[0m: No module named 'Bio'"
     ]
    }
   ],
   "source": [
    "# ライブラリのimport\n",
    "import pandas as pd\n",
    "from Bio import SeqIO\n",
    "from Bio.PDB import PDBList as pdbl\n",
    "from urllib.request import urlopen"
   ]
  },
  {
   "cell_type": "code",
   "execution_count": 2,
   "id": "c78db331-3399-46bb-a6f4-d7dc676732c0",
   "metadata": {},
   "outputs": [
    {
     "ename": "ModuleNotFoundError",
     "evalue": "No module named 'BIO'",
     "output_type": "error",
     "traceback": [
      "\u001b[0;31m---------------------------------------------------------------------------\u001b[0m",
      "\u001b[0;31mModuleNotFoundError\u001b[0m                       Traceback (most recent call last)",
      "Cell \u001b[0;32mIn [2], line 1\u001b[0m\n\u001b[0;32m----> 1\u001b[0m \u001b[38;5;28;01mimport\u001b[39;00m \u001b[38;5;21;01mBIO\u001b[39;00m \u001b[38;5;28;01mas\u001b[39;00m \u001b[38;5;21;01mbio\u001b[39;00m\n",
      "\u001b[0;31mModuleNotFoundError\u001b[0m: No module named 'BIO'"
     ]
    }
   ],
   "source": [
    "import BIO as bio"
   ]
  },
  {
   "cell_type": "code",
   "execution_count": 2,
   "id": "promising-owner",
   "metadata": {},
   "outputs": [],
   "source": [
    "# 調べたいタンパクのUniprotKB accession numberのリスト(一つでもOK)\n",
    "keys = [\n",
    "    'O00429', \n",
    "]"
   ]
  },
  {
   "cell_type": "code",
   "execution_count": 4,
   "id": "objective-shakespeare",
   "metadata": {},
   "outputs": [],
   "source": [
    "# 空のDataFrameを作成\n",
    "summary = pd.DataFrame(index = keys, \n",
    "                       columns = ['name', \n",
    "                                  'description', \n",
    "                                  'pathway', \n",
    "                                  'tissue', \n",
    "                                  'subcellularlocation', \n",
    "                                  'function', \n",
    "                                  'PDB count', \n",
    "                                  'PDB'])"
   ]
  },
  {
   "cell_type": "code",
   "execution_count": 6,
   "id": "special-entertainment",
   "metadata": {},
   "outputs": [
    {
     "data": {
      "text/html": [
       "<div>\n",
       "<style scoped>\n",
       "    .dataframe tbody tr th:only-of-type {\n",
       "        vertical-align: middle;\n",
       "    }\n",
       "\n",
       "    .dataframe tbody tr th {\n",
       "        vertical-align: top;\n",
       "    }\n",
       "\n",
       "    .dataframe thead th {\n",
       "        text-align: right;\n",
       "    }\n",
       "</style>\n",
       "<table border=\"1\" class=\"dataframe\">\n",
       "  <thead>\n",
       "    <tr style=\"text-align: right;\">\n",
       "      <th></th>\n",
       "      <th>O00429</th>\n",
       "    </tr>\n",
       "  </thead>\n",
       "  <tbody>\n",
       "    <tr>\n",
       "      <th>name</th>\n",
       "      <td>DNM1L_HUMAN</td>\n",
       "    </tr>\n",
       "    <tr>\n",
       "      <th>description</th>\n",
       "      <td>Dynamin-1-like protein</td>\n",
       "    </tr>\n",
       "    <tr>\n",
       "      <th>pathway</th>\n",
       "      <td>NaN</td>\n",
       "    </tr>\n",
       "    <tr>\n",
       "      <th>tissue</th>\n",
       "      <td>Ubiquitously expressed with highest levels fou...</td>\n",
       "    </tr>\n",
       "    <tr>\n",
       "      <th>subcellularlocation</th>\n",
       "      <td>Cytoplasm, Cytosol, Golgi apparatus, Endomembr...</td>\n",
       "    </tr>\n",
       "    <tr>\n",
       "      <th>function</th>\n",
       "      <td>Functions in mitochondrial and peroxisomal div...</td>\n",
       "    </tr>\n",
       "    <tr>\n",
       "      <th>PDB count</th>\n",
       "      <td>7</td>\n",
       "    </tr>\n",
       "    <tr>\n",
       "      <th>PDB</th>\n",
       "      <td>3W6N, 3W6O, 3W6P, 4BEJ, 4H1U, 4H1V, 5WP9</td>\n",
       "    </tr>\n",
       "  </tbody>\n",
       "</table>\n",
       "</div>"
      ],
      "text/plain": [
       "                                                                O00429\n",
       "name                                                       DNM1L_HUMAN\n",
       "description                                     Dynamin-1-like protein\n",
       "pathway                                                            NaN\n",
       "tissue               Ubiquitously expressed with highest levels fou...\n",
       "subcellularlocation  Cytoplasm, Cytosol, Golgi apparatus, Endomembr...\n",
       "function             Functions in mitochondrial and peroxisomal div...\n",
       "PDB count                                                            7\n",
       "PDB                           3W6N, 3W6O, 3W6P, 4BEJ, 4H1U, 4H1V, 5WP9"
      ]
     },
     "execution_count": 6,
     "metadata": {},
     "output_type": "execute_result"
    }
   ],
   "source": [
    "# Uniprotにアクセスしてtableを作成\n",
    "for keyword in keys:\n",
    "    handle = urlopen(\"http://www.uniprot.org/uniprot/\" + keyword + \".xml\")\n",
    "    record = SeqIO.read(handle, \"uniprot-xml\")\n",
    "    dbx = record.dbxrefs\n",
    "    dfIO = pd.DataFrame(dbx)\n",
    "    df = dfIO[0].str.split(':', expand=True)\n",
    "    df.columns = ['name', 'id', 'and']\n",
    "    dfPDB = df[df['name']=='PDB']\n",
    "    PDBs = list(dfPDB['id'])\n",
    "    summary['name'][keyword] = record.name\n",
    "    summary['description'][keyword] = record.description\n",
    "#     summary['pathway'][keyword] = ''.join(record.annotations['comment_pathway'])\n",
    "    summary['tissue'][keyword] = ''.join(record.annotations['comment_tissuespecificity'])\n",
    "    summary['subcellularlocation'][keyword] = ', '.join(record.annotations['comment_subcellularlocation_location'])\n",
    "    summary['function'][keyword] = ''.join(record.annotations['comment_function'])\n",
    "    summary['PDB count'][keyword] = str(len(PDBs))\n",
    "    summary['PDB'][keyword] = ', '.join(PDBs)\n",
    "summary.T"
   ]
  },
  {
   "cell_type": "code",
   "execution_count": 17,
   "id": "transsexual-affair",
   "metadata": {},
   "outputs": [
    {
     "name": "stderr",
     "output_type": "stream",
     "text": [
      "WARNING: The default download format has changed from PDB to PDBx/mmCif\n"
     ]
    },
    {
     "name": "stdout",
     "output_type": "stream",
     "text": [
      "Downloading PDB structure '3W6N'...\n"
     ]
    },
    {
     "name": "stderr",
     "output_type": "stream",
     "text": [
      "WARNING: The default download format has changed from PDB to PDBx/mmCif\n"
     ]
    },
    {
     "name": "stdout",
     "output_type": "stream",
     "text": [
      "Downloading PDB structure '3W6O'...\n"
     ]
    },
    {
     "name": "stderr",
     "output_type": "stream",
     "text": [
      "WARNING: The default download format has changed from PDB to PDBx/mmCif\n"
     ]
    },
    {
     "name": "stdout",
     "output_type": "stream",
     "text": [
      "Downloading PDB structure '3W6P'...\n"
     ]
    },
    {
     "name": "stderr",
     "output_type": "stream",
     "text": [
      "WARNING: The default download format has changed from PDB to PDBx/mmCif\n"
     ]
    },
    {
     "name": "stdout",
     "output_type": "stream",
     "text": [
      "Downloading PDB structure '4BEJ'...\n"
     ]
    },
    {
     "name": "stderr",
     "output_type": "stream",
     "text": [
      "WARNING: The default download format has changed from PDB to PDBx/mmCif\n"
     ]
    },
    {
     "name": "stdout",
     "output_type": "stream",
     "text": [
      "Downloading PDB structure '4H1U'...\n"
     ]
    },
    {
     "name": "stderr",
     "output_type": "stream",
     "text": [
      "WARNING: The default download format has changed from PDB to PDBx/mmCif\n"
     ]
    },
    {
     "name": "stdout",
     "output_type": "stream",
     "text": [
      "Downloading PDB structure '4H1V'...\n"
     ]
    },
    {
     "name": "stderr",
     "output_type": "stream",
     "text": [
      "WARNING: The default download format has changed from PDB to PDBx/mmCif\n"
     ]
    },
    {
     "name": "stdout",
     "output_type": "stream",
     "text": [
      "Downloading PDB structure '5WP9'...\n",
      "fertig\n"
     ]
    }
   ],
   "source": [
    "# PDBをDL\n",
    "for pdb_id in PDBs:\n",
    "        pdbl().retrieve_pdb_file(pdb_id, pdir=record.description)\n",
    "print('fertig')"
   ]
  },
  {
   "cell_type": "code",
   "execution_count": null,
   "id": "linear-chamber",
   "metadata": {},
   "outputs": [],
   "source": []
  }
 ],
 "metadata": {
  "kernelspec": {
   "display_name": "Python 3 (ipykernel)",
   "language": "python",
   "name": "python3"
  },
  "language_info": {
   "codemirror_mode": {
    "name": "ipython",
    "version": 3
   },
   "file_extension": ".py",
   "mimetype": "text/x-python",
   "name": "python",
   "nbconvert_exporter": "python",
   "pygments_lexer": "ipython3",
   "version": "3.9.13"
  }
 },
 "nbformat": 4,
 "nbformat_minor": 5
}
