{
 "cells": [
  {
   "cell_type": "code",
   "execution_count": 129,
   "metadata": {},
   "outputs": [],
   "source": [
    "# import libraries\n",
    "from rdkit import Chem\n",
    "from rdkit.Chem import Draw, rdDepictor, AllChem, Descriptors, PandasTools, MolStandardize\n",
    "# 環状化合物をきれいに描画 https://future-chem.com/rdkit-coordgen/\n",
    "rdDepictor.SetPreferCoordGen(True)\n",
    "import pandas as pd\n",
    "import pubchempy as pcp"
   ]
  },
  {
   "cell_type": "markdown",
   "metadata": {},
   "source": [
    "SDFファイルを読み込み"
   ]
  },
  {
   "cell_type": "code",
   "execution_count": 63,
   "metadata": {},
   "outputs": [
    {
     "data": {
      "text/html": [
       "<div>\n",
       "<style scoped>\n",
       "    .dataframe tbody tr th:only-of-type {\n",
       "        vertical-align: middle;\n",
       "    }\n",
       "\n",
       "    .dataframe tbody tr th {\n",
       "        vertical-align: top;\n",
       "    }\n",
       "\n",
       "    .dataframe thead th {\n",
       "        text-align: right;\n",
       "    }\n",
       "</style>\n",
       "<table border=\"1\" class=\"dataframe\">\n",
       "  <thead>\n",
       "    <tr style=\"text-align: right;\">\n",
       "      <th></th>\n",
       "      <th>ID</th>\n",
       "      <th>ROMol</th>\n",
       "      <th>FASTA</th>\n",
       "    </tr>\n",
       "  </thead>\n",
       "  <tbody>\n",
       "    <tr>\n",
       "      <th>0</th>\n",
       "      <td></td>\n",
       "      <td style=\"text-align: center;\"><div style=\"width: 200px; height: 200px\" data-content=\"rdkit/molecule\"><img src=\"data:image/png;base64,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\" alt=\"Mol\"/></div></td>\n",
       "      <td>WASTA</td>\n",
       "    </tr>\n",
       "    <tr>\n",
       "      <th>1</th>\n",
       "      <td></td>\n",
       "      <td style=\"text-align: center;\"><div style=\"width: 200px; height: 200px\" data-content=\"rdkit/molecule\"><img src=\"data:image/png;base64,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\" alt=\"Mol\"/></div></td>\n",
       "      <td>wasta</td>\n",
       "    </tr>\n",
       "  </tbody>\n",
       "</table>\n",
       "</div>"
      ],
      "text/plain": [
       "  ID                                          ROMol  FASTA\n",
       "0     <rdkit.Chem.rdchem.Mol object at 0x14e4cef80>  WASTA\n",
       "1     <rdkit.Chem.rdchem.Mol object at 0x14e4ceea0>  wasta"
      ]
     },
     "execution_count": 63,
     "metadata": {},
     "output_type": "execute_result"
    }
   ],
   "source": [
    "df = PandasTools.LoadSDF('../streamlit/WASTA_dl.sdf')\n",
    "df['FASTA'] = ['WASTA', 'wasta']\n",
    "df"
   ]
  },
  {
   "cell_type": "markdown",
   "metadata": {},
   "source": [
    "Descriptorsのリストを作成、検索"
   ]
  },
  {
   "cell_type": "code",
   "execution_count": 31,
   "metadata": {},
   "outputs": [
    {
     "name": "stdout",
     "output_type": "stream",
     "text": [
      "rb\n"
     ]
    },
    {
     "data": {
      "text/html": [
       "<div>\n",
       "<style scoped>\n",
       "    .dataframe tbody tr th:only-of-type {\n",
       "        vertical-align: middle;\n",
       "    }\n",
       "\n",
       "    .dataframe tbody tr th {\n",
       "        vertical-align: top;\n",
       "    }\n",
       "\n",
       "    .dataframe thead th {\n",
       "        text-align: right;\n",
       "    }\n",
       "</style>\n",
       "<table border=\"1\" class=\"dataframe\">\n",
       "  <thead>\n",
       "    <tr style=\"text-align: right;\">\n",
       "      <th></th>\n",
       "      <th>0</th>\n",
       "      <th>1</th>\n",
       "    </tr>\n",
       "  </thead>\n",
       "  <tbody>\n",
       "    <tr>\n",
       "      <th>108</th>\n",
       "      <td>NumAliphaticCarbocycles</td>\n",
       "      <td>&lt;function &lt;lambda&gt; at 0x13f49bc70&gt;</td>\n",
       "    </tr>\n",
       "    <tr>\n",
       "      <th>111</th>\n",
       "      <td>NumAromaticCarbocycles</td>\n",
       "      <td>&lt;function &lt;lambda&gt; at 0x13f49b9a0&gt;</td>\n",
       "    </tr>\n",
       "    <tr>\n",
       "      <th>118</th>\n",
       "      <td>NumSaturatedCarbocycles</td>\n",
       "      <td>&lt;function &lt;lambda&gt; at 0x13f49bac0&gt;</td>\n",
       "    </tr>\n",
       "    <tr>\n",
       "      <th>148</th>\n",
       "      <td>fr_alkyl_carbamate</td>\n",
       "      <td>&lt;function _LoadPatterns.&lt;locals&gt;.&lt;lambda&gt; at 0...</td>\n",
       "    </tr>\n",
       "    <tr>\n",
       "      <th>157</th>\n",
       "      <td>fr_barbitur</td>\n",
       "      <td>&lt;function _LoadPatterns.&lt;locals&gt;.&lt;lambda&gt; at 0...</td>\n",
       "    </tr>\n",
       "  </tbody>\n",
       "</table>\n",
       "</div>"
      ],
      "text/plain": [
       "                           0  \\\n",
       "108  NumAliphaticCarbocycles   \n",
       "111   NumAromaticCarbocycles   \n",
       "118  NumSaturatedCarbocycles   \n",
       "148       fr_alkyl_carbamate   \n",
       "157              fr_barbitur   \n",
       "\n",
       "                                                     1  \n",
       "108                 <function <lambda> at 0x13f49bc70>  \n",
       "111                 <function <lambda> at 0x13f49b9a0>  \n",
       "118                 <function <lambda> at 0x13f49bac0>  \n",
       "148  <function _LoadPatterns.<locals>.<lambda> at 0...  \n",
       "157  <function _LoadPatterns.<locals>.<lambda> at 0...  "
      ]
     },
     "execution_count": 31,
     "metadata": {},
     "output_type": "execute_result"
    }
   ],
   "source": [
    "DesList = pd.DataFrame(Descriptors.descList)\n",
    "keyword = input('search')\n",
    "print('search keyword is ' + keyword)\n",
    "DesList[DesList[0].str.contains(keyword)]"
   ]
  },
  {
   "cell_type": "markdown",
   "metadata": {},
   "source": [
    "MolファイルからDescriptorを生成"
   ]
  },
  {
   "cell_type": "code",
   "execution_count": 64,
   "metadata": {},
   "outputs": [
    {
     "data": {
      "text/html": [
       "<div>\n",
       "<style scoped>\n",
       "    .dataframe tbody tr th:only-of-type {\n",
       "        vertical-align: middle;\n",
       "    }\n",
       "\n",
       "    .dataframe tbody tr th {\n",
       "        vertical-align: top;\n",
       "    }\n",
       "\n",
       "    .dataframe thead th {\n",
       "        text-align: right;\n",
       "    }\n",
       "</style>\n",
       "<table border=\"1\" class=\"dataframe\">\n",
       "  <thead>\n",
       "    <tr style=\"text-align: right;\">\n",
       "      <th></th>\n",
       "      <th>ID</th>\n",
       "      <th>ROMol</th>\n",
       "      <th>FASTA</th>\n",
       "      <th>MW</th>\n",
       "      <th>MolLogP</th>\n",
       "      <th>TPSA</th>\n",
       "      <th>HBD</th>\n",
       "      <th>HBA</th>\n",
       "      <th>No.RB</th>\n",
       "      <th>rings</th>\n",
       "    </tr>\n",
       "  </thead>\n",
       "  <tbody>\n",
       "    <tr>\n",
       "      <th>0</th>\n",
       "      <td></td>\n",
       "      <td style=\"text-align: center;\"><div style=\"width: 200px; height: 200px\" data-content=\"rdkit/molecule\"><img src=\"data:image/png;base64,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\" alt=\"Mol\"/></div></td>\n",
       "      <td>WASTA</td>\n",
       "      <td>516.555</td>\n",
       "      <td>-2.4391</td>\n",
       "      <td>201.75</td>\n",
       "      <td>8</td>\n",
       "      <td>7</td>\n",
       "      <td>4</td>\n",
       "      <td>3</td>\n",
       "    </tr>\n",
       "    <tr>\n",
       "      <th>1</th>\n",
       "      <td></td>\n",
       "      <td style=\"text-align: center;\"><div style=\"width: 200px; height: 200px\" data-content=\"rdkit/molecule\"><img src=\"data:image/png;base64,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\" alt=\"Mol\"/></div></td>\n",
       "      <td>wasta</td>\n",
       "      <td>516.555</td>\n",
       "      <td>-2.4391</td>\n",
       "      <td>201.75</td>\n",
       "      <td>8</td>\n",
       "      <td>7</td>\n",
       "      <td>4</td>\n",
       "      <td>3</td>\n",
       "    </tr>\n",
       "  </tbody>\n",
       "</table>\n",
       "</div>"
      ],
      "text/plain": [
       "  ID                                          ROMol  FASTA       MW  MolLogP  \\\n",
       "0     <rdkit.Chem.rdchem.Mol object at 0x14e4cef80>  WASTA  516.555  -2.4391   \n",
       "1     <rdkit.Chem.rdchem.Mol object at 0x14e4ceea0>  wasta  516.555  -2.4391   \n",
       "\n",
       "     TPSA  HBD  HBA  No.RB  rings  \n",
       "0  201.75    8    7      4      3  \n",
       "1  201.75    8    7      4      3  "
      ]
     },
     "execution_count": 64,
     "metadata": {},
     "output_type": "execute_result"
    }
   ],
   "source": [
    "df['MW'] = df.ROMol.map(Descriptors.MolWt)\n",
    "df['MolLogP'] = df.ROMol.map(Descriptors.MolLogP)\n",
    "df['TPSA'] = df.ROMol.map(Descriptors.TPSA)\n",
    "df['HBD'] = df.ROMol.map(Descriptors.NumHDonors)\n",
    "df['HBA'] = df.ROMol.map(Descriptors.NumHAcceptors)\n",
    "df['No.RB'] = df.ROMol.map(Descriptors.NumRotatableBonds)\n",
    "df['rings'] = df.ROMol.map(AllChem.CalcNumRings)\n",
    "df"
   ]
  },
  {
   "cell_type": "code",
   "execution_count": null,
   "metadata": {},
   "outputs": [],
   "source": []
  },
  {
   "cell_type": "code",
   "execution_count": null,
   "metadata": {},
   "outputs": [],
   "source": []
  },
  {
   "cell_type": "markdown",
   "metadata": {},
   "source": [
    "smilesのリスト"
   ]
  },
  {
   "cell_type": "code",
   "execution_count": 58,
   "metadata": {},
   "outputs": [],
   "source": [
    "smiles = [\n",
    "    'CCCC',\n",
    "    'C1=CC=CC=C1',\n",
    "    'CC1=CNC2=C1C=CC=C2',\n",
    "]"
   ]
  },
  {
   "cell_type": "markdown",
   "metadata": {},
   "source": [
    "spaceで分割してsmiles listを作成"
   ]
  },
  {
   "cell_type": "code",
   "execution_count": 107,
   "metadata": {},
   "outputs": [
    {
     "data": {
      "text/plain": [
       "['CCCC', 'C1=CC=CC=C1', 'CC1=CNC2=C1C=CC=C2']"
      ]
     },
     "execution_count": 107,
     "metadata": {},
     "output_type": "execute_result"
    }
   ],
   "source": [
    "smiles = [\n",
    "    'CCCC C1=CC=CC=C1 CC1=CNC2=C1C=CC=C2'\n",
    "]\n",
    "smiles = smiles[0].split(' ')\n",
    "smiles"
   ]
  },
  {
   "cell_type": "markdown",
   "metadata": {},
   "source": [
    "SMILESのリストからMOLファイルとDescriptorを生成"
   ]
  },
  {
   "cell_type": "code",
   "execution_count": 108,
   "metadata": {},
   "outputs": [
    {
     "data": {
      "image/svg+xml": [
       "<svg xmlns=\"http://www.w3.org/2000/svg\" xmlns:rdkit=\"http://www.rdkit.org/xml\" xmlns:xlink=\"http://www.w3.org/1999/xlink\" version=\"1.1\" baseProfile=\"full\" xml:space=\"preserve\" width=\"900px\" height=\"200px\" viewBox=\"0 0 900 200\">\n",
       "<!-- END OF HEADER -->\n",
       "<rect style=\"opacity:1.0;fill:#FFFFFF;stroke:none\" width=\"900.0\" height=\"200.0\" x=\"0.0\" y=\"0.0\"> </rect>\n",
       "<path class=\"bond-0 atom-0 atom-1\" d=\"M 215.4,77.5 L 171.8,102.6\" style=\"fill:none;fill-rule:evenodd;stroke:#000000;stroke-width:2.0px;stroke-linecap:butt;stroke-linejoin:miter;stroke-opacity:1\"/>\n",
       "<path class=\"bond-1 atom-1 atom-2\" d=\"M 171.8,102.6 L 128.2,77.4\" style=\"fill:none;fill-rule:evenodd;stroke:#000000;stroke-width:2.0px;stroke-linecap:butt;stroke-linejoin:miter;stroke-opacity:1\"/>\n",
       "<path class=\"bond-2 atom-2 atom-3\" d=\"M 128.2,77.4 L 84.6,102.5\" style=\"fill:none;fill-rule:evenodd;stroke:#000000;stroke-width:2.0px;stroke-linecap:butt;stroke-linejoin:miter;stroke-opacity:1\"/>\n",
       "<path d=\"M 174.0,101.4 L 171.8,102.6 L 169.6,101.4\" style=\"fill:none;stroke:#000000;stroke-width:2.0px;stroke-linecap:butt;stroke-linejoin:miter;stroke-opacity:1;\"/>\n",
       "<path d=\"M 130.4,78.6 L 128.2,77.4 L 126.0,78.6\" style=\"fill:none;stroke:#000000;stroke-width:2.0px;stroke-linecap:butt;stroke-linejoin:miter;stroke-opacity:1;\"/>\n",
       "<path class=\"legend\" d=\"M 130.3 189.2 Q 130.3 186.4, 131.6 184.9 Q 132.9 183.4, 135.4 183.4 Q 137.7 183.4, 139.0 185.0 L 137.9 185.9 Q 137.0 184.7, 135.4 184.7 Q 133.7 184.7, 132.8 185.9 Q 131.9 187.0, 131.9 189.2 Q 131.9 191.4, 132.8 192.6 Q 133.8 193.7, 135.6 193.7 Q 136.8 193.7, 138.3 193.0 L 138.7 194.2 Q 138.1 194.6, 137.2 194.8 Q 136.4 195.0, 135.4 195.0 Q 132.9 195.0, 131.6 193.5 Q 130.3 192.0, 130.3 189.2 \" fill=\"#000000\"/>\n",
       "<path class=\"legend\" d=\"M 140.5 189.2 Q 140.5 186.4, 141.8 184.9 Q 143.1 183.4, 145.7 183.4 Q 148.0 183.4, 149.2 185.0 L 148.2 185.9 Q 147.3 184.7, 145.7 184.7 Q 143.9 184.7, 143.0 185.9 Q 142.1 187.0, 142.1 189.2 Q 142.1 191.4, 143.1 192.6 Q 144.0 193.7, 145.8 193.7 Q 147.1 193.7, 148.5 193.0 L 149.0 194.2 Q 148.4 194.6, 147.5 194.8 Q 146.6 195.0, 145.6 195.0 Q 143.1 195.0, 141.8 193.5 Q 140.5 192.0, 140.5 189.2 \" fill=\"#000000\"/>\n",
       "<path class=\"legend\" d=\"M 150.8 189.2 Q 150.8 186.4, 152.1 184.9 Q 153.4 183.4, 155.9 183.4 Q 158.2 183.4, 159.5 185.0 L 158.4 185.9 Q 157.5 184.7, 155.9 184.7 Q 154.2 184.7, 153.3 185.9 Q 152.4 187.0, 152.4 189.2 Q 152.4 191.4, 153.3 192.6 Q 154.3 193.7, 156.1 193.7 Q 157.3 193.7, 158.8 193.0 L 159.2 194.2 Q 158.6 194.6, 157.7 194.8 Q 156.9 195.0, 155.9 195.0 Q 153.4 195.0, 152.1 193.5 Q 150.8 192.0, 150.8 189.2 \" fill=\"#000000\"/>\n",
       "<path class=\"legend\" d=\"M 161.0 189.2 Q 161.0 186.4, 162.3 184.9 Q 163.6 183.4, 166.2 183.4 Q 168.5 183.4, 169.7 185.0 L 168.7 185.9 Q 167.8 184.7, 166.2 184.7 Q 164.4 184.7, 163.5 185.9 Q 162.6 187.0, 162.6 189.2 Q 162.6 191.4, 163.6 192.6 Q 164.5 193.7, 166.3 193.7 Q 167.6 193.7, 169.0 193.0 L 169.5 194.2 Q 168.9 194.6, 168.0 194.8 Q 167.1 195.0, 166.1 195.0 Q 163.6 195.0, 162.3 193.5 Q 161.0 192.0, 161.0 189.2 \" fill=\"#000000\"/>\n",
       "<path class=\"bond-0 atom-0 atom-1\" d=\"M 406.4,115.2 L 406.4,64.8\" style=\"fill:none;fill-rule:evenodd;stroke:#000000;stroke-width:2.0px;stroke-linecap:butt;stroke-linejoin:miter;stroke-opacity:1\"/>\n",
       "<path class=\"bond-0 atom-0 atom-1\" d=\"M 413.9,110.8 L 413.9,69.1\" style=\"fill:none;fill-rule:evenodd;stroke:#000000;stroke-width:2.0px;stroke-linecap:butt;stroke-linejoin:miter;stroke-opacity:1\"/>\n",
       "<path class=\"bond-1 atom-1 atom-2\" d=\"M 406.4,64.8 L 450.0,39.6\" style=\"fill:none;fill-rule:evenodd;stroke:#000000;stroke-width:2.0px;stroke-linecap:butt;stroke-linejoin:miter;stroke-opacity:1\"/>\n",
       "<path class=\"bond-2 atom-2 atom-3\" d=\"M 450.0,39.6 L 493.6,64.8\" style=\"fill:none;fill-rule:evenodd;stroke:#000000;stroke-width:2.0px;stroke-linecap:butt;stroke-linejoin:miter;stroke-opacity:1\"/>\n",
       "<path class=\"bond-2 atom-2 atom-3\" d=\"M 450.0,48.3 L 486.1,69.2\" style=\"fill:none;fill-rule:evenodd;stroke:#000000;stroke-width:2.0px;stroke-linecap:butt;stroke-linejoin:miter;stroke-opacity:1\"/>\n",
       "<path class=\"bond-3 atom-3 atom-4\" d=\"M 493.6,64.8 L 493.6,115.2\" style=\"fill:none;fill-rule:evenodd;stroke:#000000;stroke-width:2.0px;stroke-linecap:butt;stroke-linejoin:miter;stroke-opacity:1\"/>\n",
       "<path class=\"bond-4 atom-4 atom-5\" d=\"M 493.6,115.2 L 450.0,140.4\" style=\"fill:none;fill-rule:evenodd;stroke:#000000;stroke-width:2.0px;stroke-linecap:butt;stroke-linejoin:miter;stroke-opacity:1\"/>\n",
       "<path class=\"bond-4 atom-4 atom-5\" d=\"M 486.1,110.9 L 450.0,131.7\" style=\"fill:none;fill-rule:evenodd;stroke:#000000;stroke-width:2.0px;stroke-linecap:butt;stroke-linejoin:miter;stroke-opacity:1\"/>\n",
       "<path class=\"bond-5 atom-5 atom-0\" d=\"M 450.0,140.4 L 406.4,115.2\" style=\"fill:none;fill-rule:evenodd;stroke:#000000;stroke-width:2.0px;stroke-linecap:butt;stroke-linejoin:miter;stroke-opacity:1\"/>\n",
       "<path d=\"M 406.4,112.6 L 406.4,115.2 L 408.5,116.4\" style=\"fill:none;stroke:#000000;stroke-width:2.0px;stroke-linecap:butt;stroke-linejoin:miter;stroke-opacity:1;\"/>\n",
       "<path d=\"M 406.4,67.3 L 406.4,64.8 L 408.6,63.5\" style=\"fill:none;stroke:#000000;stroke-width:2.0px;stroke-linecap:butt;stroke-linejoin:miter;stroke-opacity:1;\"/>\n",
       "<path d=\"M 447.9,40.9 L 450.0,39.6 L 452.2,40.9\" style=\"fill:none;stroke:#000000;stroke-width:2.0px;stroke-linecap:butt;stroke-linejoin:miter;stroke-opacity:1;\"/>\n",
       "<path d=\"M 491.5,63.6 L 493.6,64.8 L 493.6,67.4\" style=\"fill:none;stroke:#000000;stroke-width:2.0px;stroke-linecap:butt;stroke-linejoin:miter;stroke-opacity:1;\"/>\n",
       "<path d=\"M 493.6,112.7 L 493.6,115.2 L 491.4,116.5\" style=\"fill:none;stroke:#000000;stroke-width:2.0px;stroke-linecap:butt;stroke-linejoin:miter;stroke-opacity:1;\"/>\n",
       "<path d=\"M 452.1,139.1 L 450.0,140.4 L 447.8,139.1\" style=\"fill:none;stroke:#000000;stroke-width:2.0px;stroke-linecap:butt;stroke-linejoin:miter;stroke-opacity:1;\"/>\n",
       "<path class=\"legend\" d=\"M 418.9 190.8 Q 418.9 188.8, 419.9 187.7 Q 420.9 186.5, 422.9 186.5 Q 424.8 186.5, 425.7 187.9 L 424.7 188.6 Q 424.3 188.2, 423.9 188.0 Q 423.5 187.7, 422.9 187.7 Q 421.7 187.7, 421.1 188.5 Q 420.5 189.3, 420.5 190.8 Q 420.5 192.3, 421.1 193.1 Q 421.8 193.8, 423.0 193.8 Q 423.7 193.8, 424.1 193.7 Q 424.6 193.5, 425.2 193.3 L 425.6 194.3 Q 424.4 195.0, 422.9 195.0 Q 420.9 195.0, 419.9 193.9 Q 418.9 192.8, 418.9 190.8 \" fill=\"#000000\"/>\n",
       "<path class=\"legend\" d=\"M 427.4 193.6 L 429.9 193.6 L 429.9 185.2 L 427.2 186.0 L 426.8 185.1 L 430.3 183.5 L 431.4 183.7 L 431.4 193.6 L 433.6 193.6 L 433.6 194.9 L 427.4 194.9 L 427.4 193.6 \" fill=\"#000000\"/>\n",
       "<path class=\"legend\" d=\"M 435.0 190.8 Q 435.0 188.8, 436.0 187.7 Q 437.0 186.5, 438.9 186.5 Q 440.8 186.5, 441.8 187.9 L 440.8 188.6 Q 440.4 188.2, 439.9 188.0 Q 439.5 187.7, 438.9 187.7 Q 437.8 187.7, 437.1 188.5 Q 436.5 189.3, 436.5 190.8 Q 436.5 192.3, 437.2 193.1 Q 437.8 193.8, 439.0 193.8 Q 439.7 193.8, 440.1 193.7 Q 440.6 193.5, 441.2 193.3 L 441.6 194.3 Q 440.4 195.0, 438.9 195.0 Q 437.0 195.0, 436.0 193.9 Q 435.0 192.8, 435.0 190.8 \" fill=\"#000000\"/>\n",
       "<path class=\"legend\" d=\"M 442.8 190.8 Q 442.8 188.8, 443.8 187.7 Q 444.8 186.5, 446.8 186.5 Q 448.6 186.5, 449.6 187.9 L 448.6 188.6 Q 448.2 188.2, 447.8 188.0 Q 447.3 187.7, 446.8 187.7 Q 445.6 187.7, 445.0 188.5 Q 444.4 189.3, 444.4 190.8 Q 444.4 192.3, 445.0 193.1 Q 445.7 193.8, 446.9 193.8 Q 447.5 193.8, 448.0 193.7 Q 448.5 193.5, 449.0 193.3 L 449.5 194.3 Q 448.3 195.0, 446.7 195.0 Q 444.8 195.0, 443.8 193.9 Q 442.8 192.8, 442.8 190.8 \" fill=\"#000000\"/>\n",
       "<path class=\"legend\" d=\"M 450.7 190.8 Q 450.7 188.8, 451.7 187.7 Q 452.7 186.5, 454.6 186.5 Q 456.5 186.5, 457.5 187.9 L 456.5 188.6 Q 456.1 188.2, 455.6 188.0 Q 455.2 187.7, 454.6 187.7 Q 453.5 187.7, 452.8 188.5 Q 452.2 189.3, 452.2 190.8 Q 452.2 192.3, 452.9 193.1 Q 453.5 193.8, 454.7 193.8 Q 455.4 193.8, 455.8 193.7 Q 456.3 193.5, 456.9 193.3 L 457.3 194.3 Q 456.1 195.0, 454.6 195.0 Q 452.7 195.0, 451.7 193.9 Q 450.7 192.8, 450.7 190.8 \" fill=\"#000000\"/>\n",
       "<path class=\"legend\" d=\"M 458.5 190.8 Q 458.5 188.8, 459.5 187.7 Q 460.5 186.5, 462.5 186.5 Q 464.3 186.5, 465.3 187.9 L 464.3 188.6 Q 463.9 188.2, 463.5 188.0 Q 463.0 187.7, 462.5 187.7 Q 461.3 187.7, 460.7 188.5 Q 460.1 189.3, 460.1 190.8 Q 460.1 192.3, 460.7 193.1 Q 461.4 193.8, 462.6 193.8 Q 463.2 193.8, 463.7 193.7 Q 464.2 193.5, 464.7 193.3 L 465.1 194.3 Q 464.0 195.0, 462.4 195.0 Q 460.5 195.0, 459.5 193.9 Q 458.5 192.8, 458.5 190.8 \" fill=\"#000000\"/>\n",
       "<path class=\"legend\" d=\"M 466.4 190.8 Q 466.4 188.8, 467.4 187.7 Q 468.4 186.5, 470.3 186.5 Q 472.2 186.5, 473.2 187.9 L 472.1 188.6 Q 471.8 188.2, 471.3 188.0 Q 470.9 187.7, 470.3 187.7 Q 469.2 187.7, 468.5 188.5 Q 467.9 189.3, 467.9 190.8 Q 467.9 192.3, 468.5 193.1 Q 469.2 193.8, 470.4 193.8 Q 471.1 193.8, 471.5 193.7 Q 472.0 193.5, 472.6 193.3 L 473.0 194.3 Q 471.8 195.0, 470.3 195.0 Q 468.4 195.0, 467.4 193.9 Q 466.4 192.8, 466.4 190.8 \" fill=\"#000000\"/>\n",
       "<path class=\"legend\" d=\"M 474.8 193.6 L 477.3 193.6 L 477.3 185.2 L 474.6 186.0 L 474.2 185.1 L 477.7 183.5 L 478.8 183.7 L 478.8 193.6 L 481.1 193.6 L 481.1 194.9 L 474.8 194.9 L 474.8 193.6 \" fill=\"#000000\"/>\n",
       "<path class=\"bond-0 atom-0 atom-1\" d=\"M 818.4,8.2 L 802.8,56.1\" style=\"fill:none;fill-rule:evenodd;stroke:#000000;stroke-width:2.0px;stroke-linecap:butt;stroke-linejoin:miter;stroke-opacity:1\"/>\n",
       "<path class=\"bond-1 atom-1 atom-2\" d=\"M 802.8,56.1 L 832.4,96.9\" style=\"fill:none;fill-rule:evenodd;stroke:#000000;stroke-width:2.0px;stroke-linecap:butt;stroke-linejoin:miter;stroke-opacity:1\"/>\n",
       "<path class=\"bond-1 atom-1 atom-2\" d=\"M 799.9,65.0 L 823.1,96.8\" style=\"fill:none;fill-rule:evenodd;stroke:#000000;stroke-width:2.0px;stroke-linecap:butt;stroke-linejoin:miter;stroke-opacity:1\"/>\n",
       "<path class=\"bond-2 atom-2 atom-3\" d=\"M 832.4,96.9 L 822.1,111.0\" style=\"fill:none;fill-rule:evenodd;stroke:#000000;stroke-width:2.0px;stroke-linecap:butt;stroke-linejoin:miter;stroke-opacity:1\"/>\n",
       "<path class=\"bond-2 atom-2 atom-3\" d=\"M 822.1,111.0 L 811.8,125.2\" style=\"fill:none;fill-rule:evenodd;stroke:#0000FF;stroke-width:2.0px;stroke-linecap:butt;stroke-linejoin:miter;stroke-opacity:1\"/>\n",
       "<path class=\"bond-3 atom-3 atom-4\" d=\"M 793.0,134.4 L 773.9,128.2\" style=\"fill:none;fill-rule:evenodd;stroke:#0000FF;stroke-width:2.0px;stroke-linecap:butt;stroke-linejoin:miter;stroke-opacity:1\"/>\n",
       "<path class=\"bond-3 atom-3 atom-4\" d=\"M 773.9,128.2 L 754.9,122.0\" style=\"fill:none;fill-rule:evenodd;stroke:#000000;stroke-width:2.0px;stroke-linecap:butt;stroke-linejoin:miter;stroke-opacity:1\"/>\n",
       "<path class=\"bond-4 atom-4 atom-5\" d=\"M 754.9,122.0 L 754.9,71.6\" style=\"fill:none;fill-rule:evenodd;stroke:#000000;stroke-width:2.0px;stroke-linecap:butt;stroke-linejoin:miter;stroke-opacity:1\"/>\n",
       "<path class=\"bond-4 atom-4 atom-5\" d=\"M 762.4,116.5 L 762.4,77.1\" style=\"fill:none;fill-rule:evenodd;stroke:#000000;stroke-width:2.0px;stroke-linecap:butt;stroke-linejoin:miter;stroke-opacity:1\"/>\n",
       "<path class=\"bond-5 atom-5 atom-6\" d=\"M 754.9,71.6 L 711.3,46.4\" style=\"fill:none;fill-rule:evenodd;stroke:#000000;stroke-width:2.0px;stroke-linecap:butt;stroke-linejoin:miter;stroke-opacity:1\"/>\n",
       "<path class=\"bond-6 atom-6 atom-7\" d=\"M 711.3,46.4 L 667.6,71.5\" style=\"fill:none;fill-rule:evenodd;stroke:#000000;stroke-width:2.0px;stroke-linecap:butt;stroke-linejoin:miter;stroke-opacity:1\"/>\n",
       "<path class=\"bond-6 atom-6 atom-7\" d=\"M 711.3,55.1 L 675.2,75.9\" style=\"fill:none;fill-rule:evenodd;stroke:#000000;stroke-width:2.0px;stroke-linecap:butt;stroke-linejoin:miter;stroke-opacity:1\"/>\n",
       "<path class=\"bond-7 atom-7 atom-8\" d=\"M 667.6,71.5 L 667.6,121.9\" style=\"fill:none;fill-rule:evenodd;stroke:#000000;stroke-width:2.0px;stroke-linecap:butt;stroke-linejoin:miter;stroke-opacity:1\"/>\n",
       "<path class=\"bond-8 atom-8 atom-9\" d=\"M 667.6,121.9 L 711.2,147.1\" style=\"fill:none;fill-rule:evenodd;stroke:#000000;stroke-width:2.0px;stroke-linecap:butt;stroke-linejoin:miter;stroke-opacity:1\"/>\n",
       "<path class=\"bond-8 atom-8 atom-9\" d=\"M 675.2,117.6 L 711.2,138.4\" style=\"fill:none;fill-rule:evenodd;stroke:#000000;stroke-width:2.0px;stroke-linecap:butt;stroke-linejoin:miter;stroke-opacity:1\"/>\n",
       "<path class=\"bond-9 atom-5 atom-1\" d=\"M 754.9,71.6 L 802.8,56.1\" style=\"fill:none;fill-rule:evenodd;stroke:#000000;stroke-width:2.0px;stroke-linecap:butt;stroke-linejoin:miter;stroke-opacity:1\"/>\n",
       "<path class=\"bond-10 atom-9 atom-4\" d=\"M 711.2,147.1 L 754.9,122.0\" style=\"fill:none;fill-rule:evenodd;stroke:#000000;stroke-width:2.0px;stroke-linecap:butt;stroke-linejoin:miter;stroke-opacity:1\"/>\n",
       "<path d=\"M 830.9,94.8 L 832.4,96.9 L 831.9,97.6\" style=\"fill:none;stroke:#000000;stroke-width:2.0px;stroke-linecap:butt;stroke-linejoin:miter;stroke-opacity:1;\"/>\n",
       "<path d=\"M 713.5,47.6 L 711.3,46.4 L 709.1,47.6\" style=\"fill:none;stroke:#000000;stroke-width:2.0px;stroke-linecap:butt;stroke-linejoin:miter;stroke-opacity:1;\"/>\n",
       "<path d=\"M 669.8,70.3 L 667.6,71.5 L 667.6,74.1\" style=\"fill:none;stroke:#000000;stroke-width:2.0px;stroke-linecap:butt;stroke-linejoin:miter;stroke-opacity:1;\"/>\n",
       "<path d=\"M 667.6,119.4 L 667.6,121.9 L 669.8,123.2\" style=\"fill:none;stroke:#000000;stroke-width:2.0px;stroke-linecap:butt;stroke-linejoin:miter;stroke-opacity:1;\"/>\n",
       "<path d=\"M 709.0,145.9 L 711.2,147.1 L 713.4,145.9\" style=\"fill:none;stroke:#000000;stroke-width:2.0px;stroke-linecap:butt;stroke-linejoin:miter;stroke-opacity:1;\"/>\n",
       "<path class=\"atom-3\" d=\"M 798.0 126.9 L 805.0 138.2 Q 805.7 139.3, 806.8 141.4 Q 808.0 143.4, 808.0 143.5 L 808.0 126.9 L 810.9 126.9 L 810.9 148.3 L 807.9 148.3 L 800.4 135.9 Q 799.5 134.4, 798.6 132.8 Q 797.7 131.1, 797.4 130.6 L 797.4 148.3 L 794.6 148.3 L 794.6 126.9 L 798.0 126.9 \" fill=\"#0000FF\"/>\n",
       "<path class=\"atom-3\" d=\"M 794.4 150.4 L 797.3 150.4 L 797.3 159.5 L 808.2 159.5 L 808.2 150.4 L 811.1 150.4 L 811.1 171.8 L 808.2 171.8 L 808.2 161.9 L 797.3 161.9 L 797.3 171.8 L 794.4 171.8 L 794.4 150.4 \" fill=\"#0000FF\"/>\n",
       "<path class=\"legend\" d=\"M 684.2 186.5 Q 684.2 183.8, 685.5 182.3 Q 686.8 180.9, 689.2 180.9 Q 691.5 180.9, 692.7 182.5 L 691.7 183.3 Q 690.8 182.2, 689.2 182.2 Q 687.6 182.2, 686.7 183.3 Q 685.8 184.4, 685.8 186.5 Q 685.8 188.7, 686.7 189.8 Q 687.6 190.9, 689.4 190.9 Q 690.6 190.9, 692.0 190.2 L 692.4 191.3 Q 691.9 191.7, 691.0 191.9 Q 690.1 192.1, 689.2 192.1 Q 686.8 192.1, 685.5 190.7 Q 684.2 189.2, 684.2 186.5 \" fill=\"#000000\"/>\n",
       "<path class=\"legend\" d=\"M 694.0 188.0 Q 694.0 186.1, 694.9 185.0 Q 695.9 183.9, 697.8 183.9 Q 699.6 183.9, 700.5 185.2 L 699.6 185.9 Q 699.2 185.5, 698.8 185.3 Q 698.3 185.0, 697.8 185.0 Q 696.7 185.0, 696.1 185.8 Q 695.5 186.5, 695.5 188.0 Q 695.5 189.5, 696.1 190.2 Q 696.7 191.0, 697.9 191.0 Q 698.5 191.0, 699.0 190.8 Q 699.4 190.7, 700.0 190.4 L 700.4 191.4 Q 699.2 192.1, 697.8 192.1 Q 695.9 192.1, 694.9 191.0 Q 694.0 189.9, 694.0 188.0 \" fill=\"#000000\"/>\n",
       "<path class=\"legend\" d=\"M 702.2 190.8 L 704.6 190.8 L 704.6 182.6 L 701.9 183.4 L 701.6 182.5 L 704.9 181.0 L 706.0 181.1 L 706.0 190.8 L 708.2 190.8 L 708.2 192.0 L 702.2 192.0 L 702.2 190.8 \" fill=\"#000000\"/>\n",
       "<path class=\"legend\" d=\"M 709.5 188.0 Q 709.5 186.1, 710.5 185.0 Q 711.4 183.9, 713.3 183.9 Q 715.1 183.9, 716.1 185.2 L 715.1 185.9 Q 714.7 185.5, 714.3 185.3 Q 713.9 185.0, 713.3 185.0 Q 712.2 185.0, 711.6 185.8 Q 711.0 186.5, 711.0 188.0 Q 711.0 189.5, 711.6 190.2 Q 712.2 191.0, 713.4 191.0 Q 714.1 191.0, 714.5 190.8 Q 715.0 190.7, 715.5 190.4 L 715.9 191.4 Q 714.8 192.1, 713.3 192.1 Q 711.4 192.1, 710.5 191.0 Q 709.5 189.9, 709.5 188.0 \" fill=\"#000000\"/>\n",
       "<path class=\"legend\" d=\"M 717.1 180.0 L 720.4 180.0 L 720.4 181.1 L 718.4 181.1 L 718.4 193.9 L 720.4 193.9 L 720.4 195.0 L 717.1 195.0 L 717.1 180.0 \" fill=\"#000000\"/>\n",
       "<path class=\"legend\" d=\"M 725.5 183.9 Q 726.8 183.9, 727.5 184.6 Q 728.2 185.4, 728.2 186.7 L 728.2 192.0 L 726.7 192.0 L 726.7 186.8 Q 726.7 185.9, 726.3 185.5 Q 726.0 185.0, 725.2 185.0 Q 724.4 185.0, 723.8 185.4 Q 723.2 185.7, 722.8 186.3 L 722.8 192.0 L 721.4 192.0 L 721.4 184.0 L 722.6 184.0 L 722.7 185.1 Q 723.8 183.9, 725.5 183.9 \" fill=\"#000000\"/>\n",
       "<path class=\"legend\" d=\"M 730.0 181.0 L 731.5 181.0 L 731.5 185.7 L 737.1 185.7 L 737.1 181.0 L 738.6 181.0 L 738.6 192.0 L 737.1 192.0 L 737.1 186.9 L 731.5 186.9 L 731.5 192.0 L 730.0 192.0 L 730.0 181.0 \" fill=\"#000000\"/>\n",
       "<path class=\"legend\" d=\"M 743.9 180.0 L 743.9 195.0 L 740.6 195.0 L 740.6 193.9 L 742.6 193.9 L 742.6 181.1 L 740.6 181.1 L 740.6 180.0 L 743.9 180.0 \" fill=\"#000000\"/>\n",
       "<path class=\"legend\" d=\"M 745.8 188.0 Q 745.8 186.1, 746.8 185.0 Q 747.8 183.9, 749.7 183.9 Q 751.5 183.9, 752.4 185.2 L 751.4 185.9 Q 751.1 185.5, 750.6 185.3 Q 750.2 185.0, 749.7 185.0 Q 748.6 185.0, 747.9 185.8 Q 747.3 186.5, 747.3 188.0 Q 747.3 189.5, 748.0 190.2 Q 748.6 191.0, 749.8 191.0 Q 750.4 191.0, 750.9 190.8 Q 751.3 190.7, 751.9 190.4 L 752.3 191.4 Q 751.1 192.1, 749.6 192.1 Q 747.8 192.1, 746.8 191.0 Q 745.8 189.9, 745.8 188.0 \" fill=\"#000000\"/>\n",
       "<path class=\"legend\" d=\"M 753.5 183.1 Q 753.9 182.1, 754.8 181.5 Q 755.8 180.9, 757.1 180.9 Q 758.8 180.9, 759.7 181.8 Q 760.7 182.7, 760.7 184.3 Q 760.7 185.9, 759.4 187.4 Q 758.3 189.0, 755.8 190.8 L 760.8 190.8 L 760.8 192.0 L 753.4 192.0 L 753.4 191.0 Q 755.5 189.5, 756.7 188.4 Q 757.9 187.3, 758.5 186.4 Q 759.1 185.4, 759.1 184.4 Q 759.1 183.3, 758.6 182.7 Q 758.1 182.1, 757.1 182.1 Q 756.3 182.1, 755.7 182.5 Q 755.1 182.9, 754.7 183.6 L 753.5 183.1 \" fill=\"#000000\"/>\n",
       "<path class=\"legend\" d=\"M 762.4 188.0 Q 762.4 186.1, 763.4 185.0 Q 764.4 183.9, 766.2 183.9 Q 768.1 183.9, 769.0 185.2 L 768.0 185.9 Q 767.7 185.5, 767.2 185.3 Q 766.8 185.0, 766.2 185.0 Q 765.1 185.0, 764.5 185.8 Q 763.9 186.5, 763.9 188.0 Q 763.9 189.5, 764.5 190.2 Q 765.2 191.0, 766.3 191.0 Q 767.0 191.0, 767.4 190.8 Q 767.9 190.7, 768.4 190.4 L 768.9 191.4 Q 767.7 192.1, 766.2 192.1 Q 764.4 192.1, 763.4 191.0 Q 762.4 189.9, 762.4 188.0 \" fill=\"#000000\"/>\n",
       "<path class=\"legend\" d=\"M 770.0 188.0 Q 770.0 186.1, 771.0 185.0 Q 772.0 183.9, 773.8 183.9 Q 775.7 183.9, 776.6 185.2 L 775.6 185.9 Q 775.3 185.5, 774.8 185.3 Q 774.4 185.0, 773.8 185.0 Q 772.7 185.0, 772.1 185.8 Q 771.5 186.5, 771.5 188.0 Q 771.5 189.5, 772.1 190.2 Q 772.8 191.0, 773.9 191.0 Q 774.6 191.0, 775.0 190.8 Q 775.5 190.7, 776.1 190.4 L 776.5 191.4 Q 775.3 192.1, 773.8 192.1 Q 772.0 192.1, 771.0 191.0 Q 770.0 189.9, 770.0 188.0 \" fill=\"#000000\"/>\n",
       "<path class=\"legend\" d=\"M 777.6 188.0 Q 777.6 186.1, 778.6 185.0 Q 779.6 183.9, 781.5 183.9 Q 783.3 183.9, 784.2 185.2 L 783.2 185.9 Q 782.9 185.5, 782.4 185.3 Q 782.0 185.0, 781.5 185.0 Q 780.3 185.0, 779.7 185.8 Q 779.1 186.5, 779.1 188.0 Q 779.1 189.5, 779.7 190.2 Q 780.4 191.0, 781.5 191.0 Q 782.2 191.0, 782.6 190.8 Q 783.1 190.7, 783.7 190.4 L 784.1 191.4 Q 782.9 192.1, 781.4 192.1 Q 779.6 192.1, 778.6 191.0 Q 777.6 189.9, 777.6 188.0 \" fill=\"#000000\"/>\n",
       "<path class=\"legend\" d=\"M 785.2 188.0 Q 785.2 186.1, 786.2 185.0 Q 787.2 183.9, 789.1 183.9 Q 790.9 183.9, 791.8 185.2 L 790.8 185.9 Q 790.5 185.5, 790.0 185.3 Q 789.6 185.0, 789.1 185.0 Q 788.0 185.0, 787.3 185.8 Q 786.7 186.5, 786.7 188.0 Q 786.7 189.5, 787.3 190.2 Q 788.0 191.0, 789.1 191.0 Q 789.8 191.0, 790.2 190.8 Q 790.7 190.7, 791.3 190.4 L 791.7 191.4 Q 790.5 192.1, 789.0 192.1 Q 787.2 192.1, 786.2 191.0 Q 785.2 189.9, 785.2 188.0 \" fill=\"#000000\"/>\n",
       "<path class=\"legend\" d=\"M 792.8 188.0 Q 792.8 186.1, 793.8 185.0 Q 794.8 183.9, 796.7 183.9 Q 798.5 183.9, 799.4 185.2 L 798.4 185.9 Q 798.1 185.5, 797.6 185.3 Q 797.2 185.0, 796.7 185.0 Q 795.6 185.0, 794.9 185.8 Q 794.3 186.5, 794.3 188.0 Q 794.3 189.5, 795.0 190.2 Q 795.6 191.0, 796.7 191.0 Q 797.4 191.0, 797.9 190.8 Q 798.3 190.7, 798.9 190.4 L 799.3 191.4 Q 798.1 192.1, 796.6 192.1 Q 794.8 192.1, 793.8 191.0 Q 792.8 189.9, 792.8 188.0 \" fill=\"#000000\"/>\n",
       "<path class=\"legend\" d=\"M 801.0 190.8 L 803.5 190.8 L 803.5 182.6 L 800.8 183.4 L 800.4 182.5 L 803.8 181.0 L 804.9 181.1 L 804.9 190.8 L 807.1 190.8 L 807.1 192.0 L 801.0 192.0 L 801.0 190.8 \" fill=\"#000000\"/>\n",
       "<path class=\"legend\" d=\"M 808.4 183.1 Q 808.8 182.1, 809.8 181.5 Q 810.7 180.9, 812.1 180.9 Q 813.7 180.9, 814.7 181.8 Q 815.6 182.7, 815.6 184.3 Q 815.6 185.9, 814.4 187.4 Q 813.2 189.0, 810.7 190.8 L 815.8 190.8 L 815.8 192.0 L 808.4 192.0 L 808.4 191.0 Q 810.4 189.5, 811.6 188.4 Q 812.9 187.3, 813.4 186.4 Q 814.0 185.4, 814.0 184.4 Q 814.0 183.3, 813.5 182.7 Q 813.0 182.1, 812.1 182.1 Q 811.2 182.1, 810.6 182.5 Q 810.0 182.9, 809.6 183.6 L 808.4 183.1 \" fill=\"#000000\"/>\n",
       "</svg>"
      ],
      "text/plain": [
       "<IPython.core.display.SVG object>"
      ]
     },
     "execution_count": 108,
     "metadata": {},
     "output_type": "execute_result"
    }
   ],
   "source": [
    "df = pd.DataFrame(columns=['SMILES'])\n",
    "df['SMILES'] = smiles\n",
    "df['ROMol'] = df.SMILES.map(lambda x: Chem.MolFromSmiles(x))\n",
    "df['SMILES'] = df.ROMol.map(lambda x: Chem.MolToSmiles(x))\n",
    "df['MW'] = df.ROMol.map(Descriptors.MolWt)\n",
    "df['MolLogP'] = df.ROMol.map(Descriptors.MolLogP)\n",
    "df['TPSA'] = df.ROMol.map(Descriptors.TPSA)\n",
    "df['HBD'] = df.ROMol.map(Descriptors.NumHDonors)\n",
    "df['HBA'] = df.ROMol.map(Descriptors.NumHAcceptors)\n",
    "df['No.RB'] = df.ROMol.map(Descriptors.NumRotatableBonds)\n",
    "df['rings'] = df.ROMol.map(AllChem.CalcNumRings)\n",
    "df['Ar'] = df.ROMol.map(Descriptors.NumAromaticRings)\n",
    "Draw.MolsToGridImage(df.ROMol,\n",
    "                     molsPerRow=3,\n",
    "                     subImgSize=(300,200),\n",
    "                     legends= list(df.SMILES),\n",
    "                     useSVG=True\n",
    "                     )\n",
    "# df.T"
   ]
  },
  {
   "cell_type": "code",
   "execution_count": null,
   "metadata": {},
   "outputs": [],
   "source": []
  },
  {
   "cell_type": "markdown",
   "metadata": {},
   "source": [
    "分子名を指定してPubChemからIsomeric SMILESを取得してDescriptorを生成"
   ]
  },
  {
   "cell_type": "markdown",
   "metadata": {},
   "source": [
    "分子を確認"
   ]
  },
  {
   "cell_type": "code",
   "execution_count": 113,
   "metadata": {},
   "outputs": [
    {
     "data": {
      "text/html": [
       "<div>\n",
       "<style scoped>\n",
       "    .dataframe tbody tr th:only-of-type {\n",
       "        vertical-align: middle;\n",
       "    }\n",
       "\n",
       "    .dataframe tbody tr th {\n",
       "        vertical-align: top;\n",
       "    }\n",
       "\n",
       "    .dataframe thead th {\n",
       "        text-align: right;\n",
       "    }\n",
       "</style>\n",
       "<table border=\"1\" class=\"dataframe\">\n",
       "  <thead>\n",
       "    <tr style=\"text-align: right;\">\n",
       "      <th></th>\n",
       "      <th>name</th>\n",
       "      <th>SMILES</th>\n",
       "      <th>ROMol</th>\n",
       "    </tr>\n",
       "  </thead>\n",
       "  <tbody>\n",
       "    <tr>\n",
       "      <th>0</th>\n",
       "      <td>JQ1</td>\n",
       "      <td>CC1=C(SC2=C1C(=N[C@H](C3=NN=C(N32)C)CC(=O)OC(C...</td>\n",
       "      <td>&lt;rdkit.Chem.rdchem.Mol object at 0x150907d80&gt;</td>\n",
       "    </tr>\n",
       "  </tbody>\n",
       "</table>\n",
       "</div>"
      ],
      "text/plain": [
       "  name                                             SMILES  \\\n",
       "0  JQ1  CC1=C(SC2=C1C(=N[C@H](C3=NN=C(N32)C)CC(=O)OC(C...   \n",
       "\n",
       "                                           ROMol  \n",
       "0  <rdkit.Chem.rdchem.Mol object at 0x150907d80>  "
      ]
     },
     "execution_count": 113,
     "metadata": {},
     "output_type": "execute_result"
    }
   ],
   "source": [
    "df"
   ]
  },
  {
   "cell_type": "code",
   "execution_count": 144,
   "metadata": {},
   "outputs": [
    {
     "data": {
      "image/svg+xml": [
       "<svg xmlns=\"http://www.w3.org/2000/svg\" xmlns:rdkit=\"http://www.rdkit.org/xml\" xmlns:xlink=\"http://www.w3.org/1999/xlink\" version=\"1.1\" baseProfile=\"full\" xml:space=\"preserve\" width=\"900px\" height=\"200px\" viewBox=\"0 0 900 200\">\n",
       "<!-- END OF HEADER -->\n",
       "<rect style=\"opacity:1.0;fill:#FFFFFF;stroke:none\" width=\"900.0\" height=\"200.0\" x=\"0.0\" y=\"0.0\"> </rect>\n",
       "<path class=\"bond-0 atom-0 atom-1\" d=\"M 236.7,85.4 L 219.0,69.5\" style=\"fill:none;fill-rule:evenodd;stroke:#000000;stroke-width:2.0px;stroke-linecap:butt;stroke-linejoin:miter;stroke-opacity:1\"/>\n",
       "<path class=\"bond-1 atom-1 atom-2\" d=\"M 219.0,69.5 L 221.3,45.9\" style=\"fill:none;fill-rule:evenodd;stroke:#000000;stroke-width:2.0px;stroke-linecap:butt;stroke-linejoin:miter;stroke-opacity:1\"/>\n",
       "<path class=\"bond-1 atom-1 atom-2\" d=\"M 215.7,66.6 L 217.5,48.1\" style=\"fill:none;fill-rule:evenodd;stroke:#000000;stroke-width:2.0px;stroke-linecap:butt;stroke-linejoin:miter;stroke-opacity:1\"/>\n",
       "<path class=\"bond-2 atom-2 atom-3\" d=\"M 221.3,45.9 L 212.5,42.0\" style=\"fill:none;fill-rule:evenodd;stroke:#000000;stroke-width:2.0px;stroke-linecap:butt;stroke-linejoin:miter;stroke-opacity:1\"/>\n",
       "<path class=\"bond-2 atom-2 atom-3\" d=\"M 212.5,42.0 L 203.6,38.0\" style=\"fill:none;fill-rule:evenodd;stroke:#CCCC00;stroke-width:2.0px;stroke-linecap:butt;stroke-linejoin:miter;stroke-opacity:1\"/>\n",
       "<path class=\"bond-3 atom-3 atom-4\" d=\"M 195.6,40.8 L 189.7,47.4\" style=\"fill:none;fill-rule:evenodd;stroke:#CCCC00;stroke-width:2.0px;stroke-linecap:butt;stroke-linejoin:miter;stroke-opacity:1\"/>\n",
       "<path class=\"bond-3 atom-3 atom-4\" d=\"M 189.7,47.4 L 183.7,54.0\" style=\"fill:none;fill-rule:evenodd;stroke:#000000;stroke-width:2.0px;stroke-linecap:butt;stroke-linejoin:miter;stroke-opacity:1\"/>\n",
       "<path class=\"bond-4 atom-4 atom-5\" d=\"M 183.7,54.0 L 195.7,74.6\" style=\"fill:none;fill-rule:evenodd;stroke:#000000;stroke-width:2.0px;stroke-linecap:butt;stroke-linejoin:miter;stroke-opacity:1\"/>\n",
       "<path class=\"bond-4 atom-4 atom-5\" d=\"M 188.1,54.5 L 197.5,70.5\" style=\"fill:none;fill-rule:evenodd;stroke:#000000;stroke-width:2.0px;stroke-linecap:butt;stroke-linejoin:miter;stroke-opacity:1\"/>\n",
       "<path class=\"bond-5 atom-5 atom-6\" d=\"M 195.7,74.6 L 187.1,96.8\" style=\"fill:none;fill-rule:evenodd;stroke:#000000;stroke-width:2.0px;stroke-linecap:butt;stroke-linejoin:miter;stroke-opacity:1\"/>\n",
       "<path class=\"bond-6 atom-6 atom-7\" d=\"M 187.1,96.8 L 178.1,99.6\" style=\"fill:none;fill-rule:evenodd;stroke:#000000;stroke-width:2.0px;stroke-linecap:butt;stroke-linejoin:miter;stroke-opacity:1\"/>\n",
       "<path class=\"bond-6 atom-6 atom-7\" d=\"M 178.1,99.6 L 169.0,102.4\" style=\"fill:none;fill-rule:evenodd;stroke:#0000FF;stroke-width:2.0px;stroke-linecap:butt;stroke-linejoin:miter;stroke-opacity:1\"/>\n",
       "<path class=\"bond-6 atom-6 atom-7\" d=\"M 184.4,93.9 L 176.2,96.4\" style=\"fill:none;fill-rule:evenodd;stroke:#000000;stroke-width:2.0px;stroke-linecap:butt;stroke-linejoin:miter;stroke-opacity:1\"/>\n",
       "<path class=\"bond-6 atom-6 atom-7\" d=\"M 176.2,96.4 L 167.9,99.0\" style=\"fill:none;fill-rule:evenodd;stroke:#0000FF;stroke-width:2.0px;stroke-linecap:butt;stroke-linejoin:miter;stroke-opacity:1\"/>\n",
       "<path class=\"bond-7 atom-7 atom-8\" d=\"M 159.8,100.7 L 152.2,95.6\" style=\"fill:none;fill-rule:evenodd;stroke:#0000FF;stroke-width:2.0px;stroke-linecap:butt;stroke-linejoin:miter;stroke-opacity:1\"/>\n",
       "<path class=\"bond-7 atom-7 atom-8\" d=\"M 152.2,95.6 L 144.6,90.5\" style=\"fill:none;fill-rule:evenodd;stroke:#000000;stroke-width:2.0px;stroke-linecap:butt;stroke-linejoin:miter;stroke-opacity:1\"/>\n",
       "<path class=\"bond-8 atom-8 atom-9\" d=\"M 144.6,90.5 L 142.8,66.8\" style=\"fill:none;fill-rule:evenodd;stroke:#000000;stroke-width:2.0px;stroke-linecap:butt;stroke-linejoin:miter;stroke-opacity:1\"/>\n",
       "<path class=\"bond-9 atom-9 atom-10\" d=\"M 142.8,66.8 L 134.7,62.3\" style=\"fill:none;fill-rule:evenodd;stroke:#000000;stroke-width:2.0px;stroke-linecap:butt;stroke-linejoin:miter;stroke-opacity:1\"/>\n",
       "<path class=\"bond-9 atom-9 atom-10\" d=\"M 134.7,62.3 L 126.6,57.8\" style=\"fill:none;fill-rule:evenodd;stroke:#0000FF;stroke-width:2.0px;stroke-linecap:butt;stroke-linejoin:miter;stroke-opacity:1\"/>\n",
       "<path class=\"bond-9 atom-9 atom-10\" d=\"M 142.3,62.4 L 135.3,58.6\" style=\"fill:none;fill-rule:evenodd;stroke:#000000;stroke-width:2.0px;stroke-linecap:butt;stroke-linejoin:miter;stroke-opacity:1\"/>\n",
       "<path class=\"bond-9 atom-9 atom-10\" d=\"M 135.3,58.6 L 128.3,54.7\" style=\"fill:none;fill-rule:evenodd;stroke:#0000FF;stroke-width:2.0px;stroke-linecap:butt;stroke-linejoin:miter;stroke-opacity:1\"/>\n",
       "<path class=\"bond-10 atom-10 atom-11\" d=\"M 123.1,49.5 L 125.4,37.8\" style=\"fill:none;fill-rule:evenodd;stroke:#0000FF;stroke-width:2.0px;stroke-linecap:butt;stroke-linejoin:miter;stroke-opacity:1\"/>\n",
       "<path class=\"bond-11 atom-11 atom-12\" d=\"M 131.1,31.4 L 140.6,30.2\" style=\"fill:none;fill-rule:evenodd;stroke:#0000FF;stroke-width:2.0px;stroke-linecap:butt;stroke-linejoin:miter;stroke-opacity:1\"/>\n",
       "<path class=\"bond-11 atom-11 atom-12\" d=\"M 140.6,30.2 L 150.1,29.0\" style=\"fill:none;fill-rule:evenodd;stroke:#000000;stroke-width:2.0px;stroke-linecap:butt;stroke-linejoin:miter;stroke-opacity:1\"/>\n",
       "<path class=\"bond-11 atom-11 atom-12\" d=\"M 131.6,34.9 L 139.8,33.9\" style=\"fill:none;fill-rule:evenodd;stroke:#0000FF;stroke-width:2.0px;stroke-linecap:butt;stroke-linejoin:miter;stroke-opacity:1\"/>\n",
       "<path class=\"bond-11 atom-11 atom-12\" d=\"M 139.8,33.9 L 148.0,32.8\" style=\"fill:none;fill-rule:evenodd;stroke:#000000;stroke-width:2.0px;stroke-linecap:butt;stroke-linejoin:miter;stroke-opacity:1\"/>\n",
       "<path class=\"bond-12 atom-12 atom-13\" d=\"M 150.1,29.0 L 153.8,36.8\" style=\"fill:none;fill-rule:evenodd;stroke:#000000;stroke-width:2.0px;stroke-linecap:butt;stroke-linejoin:miter;stroke-opacity:1\"/>\n",
       "<path class=\"bond-12 atom-12 atom-13\" d=\"M 153.8,36.8 L 157.4,44.7\" style=\"fill:none;fill-rule:evenodd;stroke:#0000FF;stroke-width:2.0px;stroke-linecap:butt;stroke-linejoin:miter;stroke-opacity:1\"/>\n",
       "<path class=\"bond-13 atom-12 atom-14\" d=\"M 150.1,29.0 L 161.6,8.2\" style=\"fill:none;fill-rule:evenodd;stroke:#000000;stroke-width:2.0px;stroke-linecap:butt;stroke-linejoin:miter;stroke-opacity:1\"/>\n",
       "<path class=\"bond-14 atom-8 atom-15\" d=\"M 144.6,90.5 L 125.8,103.5 L 122.2,101.4 Z\" style=\"fill:#000000;fill-rule:evenodd;fill-opacity:1;stroke:#000000;stroke-width:0.5px;stroke-linecap:butt;stroke-linejoin:miter;stroke-opacity:1;\"/>\n",
       "<path class=\"bond-15 atom-15 atom-16\" d=\"M 125.8,103.5 L 103.5,90.7\" style=\"fill:none;fill-rule:evenodd;stroke:#000000;stroke-width:2.0px;stroke-linecap:butt;stroke-linejoin:miter;stroke-opacity:1\"/>\n",
       "<path class=\"bond-16 atom-16 atom-17\" d=\"M 105.3,91.7 L 105.2,82.3\" style=\"fill:none;fill-rule:evenodd;stroke:#000000;stroke-width:2.0px;stroke-linecap:butt;stroke-linejoin:miter;stroke-opacity:1\"/>\n",
       "<path class=\"bond-16 atom-16 atom-17\" d=\"M 105.2,82.3 L 105.2,72.9\" style=\"fill:none;fill-rule:evenodd;stroke:#FF0000;stroke-width:2.0px;stroke-linecap:butt;stroke-linejoin:miter;stroke-opacity:1\"/>\n",
       "<path class=\"bond-16 atom-16 atom-17\" d=\"M 101.7,91.7 L 101.7,82.3\" style=\"fill:none;fill-rule:evenodd;stroke:#000000;stroke-width:2.0px;stroke-linecap:butt;stroke-linejoin:miter;stroke-opacity:1\"/>\n",
       "<path class=\"bond-16 atom-16 atom-17\" d=\"M 101.7,82.3 L 101.6,72.9\" style=\"fill:none;fill-rule:evenodd;stroke:#FF0000;stroke-width:2.0px;stroke-linecap:butt;stroke-linejoin:miter;stroke-opacity:1\"/>\n",
       "<path class=\"bond-17 atom-16 atom-18\" d=\"M 103.5,90.7 L 95.9,95.1\" style=\"fill:none;fill-rule:evenodd;stroke:#000000;stroke-width:2.0px;stroke-linecap:butt;stroke-linejoin:miter;stroke-opacity:1\"/>\n",
       "<path class=\"bond-17 atom-16 atom-18\" d=\"M 95.9,95.1 L 88.3,99.5\" style=\"fill:none;fill-rule:evenodd;stroke:#FF0000;stroke-width:2.0px;stroke-linecap:butt;stroke-linejoin:miter;stroke-opacity:1\"/>\n",
       "<path class=\"bond-18 atom-18 atom-19\" d=\"M 77.5,99.5 L 69.9,95.2\" style=\"fill:none;fill-rule:evenodd;stroke:#FF0000;stroke-width:2.0px;stroke-linecap:butt;stroke-linejoin:miter;stroke-opacity:1\"/>\n",
       "<path class=\"bond-18 atom-18 atom-19\" d=\"M 69.9,95.2 L 62.3,90.8\" style=\"fill:none;fill-rule:evenodd;stroke:#000000;stroke-width:2.0px;stroke-linecap:butt;stroke-linejoin:miter;stroke-opacity:1\"/>\n",
       "<path class=\"bond-19 atom-19 atom-20\" d=\"M 62.3,90.8 L 74.1,70.1\" style=\"fill:none;fill-rule:evenodd;stroke:#000000;stroke-width:2.0px;stroke-linecap:butt;stroke-linejoin:miter;stroke-opacity:1\"/>\n",
       "<path class=\"bond-20 atom-19 atom-21\" d=\"M 62.3,90.8 L 50.3,70.2\" style=\"fill:none;fill-rule:evenodd;stroke:#000000;stroke-width:2.0px;stroke-linecap:butt;stroke-linejoin:miter;stroke-opacity:1\"/>\n",
       "<path class=\"bond-21 atom-19 atom-22\" d=\"M 62.3,90.8 L 41.7,102.8\" style=\"fill:none;fill-rule:evenodd;stroke:#000000;stroke-width:2.0px;stroke-linecap:butt;stroke-linejoin:miter;stroke-opacity:1\"/>\n",
       "<path class=\"bond-22 atom-6 atom-23\" d=\"M 187.1,96.8 L 203.3,114.1\" style=\"fill:none;fill-rule:evenodd;stroke:#000000;stroke-width:2.0px;stroke-linecap:butt;stroke-linejoin:miter;stroke-opacity:1\"/>\n",
       "<path class=\"bond-23 atom-23 atom-24\" d=\"M 203.3,114.1 L 226.5,108.7\" style=\"fill:none;fill-rule:evenodd;stroke:#000000;stroke-width:2.0px;stroke-linecap:butt;stroke-linejoin:miter;stroke-opacity:1\"/>\n",
       "<path class=\"bond-23 atom-23 atom-24\" d=\"M 206.2,117.2 L 225.3,112.7\" style=\"fill:none;fill-rule:evenodd;stroke:#000000;stroke-width:2.0px;stroke-linecap:butt;stroke-linejoin:miter;stroke-opacity:1\"/>\n",
       "<path class=\"bond-24 atom-24 atom-25\" d=\"M 226.5,108.7 L 242.8,126.1\" style=\"fill:none;fill-rule:evenodd;stroke:#000000;stroke-width:2.0px;stroke-linecap:butt;stroke-linejoin:miter;stroke-opacity:1\"/>\n",
       "<path class=\"bond-25 atom-25 atom-26\" d=\"M 242.8,126.1 L 235.8,148.9\" style=\"fill:none;fill-rule:evenodd;stroke:#000000;stroke-width:2.0px;stroke-linecap:butt;stroke-linejoin:miter;stroke-opacity:1\"/>\n",
       "<path class=\"bond-25 atom-25 atom-26\" d=\"M 238.8,127.1 L 233.0,145.9\" style=\"fill:none;fill-rule:evenodd;stroke:#000000;stroke-width:2.0px;stroke-linecap:butt;stroke-linejoin:miter;stroke-opacity:1\"/>\n",
       "<path class=\"bond-26 atom-26 atom-27\" d=\"M 235.8,148.9 L 212.7,154.3\" style=\"fill:none;fill-rule:evenodd;stroke:#000000;stroke-width:2.0px;stroke-linecap:butt;stroke-linejoin:miter;stroke-opacity:1\"/>\n",
       "<path class=\"bond-27 atom-27 atom-28\" d=\"M 212.7,154.3 L 196.4,136.9\" style=\"fill:none;fill-rule:evenodd;stroke:#000000;stroke-width:2.0px;stroke-linecap:butt;stroke-linejoin:miter;stroke-opacity:1\"/>\n",
       "<path class=\"bond-27 atom-27 atom-28\" d=\"M 213.9,150.4 L 200.4,135.9\" style=\"fill:none;fill-rule:evenodd;stroke:#000000;stroke-width:2.0px;stroke-linecap:butt;stroke-linejoin:miter;stroke-opacity:1\"/>\n",
       "<path class=\"bond-28 atom-26 atom-29\" d=\"M 235.8,148.9 L 241.6,155.1\" style=\"fill:none;fill-rule:evenodd;stroke:#000000;stroke-width:2.0px;stroke-linecap:butt;stroke-linejoin:miter;stroke-opacity:1\"/>\n",
       "<path class=\"bond-28 atom-26 atom-29\" d=\"M 241.6,155.1 L 247.4,161.3\" style=\"fill:none;fill-rule:evenodd;stroke:#00CC00;stroke-width:2.0px;stroke-linecap:butt;stroke-linejoin:miter;stroke-opacity:1\"/>\n",
       "<path class=\"bond-29 atom-2 atom-30\" d=\"M 221.3,45.9 L 241.9,33.9\" style=\"fill:none;fill-rule:evenodd;stroke:#000000;stroke-width:2.0px;stroke-linecap:butt;stroke-linejoin:miter;stroke-opacity:1\"/>\n",
       "<path class=\"bond-30 atom-5 atom-1\" d=\"M 195.7,74.6 L 219.0,69.5\" style=\"fill:none;fill-rule:evenodd;stroke:#000000;stroke-width:2.0px;stroke-linecap:butt;stroke-linejoin:miter;stroke-opacity:1\"/>\n",
       "<path class=\"bond-31 atom-13 atom-4\" d=\"M 164.8,51.2 L 174.3,52.6\" style=\"fill:none;fill-rule:evenodd;stroke:#0000FF;stroke-width:2.0px;stroke-linecap:butt;stroke-linejoin:miter;stroke-opacity:1\"/>\n",
       "<path class=\"bond-31 atom-13 atom-4\" d=\"M 174.3,52.6 L 183.7,54.0\" style=\"fill:none;fill-rule:evenodd;stroke:#000000;stroke-width:2.0px;stroke-linecap:butt;stroke-linejoin:miter;stroke-opacity:1\"/>\n",
       "<path class=\"bond-32 atom-13 atom-9\" d=\"M 155.5,54.9 L 149.2,60.8\" style=\"fill:none;fill-rule:evenodd;stroke:#0000FF;stroke-width:2.0px;stroke-linecap:butt;stroke-linejoin:miter;stroke-opacity:1\"/>\n",
       "<path class=\"bond-32 atom-13 atom-9\" d=\"M 149.2,60.8 L 142.8,66.8\" style=\"fill:none;fill-rule:evenodd;stroke:#000000;stroke-width:2.0px;stroke-linecap:butt;stroke-linejoin:miter;stroke-opacity:1\"/>\n",
       "<path class=\"bond-33 atom-28 atom-23\" d=\"M 196.4,136.9 L 203.3,114.1\" style=\"fill:none;fill-rule:evenodd;stroke:#000000;stroke-width:2.0px;stroke-linecap:butt;stroke-linejoin:miter;stroke-opacity:1\"/>\n",
       "<path d=\"M 145.0,90.8 L 144.6,90.5 L 144.6,89.3\" style=\"fill:none;stroke:#000000;stroke-width:2.0px;stroke-linecap:butt;stroke-linejoin:miter;stroke-opacity:1;\"/>\n",
       "<path d=\"M 104.6,91.3 L 103.5,90.7 L 103.1,90.9\" style=\"fill:none;stroke:#000000;stroke-width:2.0px;stroke-linecap:butt;stroke-linejoin:miter;stroke-opacity:1;\"/>\n",
       "<path d=\"M 225.3,109.0 L 226.5,108.7 L 227.3,109.6\" style=\"fill:none;stroke:#000000;stroke-width:2.0px;stroke-linecap:butt;stroke-linejoin:miter;stroke-opacity:1;\"/>\n",
       "<path d=\"M 242.0,125.3 L 242.8,126.1 L 242.4,127.3\" style=\"fill:none;stroke:#000000;stroke-width:2.0px;stroke-linecap:butt;stroke-linejoin:miter;stroke-opacity:1;\"/>\n",
       "<path d=\"M 213.8,154.0 L 212.7,154.3 L 211.8,153.4\" style=\"fill:none;stroke:#000000;stroke-width:2.0px;stroke-linecap:butt;stroke-linejoin:miter;stroke-opacity:1;\"/>\n",
       "<path d=\"M 197.2,137.7 L 196.4,136.9 L 196.7,135.7\" style=\"fill:none;stroke:#000000;stroke-width:2.0px;stroke-linecap:butt;stroke-linejoin:miter;stroke-opacity:1;\"/>\n",
       "<path class=\"atom-3\" d=\"M 196.7 39.7 Q 196.8 39.8, 197.3 40.0 Q 197.8 40.2, 198.3 40.3 Q 198.8 40.4, 199.3 40.4 Q 200.3 40.4, 200.9 39.9 Q 201.4 39.5, 201.4 38.7 Q 201.4 38.1, 201.1 37.8 Q 200.9 37.4, 200.4 37.2 Q 200.0 37.0, 199.3 36.8 Q 198.4 36.6, 197.8 36.3 Q 197.3 36.1, 196.9 35.5 Q 196.6 35.0, 196.6 34.1 Q 196.6 32.8, 197.4 32.0 Q 198.3 31.2, 200.0 31.2 Q 201.2 31.2, 202.5 31.8 L 202.2 32.9 Q 201.0 32.4, 200.0 32.4 Q 199.1 32.4, 198.5 32.8 Q 198.0 33.2, 198.0 33.9 Q 198.0 34.4, 198.3 34.8 Q 198.5 35.1, 198.9 35.3 Q 199.4 35.5, 200.0 35.7 Q 201.0 36.0, 201.5 36.2 Q 202.0 36.5, 202.4 37.1 Q 202.8 37.7, 202.8 38.7 Q 202.8 40.1, 201.9 40.8 Q 201.0 41.6, 199.4 41.6 Q 198.5 41.6, 197.8 41.4 Q 197.1 41.2, 196.3 40.8 L 196.7 39.7 \" fill=\"#CCCC00\"/>\n",
       "<path class=\"atom-7\" d=\"M 162.1 98.8 L 165.5 104.1 Q 165.8 104.6, 166.3 105.6 Q 166.8 106.6, 166.9 106.6 L 166.9 98.8 L 168.2 98.8 L 168.2 108.9 L 166.8 108.9 L 163.3 103.0 Q 162.9 102.3, 162.4 101.5 Q 162.0 100.8, 161.9 100.5 L 161.9 108.9 L 160.5 108.9 L 160.5 98.8 L 162.1 98.8 \" fill=\"#0000FF\"/>\n",
       "<path class=\"atom-10\" d=\"M 119.7 50.2 L 123.1 55.6 Q 123.4 56.1, 123.9 57.1 Q 124.4 58.0, 124.5 58.1 L 124.5 50.2 L 125.8 50.2 L 125.8 60.3 L 124.4 60.3 L 120.9 54.5 Q 120.5 53.8, 120.0 53.0 Q 119.6 52.2, 119.5 52.0 L 119.5 60.3 L 118.1 60.3 L 118.1 50.2 L 119.7 50.2 \" fill=\"#0000FF\"/>\n",
       "<path class=\"atom-11\" d=\"M 124.3 26.9 L 127.6 32.2 Q 127.9 32.8, 128.4 33.7 Q 129.0 34.7, 129.0 34.7 L 129.0 26.9 L 130.3 26.9 L 130.3 37.0 L 128.9 37.0 L 125.4 31.1 Q 125.0 30.5, 124.5 29.7 Q 124.1 28.9, 124.0 28.6 L 124.0 37.0 L 122.7 37.0 L 122.7 26.9 L 124.3 26.9 \" fill=\"#0000FF\"/>\n",
       "<path class=\"atom-13\" d=\"M 157.9 45.5 L 161.2 50.8 Q 161.6 51.4, 162.1 52.3 Q 162.6 53.3, 162.7 53.3 L 162.7 45.5 L 164.0 45.5 L 164.0 55.6 L 162.6 55.6 L 159.1 49.7 Q 158.6 49.1, 158.2 48.3 Q 157.8 47.5, 157.6 47.2 L 157.6 55.6 L 156.3 55.6 L 156.3 45.5 L 157.9 45.5 \" fill=\"#0000FF\"/>\n",
       "<path class=\"atom-17\" d=\"M 98.7 66.9 Q 98.7 64.5, 99.9 63.1 Q 101.1 61.7, 103.4 61.7 Q 105.6 61.7, 106.8 63.1 Q 108.0 64.5, 108.0 66.9 Q 108.0 69.3, 106.8 70.7 Q 105.6 72.1, 103.4 72.1 Q 101.2 72.1, 99.9 70.7 Q 98.7 69.4, 98.7 66.9 M 103.4 71.0 Q 104.9 71.0, 105.8 70.0 Q 106.6 68.9, 106.6 66.9 Q 106.6 64.9, 105.8 63.9 Q 104.9 62.9, 103.4 62.9 Q 101.8 62.9, 101.0 63.9 Q 100.2 64.9, 100.2 66.9 Q 100.2 68.9, 101.0 70.0 Q 101.8 71.0, 103.4 71.0 \" fill=\"#FF0000\"/>\n",
       "<path class=\"atom-18\" d=\"M 78.3 102.6 Q 78.3 100.2, 79.5 98.9 Q 80.7 97.5, 82.9 97.5 Q 85.1 97.5, 86.3 98.9 Q 87.5 100.2, 87.5 102.6 Q 87.5 105.1, 86.3 106.5 Q 85.1 107.9, 82.9 107.9 Q 80.7 107.9, 79.5 106.5 Q 78.3 105.1, 78.3 102.6 M 82.9 106.7 Q 84.4 106.7, 85.3 105.7 Q 86.1 104.7, 86.1 102.6 Q 86.1 100.7, 85.3 99.7 Q 84.4 98.6, 82.9 98.6 Q 81.4 98.6, 80.5 99.6 Q 79.7 100.6, 79.7 102.6 Q 79.7 104.7, 80.5 105.7 Q 81.4 106.7, 82.9 106.7 \" fill=\"#FF0000\"/>\n",
       "<path class=\"atom-29\" d=\"M 248.2 166.6 Q 248.2 164.1, 249.3 162.8 Q 250.5 161.5, 252.8 161.5 Q 254.8 161.5, 256.0 162.9 L 255.0 163.7 Q 254.2 162.6, 252.8 162.6 Q 251.2 162.6, 250.4 163.7 Q 249.6 164.7, 249.6 166.6 Q 249.6 168.6, 250.4 169.6 Q 251.3 170.7, 252.9 170.7 Q 254.0 170.7, 255.3 170.0 L 255.7 171.1 Q 255.2 171.4, 254.4 171.6 Q 253.6 171.8, 252.7 171.8 Q 250.5 171.8, 249.3 170.5 Q 248.2 169.1, 248.2 166.6 \" fill=\"#00CC00\"/>\n",
       "<path class=\"atom-29\" d=\"M 257.0 160.9 L 258.3 160.9 L 258.3 171.7 L 257.0 171.7 L 257.0 160.9 \" fill=\"#00CC00\"/>\n",
       "<path class=\"legend\" d=\"M 137.6 192.6 Q 137.6 192.6, 138.3 192.2 Q 139.0 191.8, 139.5 191.2 Q 140.1 190.5, 140.1 189.6 L 140.1 181.5 L 137.9 181.5 L 137.9 180.2 L 141.6 180.2 L 141.6 189.6 Q 141.6 190.9, 140.9 191.9 Q 140.1 192.8, 139.2 193.3 Q 138.2 193.9, 138.2 193.8 L 137.6 192.6 \" fill=\"#000000\"/>\n",
       "<path class=\"legend\" d=\"M 151.5 193.6 Q 152.1 193.6, 152.7 193.4 L 153.1 194.7 Q 152.2 195.0, 151.4 195.0 Q 150.0 195.0, 149.1 194.2 Q 148.1 193.3, 148.0 191.7 Q 145.9 191.4, 144.8 189.9 Q 143.7 188.4, 143.7 185.9 Q 143.7 183.2, 145.0 181.6 Q 146.4 180.1, 148.9 180.1 Q 151.4 180.1, 152.7 181.6 Q 154.1 183.2, 154.1 185.9 Q 154.1 188.5, 152.8 190.1 Q 151.6 191.6, 149.3 191.7 Q 149.4 192.6, 150.0 193.1 Q 150.6 193.6, 151.5 193.6 M 145.3 185.9 Q 145.3 188.2, 146.2 189.3 Q 147.2 190.5, 148.9 190.5 Q 150.6 190.5, 151.5 189.3 Q 152.5 188.2, 152.5 185.9 Q 152.5 183.7, 151.5 182.5 Q 150.6 181.4, 148.9 181.4 Q 147.2 181.4, 146.2 182.5 Q 145.3 183.6, 145.3 185.9 \" fill=\"#000000\"/>\n",
       "<path class=\"legend\" d=\"M 156.2 190.3 L 158.7 190.3 L 158.7 181.8 L 156.0 182.7 L 155.6 181.7 L 159.1 180.2 L 160.2 180.4 L 160.2 190.3 L 162.4 190.3 L 162.4 191.6 L 156.2 191.6 L 156.2 190.3 \" fill=\"#000000\"/>\n",
       "</svg>"
      ],
      "text/plain": [
       "<IPython.core.display.SVG object>"
      ]
     },
     "execution_count": 144,
     "metadata": {},
     "output_type": "execute_result"
    }
   ],
   "source": [
    "mol = input('Molecule Name?')\n",
    "# mol = 'deucravacitinib'\n",
    "df = pd.DataFrame(columns=['name', 'SMILES'])\n",
    "df['name'] = [mol]\n",
    "df['SMILES'] = pcp.get_properties('IsomericSMILES', mol, 'name')[0]['IsomericSMILES']\n",
    "df['ROMol'] = df.SMILES.map(lambda x: Chem.MolFromSmiles(x))\n",
    "Draw.MolsToGridImage(df.ROMol,\n",
    "                     molsPerRow=3,\n",
    "                     subImgSize=(300,200),\n",
    "                     legends= list(df.name),\n",
    "                     useSVG=True\n",
    "                     )"
   ]
  },
  {
   "cell_type": "markdown",
   "metadata": {},
   "source": [
    "Descriptorを表示"
   ]
  },
  {
   "cell_type": "code",
   "execution_count": 100,
   "metadata": {},
   "outputs": [
    {
     "data": {
      "text/html": [
       "<div>\n",
       "<style scoped>\n",
       "    .dataframe tbody tr th:only-of-type {\n",
       "        vertical-align: middle;\n",
       "    }\n",
       "\n",
       "    .dataframe tbody tr th {\n",
       "        vertical-align: top;\n",
       "    }\n",
       "\n",
       "    .dataframe thead th {\n",
       "        text-align: right;\n",
       "    }\n",
       "</style>\n",
       "<table border=\"1\" class=\"dataframe\">\n",
       "  <thead>\n",
       "    <tr style=\"text-align: right;\">\n",
       "      <th></th>\n",
       "      <th>0</th>\n",
       "    </tr>\n",
       "  </thead>\n",
       "  <tbody>\n",
       "    <tr>\n",
       "      <th>name</th>\n",
       "      <td>JQ1</td>\n",
       "    </tr>\n",
       "    <tr>\n",
       "      <th>SMILES</th>\n",
       "      <td>Cc1sc2c(c1C)C(c1ccc(Cl)cc1)=N[C@@H](CC(=O)OC(C...</td>\n",
       "    </tr>\n",
       "    <tr>\n",
       "      <th>ROMol</th>\n",
       "      <td>&lt;rdkit.Chem.rdchem.Mol object at 0x14edeaf10&gt;</td>\n",
       "    </tr>\n",
       "    <tr>\n",
       "      <th>MW</th>\n",
       "      <td>456.999</td>\n",
       "    </tr>\n",
       "    <tr>\n",
       "      <th>MolLogP</th>\n",
       "      <td>5.53136</td>\n",
       "    </tr>\n",
       "    <tr>\n",
       "      <th>TPSA</th>\n",
       "      <td>69.37</td>\n",
       "    </tr>\n",
       "    <tr>\n",
       "      <th>HBD</th>\n",
       "      <td>0</td>\n",
       "    </tr>\n",
       "    <tr>\n",
       "      <th>HBA</th>\n",
       "      <td>7</td>\n",
       "    </tr>\n",
       "    <tr>\n",
       "      <th>No.RB</th>\n",
       "      <td>3</td>\n",
       "    </tr>\n",
       "    <tr>\n",
       "      <th>rings</th>\n",
       "      <td>4</td>\n",
       "    </tr>\n",
       "    <tr>\n",
       "      <th>Ar</th>\n",
       "      <td>3</td>\n",
       "    </tr>\n",
       "  </tbody>\n",
       "</table>\n",
       "</div>"
      ],
      "text/plain": [
       "                                                         0\n",
       "name                                                   JQ1\n",
       "SMILES   Cc1sc2c(c1C)C(c1ccc(Cl)cc1)=N[C@@H](CC(=O)OC(C...\n",
       "ROMol        <rdkit.Chem.rdchem.Mol object at 0x14edeaf10>\n",
       "MW                                                 456.999\n",
       "MolLogP                                            5.53136\n",
       "TPSA                                                 69.37\n",
       "HBD                                                      0\n",
       "HBA                                                      7\n",
       "No.RB                                                    3\n",
       "rings                                                    4\n",
       "Ar                                                       3"
      ]
     },
     "execution_count": 100,
     "metadata": {},
     "output_type": "execute_result"
    }
   ],
   "source": [
    "df['ROMol'] = df.SMILES.map(lambda x: Chem.MolFromSmiles(x))\n",
    "df['SMILES'] = df.ROMol.map(lambda x: Chem.MolToSmiles(x))\n",
    "df['MW'] = df.ROMol.map(Descriptors.MolWt)\n",
    "df['MolLogP'] = df.ROMol.map(Descriptors.MolLogP)\n",
    "df['TPSA'] = df.ROMol.map(Descriptors.TPSA)\n",
    "df['HBD'] = df.ROMol.map(Descriptors.NumHDonors)\n",
    "df['HBA'] = df.ROMol.map(Descriptors.NumHAcceptors)\n",
    "df['No.RB'] = df.ROMol.map(Descriptors.NumRotatableBonds)\n",
    "df['rings'] = df.ROMol.map(AllChem.CalcNumRings)\n",
    "df['Ar'] = df.ROMol.map(Descriptors.NumAromaticRings)\n",
    "df.T"
   ]
  },
  {
   "cell_type": "code",
   "execution_count": null,
   "metadata": {},
   "outputs": [],
   "source": []
  },
  {
   "cell_type": "code",
   "execution_count": null,
   "metadata": {},
   "outputs": [],
   "source": []
  },
  {
   "cell_type": "markdown",
   "metadata": {},
   "source": [
    "CASのリストから化合物情報を取得"
   ]
  },
  {
   "cell_type": "markdown",
   "metadata": {},
   "source": [
    "CASのリスト"
   ]
  },
  {
   "cell_type": "code",
   "execution_count": 116,
   "metadata": {},
   "outputs": [],
   "source": [
    "cas = [\n",
    "    '100-21-0',\n",
    "    '1002-62-6',\n",
    "    '10028-15-6',\n",
    "]"
   ]
  },
  {
   "cell_type": "markdown",
   "metadata": {},
   "source": [
    "spaceで分割してsmiles listを作成"
   ]
  },
  {
   "cell_type": "code",
   "execution_count": 124,
   "metadata": {},
   "outputs": [
    {
     "data": {
      "text/plain": [
       "['100-21-0', '1002-62-6', '10028-15-6', '1002-84-2', '1002-89-7', '999-99-9']"
      ]
     },
     "execution_count": 124,
     "metadata": {},
     "output_type": "execute_result"
    }
   ],
   "source": [
    "cas_list = [\n",
    "    '100-21-0 1002-62-6 10028-15-6 1002-84-2 1002-89-7 999-99-9'\n",
    "]\n",
    "cas_list = cas_list[0].split(' ')\n",
    "cas_list"
   ]
  },
  {
   "cell_type": "markdown",
   "metadata": {},
   "source": [
    "DataFrame作成"
   ]
  },
  {
   "cell_type": "code",
   "execution_count": 148,
   "metadata": {},
   "outputs": [
    {
     "data": {
      "text/html": [
       "<div>\n",
       "<style scoped>\n",
       "    .dataframe tbody tr th:only-of-type {\n",
       "        vertical-align: middle;\n",
       "    }\n",
       "\n",
       "    .dataframe tbody tr th {\n",
       "        vertical-align: top;\n",
       "    }\n",
       "\n",
       "    .dataframe thead th {\n",
       "        text-align: right;\n",
       "    }\n",
       "</style>\n",
       "<table border=\"1\" class=\"dataframe\">\n",
       "  <thead>\n",
       "    <tr style=\"text-align: right;\">\n",
       "      <th></th>\n",
       "      <th>CAS</th>\n",
       "      <th>IUPACName</th>\n",
       "      <th>IsomericSMILES</th>\n",
       "      <th>MolecularFormula</th>\n",
       "      <th>MolecularWeight</th>\n",
       "      <th>ROMol</th>\n",
       "    </tr>\n",
       "    <tr>\n",
       "      <th>CID</th>\n",
       "      <th></th>\n",
       "      <th></th>\n",
       "      <th></th>\n",
       "      <th></th>\n",
       "      <th></th>\n",
       "      <th></th>\n",
       "    </tr>\n",
       "  </thead>\n",
       "  <tbody>\n",
       "    <tr>\n",
       "      <th>7489</th>\n",
       "      <td>100-21-0</td>\n",
       "      <td>terephthalic acid</td>\n",
       "      <td>C1=CC(=CC=C1C(=O)O)C(=O)O</td>\n",
       "      <td>C8H6O4</td>\n",
       "      <td>166.13</td>\n",
       "      <td>&lt;rdkit.Chem.rdchem.Mol object at 0x1515bbae0&gt;</td>\n",
       "    </tr>\n",
       "    <tr>\n",
       "      <th>4457968</th>\n",
       "      <td>1002-62-6</td>\n",
       "      <td>sodium;decanoate</td>\n",
       "      <td>CCCCCCCCCC(=O)[O-].[Na+]</td>\n",
       "      <td>C10H19NaO2</td>\n",
       "      <td>194.25</td>\n",
       "      <td>&lt;rdkit.Chem.rdchem.Mol object at 0x1515f4200&gt;</td>\n",
       "    </tr>\n",
       "    <tr>\n",
       "      <th>24823</th>\n",
       "      <td>10028-15-6</td>\n",
       "      <td>ozone</td>\n",
       "      <td>[O-][O+]=O</td>\n",
       "      <td>O3</td>\n",
       "      <td>47.998</td>\n",
       "      <td>&lt;rdkit.Chem.rdchem.Mol object at 0x1515f4270&gt;</td>\n",
       "    </tr>\n",
       "    <tr>\n",
       "      <th>13849</th>\n",
       "      <td>1002-84-2</td>\n",
       "      <td>pentadecanoic acid</td>\n",
       "      <td>CCCCCCCCCCCCCCC(=O)O</td>\n",
       "      <td>C15H30O2</td>\n",
       "      <td>242.40</td>\n",
       "      <td>&lt;rdkit.Chem.rdchem.Mol object at 0x1515f42e0&gt;</td>\n",
       "    </tr>\n",
       "    <tr>\n",
       "      <th>9861187</th>\n",
       "      <td>1002-89-7</td>\n",
       "      <td>azanium;octadecanoate</td>\n",
       "      <td>CCCCCCCCCCCCCCCCCC(=O)[O-].[NH4+]</td>\n",
       "      <td>C18H39NO2</td>\n",
       "      <td>301.5</td>\n",
       "      <td>&lt;rdkit.Chem.rdchem.Mol object at 0x1515f4350&gt;</td>\n",
       "    </tr>\n",
       "  </tbody>\n",
       "</table>\n",
       "</div>"
      ],
      "text/plain": [
       "                CAS              IUPACName                     IsomericSMILES  \\\n",
       "CID                                                                             \n",
       "7489       100-21-0      terephthalic acid          C1=CC(=CC=C1C(=O)O)C(=O)O   \n",
       "4457968   1002-62-6       sodium;decanoate           CCCCCCCCCC(=O)[O-].[Na+]   \n",
       "24823    10028-15-6                  ozone                         [O-][O+]=O   \n",
       "13849     1002-84-2     pentadecanoic acid               CCCCCCCCCCCCCCC(=O)O   \n",
       "9861187   1002-89-7  azanium;octadecanoate  CCCCCCCCCCCCCCCCCC(=O)[O-].[NH4+]   \n",
       "\n",
       "        MolecularFormula MolecularWeight  \\\n",
       "CID                                        \n",
       "7489              C8H6O4          166.13   \n",
       "4457968       C10H19NaO2          194.25   \n",
       "24823                 O3          47.998   \n",
       "13849           C15H30O2          242.40   \n",
       "9861187        C18H39NO2           301.5   \n",
       "\n",
       "                                                 ROMol  \n",
       "CID                                                     \n",
       "7489     <rdkit.Chem.rdchem.Mol object at 0x1515bbae0>  \n",
       "4457968  <rdkit.Chem.rdchem.Mol object at 0x1515f4200>  \n",
       "24823    <rdkit.Chem.rdchem.Mol object at 0x1515f4270>  \n",
       "13849    <rdkit.Chem.rdchem.Mol object at 0x1515f42e0>  \n",
       "9861187  <rdkit.Chem.rdchem.Mol object at 0x1515f4350>  "
      ]
     },
     "execution_count": 148,
     "metadata": {},
     "output_type": "execute_result"
    }
   ],
   "source": [
    "df = pd.DataFrame()\n",
    "properties = [\n",
    "    'MolecularFormula', \n",
    "    'MolecularWeight', \n",
    "    'IsomericSMILES', \n",
    "    'IUPACName',\n",
    "]\n",
    "for cas in cas_list:\n",
    "    try:\n",
    "        temp = pcp.get_properties(properties, cas, 'name',as_dataframe=True)\n",
    "        #as_dataframe=True とすることでpandas dataframe として情報を取得可能\n",
    "        temp['CAS'] = cas\n",
    "        df = pd.concat([df,temp],axis=0,join='outer',sort=True)\n",
    "    except:\n",
    "        pass\n",
    "#pubchem に情報のない化合物はエラーとなるので、エラーが発生しても途中で終了させずに処理を継続できるようにtry文を使用\n",
    "df['ROMol'] = df.IsomericSMILES.map(lambda x: Chem.MolFromSmiles(x))\n",
    "df"
   ]
  },
  {
   "cell_type": "code",
   "execution_count": 142,
   "metadata": {},
   "outputs": [
    {
     "data": {
      "image/png": "[encoded data removed]",
      "text/plain": [
       "<IPython.core.display.Image object>"
      ]
     },
     "execution_count": 142,
     "metadata": {},
     "output_type": "execute_result"
    }
   ],
   "source": [
    "Draw.MolsToGridImage(df['ROMol'],\n",
    "                     molsPerRow=3,\n",
    "                     legends= list(df.IUPACName)\n",
    "                     )"
   ]
  },
  {
   "cell_type": "markdown",
   "metadata": {},
   "source": [
    "分子の前処理"
   ]
  },
  {
   "cell_type": "markdown",
   "metadata": {},
   "source": [
    "大きいフラグメントだけ残す"
   ]
  },
  {
   "cell_type": "code",
   "execution_count": 143,
   "metadata": {},
   "outputs": [
    {
     "data": {
      "image/png": "[encoded data removed]",
      "text/plain": [
       "<IPython.core.display.Image object>"
      ]
     },
     "execution_count": 143,
     "metadata": {},
     "output_type": "execute_result"
    }
   ],
   "source": [
    "lfc = MolStandardize.fragment.LargestFragmentChooser()\n",
    "df['ROMol'] = df.ROMol.map(lambda x: lfc.choose(x))\n",
    "Draw.MolsToGridImage(df['ROMol'],\n",
    "                     molsPerRow=3,\n",
    "                     legends= list(df.IUPACName)\n",
    "                     )"
   ]
  },
  {
   "cell_type": "code",
   "execution_count": null,
   "metadata": {},
   "outputs": [],
   "source": []
  },
  {
   "cell_type": "code",
   "execution_count": null,
   "metadata": {},
   "outputs": [],
   "source": []
  },
  {
   "cell_type": "markdown",
   "metadata": {},
   "source": [
    "部分構造検索"
   ]
  },
  {
   "cell_type": "code",
   "execution_count": 149,
   "metadata": {},
   "outputs": [
    {
     "data": {
      "text/html": [
       "<div>\n",
       "<style scoped>\n",
       "    .dataframe tbody tr th:only-of-type {\n",
       "        vertical-align: middle;\n",
       "    }\n",
       "\n",
       "    .dataframe tbody tr th {\n",
       "        vertical-align: top;\n",
       "    }\n",
       "\n",
       "    .dataframe thead th {\n",
       "        text-align: right;\n",
       "    }\n",
       "</style>\n",
       "<table border=\"1\" class=\"dataframe\">\n",
       "  <thead>\n",
       "    <tr style=\"text-align: right;\">\n",
       "      <th></th>\n",
       "      <th>CAS</th>\n",
       "      <th>IUPACName</th>\n",
       "      <th>IsomericSMILES</th>\n",
       "      <th>MolecularFormula</th>\n",
       "      <th>MolecularWeight</th>\n",
       "      <th>ROMol</th>\n",
       "    </tr>\n",
       "    <tr>\n",
       "      <th>CID</th>\n",
       "      <th></th>\n",
       "      <th></th>\n",
       "      <th></th>\n",
       "      <th></th>\n",
       "      <th></th>\n",
       "      <th></th>\n",
       "    </tr>\n",
       "  </thead>\n",
       "  <tbody>\n",
       "    <tr>\n",
       "      <th>7489</th>\n",
       "      <td>100-21-0</td>\n",
       "      <td>terephthalic acid</td>\n",
       "      <td>C1=CC(=CC=C1C(=O)O)C(=O)O</td>\n",
       "      <td>C8H6O4</td>\n",
       "      <td>166.13</td>\n",
       "      <td>&lt;rdkit.Chem.rdchem.Mol object at 0x1515bbae0&gt;</td>\n",
       "    </tr>\n",
       "  </tbody>\n",
       "</table>\n",
       "</div>"
      ],
      "text/plain": [
       "           CAS          IUPACName             IsomericSMILES MolecularFormula  \\\n",
       "CID                                                                             \n",
       "7489  100-21-0  terephthalic acid  C1=CC(=CC=C1C(=O)O)C(=O)O           C8H6O4   \n",
       "\n",
       "     MolecularWeight                                          ROMol  \n",
       "CID                                                                  \n",
       "7489          166.13  <rdkit.Chem.rdchem.Mol object at 0x1515bbae0>  "
      ]
     },
     "execution_count": 149,
     "metadata": {},
     "output_type": "execute_result"
    }
   ],
   "source": [
    "match = 'C1=CC=CC=C1'\n",
    "match = Chem.MolFromSmiles(match)\n",
    "df[df.ROMol >= match]"
   ]
  }
 ],
 "metadata": {
  "kernelspec": {
   "display_name": "ci",
   "language": "python",
   "name": "python3"
  },
  "language_info": {
   "codemirror_mode": {
    "name": "ipython",
    "version": 3
   },
   "file_extension": ".py",
   "mimetype": "text/x-python",
   "name": "python",
   "nbconvert_exporter": "python",
   "pygments_lexer": "ipython3",
   "version": "3.10.12"
  }
 },
 "nbformat": 4,
 "nbformat_minor": 2
}
