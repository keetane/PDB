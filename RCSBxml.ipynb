{
 "cells": [
  {
   "cell_type": "markdown",
   "id": "engaging-kruger",
   "metadata": {},
   "source": [
    "# RCSB PDBから取得するxmlから情報を取得する\n",
    "https://www.rcsb.org/"
   ]
  },
  {
   "cell_type": "code",
   "execution_count": 4,
   "id": "seeing-dutch",
   "metadata": {},
   "outputs": [],
   "source": [
    "import pandas as pd\n",
    "from urllib.request import urlopen\n",
    "import numpy as np\n",
    "from lxml import etree\n",
    "from Bio import SeqIO\n",
    "from Bio.PDB import PDBList as pdbl\n",
    "import urllib.parse\n",
    "import urllib.request"
   ]
  },
  {
   "cell_type": "markdown",
   "id": "indie-trademark",
   "metadata": {},
   "source": [
    "### Target名をUniprotで検索"
   ]
  },
  {
   "cell_type": "code",
   "execution_count": 39,
   "id": "pleased-saint",
   "metadata": {},
   "outputs": [
    {
     "name": "stdin",
     "output_type": "stream",
     "text": [
      "target name? KCTD17\n"
     ]
    }
   ],
   "source": [
    "target = input('target name?')\n",
    "uniprot = 'https://www.uniprot.org/uniprot/?query=' + target + '&sort=score'"
   ]
  },
  {
   "cell_type": "code",
   "execution_count": 40,
   "id": "treated-clarity",
   "metadata": {},
   "outputs": [
    {
     "data": {
      "text/html": [
       "<div>\n",
       "<style scoped>\n",
       "    .dataframe tbody tr th:only-of-type {\n",
       "        vertical-align: middle;\n",
       "    }\n",
       "\n",
       "    .dataframe tbody tr th {\n",
       "        vertical-align: top;\n",
       "    }\n",
       "\n",
       "    .dataframe thead th {\n",
       "        text-align: right;\n",
       "    }\n",
       "</style>\n",
       "<table border=\"1\" class=\"dataframe\">\n",
       "  <thead>\n",
       "    <tr style=\"text-align: right;\">\n",
       "      <th></th>\n",
       "      <th>Unnamed: 0</th>\n",
       "      <th>Entry</th>\n",
       "      <th>Entry name</th>\n",
       "      <th>Unnamed: 3</th>\n",
       "      <th>Protein names</th>\n",
       "      <th>Gene names</th>\n",
       "      <th>Organism</th>\n",
       "      <th>Length</th>\n",
       "      <th>e</th>\n",
       "    </tr>\n",
       "  </thead>\n",
       "  <tbody>\n",
       "    <tr>\n",
       "      <th>0</th>\n",
       "      <td>NaN</td>\n",
       "      <td>Q8N5Z5</td>\n",
       "      <td>KCD17_HUMAN</td>\n",
       "      <td>NaN</td>\n",
       "      <td>BTB/POZ domain-containing protein K...</td>\n",
       "      <td>KCTD17</td>\n",
       "      <td>Homo sapiens (Human)</td>\n",
       "      <td>321</td>\n",
       "      <td>NaN</td>\n",
       "    </tr>\n",
       "    <tr>\n",
       "      <th>1</th>\n",
       "      <td>NaN</td>\n",
       "      <td>Q13618</td>\n",
       "      <td>CUL3_HUMAN</td>\n",
       "      <td>NaN</td>\n",
       "      <td>Cullin-3</td>\n",
       "      <td>CUL3 KIAA0617</td>\n",
       "      <td>Homo sapiens (Human)</td>\n",
       "      <td>768</td>\n",
       "      <td>NaN</td>\n",
       "    </tr>\n",
       "    <tr>\n",
       "      <th>2</th>\n",
       "      <td>NaN</td>\n",
       "      <td>Q9BT92</td>\n",
       "      <td>TCHP_HUMAN</td>\n",
       "      <td>NaN</td>\n",
       "      <td>Trichoplein keratin filament-bindin...</td>\n",
       "      <td>TCHP</td>\n",
       "      <td>Homo sapiens (Human)</td>\n",
       "      <td>498</td>\n",
       "      <td>NaN</td>\n",
       "    </tr>\n",
       "    <tr>\n",
       "      <th>3</th>\n",
       "      <td>NaN</td>\n",
       "      <td>B5DF89</td>\n",
       "      <td>CUL3_RAT</td>\n",
       "      <td>NaN</td>\n",
       "      <td>Cullin-3</td>\n",
       "      <td>Cul3</td>\n",
       "      <td>Rattus norvegicus (Rat)</td>\n",
       "      <td>768</td>\n",
       "      <td>NaN</td>\n",
       "    </tr>\n",
       "    <tr>\n",
       "      <th>4</th>\n",
       "      <td>NaN</td>\n",
       "      <td>Q9JLV5</td>\n",
       "      <td>CUL3_MOUSE</td>\n",
       "      <td>NaN</td>\n",
       "      <td>Cullin-3</td>\n",
       "      <td>Cul3</td>\n",
       "      <td>Mus musculus (Mouse)</td>\n",
       "      <td>768</td>\n",
       "      <td>NaN</td>\n",
       "    </tr>\n",
       "  </tbody>\n",
       "</table>\n",
       "</div>"
      ],
      "text/plain": [
       "   Unnamed: 0   Entry   Entry name  Unnamed: 3  \\\n",
       "0         NaN  Q8N5Z5  KCD17_HUMAN         NaN   \n",
       "1         NaN  Q13618   CUL3_HUMAN         NaN   \n",
       "2         NaN  Q9BT92   TCHP_HUMAN         NaN   \n",
       "3         NaN  B5DF89     CUL3_RAT         NaN   \n",
       "4         NaN  Q9JLV5   CUL3_MOUSE         NaN   \n",
       "\n",
       "                            Protein names     Gene names  \\\n",
       "0  BTB/POZ domain-containing protein K...         KCTD17   \n",
       "1                                Cullin-3  CUL3 KIAA0617   \n",
       "2  Trichoplein keratin filament-bindin...           TCHP   \n",
       "3                                Cullin-3           Cul3   \n",
       "4                                Cullin-3           Cul3   \n",
       "\n",
       "                  Organism  Length   e  \n",
       "0     Homo sapiens (Human)     321 NaN  \n",
       "1     Homo sapiens (Human)     768 NaN  \n",
       "2     Homo sapiens (Human)     498 NaN  \n",
       "3  Rattus norvegicus (Rat)     768 NaN  \n",
       "4     Mus musculus (Mouse)     768 NaN  "
      ]
     },
     "execution_count": 40,
     "metadata": {},
     "output_type": "execute_result"
    }
   ],
   "source": [
    "list = pd.read_html(uniprot)[0]\n",
    "list.head()"
   ]
  },
  {
   "cell_type": "markdown",
   "id": "sharing-lodge",
   "metadata": {},
   "source": [
    "### UniprotKB(Entry)からxmlを取得"
   ]
  },
  {
   "cell_type": "code",
   "execution_count": 43,
   "id": "elementary-webcam",
   "metadata": {},
   "outputs": [
    {
     "name": "stdin",
     "output_type": "stream",
     "text": [
      "rowID?  0\n"
     ]
    }
   ],
   "source": [
    "rowID = input('rowID? ')\n",
    "handle = urlopen(\"http://www.uniprot.org/uniprot/\" + list['Entry'][int(rowID)] + \".xml\")\n",
    "record = SeqIO.read(handle, \"uniprot-xml\")\n",
    "# print(record)"
   ]
  },
  {
   "cell_type": "markdown",
   "id": "sharing-swaziland",
   "metadata": {},
   "source": [
    "### RCSB PDBでTargetを検索"
   ]
  },
  {
   "cell_type": "code",
   "execution_count": 49,
   "id": "overall-amazon",
   "metadata": {},
   "outputs": [
    {
     "data": {
      "text/plain": [
       "{'query': {'type': 'terminal',\n",
       "  'label': 'full_text',\n",
       "  'service': 'full_text',\n",
       "  'parameters': {'value': 'KCTD17'}},\n",
       " 'return_type': 'entry',\n",
       " 'request_options': {'pager': {'start': 0, 'rows': 25},\n",
       "  'scoring_strategy': 'combined',\n",
       "  'sort': [{'sort_by': 'score', 'direction': 'desc'}]}}"
      ]
     },
     "execution_count": 49,
     "metadata": {},
     "output_type": "execute_result"
    }
   ],
   "source": [
    "TargetList = {\n",
    "  \"query\": {\n",
    "    \"type\": \"terminal\",\n",
    "    \"label\": \"full_text\",\n",
    "    \"service\": \"full_text\",\n",
    "    \"parameters\": {\n",
    "      \"value\": target\n",
    "    }\n",
    "  },\n",
    "  \"return_type\": \"entry\",\n",
    "  \"request_options\": {\n",
    "    \"pager\": {\n",
    "      \"start\": 0,\n",
    "      \"rows\": 25\n",
    "    },\n",
    "    \"scoring_strategy\": \"combined\",\n",
    "    \"sort\": [\n",
    "      {\n",
    "        \"sort_by\": \"score\",\n",
    "        \"direction\": \"desc\"\n",
    "      }\n",
    "    ]\n",
    "  }\n",
    "}\n",
    "TargetList"
   ]
  },
  {
   "cell_type": "code",
   "execution_count": 44,
   "id": "medieval-affairs",
   "metadata": {},
   "outputs": [
    {
     "data": {
      "text/plain": [
       "'https://search.rcsb.org/rcsbsearch/v1/KCTD17'"
      ]
     },
     "execution_count": 44,
     "metadata": {},
     "output_type": "execute_result"
    }
   ],
   "source": [
    "rcsb = 'https://search.rcsb.org/rcsbsearch/v1/' + target\n",
    "rcsb"
   ]
  },
  {
   "cell_type": "code",
   "execution_count": 45,
   "id": "commercial-variety",
   "metadata": {},
   "outputs": [
    {
     "ename": "ParseError",
     "evalue": "not well-formed (invalid token): line 1, column 113 (<string>)",
     "output_type": "error",
     "traceback": [
      "Traceback \u001b[0;36m(most recent call last)\u001b[0m:\n",
      "  File \u001b[1;32m\"/Users/keetane/opt/anaconda3/envs/rdkit/lib/python3.7/site-packages/IPython/core/interactiveshell.py\"\u001b[0m, line \u001b[1;32m3418\u001b[0m, in \u001b[1;35mrun_code\u001b[0m\n    exec(code_obj, self.user_global_ns, self.user_ns)\n",
      "  File \u001b[1;32m\"<ipython-input-45-2c8407f5a5c3>\"\u001b[0m, line \u001b[1;32m2\u001b[0m, in \u001b[1;35m<module>\u001b[0m\n    record = SeqIO.read(handle, \"uniprot-xml\")\n",
      "  File \u001b[1;32m\"/Users/keetane/opt/anaconda3/envs/rdkit/lib/python3.7/site-packages/Bio/SeqIO/__init__.py\"\u001b[0m, line \u001b[1;32m656\u001b[0m, in \u001b[1;35mread\u001b[0m\n    record = next(iterator)\n",
      "  File \u001b[1;32m\"/Users/keetane/opt/anaconda3/envs/rdkit/lib/python3.7/site-packages/Bio/SeqIO/UniprotIO.py\"\u001b[0m, line \u001b[1;32m49\u001b[0m, in \u001b[1;35mUniprotIterator\u001b[0m\n    for event, elem in ElementTree.iterparse(source, events=(\"start\", \"end\")):\n",
      "  File \u001b[1;32m\"/Users/keetane/opt/anaconda3/envs/rdkit/lib/python3.7/xml/etree/ElementTree.py\"\u001b[0m, line \u001b[1;32m1222\u001b[0m, in \u001b[1;35miterator\u001b[0m\n    yield from pullparser.read_events()\n",
      "  File \u001b[1;32m\"/Users/keetane/opt/anaconda3/envs/rdkit/lib/python3.7/xml/etree/ElementTree.py\"\u001b[0m, line \u001b[1;32m1297\u001b[0m, in \u001b[1;35mread_events\u001b[0m\n    raise event\n",
      "\u001b[0;36m  File \u001b[0;32m\"/Users/keetane/opt/anaconda3/envs/rdkit/lib/python3.7/xml/etree/ElementTree.py\"\u001b[0;36m, line \u001b[0;32m1269\u001b[0;36m, in \u001b[0;35mfeed\u001b[0;36m\u001b[0m\n\u001b[0;31m    self._parser.feed(data)\u001b[0m\n",
      "\u001b[0;36m  File \u001b[0;32m\"<string>\"\u001b[0;36m, line \u001b[0;32munknown\u001b[0m\n\u001b[0;31mParseError\u001b[0m\u001b[0;31m:\u001b[0m not well-formed (invalid token): line 1, column 113\n"
     ]
    }
   ],
   "source": [
    "handle = urlopen(\"https://www.rcsb.org/search?request=%7B%22query%22%3A%7B%22type%22%3A%22group%22%2C%22nodes%22%3A%5B%7B%22type%22%3A%22group%22%2C%22nodes%22%3A%5B%7B%22type%22%3A%22group%22%2C%22nodes%22%3A%5B%7B%22type%22%3A%22terminal%22%2C%22service%22%3A%22full_text%22%2C%22parameters%22%3A%7B%22value%22%3A%22KCTD17%22%7D%7D%5D%2C%22logical_operator%22%3A%22and%22%7D%5D%2C%22logical_operator%22%3A%22and%22%2C%22label%22%3A%22full_text%22%7D%5D%2C%22logical_operator%22%3A%22and%22%7D%2C%22return_type%22%3A%22entry%22%2C%22request_info%22%3A%7B%22query_id%22%3A%226c76e993eea4342d3dd54f5ca1730369%22%7D%2C%22request_options%22%3A%7B%22pager%22%3A%7B%22start%22%3A0%2C%22rows%22%3A25%7D%2C%22scoring_strategy%22%3A%22combined%22%2C%22sort%22%3A%5B%7B%22sort_by%22%3A%22score%22%2C%22direction%22%3A%22desc%22%7D%5D%7D%7D\")\n",
    "record = SeqIO.read(handle, \"rcsb-xml\")"
   ]
  },
  {
   "cell_type": "code",
   "execution_count": null,
   "id": "negative-marks",
   "metadata": {},
   "outputs": [],
   "source": []
  }
 ],
 "metadata": {
  "kernelspec": {
   "display_name": "Python 3",
   "language": "python",
   "name": "python3"
  },
  "language_info": {
   "codemirror_mode": {
    "name": "ipython",
    "version": 3
   },
   "file_extension": ".py",
   "mimetype": "text/x-python",
   "name": "python",
   "nbconvert_exporter": "python",
   "pygments_lexer": "ipython3",
   "version": "3.7.9"
  }
 },
 "nbformat": 4,
 "nbformat_minor": 5
}
