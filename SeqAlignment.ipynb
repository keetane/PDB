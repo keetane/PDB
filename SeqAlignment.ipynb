{
 "cells": [
  {
   "cell_type": "markdown",
   "metadata": {},
   "source": [
    "# PyMOLで作ったalign fileを処理する"
   ]
  },
  {
   "cell_type": "code",
   "execution_count": 8,
   "metadata": {},
   "outputs": [],
   "source": [
    "import pandas as pd\n",
    "from Bio import SeqIO"
   ]
  },
  {
   "cell_type": "markdown",
   "metadata": {},
   "source": [
    "## FASTAとしてそのまま読み込む"
   ]
  },
  {
   "cell_type": "code",
   "execution_count": 3,
   "metadata": {},
   "outputs": [
    {
     "name": "stdout",
     "output_type": "stream",
     "text": [
      "ID: 4oli_A\n",
      "Name: 4oli_A\n",
      "Description: 4oli_A\n",
      "Number of features: 0\n",
      "Seq('RVDQKITQLSHLGQGTRTNVYEGRLRELRVVLKVLDIALAFYETASLSQVSHTH...RDL')\n",
      "ID: 4fvr_A\n",
      "Name: 4fvr_A\n",
      "Description: 4fvr_A\n",
      "Number of features: 0\n",
      "Seq('KIRNELIFNESLGQGTFTKIFKGVRRETEVLLKVLNYSESFFEAASMSKLSHKH...RDL')\n"
     ]
    }
   ],
   "source": [
    "for record in SeqIO.parse(\"aln.fasta\", \"fasta\"):\n",
    "    print(record)"
   ]
  },
  {
   "cell_type": "markdown",
   "metadata": {},
   "source": [
    "## .alnで読み込む"
   ]
  },
  {
   "cell_type": "code",
   "execution_count": 4,
   "metadata": {},
   "outputs": [
    {
     "name": "stdout",
     "output_type": "stream",
     "text": [
      "ID: 4oli\n",
      "Name: <unknown name>\n",
      "Description: 4oli\n",
      "Number of features: 0\n",
      "Seq('MSYYHHHHHHDYDIPTTENLYFQGARASPRTLNLSQLSFHRVDQKEITQLSHLG...SVC')\n",
      "ID: 4fvr\n",
      "Name: <unknown name>\n",
      "Description: 4fvr\n",
      "Number of features: 0\n",
      "Seq('VFH-------------------------------------KIRNEDLIFNESLG...---')\n"
     ]
    }
   ],
   "source": [
    "with open(\"aln.aln\") as handle:\n",
    "    for record in SeqIO.parse(handle, \"clustal\"):\n",
    "        print(record)"
   ]
  },
  {
   "cell_type": "code",
   "execution_count": 5,
   "metadata": {},
   "outputs": [
    {
     "data": {
      "text/plain": [
       "SeqRecord(seq=Seq('VFH-------------------------------------KIRNEDLIFNESLG...---'), id='4fvr', name='<unknown name>', description='4fvr', dbxrefs=[])"
      ]
     },
     "execution_count": 5,
     "metadata": {},
     "output_type": "execute_result"
    }
   ],
   "source": [
    "record"
   ]
  },
  {
   "cell_type": "code",
   "execution_count": 7,
   "metadata": {},
   "outputs": [
    {
     "data": {
      "text/plain": [
       "'V'"
      ]
     },
     "execution_count": 7,
     "metadata": {},
     "output_type": "execute_result"
    }
   ],
   "source": [
    "record[0]"
   ]
  },
  {
   "cell_type": "code",
   "execution_count": null,
   "metadata": {},
   "outputs": [],
   "source": []
  },
  {
   "cell_type": "code",
   "execution_count": 10,
   "metadata": {},
   "outputs": [
    {
     "name": "stdout",
     "output_type": "stream",
     "text": [
      "ID: 4oli\n",
      "Name: <unknown name>\n",
      "Description: 4oli\n",
      "Number of features: 0\n",
      "Seq('MSYYHHHHHHDYDIPTTENLYFQGARASPRTLNLSQLSFHRVDQKEITQLSHLG...SVC')\n",
      "ID: 4fvr\n",
      "Name: <unknown name>\n",
      "Description: 4fvr\n",
      "Number of features: 0\n",
      "Seq('VFH-------------------------------------KIRNEDLIFNESLG...---')\n"
     ]
    }
   ],
   "source": [
    "with open(\"aln.aln\") as handle:\n",
    "    for record in SeqIO.parse(handle, \"clustal\"):\n",
    "        print(record)"
   ]
  },
  {
   "cell_type": "code",
   "execution_count": null,
   "metadata": {},
   "outputs": [],
   "source": []
  }
 ],
 "metadata": {
  "kernelspec": {
   "display_name": "Python 3",
   "language": "python",
   "name": "python3"
  },
  "language_info": {
   "codemirror_mode": {
    "name": "ipython",
    "version": 3
   },
   "file_extension": ".py",
   "mimetype": "text/x-python",
   "name": "python",
   "nbconvert_exporter": "python",
   "pygments_lexer": "ipython3",
   "version": "3.7.9"
  }
 },
 "nbformat": 4,
 "nbformat_minor": 4
}
