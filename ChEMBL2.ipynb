{
 "cells": [
  {
   "cell_type": "code",
   "execution_count": 39,
   "metadata": {},
   "outputs": [],
   "source": [
    "#!/usr/bin/env python\n",
    "# coding: utf-8\n",
    "\n",
    "# rdkit document\n",
    "# http://rdkit.org/docs/source/rdkit.Chem.PandasTools.html\n",
    "\n",
    "# dataset\n",
    "# https://www.ebi.ac.uk/chembl/g/#browse/activities/filter/target_chembl_id%3ACHEMBL1163125%20AND%20standard_type%3A(%22IC50%22)\n",
    "\n",
    "\n",
    "# SVGをdfに格納 matplotlibの描画確認 https://future-chem.com/rdkit-2ddraw-svg/#toc9\n"
   ]
  },
  {
   "cell_type": "markdown",
   "metadata": {},
   "source": [
    "### APIで化合物情報を取得"
   ]
  },
  {
   "cell_type": "code",
   "execution_count": null,
   "metadata": {},
   "outputs": [],
   "source": [
    "# ChEMBL webresource client examples\n",
    "# https://github.com/chembl/notebooks/blob/main/ChEMBL_webresource_client_examples.ipynb\n",
    "activities = new_client.activity.filter(target_chembl_id__in=['CHEMBL5552','CHEMBL1075195']  ##Specify a list of example targets (#Serine/threonine-protein kinase 25 (STK25) & Serine-threonine kinases TAO2)\n",
    "                                        , pchembl_value__gte=5                               ##Specify a minimum threshold of the pChEMBL activity value. Note that pCHEMBL = -log10(IC50, XC50, AC50, Ki, Kd, potency). Greater than or equal to 5 (10um) is a typical minimum rule of thumb for binding activity between a compound and a protein target. \n",
    "                                        , assay_type='B'                                     ##Only look for Binding Assays\n",
    "                                       )  \n",
    "df = pd.DataFrame(activities)\n",
    "df.columns\n",
    "\n",
    "# %%\n",
    ".only(['target_chembl_id',\n",
    "                                                 'target_pref_name',\n",
    "                                                 'parent_molecule_chembl_id',\n",
    "                                                 'molecule_chembl_id',\n",
    "                                                 'molecule_pref_name',\n",
    "                                                 'pchembl_value',\n",
    "                                                 'canonical_smiles',\n",
    "                                                 'assay_description',\n",
    "                                                 'assay_description',\n",
    "                                                 'document_chembl_id',\n",
    "                                                 'document_journal',\n",
    "                                                 'document_journal',\n",
    "                                                 ]) ## Specify which fields (columns) to extract\n",
    "                                               \n",
    "\n",
    "\n",
    "# %%\n",
    "molecule = new_client.molecule\n",
    "mols = molecule.filter(pref_name__iexact='aspirin')\n",
    "df = pd.DataFrame(mols)\n",
    "df\n",
    "\n",
    "# %%\n",
    "type(df.iloc[3][3])\n",
    "\n"
   ]
  },
  {
   "cell_type": "markdown",
   "metadata": {},
   "source": [
    "### DLしたcsvをクレンジング"
   ]
  },
  {
   "cell_type": "code",
   "execution_count": 117,
   "metadata": {},
   "outputs": [
    {
     "name": "stdout",
     "output_type": "stream",
     "text": [
      "the number of Document ChEMBL ID is 134\n",
      "the number of Murcko generic scaffold is 419\n",
      "the number of Murcko scaffold is 651\n"
     ]
    }
   ],
   "source": [
    "import pandas as pd\n",
    "from chembl_webresource_client.new_client import new_client\n",
    "from IPython.display import SVG\n",
    "import requests\n",
    "\n",
    "# %%\n",
    "# ChEMBLからDLしたファイルの読み込み\n",
    "df = pd.read_csv('./csv/2022TYK2.csv',sep=';',)\n",
    "\n",
    "# None(string)を0に変換\n",
    "df = df.replace('None', '0')\n",
    "\n",
    "# datatypeをfloatに変更\n",
    "df['Molecular Weight'] = df['Molecular Weight'].astype(float)\n",
    "df['pChEMBL Value'] = df['pChEMBL Value'].astype(float)\n",
    "df['AlogP'] = df['AlogP'].astype(float)\n",
    "df['Ligand Efficiency LLE'] = df['Ligand Efficiency LLE'].astype(float)\n",
    "df['Document Year'] = df['Document Year'].fillna('2025').astype(int) #\n",
    "df['#RO5 Violations'] = df['#RO5 Violations'].astype(int)\n",
    "\n",
    "# SmilesカラムのNanを空に変換\n",
    "df['Smiles'] = df['Smiles'].fillna('')\n",
    "\n",
    "# 文献数\n",
    "print(\"the number of Document ChEMBL ID is \" + str(len(df['Document ChEMBL ID'].unique())))\n",
    "\n",
    "#欠損値の数をカウント https://note.nkmk.me/python-pandas-nan-judge-count/\n",
    "# print('the number of missing value is ' + str(df.isnull().sum()))\n",
    "\n",
    "# カラムをfiltering\n",
    "# df = df.filter(items=['Molecule Name', 'Molecule ChEMBL ID', 'Smiles', 'Document ChEMBL ID'])\n",
    "# df.head()\n",
    "\n",
    "# DOIのカラムに加工データを挿入\n",
    "# df['DOI'] = df['Document ChEMBL ID'].apply(lambda x : x.replace('CHEMBL', ''))\n",
    "\n",
    "# %%\n",
    "# Smiles ColumnからDataFrameに構造を描画\n",
    "# https://www.macinchem.org/reviews/molsimilar/SimilarMyMolecules.html \n",
    "from rdkit.Chem import AllChem as Chem\n",
    "from rdkit.Chem.Draw import IPythonConsole\n",
    "from rdkit.Chem import PandasTools, rdRGroupDecomposition\n",
    "from rdkit.Chem import Draw\n",
    "from rdkit import DataStructs\n",
    "\n",
    "# %%\n",
    "PandasTools.AddMoleculeColumnToFrame(df,'Smiles','Molecule_Image',includeFingerprints=True)\n",
    "\n",
    "# # Murcko Scaffoldの追加\n",
    "PandasTools.AddMurckoToFrame(df, molCol='Molecule_Image', MurckoCol='Murcko_SMILES')\n",
    "PandasTools.AddMurckoToFrame(df, molCol='Molecule_Image', MurckoCol='Murcko_generic_SMILES', Generic=True)\n",
    "PandasTools.AddMoleculeColumnToFrame(df, molCol='Murcko_Mol', smilesCol='Murcko_SMILES')\n",
    "PandasTools.AddMoleculeColumnToFrame(df, molCol='Murcko_generic_Mol', smilesCol='Murcko_generic_SMILES')\n",
    "# PandasTools.FrameToGridImage(df[:8], column='Murcko_generic_Mol', legendsCol=None, molsPerRow=4)\n",
    "\n",
    "# 骨格数情報 SMILESじゃないとなぜか反映されない\n",
    "print(\"the number of Murcko generic scaffold is \" + str(len(df['Murcko_generic_SMILES'].unique())))\n",
    "print(\"the number of Murcko scaffold is \" + str(len(df['Murcko_SMILES'].unique())))\n",
    "\n"
   ]
  },
  {
   "cell_type": "code",
   "execution_count": 138,
   "metadata": {},
   "outputs": [],
   "source": [
    "dfd = df.groupby(['Document Year'])['Document ChEMBL ID'].describe()\n",
    "dfm = df.groupby(['Document Year'])['Murcko_generic_SMILES'].describe()"
   ]
  },
  {
   "cell_type": "markdown",
   "metadata": {},
   "source": [
    "### Plotly.stacked bar chart"
   ]
  },
  {
   "cell_type": "code",
   "execution_count": 144,
   "metadata": {},
   "outputs": [
    {
     "data": {
      "application/vnd.plotly.v1+json": {
       "config": {
        "plotlyServerURL": "https://plot.ly"
       },
       "data": [
        {
         "name": "Document count",
         "type": "bar",
         "x": [
          2002,
          2006,
          2007,
          2008,
          2009,
          2010,
          2011,
          2012,
          2013,
          2014,
          2015,
          2016,
          2017,
          2018,
          2019,
          2020,
          2021,
          2025
         ],
         "y": [
          1,
          1,
          2,
          5,
          2,
          5,
          8,
          6,
          9,
          9,
          13,
          15,
          10,
          14,
          16,
          10,
          7,
          1
         ]
        },
        {
         "name": "Scaffold count",
         "type": "bar",
         "x": [
          2002,
          2006,
          2007,
          2008,
          2009,
          2010,
          2011,
          2012,
          2013,
          2014,
          2015,
          2016,
          2017,
          2018,
          2019,
          2020,
          2021,
          2025
         ],
         "y": [
          1,
          2,
          2,
          10,
          4,
          21,
          57,
          17,
          22,
          32,
          102,
          45,
          56,
          35,
          42,
          30,
          33,
          4
         ]
        }
       ],
       "layout": {
        "barmode": "group",
        "template": {
         "data": {
          "bar": [
           {
            "error_x": {
             "color": "#2a3f5f"
            },
            "error_y": {
             "color": "#2a3f5f"
            },
            "marker": {
             "line": {
              "color": "#E5ECF6",
              "width": 0.5
             },
             "pattern": {
              "fillmode": "overlay",
              "size": 10,
              "solidity": 0.2
             }
            },
            "type": "bar"
           }
          ],
          "barpolar": [
           {
            "marker": {
             "line": {
              "color": "#E5ECF6",
              "width": 0.5
             },
             "pattern": {
              "fillmode": "overlay",
              "size": 10,
              "solidity": 0.2
             }
            },
            "type": "barpolar"
           }
          ],
          "carpet": [
           {
            "aaxis": {
             "endlinecolor": "#2a3f5f",
             "gridcolor": "white",
             "linecolor": "white",
             "minorgridcolor": "white",
             "startlinecolor": "#2a3f5f"
            },
            "baxis": {
             "endlinecolor": "#2a3f5f",
             "gridcolor": "white",
             "linecolor": "white",
             "minorgridcolor": "white",
             "startlinecolor": "#2a3f5f"
            },
            "type": "carpet"
           }
          ],
          "choropleth": [
           {
            "colorbar": {
             "outlinewidth": 0,
             "ticks": ""
            },
            "type": "choropleth"
           }
          ],
          "contour": [
           {
            "colorbar": {
             "outlinewidth": 0,
             "ticks": ""
            },
            "colorscale": [
             [
              0,
              "#0d0887"
             ],
             [
              0.1111111111111111,
              "#46039f"
             ],
             [
              0.2222222222222222,
              "#7201a8"
             ],
             [
              0.3333333333333333,
              "#9c179e"
             ],
             [
              0.4444444444444444,
              "#bd3786"
             ],
             [
              0.5555555555555556,
              "#d8576b"
             ],
             [
              0.6666666666666666,
              "#ed7953"
             ],
             [
              0.7777777777777778,
              "#fb9f3a"
             ],
             [
              0.8888888888888888,
              "#fdca26"
             ],
             [
              1,
              "#f0f921"
             ]
            ],
            "type": "contour"
           }
          ],
          "contourcarpet": [
           {
            "colorbar": {
             "outlinewidth": 0,
             "ticks": ""
            },
            "type": "contourcarpet"
           }
          ],
          "heatmap": [
           {
            "colorbar": {
             "outlinewidth": 0,
             "ticks": ""
            },
            "colorscale": [
             [
              0,
              "#0d0887"
             ],
             [
              0.1111111111111111,
              "#46039f"
             ],
             [
              0.2222222222222222,
              "#7201a8"
             ],
             [
              0.3333333333333333,
              "#9c179e"
             ],
             [
              0.4444444444444444,
              "#bd3786"
             ],
             [
              0.5555555555555556,
              "#d8576b"
             ],
             [
              0.6666666666666666,
              "#ed7953"
             ],
             [
              0.7777777777777778,
              "#fb9f3a"
             ],
             [
              0.8888888888888888,
              "#fdca26"
             ],
             [
              1,
              "#f0f921"
             ]
            ],
            "type": "heatmap"
           }
          ],
          "heatmapgl": [
           {
            "colorbar": {
             "outlinewidth": 0,
             "ticks": ""
            },
            "colorscale": [
             [
              0,
              "#0d0887"
             ],
             [
              0.1111111111111111,
              "#46039f"
             ],
             [
              0.2222222222222222,
              "#7201a8"
             ],
             [
              0.3333333333333333,
              "#9c179e"
             ],
             [
              0.4444444444444444,
              "#bd3786"
             ],
             [
              0.5555555555555556,
              "#d8576b"
             ],
             [
              0.6666666666666666,
              "#ed7953"
             ],
             [
              0.7777777777777778,
              "#fb9f3a"
             ],
             [
              0.8888888888888888,
              "#fdca26"
             ],
             [
              1,
              "#f0f921"
             ]
            ],
            "type": "heatmapgl"
           }
          ],
          "histogram": [
           {
            "marker": {
             "pattern": {
              "fillmode": "overlay",
              "size": 10,
              "solidity": 0.2
             }
            },
            "type": "histogram"
           }
          ],
          "histogram2d": [
           {
            "colorbar": {
             "outlinewidth": 0,
             "ticks": ""
            },
            "colorscale": [
             [
              0,
              "#0d0887"
             ],
             [
              0.1111111111111111,
              "#46039f"
             ],
             [
              0.2222222222222222,
              "#7201a8"
             ],
             [
              0.3333333333333333,
              "#9c179e"
             ],
             [
              0.4444444444444444,
              "#bd3786"
             ],
             [
              0.5555555555555556,
              "#d8576b"
             ],
             [
              0.6666666666666666,
              "#ed7953"
             ],
             [
              0.7777777777777778,
              "#fb9f3a"
             ],
             [
              0.8888888888888888,
              "#fdca26"
             ],
             [
              1,
              "#f0f921"
             ]
            ],
            "type": "histogram2d"
           }
          ],
          "histogram2dcontour": [
           {
            "colorbar": {
             "outlinewidth": 0,
             "ticks": ""
            },
            "colorscale": [
             [
              0,
              "#0d0887"
             ],
             [
              0.1111111111111111,
              "#46039f"
             ],
             [
              0.2222222222222222,
              "#7201a8"
             ],
             [
              0.3333333333333333,
              "#9c179e"
             ],
             [
              0.4444444444444444,
              "#bd3786"
             ],
             [
              0.5555555555555556,
              "#d8576b"
             ],
             [
              0.6666666666666666,
              "#ed7953"
             ],
             [
              0.7777777777777778,
              "#fb9f3a"
             ],
             [
              0.8888888888888888,
              "#fdca26"
             ],
             [
              1,
              "#f0f921"
             ]
            ],
            "type": "histogram2dcontour"
           }
          ],
          "mesh3d": [
           {
            "colorbar": {
             "outlinewidth": 0,
             "ticks": ""
            },
            "type": "mesh3d"
           }
          ],
          "parcoords": [
           {
            "line": {
             "colorbar": {
              "outlinewidth": 0,
              "ticks": ""
             }
            },
            "type": "parcoords"
           }
          ],
          "pie": [
           {
            "automargin": true,
            "type": "pie"
           }
          ],
          "scatter": [
           {
            "fillpattern": {
             "fillmode": "overlay",
             "size": 10,
             "solidity": 0.2
            },
            "type": "scatter"
           }
          ],
          "scatter3d": [
           {
            "line": {
             "colorbar": {
              "outlinewidth": 0,
              "ticks": ""
             }
            },
            "marker": {
             "colorbar": {
              "outlinewidth": 0,
              "ticks": ""
             }
            },
            "type": "scatter3d"
           }
          ],
          "scattercarpet": [
           {
            "marker": {
             "colorbar": {
              "outlinewidth": 0,
              "ticks": ""
             }
            },
            "type": "scattercarpet"
           }
          ],
          "scattergeo": [
           {
            "marker": {
             "colorbar": {
              "outlinewidth": 0,
              "ticks": ""
             }
            },
            "type": "scattergeo"
           }
          ],
          "scattergl": [
           {
            "marker": {
             "colorbar": {
              "outlinewidth": 0,
              "ticks": ""
             }
            },
            "type": "scattergl"
           }
          ],
          "scattermapbox": [
           {
            "marker": {
             "colorbar": {
              "outlinewidth": 0,
              "ticks": ""
             }
            },
            "type": "scattermapbox"
           }
          ],
          "scatterpolar": [
           {
            "marker": {
             "colorbar": {
              "outlinewidth": 0,
              "ticks": ""
             }
            },
            "type": "scatterpolar"
           }
          ],
          "scatterpolargl": [
           {
            "marker": {
             "colorbar": {
              "outlinewidth": 0,
              "ticks": ""
             }
            },
            "type": "scatterpolargl"
           }
          ],
          "scatterternary": [
           {
            "marker": {
             "colorbar": {
              "outlinewidth": 0,
              "ticks": ""
             }
            },
            "type": "scatterternary"
           }
          ],
          "surface": [
           {
            "colorbar": {
             "outlinewidth": 0,
             "ticks": ""
            },
            "colorscale": [
             [
              0,
              "#0d0887"
             ],
             [
              0.1111111111111111,
              "#46039f"
             ],
             [
              0.2222222222222222,
              "#7201a8"
             ],
             [
              0.3333333333333333,
              "#9c179e"
             ],
             [
              0.4444444444444444,
              "#bd3786"
             ],
             [
              0.5555555555555556,
              "#d8576b"
             ],
             [
              0.6666666666666666,
              "#ed7953"
             ],
             [
              0.7777777777777778,
              "#fb9f3a"
             ],
             [
              0.8888888888888888,
              "#fdca26"
             ],
             [
              1,
              "#f0f921"
             ]
            ],
            "type": "surface"
           }
          ],
          "table": [
           {
            "cells": {
             "fill": {
              "color": "#EBF0F8"
             },
             "line": {
              "color": "white"
             }
            },
            "header": {
             "fill": {
              "color": "#C8D4E3"
             },
             "line": {
              "color": "white"
             }
            },
            "type": "table"
           }
          ]
         },
         "layout": {
          "annotationdefaults": {
           "arrowcolor": "#2a3f5f",
           "arrowhead": 0,
           "arrowwidth": 1
          },
          "autotypenumbers": "strict",
          "coloraxis": {
           "colorbar": {
            "outlinewidth": 0,
            "ticks": ""
           }
          },
          "colorscale": {
           "diverging": [
            [
             0,
             "#8e0152"
            ],
            [
             0.1,
             "#c51b7d"
            ],
            [
             0.2,
             "#de77ae"
            ],
            [
             0.3,
             "#f1b6da"
            ],
            [
             0.4,
             "#fde0ef"
            ],
            [
             0.5,
             "#f7f7f7"
            ],
            [
             0.6,
             "#e6f5d0"
            ],
            [
             0.7,
             "#b8e186"
            ],
            [
             0.8,
             "#7fbc41"
            ],
            [
             0.9,
             "#4d9221"
            ],
            [
             1,
             "#276419"
            ]
           ],
           "sequential": [
            [
             0,
             "#0d0887"
            ],
            [
             0.1111111111111111,
             "#46039f"
            ],
            [
             0.2222222222222222,
             "#7201a8"
            ],
            [
             0.3333333333333333,
             "#9c179e"
            ],
            [
             0.4444444444444444,
             "#bd3786"
            ],
            [
             0.5555555555555556,
             "#d8576b"
            ],
            [
             0.6666666666666666,
             "#ed7953"
            ],
            [
             0.7777777777777778,
             "#fb9f3a"
            ],
            [
             0.8888888888888888,
             "#fdca26"
            ],
            [
             1,
             "#f0f921"
            ]
           ],
           "sequentialminus": [
            [
             0,
             "#0d0887"
            ],
            [
             0.1111111111111111,
             "#46039f"
            ],
            [
             0.2222222222222222,
             "#7201a8"
            ],
            [
             0.3333333333333333,
             "#9c179e"
            ],
            [
             0.4444444444444444,
             "#bd3786"
            ],
            [
             0.5555555555555556,
             "#d8576b"
            ],
            [
             0.6666666666666666,
             "#ed7953"
            ],
            [
             0.7777777777777778,
             "#fb9f3a"
            ],
            [
             0.8888888888888888,
             "#fdca26"
            ],
            [
             1,
             "#f0f921"
            ]
           ]
          },
          "colorway": [
           "#636efa",
           "#EF553B",
           "#00cc96",
           "#ab63fa",
           "#FFA15A",
           "#19d3f3",
           "#FF6692",
           "#B6E880",
           "#FF97FF",
           "#FECB52"
          ],
          "font": {
           "color": "#2a3f5f"
          },
          "geo": {
           "bgcolor": "white",
           "lakecolor": "white",
           "landcolor": "#E5ECF6",
           "showlakes": true,
           "showland": true,
           "subunitcolor": "white"
          },
          "hoverlabel": {
           "align": "left"
          },
          "hovermode": "closest",
          "mapbox": {
           "style": "light"
          },
          "paper_bgcolor": "white",
          "plot_bgcolor": "#E5ECF6",
          "polar": {
           "angularaxis": {
            "gridcolor": "white",
            "linecolor": "white",
            "ticks": ""
           },
           "bgcolor": "#E5ECF6",
           "radialaxis": {
            "gridcolor": "white",
            "linecolor": "white",
            "ticks": ""
           }
          },
          "scene": {
           "xaxis": {
            "backgroundcolor": "#E5ECF6",
            "gridcolor": "white",
            "gridwidth": 2,
            "linecolor": "white",
            "showbackground": true,
            "ticks": "",
            "zerolinecolor": "white"
           },
           "yaxis": {
            "backgroundcolor": "#E5ECF6",
            "gridcolor": "white",
            "gridwidth": 2,
            "linecolor": "white",
            "showbackground": true,
            "ticks": "",
            "zerolinecolor": "white"
           },
           "zaxis": {
            "backgroundcolor": "#E5ECF6",
            "gridcolor": "white",
            "gridwidth": 2,
            "linecolor": "white",
            "showbackground": true,
            "ticks": "",
            "zerolinecolor": "white"
           }
          },
          "shapedefaults": {
           "line": {
            "color": "#2a3f5f"
           }
          },
          "ternary": {
           "aaxis": {
            "gridcolor": "white",
            "linecolor": "white",
            "ticks": ""
           },
           "baxis": {
            "gridcolor": "white",
            "linecolor": "white",
            "ticks": ""
           },
           "bgcolor": "#E5ECF6",
           "caxis": {
            "gridcolor": "white",
            "linecolor": "white",
            "ticks": ""
           }
          },
          "title": {
           "x": 0.05
          },
          "xaxis": {
           "automargin": true,
           "gridcolor": "white",
           "linecolor": "white",
           "ticks": "",
           "title": {
            "standoff": 15
           },
           "zerolinecolor": "white",
           "zerolinewidth": 2
          },
          "yaxis": {
           "automargin": true,
           "gridcolor": "white",
           "linecolor": "white",
           "ticks": "",
           "title": {
            "standoff": 15
           },
           "zerolinecolor": "white",
           "zerolinewidth": 2
          }
         }
        },
        "title": {
         "text": "Murcko generic scaffold v.s. Year"
        },
        "width": 1000
       }
      }
     },
     "metadata": {},
     "output_type": "display_data"
    }
   ],
   "source": [
    "import plotly.graph_objects as go\n",
    "fig = go.Figure()\n",
    "fig.add_trace(go.Bar(x=dfd.index, y=dfd['unique'], name='Document count'))\n",
    "fig.add_trace(go.Bar(x=dfm.index, y=dfm['unique'], name='Scaffold count'))\n",
    "\n",
    "fig.update_layout(\n",
    "    title='Murcko generic scaffold v.s. Year',\n",
    "    # showlegend=False, # Legendのon/off\n",
    "    width=1000,\n",
    "    # height=700\n",
    "    barmode='group',\n",
    ")\n",
    "fig.show()"
   ]
  },
  {
   "cell_type": "code",
   "execution_count": 133,
   "metadata": {},
   "outputs": [
    {
     "data": {
      "application/vnd.plotly.v1+json": {
       "config": {
        "plotlyServerURL": "https://plot.ly"
       },
       "data": [
        {
         "alignmentgroup": "True",
         "boxpoints": "all",
         "hovertemplate": "Document Year=%{x}<br>pChEMBL Value=%{y}<extra></extra>",
         "legendgroup": "",
         "marker": {
          "color": "#636efa"
         },
         "name": "",
         "notched": false,
         "offsetgroup": "",
         "orientation": "v",
         "showlegend": false,
         "type": "box",
         "x": [
          2011,
          2011,
          2002,
          2011,
          2011,
          2008,
          2011,
          2010,
          2010,
          2011,
          2020,
          2020,
          2016,
          2015,
          2015,
          2019,
          2011,
          2011,
          2011,
          2013,
          2013,
          2013,
          2013,
          2010,
          2015,
          2015,
          2015,
          2015,
          2015,
          2011,
          2015,
          2015,
          2015,
          2014,
          2013,
          2012,
          2013,
          2013,
          2016,
          2008,
          2008,
          2014,
          2016,
          2016,
          2015,
          2015,
          2016,
          2016,
          2016,
          2016,
          2016,
          2016,
          2015,
          2017,
          2017,
          2015,
          2017,
          2017,
          2017,
          2017,
          2017,
          2017,
          2017,
          2014,
          2011,
          2015,
          2015,
          2010,
          2011,
          2011,
          2012,
          2015,
          2014,
          2025,
          2016,
          2011,
          2019,
          2014,
          2016,
          2014,
          2019,
          2012,
          2008,
          2010,
          2010,
          2010,
          2010,
          2014,
          2012,
          2011,
          2016,
          2014,
          2014,
          2016,
          2015,
          2011,
          2012,
          2012,
          2016,
          2016,
          2016,
          2016,
          2016,
          2016,
          2016,
          2016,
          2017,
          2016,
          2016,
          2015,
          2016,
          2016,
          2014,
          2016,
          2015,
          2015,
          2016,
          2016,
          2015,
          2014,
          2011,
          2011,
          2011,
          2018,
          2018,
          2018,
          2018,
          2013,
          2017,
          2017,
          2017,
          2017,
          2017,
          2017,
          2015,
          2015,
          2015,
          2011,
          2014,
          2014,
          2014,
          2014,
          2013,
          2015,
          2017,
          2017,
          2012,
          2011,
          2011,
          2017,
          2015,
          2017,
          2017,
          2015,
          2015,
          2019,
          2011,
          2011,
          2011,
          2011,
          2012,
          2012,
          2011,
          2011,
          2015,
          2015,
          2015,
          2013,
          2013,
          2014,
          2012,
          2010,
          2012,
          2010,
          2016,
          2009,
          2015,
          2014,
          2013,
          2013,
          2013,
          2013,
          2013,
          2013,
          2013,
          2013,
          2012,
          2012,
          2015,
          2015,
          2008,
          2025,
          2015,
          2013,
          2013,
          2013,
          2013,
          2013,
          2011,
          2016,
          2016,
          2016,
          2016,
          2016,
          2016,
          2016,
          2015,
          2015,
          2015,
          2015,
          2015,
          2015,
          2014,
          2014,
          2008,
          2015,
          2010,
          2010,
          2015,
          2019,
          2019,
          2019,
          2019,
          2019,
          2011,
          2015,
          2011,
          2015,
          2015,
          2015,
          2015,
          2015,
          2011,
          2015,
          2015,
          2015,
          2015,
          2015,
          2015,
          2015,
          2013,
          2013,
          2013,
          2013,
          2013,
          2014,
          2014,
          2014,
          2014,
          2014,
          2014,
          2014,
          2014,
          2011,
          2011,
          2013,
          2013,
          2017,
          2017,
          2017,
          2019,
          2018,
          2010,
          2018,
          2010,
          2010,
          2014,
          2014,
          2007,
          2011,
          2011,
          2011,
          2014,
          2012,
          2012,
          2011,
          2011,
          2011,
          2025,
          2015,
          2011,
          2011,
          2014,
          2013,
          2014,
          2015,
          2015,
          2015,
          2015,
          2009,
          2014,
          2013,
          2017,
          2017,
          2017,
          2017,
          2017,
          2013,
          2013,
          2018,
          2020,
          2018,
          2012,
          2010,
          2013,
          2018,
          2021,
          2021,
          2021,
          2021,
          2021,
          2021,
          2021,
          2010,
          2020,
          2011,
          2020,
          2020,
          2020,
          2016,
          2016,
          2011,
          2013,
          2020,
          2014,
          2013,
          2013,
          2013,
          2013,
          2013,
          2013,
          2015,
          2015,
          2015,
          2017,
          2014,
          2010,
          2018,
          2018,
          2011,
          2011,
          2013,
          2013,
          2013,
          2013,
          2013,
          2013,
          2013,
          2013,
          2013,
          2018,
          2017,
          2017,
          2011,
          2020,
          2013,
          2011,
          2011,
          2011,
          2013,
          2013,
          2013,
          2013,
          2013,
          2013,
          2013,
          2013,
          2015,
          2015,
          2015,
          2015,
          2015,
          2011,
          2016,
          2016,
          2016,
          2019,
          2019,
          2019,
          2019,
          2017,
          2017,
          2017,
          2018,
          2017,
          2017,
          2017,
          2017,
          2008,
          2008,
          2011,
          2011,
          2011,
          2010,
          2017,
          2018,
          2018,
          2014,
          2011,
          2011,
          2021,
          2020,
          2011,
          2011,
          2011,
          2011,
          2020,
          2020,
          2020,
          2020,
          2015,
          2015,
          2015,
          2015,
          2015,
          2015,
          2015,
          2015,
          2015,
          2017,
          2017,
          2010,
          2015,
          2015,
          2015,
          2015,
          2015,
          2015,
          2015,
          2011,
          2014,
          2015,
          2015,
          2010,
          2010,
          2011,
          2016,
          2011,
          2014,
          2015,
          2016,
          2016,
          2019,
          2013,
          2015,
          2012,
          2012,
          2013,
          2011,
          2011,
          2011,
          2015,
          2010,
          2016,
          2015,
          2013,
          2013,
          2015,
          2015,
          2015,
          2015,
          2015,
          2015,
          2015,
          2015,
          2015,
          2017,
          2017,
          2017,
          2017,
          2017,
          2017,
          2017,
          2010,
          2010,
          2012,
          2010,
          2015,
          2015,
          2015,
          2008,
          2013,
          2014,
          2014,
          2013,
          2015,
          2015,
          2018,
          2014,
          2013,
          2018,
          2006,
          2011,
          2010,
          2015,
          2010,
          2011,
          2011,
          2013,
          2015,
          2015,
          2015,
          2015,
          2015,
          2015,
          2015,
          2015,
          2015,
          2015,
          2015,
          2015,
          2017,
          2015,
          2019,
          2019,
          2019,
          2016,
          2010,
          2017,
          2017,
          2017,
          2015,
          2015,
          2015,
          2017,
          2015,
          2013,
          2013,
          2016,
          2016,
          2014,
          2011,
          2011,
          2011,
          2015,
          2015,
          2015,
          2015,
          2013,
          2015,
          2013,
          2015,
          2013,
          2013,
          2013,
          2013,
          2013,
          2013,
          2013,
          2013,
          2013,
          2016,
          2016,
          2015,
          2018,
          2020,
          2015,
          2015,
          2013,
          2013,
          2013,
          2011,
          2010,
          2011,
          2008,
          2018,
          2011,
          2011,
          2013,
          2013,
          2014,
          2016,
          2014,
          2014,
          2014,
          2014,
          2010,
          2014,
          2010,
          2011,
          2015,
          2013,
          2012,
          2012,
          2012,
          2018,
          2016,
          2016,
          2015,
          2015,
          2014,
          2011,
          2013,
          2013,
          2012,
          2011,
          2011,
          2011,
          2011,
          2011,
          2012,
          2020,
          2020,
          2015,
          2015,
          2016,
          2015,
          2011,
          2013,
          2019,
          2013,
          2013,
          2013,
          2017,
          2015,
          2018,
          2018,
          2015,
          2015,
          2015,
          2015,
          2014,
          2016,
          2015,
          2015,
          2014,
          2018,
          2014,
          2015,
          2015,
          2013,
          2011,
          2017,
          2017,
          2015,
          2015,
          2015,
          2014,
          2015,
          2015,
          2015,
          2018,
          2015,
          2017,
          2016,
          2016,
          2014,
          2014,
          2018,
          2019,
          2017,
          2017,
          2017,
          2015,
          2015,
          2015,
          2011,
          2015,
          2015,
          2015,
          2015,
          2015,
          2015,
          2015,
          2015,
          2015,
          2015,
          2015,
          2015,
          2015,
          2015,
          2015,
          2013,
          2013,
          2013,
          2018,
          2015,
          2015,
          2015,
          2019,
          2019,
          2015,
          2010,
          2014,
          2017,
          2017,
          2017,
          2017,
          2017,
          2017,
          2014,
          2020,
          2010,
          2020,
          2015,
          2015,
          2015,
          2015,
          2015,
          2015,
          2015,
          2019,
          2019,
          2016,
          2016,
          2016,
          2019,
          2017,
          2019,
          2019,
          2019,
          2019,
          2019,
          2007,
          2019,
          2017,
          2015,
          2015,
          2011,
          2015,
          2015,
          2015,
          2015,
          2018,
          2018,
          2019,
          2016,
          2019,
          2019,
          2019,
          2019,
          2019,
          2019,
          2019,
          2019,
          2019,
          2019,
          2019,
          2011,
          2011,
          2015,
          2015,
          2015,
          2015,
          2015,
          2011,
          2015,
          2015,
          2019,
          2019,
          2019,
          2014,
          2015,
          2015,
          2015,
          2006,
          2009,
          2015,
          2011,
          2012,
          2012,
          2019,
          2019,
          2019,
          2019,
          2017,
          2017,
          2016,
          2016,
          2017,
          2014,
          2010,
          2012,
          2014,
          2017,
          2017,
          2017,
          2017,
          2017,
          2017,
          2020,
          2017,
          2017,
          2012,
          2018,
          2019,
          2017,
          2017,
          2017,
          2017,
          2016,
          2014,
          2014,
          2017,
          2019,
          2012,
          2015,
          2011,
          2019,
          2019,
          2014,
          2018,
          2018,
          2013,
          2013,
          2013,
          2013,
          2013,
          2015,
          2017,
          2017,
          2017,
          2016,
          2016,
          2019,
          2011,
          2018,
          2012,
          2012,
          2012,
          2015,
          2018,
          2019,
          2019,
          2014,
          2015,
          2014,
          2014,
          2011,
          2011,
          2010,
          2011,
          2009,
          2009,
          2018,
          2018,
          2015,
          2017,
          2017,
          2017,
          2019,
          2017,
          2017,
          2017,
          2010,
          2008,
          2015,
          2014,
          2015,
          2015,
          2013,
          2015,
          2015,
          2015,
          2015,
          2015,
          2015,
          2015,
          2019,
          2019,
          2019,
          2011,
          2011,
          2018,
          2015,
          2016,
          2011,
          2018,
          2021,
          2021,
          2021,
          2021,
          2021,
          2021,
          2021,
          2021,
          2021,
          2021,
          2014,
          2011,
          2020,
          2020,
          2013,
          2015,
          2020,
          2020,
          2018,
          2018,
          2016,
          2010,
          2015,
          2015,
          2012,
          2011,
          2011,
          2015,
          2013,
          2012,
          2012,
          2019,
          2019,
          2019,
          2019,
          2019,
          2013,
          2013,
          2013,
          2013,
          2013,
          2015,
          2019,
          2013,
          2015,
          2013,
          2013,
          2015,
          2015,
          2012,
          2012,
          2017,
          2017,
          2017,
          2015,
          2015,
          2015,
          2019,
          2018,
          2018,
          2013,
          2013,
          2013,
          2017,
          2017,
          2017,
          2019,
          2016,
          2016,
          2013,
          2019,
          2014,
          2014,
          2021,
          2021,
          2021,
          2010,
          2018,
          2016,
          2013,
          2015,
          2020,
          2020,
          2020,
          2019,
          2020,
          2020,
          2013,
          2019,
          2020,
          2018,
          2017,
          2012,
          2018,
          2025,
          2016,
          2016,
          2017,
          2017,
          2013,
          2016,
          2021,
          2011,
          2017,
          2019,
          2019,
          2019,
          2019,
          2019,
          2019,
          2019,
          2019,
          2019,
          2015,
          2015,
          2015,
          2015,
          2015,
          2016,
          2021,
          2021,
          2021,
          2021,
          2021,
          2021,
          2021,
          2011,
          2011,
          2018,
          2016,
          2015,
          2015,
          2016,
          2016,
          2017,
          2021,
          2019,
          2019,
          2019,
          2010,
          2010,
          2010,
          2017,
          2017,
          2017,
          2019,
          2021,
          2021,
          2021,
          2021,
          2015,
          2014,
          2016,
          2019,
          2019,
          2019,
          2019,
          2019,
          2019,
          2015,
          2015,
          2015,
          2011,
          2019,
          2019,
          2010,
          2009,
          2010,
          2015,
          2015,
          2015,
          2015,
          2015,
          2015,
          2016,
          2016,
          2016,
          2016,
          2016,
          2016,
          2016,
          2016,
          2016,
          2016,
          2010,
          2019,
          2013,
          2013,
          2014,
          2014,
          2015,
          2015,
          2015,
          2015,
          2015,
          2011,
          2020,
          2019,
          2018,
          2018,
          2019,
          2019,
          2019,
          2019,
          2019,
          2015,
          2018,
          2020,
          2017,
          2017,
          2017,
          2017,
          2017,
          2017,
          2017,
          2017,
          2017,
          2017,
          2017,
          2017,
          2017,
          2017,
          2015,
          2015,
          2015,
          2015,
          2015,
          2015,
          2015,
          2015,
          2015,
          2015,
          2016,
          2015,
          2015,
          2015,
          2019,
          2019,
          2019,
          2019,
          2019,
          2018,
          2019,
          2019,
          2018,
          2015,
          2015,
          2015,
          2020,
          2017,
          2017,
          2018,
          2017,
          2017,
          2019,
          2016,
          2017,
          2019,
          2019,
          2020,
          2020,
          2018,
          2016,
          2019,
          2019,
          2020,
          2020,
          2020,
          2020,
          2015,
          2015,
          2015,
          2015,
          2015,
          2017,
          2014,
          2019,
          2017,
          2017,
          2015,
          2015,
          2015,
          2015,
          2015,
          2015,
          2015,
          2015,
          2015,
          2015,
          2015,
          2015,
          2018,
          2014,
          2015,
          2015,
          2015,
          2015,
          2015,
          2015,
          2015,
          2015,
          2015,
          2015,
          2018,
          2014,
          2015,
          2016,
          2015,
          2016,
          2018,
          2021,
          2010,
          2016,
          2015,
          2015,
          2015,
          2017,
          2017,
          2017,
          2017,
          2019,
          2021,
          2019,
          2021,
          2019,
          2017,
          2015,
          2020,
          2015,
          2015,
          2011,
          2011,
          2015,
          2016,
          2016,
          2016,
          2014,
          2021,
          2021,
          2021,
          2021,
          2021,
          2021,
          2021,
          2015,
          2015,
          2015,
          2014,
          2015,
          2015,
          2015,
          2021,
          2021,
          2021,
          2019,
          2019,
          2019,
          2021,
          2021,
          2017,
          2018,
          2018,
          2017,
          2019,
          2018,
          2019,
          2019,
          2019,
          2019,
          2019,
          2015,
          2017,
          2017,
          2015,
          2015,
          2020,
          2017,
          2020,
          2020,
          2020,
          2015,
          2017,
          2015,
          2015,
          2015,
          2015,
          2015,
          2015,
          2015,
          2015,
          2015,
          2021,
          2020,
          2017,
          2017,
          2017,
          2015,
          2017,
          2019,
          2015,
          2015,
          2019,
          2019,
          2019,
          2015,
          2020,
          2019,
          2017,
          2016,
          2015,
          2015,
          2015,
          2015,
          2015,
          2015,
          2017,
          2016,
          2020,
          2020,
          2017,
          2017,
          2017,
          2015,
          2017,
          2017,
          2017,
          2017,
          2017,
          2015,
          2015,
          2015,
          2015,
          2015,
          2015,
          2015,
          2015,
          2015,
          2015,
          2016,
          2017,
          2017,
          2017,
          2017,
          2017,
          2017,
          2017,
          2017,
          2017,
          2017,
          2017,
          2017,
          2017,
          2017,
          2018,
          2021,
          2021,
          2021,
          2021,
          2019,
          2018,
          2020,
          2019,
          2021,
          2020,
          2021,
          2015,
          2015,
          2017,
          2018,
          2019,
          2019,
          2020,
          2019,
          2021,
          2016,
          2021,
          2021,
          2017,
          2017,
          2021,
          2017,
          2019,
          2019,
          2019,
          2021,
          2021,
          2021,
          2021,
          2019,
          2018,
          2018,
          2018,
          2017,
          2017,
          2017,
          2015,
          2015,
          2015,
          2017,
          2017,
          2015,
          2015,
          2020,
          2020,
          2020,
          2021,
          2019,
          2015,
          2015,
          2015,
          2015,
          2021,
          2017,
          2021,
          2021,
          2021,
          2021,
          2021,
          2015,
          2021,
          2019,
          2020,
          2015,
          2017,
          2020,
          2018,
          2017,
          2021,
          2021,
          2021,
          2021,
          2019,
          2020,
          2020,
          2015,
          2015,
          2015,
          2015,
          2015,
          2013,
          2015,
          2020,
          2016,
          2018,
          2019,
          2019,
          2018,
          2018,
          2015,
          2015,
          2015,
          2015,
          2015,
          2015,
          2020,
          2011,
          2020,
          2019,
          2021,
          2021,
          2015,
          2015,
          2015,
          2015,
          2016,
          2019,
          2019,
          2019,
          2020,
          2020,
          2015,
          2015,
          2015,
          2015,
          2015,
          2015,
          2019,
          2016,
          2019,
          2019,
          2021,
          2021,
          2021,
          2021,
          2021,
          2021,
          2016,
          2017,
          2017,
          2015,
          2015,
          2015,
          2015,
          2015,
          2015,
          2014,
          2021,
          2021,
          2021,
          2016,
          2016,
          2016,
          2016,
          2017,
          2017,
          2020,
          2020,
          2015,
          2016,
          2016,
          2016,
          2016,
          2017,
          2017,
          2015,
          2019,
          2019,
          2019,
          2020,
          2018,
          2019,
          2020,
          2016,
          2018,
          2021,
          2019,
          2019,
          2019,
          2014,
          2015,
          2015,
          2017,
          2017,
          2017,
          2017,
          2016,
          2018,
          2018,
          2015,
          2017,
          2017,
          2017,
          2017,
          2021,
          2021,
          2021,
          2021,
          2017,
          2017,
          2020,
          2016,
          2021,
          2021,
          2021,
          2021,
          2021,
          2021,
          2021,
          2021,
          2021,
          2021,
          2020,
          2021,
          2021,
          2021,
          2021,
          2019,
          2019,
          2015,
          2015,
          2015,
          2015,
          2015,
          2015,
          2019,
          2016,
          2016,
          2017,
          2017,
          2017,
          2020,
          2020,
          2019,
          2019,
          2018,
          2016,
          2016,
          2016,
          2021,
          2021,
          2016,
          2016,
          2016,
          2016,
          2021,
          2021,
          2020,
          2020,
          2020,
          2018,
          2015,
          2015,
          2017,
          2018,
          2017,
          2017,
          2017,
          2017,
          2017,
          2017,
          2014,
          2014,
          2015,
          2017,
          2017,
          2017,
          2017,
          2017,
          2021,
          2021,
          2021,
          2018,
          2016,
          2019,
          2018,
          2019,
          2015,
          2019,
          2015,
          2018,
          2018,
          2015,
          2015,
          2015,
          2015,
          2018,
          2016,
          2017,
          2020,
          2020,
          2020,
          2021,
          2015,
          2018,
          2018,
          2015,
          2015,
          2015,
          2015,
          2015,
          2015,
          2015,
          2015,
          2017,
          2021,
          2021,
          2021,
          2021,
          2021,
          2021,
          2019,
          2021,
          2021,
          2019,
          2019,
          2019,
          2018,
          2018,
          2016,
          2014,
          2015,
          2015,
          2016,
          2016,
          2016,
          2020,
          2019,
          2019,
          2019,
          2015,
          2015,
          2015,
          2015,
          2015,
          2018,
          2015,
          2015,
          2015,
          2015,
          2015,
          2016,
          2020,
          2020,
          2019,
          2019,
          2019,
          2021,
          2021,
          2021,
          2021,
          2021,
          2021,
          2019,
          2019,
          2019,
          2020,
          2015,
          2016,
          2016,
          2021,
          2021,
          2015,
          2015,
          2021,
          2021,
          2015,
          2015,
          2015,
          2017,
          2019,
          2019,
          2015,
          2015,
          2015,
          2015,
          2015,
          2015,
          2019,
          2019,
          2021,
          2019,
          2021,
          2021,
          2021,
          2021,
          2021,
          2021,
          2021,
          2021,
          2015,
          2019,
          2015,
          2021,
          2021,
          2021,
          2015,
          2016,
          2015,
          2015,
          2015,
          2015,
          2015,
          2015,
          2015,
          2015,
          2015,
          2015,
          2017,
          2017,
          2015,
          2013,
          2021,
          2018,
          2018,
          2018,
          2020,
          2016,
          2018,
          2018,
          2021,
          2021,
          2021,
          2020,
          2016,
          2016,
          2016,
          2019,
          2021,
          2015,
          2015,
          2015,
          2015,
          2015,
          2015,
          2015,
          2015,
          2015,
          2021,
          2015,
          2021,
          2021,
          2021,
          2015,
          2021,
          2019,
          2014,
          2021,
          2021,
          2021,
          2021,
          2016,
          2016,
          2016,
          2016,
          2021,
          2019,
          2019,
          2019,
          2019,
          2019,
          2019,
          2019,
          2019,
          2019,
          2021,
          2021,
          2019,
          2019,
          2019,
          2021,
          2021,
          2021,
          2016,
          2016,
          2016,
          2016,
          2016,
          2016,
          2016,
          2021,
          2021,
          2020,
          2020,
          2020,
          2020,
          2020,
          2020,
          2016,
          2016,
          2016,
          2016,
          2019,
          2021
         ],
         "x0": " ",
         "xaxis": "x",
         "y": [
          7.15,
          5.28,
          9,
          6.44,
          6.72,
          6.6,
          5.29,
          6.19,
          6.36,
          5.47,
          4.62,
          6.8,
          6.55,
          6.32,
          5.38,
          6.11,
          6.85,
          6.77,
          6.82,
          7.46,
          8.11,
          6.63,
          7.1,
          5.85,
          6.33,
          6.64,
          6.85,
          6.5,
          6.43,
          5.06,
          5.48,
          5.46,
          6.54,
          8.85,
          7.3,
          8.38,
          6.42,
          5.55,
          5.39,
          7.25,
          5.8,
          6,
          7.32,
          6.11,
          4.84,
          7.3,
          6.54,
          6.96,
          6.37,
          6.77,
          6.77,
          5.89,
          6.8,
          7.7,
          5,
          6.71,
          7.89,
          8.54,
          7.4,
          7.89,
          7.85,
          9.22,
          9.15,
          8.7,
          6.96,
          6.62,
          5.18,
          6.12,
          5.18,
          7.16,
          7.05,
          5.43,
          8.39,
          6.22,
          9.14,
          6.39,
          7.49,
          9.4,
          9.22,
          6.83,
          9.22,
          8.33,
          7.12,
          5.66,
          6.48,
          6.28,
          7.72,
          7.05,
          7.39,
          5.39,
          7.04,
          4.92,
          5.13,
          6.19,
          6.61,
          6.8,
          5.46,
          6.27,
          6.7,
          7.04,
          6.89,
          8.26,
          7.52,
          6.72,
          6.36,
          7.27,
          7.89,
          5.16,
          4.94,
          5.77,
          8.06,
          8.92,
          7.36,
          4.51,
          5.51,
          5.92,
          9.01,
          8.82,
          7.16,
          6.17,
          6.68,
          5.75,
          7.82,
          5.93,
          7.35,
          6.62,
          6.75,
          8.47,
          7.38,
          9.22,
          8.92,
          8.29,
          7.46,
          7.23,
          5.13,
          6.42,
          6.44,
          5.62,
          7.06,
          8.07,
          9.1,
          9.3,
          6.62,
          7.33,
          6.09,
          7.64,
          8.36,
          6.68,
          6.54,
          9.3,
          7.01,
          6.35,
          6.7,
          7.35,
          7.41,
          7.89,
          6.75,
          5.44,
          6.33,
          6.11,
          7.72,
          5.17,
          5.23,
          6.29,
          6.05,
          6.6,
          6.82,
          6.84,
          7.22,
          8.85,
          7.07,
          5.22,
          6.46,
          6.92,
          8.15,
          9,
          6.01,
          5.01,
          5.92,
          8.32,
          5.82,
          5.92,
          6.03,
          6.42,
          7.03,
          6.71,
          6.82,
          7.14,
          5.69,
          5.43,
          9,
          4.52,
          5.9,
          6.08,
          6.1,
          6.27,
          8.31,
          7.92,
          6.92,
          8.68,
          7.48,
          8.17,
          6.96,
          8.2,
          8,
          6.7,
          6.8,
          6.06,
          6.41,
          6.85,
          7.28,
          7.17,
          6.36,
          7.28,
          5.92,
          5.96,
          6.19,
          5.85,
          6.39,
          7.89,
          6.41,
          7.8,
          8.7,
          5.75,
          5.48,
          6.49,
          6.55,
          8.25,
          8,
          6.07,
          6.28,
          6.68,
          5.3,
          6.15,
          6.39,
          6.77,
          5.5,
          5.12,
          5.5,
          8.3,
          7.85,
          6.01,
          7.51,
          5.72,
          7,
          7.28,
          6.41,
          6.89,
          8.15,
          7.21,
          6.31,
          6.72,
          7.47,
          6.12,
          5.18,
          6.68,
          7.65,
          7.54,
          6.84,
          7.18,
          7.03,
          5.54,
          7.03,
          5.49,
          5.15,
          5.38,
          7.01,
          6.4,
          9,
          6.84,
          6.58,
          6.04,
          5.29,
          6.8,
          6.6,
          6.75,
          7.3,
          5.75,
          4.54,
          6.64,
          5.47,
          8.24,
          6.96,
          7.87,
          5.77,
          6.31,
          6.8,
          6.75,
          6.89,
          5.8,
          7.8,
          6.78,
          6.58,
          6.72,
          7.29,
          7.47,
          8.24,
          6.28,
          5.92,
          4.93,
          8.28,
          6.34,
          8.21,
          7.16,
          5.66,
          7.76,
          8.92,
          7.17,
          7.75,
          7.75,
          7.06,
          7.16,
          7.2,
          6.7,
          6.86,
          7.28,
          7.24,
          6.68,
          7.5,
          6,
          6.4,
          5.36,
          8.14,
          7.64,
          5.58,
          5.25,
          7.7,
          9.3,
          8.85,
          8.04,
          8.6,
          6.54,
          7.36,
          8.64,
          7.6,
          7.36,
          6.52,
          7.6,
          6.1,
          6.85,
          6.72,
          6.13,
          6.65,
          6.41,
          8,
          7.96,
          7.96,
          8.02,
          7.99,
          8.32,
          6.15,
          7.92,
          8.52,
          6.28,
          7.5,
          8.11,
          5.7,
          6.7,
          5.83,
          7,
          6.15,
          5.51,
          5.55,
          5.82,
          5.92,
          7.19,
          7.75,
          6,
          7.26,
          7.37,
          6.33,
          6.66,
          6.35,
          7.36,
          6.72,
          6.96,
          7.21,
          6.57,
          6.75,
          7.72,
          7.92,
          7.33,
          7.22,
          4.62,
          6.85,
          8.32,
          9.15,
          9.22,
          5.68,
          6.21,
          6.85,
          7.75,
          6.85,
          6.14,
          9.4,
          6.15,
          6.43,
          7.52,
          5.19,
          7.25,
          9.32,
          6.89,
          5.57,
          5.92,
          5.81,
          5.88,
          5.8,
          6.19,
          5.55,
          7.7,
          7.06,
          6.51,
          6.48,
          6.82,
          7.55,
          6.82,
          7.14,
          6.89,
          6.3,
          6.99,
          9.1,
          6.28,
          6.54,
          6.96,
          7.19,
          6.19,
          6.1,
          6.89,
          6.43,
          7.11,
          7.44,
          7.8,
          6.92,
          7.01,
          6.16,
          5.7,
          6.55,
          5.85,
          7.01,
          7.51,
          8.82,
          4.51,
          7.31,
          8.27,
          7,
          7.52,
          6.15,
          5.32,
          5.51,
          7.18,
          5.58,
          6.64,
          6.19,
          8.4,
          6.77,
          6.7,
          6.46,
          6.6,
          6.89,
          6.52,
          6.34,
          7.35,
          6.42,
          7,
          6.01,
          6.1,
          6.3,
          7.3,
          5.09,
          6.22,
          5.77,
          6.01,
          6.6,
          7.2,
          5.44,
          6.94,
          7.07,
          7.51,
          7.4,
          7.06,
          5.29,
          6.77,
          6.82,
          6.55,
          5.7,
          7.01,
          6.7,
          7.12,
          6.68,
          7.7,
          7.45,
          5.56,
          5.09,
          5.03,
          7.15,
          6.82,
          7.68,
          7.46,
          9.4,
          6.04,
          5.28,
          5.82,
          6.7,
          6.5,
          6.37,
          8.44,
          7.44,
          7.55,
          6.13,
          6.8,
          6.57,
          7.57,
          7.8,
          6.12,
          6.06,
          6.82,
          7.28,
          5.47,
          8.15,
          8.22,
          6.22,
          7.5,
          6.22,
          6.93,
          5.96,
          6.12,
          6.64,
          7.54,
          5.37,
          5.43,
          8.44,
          5.97,
          5.16,
          6.68,
          8.32,
          6.51,
          7.33,
          6.36,
          8.12,
          8.55,
          6.9,
          5.95,
          8.8,
          7.82,
          8.29,
          8.15,
          8.11,
          8.48,
          8.36,
          9,
          9.3,
          8,
          5.25,
          8.01,
          6.83,
          7.38,
          6.7,
          6.61,
          7.52,
          7.66,
          8.07,
          6.03,
          5.54,
          9.05,
          7.5,
          6.59,
          5.8,
          6.3,
          7.13,
          5.96,
          5.24,
          6.7,
          6.08,
          6.4,
          7.6,
          6.62,
          6.92,
          6.82,
          6.82,
          5.36,
          6.39,
          6.51,
          6.02,
          6.2,
          6.92,
          6.94,
          8.01,
          6.82,
          6.16,
          6.15,
          7.62,
          5.39,
          6.36,
          7.06,
          5.82,
          6.33,
          7.09,
          7.1,
          7.08,
          7.1,
          9.26,
          5.17,
          4.8,
          7.34,
          6.08,
          8.05,
          8.64,
          5.72,
          6.62,
          7.28,
          6.2,
          8.8,
          8.49,
          5.79,
          7.1,
          5.6,
          5.53,
          6.85,
          6.07,
          6.68,
          7.25,
          5.51,
          5,
          6.06,
          5.28,
          8.82,
          8.3,
          6.96,
          7.35,
          7.34,
          8.77,
          8.32,
          8.8,
          7.26,
          6.72,
          6.85,
          7,
          8.39,
          6.88,
          6.25,
          5.73,
          5.24,
          6.89,
          5.62,
          7.22,
          7.39,
          7.1,
          7.66,
          5.33,
          7.1,
          7.85,
          7.54,
          7.42,
          7.43,
          6.21,
          6.11,
          6.05,
          6.06,
          6.82,
          7.24,
          8.92,
          8.23,
          6.92,
          6.35,
          6.01,
          6.75,
          6.54,
          7,
          6.13,
          7.36,
          6.57,
          6.5,
          6.34,
          6.61,
          8.89,
          5.02,
          6.15,
          6.75,
          6.54,
          6.64,
          7.77,
          6.23,
          6.47,
          7.29,
          7.57,
          6.11,
          7.72,
          7.7,
          9.15,
          7.14,
          6.97,
          6.75,
          6.42,
          6.63,
          6.38,
          6.6,
          7.06,
          6.55,
          6.21,
          6.21,
          6.77,
          7.06,
          10.15,
          4.7,
          6.5,
          6.3,
          9.04,
          6.93,
          8.23,
          7.48,
          9.34,
          8.8,
          7.16,
          5.64,
          8.3,
          9.7,
          6.82,
          6.29,
          6.6,
          6.24,
          6.11,
          7.52,
          8.04,
          6.11,
          7.26,
          5.59,
          6.5,
          6.2,
          5.6,
          9.1,
          9.13,
          9.82,
          9.89,
          7.02,
          7.16,
          7.92,
          6.12,
          6.42,
          5.66,
          6.3,
          6.48,
          6.94,
          5.6,
          5.6,
          5.57,
          7.43,
          6.8,
          5.64,
          7.96,
          9.24,
          4.3,
          6.96,
          7.6,
          7.89,
          6.08,
          5.74,
          6.44,
          6.54,
          5.3,
          7.48,
          6.64,
          10.82,
          7.05,
          7.39,
          6.61,
          8.07,
          7.82,
          6.1,
          9,
          5.73,
          8.14,
          6.96,
          5.23,
          6.29,
          9.15,
          6.4,
          6.55,
          7.66,
          7.47,
          7.44,
          7.25,
          7.51,
          8.92,
          7.5,
          5.37,
          5.89,
          7.68,
          7.7,
          7.33,
          7.92,
          7.47,
          6.4,
          7.46,
          7.5,
          7.96,
          9.3,
          5.48,
          6.03,
          7.2,
          7.16,
          5.64,
          6.56,
          6.37,
          6.56,
          7.84,
          6.8,
          8.47,
          8.74,
          6.24,
          6.65,
          9.3,
          6.85,
          9.26,
          6.19,
          8.1,
          6.82,
          7.1,
          7.19,
          6.23,
          6.51,
          6.38,
          6.31,
          6.46,
          6.33,
          8.21,
          7.85,
          9,
          9.52,
          6.37,
          5.7,
          6.44,
          6.75,
          6.04,
          6.6,
          8.36,
          5.47,
          6.46,
          8.12,
          8.04,
          7.26,
          5.25,
          7.36,
          7.23,
          5.46,
          7.38,
          6.6,
          6.85,
          6.82,
          6.35,
          5.99,
          5.68,
          6.68,
          6.15,
          6.34,
          6.48,
          6.5,
          6.24,
          6.62,
          9.49,
          9.02,
          8.89,
          6.75,
          6.21,
          5.57,
          6.85,
          6.5,
          5.35,
          6.64,
          8.72,
          9.57,
          8.05,
          7.96,
          6.74,
          7.39,
          7.85,
          6.89,
          8.89,
          9.6,
          7.21,
          6.12,
          8.26,
          5.89,
          7.1,
          5.51,
          6.08,
          6.89,
          7.64,
          5.14,
          5.82,
          6.51,
          8.18,
          6.75,
          6.36,
          6.96,
          6.8,
          8.3,
          7.94,
          8.11,
          7.15,
          6.75,
          6.89,
          6.48,
          7.57,
          7.22,
          5.5,
          6.05,
          7.02,
          7.72,
          8,
          7.18,
          5.84,
          8.51,
          6.58,
          6.42,
          8.52,
          7.19,
          6.38,
          5.82,
          7.33,
          9.22,
          9,
          6.28,
          5.62,
          6.34,
          6.26,
          9.69,
          6.7,
          7.55,
          6.6,
          5.62,
          5.96,
          5.85,
          7.7,
          7.3,
          7.6,
          6.8,
          5.2,
          7.96,
          6.8,
          8.1,
          9.3,
          8.28,
          7.5,
          8.12,
          7.16,
          8.32,
          7.28,
          7.8,
          6.07,
          7.17,
          7.43,
          7.31,
          6.09,
          5.41,
          5.47,
          7.22,
          7.52,
          6.36,
          6.39,
          8.7,
          6.17,
          6.78,
          5.42,
          6.2,
          6.6,
          7.85,
          8.07,
          6.52,
          7.12,
          7.36,
          5.75,
          7.52,
          9.7,
          9.42,
          9.32,
          9.59,
          9.54,
          6.63,
          6.42,
          6.47,
          7.05,
          8.04,
          6.64,
          6.11,
          6.26,
          5.84,
          4.59,
          8.57,
          8.11,
          8.74,
          8.43,
          9.17,
          8.05,
          6.82,
          5.7,
          6.8,
          7.85,
          6.4,
          5.39,
          6.03,
          7.28,
          6.48,
          5.92,
          7.02,
          5.9,
          7.82,
          9.7,
          7.5,
          6.21,
          5,
          7.53,
          6.54,
          6.1,
          7.47,
          8.07,
          7.28,
          7.04,
          7.24,
          6.45,
          9.4,
          5.75,
          10.04,
          6.96,
          7.03,
          6.82,
          7.58,
          6.5,
          6.36,
          6.68,
          6.24,
          8.15,
          8.8,
          6.51,
          6.52,
          7.82,
          5.76,
          6.21,
          6.07,
          6.92,
          6.28,
          6.48,
          6.51,
          7.32,
          6.96,
          6.82,
          6.8,
          7.21,
          6.58,
          6.43,
          7.03,
          7.14,
          6.16,
          7.47,
          6.7,
          6.64,
          6.85,
          8.22,
          7.52,
          6.46,
          8.54,
          6.27,
          6.12,
          6.17,
          7.44,
          4.96,
          8.18,
          7.72,
          7.64,
          5.51,
          7.48,
          8.1,
          5.62,
          5.36,
          8,
          7.11,
          7.54,
          7.77,
          7.18,
          5.96,
          7,
          5.92,
          4.9,
          5.39,
          6.43,
          7.5,
          6.96,
          5.21,
          6.52,
          7.16,
          6.62,
          5.38,
          6.26,
          6.43,
          6.24,
          6.47,
          6.75,
          6.92,
          6.96,
          7.36,
          6.92,
          5.6,
          6.35,
          7.43,
          6.29,
          6.88,
          9.89,
          10.15,
          9.66,
          7.2,
          6.96,
          6.29,
          6.82,
          8.65,
          6.31,
          6.89,
          6.43,
          7.8,
          6.82,
          6.48,
          7.98,
          8.1,
          9.52,
          6.1,
          7.89,
          6.02,
          7.89,
          8.74,
          8,
          6.54,
          5.33,
          6.1,
          10.7,
          6.28,
          8.31,
          6.82,
          6.66,
          6.66,
          6.48,
          6.17,
          6.43,
          7.47,
          6.57,
          8.4,
          7.47,
          7.17,
          9.46,
          5.38,
          6.8,
          6.77,
          7,
          6.34,
          6.85,
          6.3,
          7.21,
          6.7,
          6.96,
          6.85,
          7.39,
          6.96,
          9.63,
          6.41,
          6.89,
          6.28,
          6.35,
          7.62,
          6.12,
          6.09,
          6.38,
          6.1,
          6.7,
          6.57,
          7.49,
          6.52,
          6.96,
          8.15,
          5.24,
          7.24,
          5.74,
          8.42,
          7.16,
          7.12,
          6.77,
          6.46,
          6.57,
          8.34,
          8.77,
          9.22,
          6.44,
          6.87,
          6.81,
          6.09,
          7.5,
          5.89,
          8.05,
          5.75,
          6.17,
          6.37,
          6.03,
          7.24,
          6.77,
          5.58,
          5.2,
          5.1,
          6.3,
          7.48,
          9.7,
          8.85,
          8.35,
          9.29,
          9.32,
          7.77,
          6.65,
          6.06,
          8.14,
          7.35,
          7.37,
          6.26,
          6.25,
          6.32,
          7.21,
          6.8,
          6.51,
          6.92,
          6.8,
          7,
          6.54,
          8.17,
          8,
          6.47,
          6.75,
          5.32,
          9.28,
          5.48,
          6.24,
          6.55,
          6.77,
          7.89,
          7.66,
          7.11,
          8.41,
          6.73,
          6.89,
          5.1,
          7.5,
          5.03,
          6.68,
          6.58,
          8.96,
          8.68,
          8.77,
          6.92,
          7.57,
          6.75,
          6.68,
          7.04,
          6.19,
          6.2,
          8.26,
          6.58,
          7.66,
          7.92,
          8.7,
          7.6,
          5.5,
          5.71,
          7.82,
          10.22,
          6.58,
          6.7,
          8.89,
          7.48,
          8.82,
          7.34,
          5.38,
          10.7,
          9.3,
          4.55,
          6.36,
          6.46,
          6.43,
          6.19,
          7,
          6.72,
          7.96,
          6.8,
          5.28,
          7.54,
          5.92,
          5.85,
          5.99,
          6.01,
          9.1,
          8.89,
          9.3,
          8,
          6.75,
          5.66,
          6,
          7.39,
          6.21,
          8.59,
          6.26,
          7.25,
          7.34,
          6.11,
          6.02,
          6.2,
          5.14,
          5.31,
          6.96,
          6.62,
          6.29,
          6.39,
          6.11,
          7,
          7.52,
          6.39,
          8.3,
          8.4,
          8.04,
          6.7,
          7.6,
          6.92,
          6.3,
          6.79,
          7.18,
          10.7,
          5.74,
          7.82,
          5.6,
          5.58,
          5.77,
          7.64,
          6.08,
          6.51,
          6.41,
          6.38,
          7.64,
          6.58,
          5.55,
          5.7,
          6.56,
          6.64,
          9.52,
          6.95,
          9.4,
          5.44,
          8.3,
          7.62,
          6.28,
          6.89,
          8.42,
          10.7,
          7.92,
          7.16,
          7.27,
          8.52,
          7.13,
          5.32,
          7.4,
          8.22,
          6.16,
          5.85,
          8.32,
          6.21,
          7.12,
          6.52,
          6.96,
          6.52,
          6.96,
          6.37,
          4.85,
          5.57,
          5.38,
          5.25,
          8.59,
          8.06,
          6.96,
          6.75,
          7.8,
          5.7,
          8.79,
          7.42,
          8,
          8.21,
          6.34,
          5.57,
          5.87,
          7.08,
          7.28,
          6.98,
          7.82,
          6.17,
          8.08,
          6.35,
          7.54,
          7.92,
          7.62,
          7.23,
          6.85,
          7,
          7.06,
          7.28,
          5.19,
          5.57,
          7.16,
          5.77,
          7.13,
          5.31,
          5.96,
          6.4,
          7.34,
          7.92,
          6.92,
          5.76,
          7.8,
          6.24,
          6.1,
          6.06,
          6.47,
          7.55,
          6.44,
          7.26,
          5.29,
          6.75,
          5.66,
          6.96,
          8.07,
          8.72,
          7.96,
          7.36,
          7.01,
          5.6,
          9.85,
          7.22,
          7.28,
          6.89,
          6.68,
          6.57,
          6.64,
          7,
          6.5,
          6.62,
          6.82,
          7.92,
          6.43,
          5.33,
          8.05,
          8.85,
          7.89,
          7.3,
          8.07,
          7.54,
          7.38,
          9.04,
          6.36,
          7.6,
          6.04,
          7.72,
          6.44,
          6.28,
          6.44,
          6.51,
          7.8,
          6.15,
          7.31,
          7.1,
          7.72,
          7.22,
          6.43,
          7.31,
          8.92,
          7.89,
          7.35,
          7.52,
          6.47,
          7.34,
          7.38,
          7.72,
          6.54,
          7.92,
          8.1,
          7,
          9.54,
          6.85,
          6.57,
          7.14,
          7.28,
          6.28,
          7.24,
          5.8,
          7.36,
          6.37,
          9.48,
          7.21,
          6.63,
          9.52,
          8.48,
          7.2,
          6.66,
          5.43,
          8.49,
          7.36,
          5.06,
          5.5,
          5.7,
          6.44,
          8.06,
          6.77,
          7.77,
          5.46,
          7.22,
          7.33,
          6.97,
          9.28,
          8.74,
          9.15,
          7.17,
          7.27,
          7.84,
          8.7,
          8.7,
          8.7,
          8.15,
          8.22,
          8.05,
          6.7,
          7.22,
          6.82,
          7.1,
          7.7,
          7.52,
          8,
          6.63,
          6.83,
          7.07,
          6.23,
          7.6,
          6.39,
          6.27,
          6.85,
          6.16,
          5.48,
          6.1,
          6.6,
          6.5,
          6.12,
          7.66,
          6.66,
          6.48,
          10.74,
          6.42,
          8.71,
          7,
          6.04,
          6.48,
          6.16,
          6.94,
          7.14,
          6.64,
          5.96,
          6.51,
          7.31,
          6.03,
          7.58,
          7.66,
          6.16,
          5.85,
          7.23,
          7.44,
          7.89,
          5.76,
          8.1,
          8.4,
          5.47,
          6.48,
          6,
          6.8,
          7.64,
          8.8,
          6.7,
          7.42,
          6.32,
          8.1,
          5.82,
          6.92,
          7.29,
          7.64,
          7.92,
          6.6,
          7.5,
          7.31,
          5.68,
          6.52,
          6.12,
          5.28,
          5.61,
          8.05,
          6.86,
          7.31,
          6.62,
          6.48,
          6.12,
          7.15,
          7.04,
          8.1,
          7.17,
          8.1,
          8.22,
          6.22,
          5.44,
          5.82,
          7.74,
          6.51,
          6.58,
          6.48,
          6.82,
          6.85,
          6.37,
          7.5,
          5.37,
          7.34,
          7.2,
          6.23,
          6.56,
          7.37,
          7.32,
          8.3,
          6.68,
          6.18,
          8,
          10.07,
          7,
          6.43,
          7.32,
          7.5,
          7.13,
          6.4,
          6.39,
          6.82,
          6.64,
          6.32,
          7.54,
          7.36,
          7.22,
          7.82,
          8.32,
          6.38,
          6.51,
          7.17,
          6.47,
          6.21,
          7.13,
          7,
          7,
          7.8,
          6.44,
          6.4,
          4.38,
          8.05,
          7.34,
          6.89,
          8.28,
          6.64,
          9.3,
          9.36,
          9.27,
          7.77,
          7.85,
          7.8,
          5.64,
          5.82,
          5.81,
          7.12,
          6.12,
          7.66,
          7.58,
          5.92,
          7.05,
          6.7,
          6.23,
          9.6,
          8.19,
          6.23,
          6.41,
          6.27,
          7.24,
          7.38,
          6.6,
          7.42,
          6.77,
          6.8,
          6.51,
          6.01,
          7.03,
          7.4,
          7.06,
          8.02,
          7.24,
          8.8,
          9.15,
          9.72,
          7.89,
          7.28,
          7.14,
          7.39,
          6.47,
          7.96,
          5.64,
          7.55,
          6.87,
          7.29,
          7.31,
          5.69,
          6.62,
          5.25,
          6.2,
          6.68,
          7.02,
          6.24,
          6.34,
          7.5,
          6.47,
          6.31,
          6.96,
          6.32,
          8,
          7.12,
          7.14,
          8.7,
          5.4,
          5.62,
          5.93,
          8.15,
          7.43,
          5.63,
          5.67,
          8.4,
          7.91,
          6.83,
          7.25,
          6.38,
          6.96,
          7.21,
          6.72,
          6.89,
          8.55,
          7.28,
          6.24,
          6.41,
          8.31,
          6.06,
          7.66,
          6.62,
          6.8,
          8.2,
          6.32,
          7.39,
          6.79,
          7.38,
          5.55,
          7.21,
          7.7,
          7.44,
          8.24,
          8.3,
          7.96,
          7.4,
          7.42,
          6.8,
          6.82,
          7.19,
          7.1,
          9.47,
          9.92,
          10.46,
          10.62,
          6.21,
          6.83,
          6.87,
          6.54,
          7.09,
          7.89,
          8.7,
          9.31,
          6.8,
          6.75,
          8.37,
          7.97,
          7.75,
          6.58,
          7.58,
          7.08,
          7.1,
          6.7,
          6.36,
          7.62,
          8.09,
          7.41,
          6.32,
          8,
          7.4,
          6.72,
          7.62,
          8.1,
          7.75,
          7.21,
          7.35,
          6.46,
          5.76,
          8.69
         ],
         "y0": " ",
         "yaxis": "y"
        }
       ],
       "layout": {
        "boxmode": "group",
        "legend": {
         "tracegroupgap": 0
        },
        "margin": {
         "t": 60
        },
        "template": {
         "data": {
          "bar": [
           {
            "error_x": {
             "color": "#2a3f5f"
            },
            "error_y": {
             "color": "#2a3f5f"
            },
            "marker": {
             "line": {
              "color": "#E5ECF6",
              "width": 0.5
             },
             "pattern": {
              "fillmode": "overlay",
              "size": 10,
              "solidity": 0.2
             }
            },
            "type": "bar"
           }
          ],
          "barpolar": [
           {
            "marker": {
             "line": {
              "color": "#E5ECF6",
              "width": 0.5
             },
             "pattern": {
              "fillmode": "overlay",
              "size": 10,
              "solidity": 0.2
             }
            },
            "type": "barpolar"
           }
          ],
          "carpet": [
           {
            "aaxis": {
             "endlinecolor": "#2a3f5f",
             "gridcolor": "white",
             "linecolor": "white",
             "minorgridcolor": "white",
             "startlinecolor": "#2a3f5f"
            },
            "baxis": {
             "endlinecolor": "#2a3f5f",
             "gridcolor": "white",
             "linecolor": "white",
             "minorgridcolor": "white",
             "startlinecolor": "#2a3f5f"
            },
            "type": "carpet"
           }
          ],
          "choropleth": [
           {
            "colorbar": {
             "outlinewidth": 0,
             "ticks": ""
            },
            "type": "choropleth"
           }
          ],
          "contour": [
           {
            "colorbar": {
             "outlinewidth": 0,
             "ticks": ""
            },
            "colorscale": [
             [
              0,
              "#0d0887"
             ],
             [
              0.1111111111111111,
              "#46039f"
             ],
             [
              0.2222222222222222,
              "#7201a8"
             ],
             [
              0.3333333333333333,
              "#9c179e"
             ],
             [
              0.4444444444444444,
              "#bd3786"
             ],
             [
              0.5555555555555556,
              "#d8576b"
             ],
             [
              0.6666666666666666,
              "#ed7953"
             ],
             [
              0.7777777777777778,
              "#fb9f3a"
             ],
             [
              0.8888888888888888,
              "#fdca26"
             ],
             [
              1,
              "#f0f921"
             ]
            ],
            "type": "contour"
           }
          ],
          "contourcarpet": [
           {
            "colorbar": {
             "outlinewidth": 0,
             "ticks": ""
            },
            "type": "contourcarpet"
           }
          ],
          "heatmap": [
           {
            "colorbar": {
             "outlinewidth": 0,
             "ticks": ""
            },
            "colorscale": [
             [
              0,
              "#0d0887"
             ],
             [
              0.1111111111111111,
              "#46039f"
             ],
             [
              0.2222222222222222,
              "#7201a8"
             ],
             [
              0.3333333333333333,
              "#9c179e"
             ],
             [
              0.4444444444444444,
              "#bd3786"
             ],
             [
              0.5555555555555556,
              "#d8576b"
             ],
             [
              0.6666666666666666,
              "#ed7953"
             ],
             [
              0.7777777777777778,
              "#fb9f3a"
             ],
             [
              0.8888888888888888,
              "#fdca26"
             ],
             [
              1,
              "#f0f921"
             ]
            ],
            "type": "heatmap"
           }
          ],
          "heatmapgl": [
           {
            "colorbar": {
             "outlinewidth": 0,
             "ticks": ""
            },
            "colorscale": [
             [
              0,
              "#0d0887"
             ],
             [
              0.1111111111111111,
              "#46039f"
             ],
             [
              0.2222222222222222,
              "#7201a8"
             ],
             [
              0.3333333333333333,
              "#9c179e"
             ],
             [
              0.4444444444444444,
              "#bd3786"
             ],
             [
              0.5555555555555556,
              "#d8576b"
             ],
             [
              0.6666666666666666,
              "#ed7953"
             ],
             [
              0.7777777777777778,
              "#fb9f3a"
             ],
             [
              0.8888888888888888,
              "#fdca26"
             ],
             [
              1,
              "#f0f921"
             ]
            ],
            "type": "heatmapgl"
           }
          ],
          "histogram": [
           {
            "marker": {
             "pattern": {
              "fillmode": "overlay",
              "size": 10,
              "solidity": 0.2
             }
            },
            "type": "histogram"
           }
          ],
          "histogram2d": [
           {
            "colorbar": {
             "outlinewidth": 0,
             "ticks": ""
            },
            "colorscale": [
             [
              0,
              "#0d0887"
             ],
             [
              0.1111111111111111,
              "#46039f"
             ],
             [
              0.2222222222222222,
              "#7201a8"
             ],
             [
              0.3333333333333333,
              "#9c179e"
             ],
             [
              0.4444444444444444,
              "#bd3786"
             ],
             [
              0.5555555555555556,
              "#d8576b"
             ],
             [
              0.6666666666666666,
              "#ed7953"
             ],
             [
              0.7777777777777778,
              "#fb9f3a"
             ],
             [
              0.8888888888888888,
              "#fdca26"
             ],
             [
              1,
              "#f0f921"
             ]
            ],
            "type": "histogram2d"
           }
          ],
          "histogram2dcontour": [
           {
            "colorbar": {
             "outlinewidth": 0,
             "ticks": ""
            },
            "colorscale": [
             [
              0,
              "#0d0887"
             ],
             [
              0.1111111111111111,
              "#46039f"
             ],
             [
              0.2222222222222222,
              "#7201a8"
             ],
             [
              0.3333333333333333,
              "#9c179e"
             ],
             [
              0.4444444444444444,
              "#bd3786"
             ],
             [
              0.5555555555555556,
              "#d8576b"
             ],
             [
              0.6666666666666666,
              "#ed7953"
             ],
             [
              0.7777777777777778,
              "#fb9f3a"
             ],
             [
              0.8888888888888888,
              "#fdca26"
             ],
             [
              1,
              "#f0f921"
             ]
            ],
            "type": "histogram2dcontour"
           }
          ],
          "mesh3d": [
           {
            "colorbar": {
             "outlinewidth": 0,
             "ticks": ""
            },
            "type": "mesh3d"
           }
          ],
          "parcoords": [
           {
            "line": {
             "colorbar": {
              "outlinewidth": 0,
              "ticks": ""
             }
            },
            "type": "parcoords"
           }
          ],
          "pie": [
           {
            "automargin": true,
            "type": "pie"
           }
          ],
          "scatter": [
           {
            "fillpattern": {
             "fillmode": "overlay",
             "size": 10,
             "solidity": 0.2
            },
            "type": "scatter"
           }
          ],
          "scatter3d": [
           {
            "line": {
             "colorbar": {
              "outlinewidth": 0,
              "ticks": ""
             }
            },
            "marker": {
             "colorbar": {
              "outlinewidth": 0,
              "ticks": ""
             }
            },
            "type": "scatter3d"
           }
          ],
          "scattercarpet": [
           {
            "marker": {
             "colorbar": {
              "outlinewidth": 0,
              "ticks": ""
             }
            },
            "type": "scattercarpet"
           }
          ],
          "scattergeo": [
           {
            "marker": {
             "colorbar": {
              "outlinewidth": 0,
              "ticks": ""
             }
            },
            "type": "scattergeo"
           }
          ],
          "scattergl": [
           {
            "marker": {
             "colorbar": {
              "outlinewidth": 0,
              "ticks": ""
             }
            },
            "type": "scattergl"
           }
          ],
          "scattermapbox": [
           {
            "marker": {
             "colorbar": {
              "outlinewidth": 0,
              "ticks": ""
             }
            },
            "type": "scattermapbox"
           }
          ],
          "scatterpolar": [
           {
            "marker": {
             "colorbar": {
              "outlinewidth": 0,
              "ticks": ""
             }
            },
            "type": "scatterpolar"
           }
          ],
          "scatterpolargl": [
           {
            "marker": {
             "colorbar": {
              "outlinewidth": 0,
              "ticks": ""
             }
            },
            "type": "scatterpolargl"
           }
          ],
          "scatterternary": [
           {
            "marker": {
             "colorbar": {
              "outlinewidth": 0,
              "ticks": ""
             }
            },
            "type": "scatterternary"
           }
          ],
          "surface": [
           {
            "colorbar": {
             "outlinewidth": 0,
             "ticks": ""
            },
            "colorscale": [
             [
              0,
              "#0d0887"
             ],
             [
              0.1111111111111111,
              "#46039f"
             ],
             [
              0.2222222222222222,
              "#7201a8"
             ],
             [
              0.3333333333333333,
              "#9c179e"
             ],
             [
              0.4444444444444444,
              "#bd3786"
             ],
             [
              0.5555555555555556,
              "#d8576b"
             ],
             [
              0.6666666666666666,
              "#ed7953"
             ],
             [
              0.7777777777777778,
              "#fb9f3a"
             ],
             [
              0.8888888888888888,
              "#fdca26"
             ],
             [
              1,
              "#f0f921"
             ]
            ],
            "type": "surface"
           }
          ],
          "table": [
           {
            "cells": {
             "fill": {
              "color": "#EBF0F8"
             },
             "line": {
              "color": "white"
             }
            },
            "header": {
             "fill": {
              "color": "#C8D4E3"
             },
             "line": {
              "color": "white"
             }
            },
            "type": "table"
           }
          ]
         },
         "layout": {
          "annotationdefaults": {
           "arrowcolor": "#2a3f5f",
           "arrowhead": 0,
           "arrowwidth": 1
          },
          "autotypenumbers": "strict",
          "coloraxis": {
           "colorbar": {
            "outlinewidth": 0,
            "ticks": ""
           }
          },
          "colorscale": {
           "diverging": [
            [
             0,
             "#8e0152"
            ],
            [
             0.1,
             "#c51b7d"
            ],
            [
             0.2,
             "#de77ae"
            ],
            [
             0.3,
             "#f1b6da"
            ],
            [
             0.4,
             "#fde0ef"
            ],
            [
             0.5,
             "#f7f7f7"
            ],
            [
             0.6,
             "#e6f5d0"
            ],
            [
             0.7,
             "#b8e186"
            ],
            [
             0.8,
             "#7fbc41"
            ],
            [
             0.9,
             "#4d9221"
            ],
            [
             1,
             "#276419"
            ]
           ],
           "sequential": [
            [
             0,
             "#0d0887"
            ],
            [
             0.1111111111111111,
             "#46039f"
            ],
            [
             0.2222222222222222,
             "#7201a8"
            ],
            [
             0.3333333333333333,
             "#9c179e"
            ],
            [
             0.4444444444444444,
             "#bd3786"
            ],
            [
             0.5555555555555556,
             "#d8576b"
            ],
            [
             0.6666666666666666,
             "#ed7953"
            ],
            [
             0.7777777777777778,
             "#fb9f3a"
            ],
            [
             0.8888888888888888,
             "#fdca26"
            ],
            [
             1,
             "#f0f921"
            ]
           ],
           "sequentialminus": [
            [
             0,
             "#0d0887"
            ],
            [
             0.1111111111111111,
             "#46039f"
            ],
            [
             0.2222222222222222,
             "#7201a8"
            ],
            [
             0.3333333333333333,
             "#9c179e"
            ],
            [
             0.4444444444444444,
             "#bd3786"
            ],
            [
             0.5555555555555556,
             "#d8576b"
            ],
            [
             0.6666666666666666,
             "#ed7953"
            ],
            [
             0.7777777777777778,
             "#fb9f3a"
            ],
            [
             0.8888888888888888,
             "#fdca26"
            ],
            [
             1,
             "#f0f921"
            ]
           ]
          },
          "colorway": [
           "#636efa",
           "#EF553B",
           "#00cc96",
           "#ab63fa",
           "#FFA15A",
           "#19d3f3",
           "#FF6692",
           "#B6E880",
           "#FF97FF",
           "#FECB52"
          ],
          "font": {
           "color": "#2a3f5f"
          },
          "geo": {
           "bgcolor": "white",
           "lakecolor": "white",
           "landcolor": "#E5ECF6",
           "showlakes": true,
           "showland": true,
           "subunitcolor": "white"
          },
          "hoverlabel": {
           "align": "left"
          },
          "hovermode": "closest",
          "mapbox": {
           "style": "light"
          },
          "paper_bgcolor": "white",
          "plot_bgcolor": "#E5ECF6",
          "polar": {
           "angularaxis": {
            "gridcolor": "white",
            "linecolor": "white",
            "ticks": ""
           },
           "bgcolor": "#E5ECF6",
           "radialaxis": {
            "gridcolor": "white",
            "linecolor": "white",
            "ticks": ""
           }
          },
          "scene": {
           "xaxis": {
            "backgroundcolor": "#E5ECF6",
            "gridcolor": "white",
            "gridwidth": 2,
            "linecolor": "white",
            "showbackground": true,
            "ticks": "",
            "zerolinecolor": "white"
           },
           "yaxis": {
            "backgroundcolor": "#E5ECF6",
            "gridcolor": "white",
            "gridwidth": 2,
            "linecolor": "white",
            "showbackground": true,
            "ticks": "",
            "zerolinecolor": "white"
           },
           "zaxis": {
            "backgroundcolor": "#E5ECF6",
            "gridcolor": "white",
            "gridwidth": 2,
            "linecolor": "white",
            "showbackground": true,
            "ticks": "",
            "zerolinecolor": "white"
           }
          },
          "shapedefaults": {
           "line": {
            "color": "#2a3f5f"
           }
          },
          "ternary": {
           "aaxis": {
            "gridcolor": "white",
            "linecolor": "white",
            "ticks": ""
           },
           "baxis": {
            "gridcolor": "white",
            "linecolor": "white",
            "ticks": ""
           },
           "bgcolor": "#E5ECF6",
           "caxis": {
            "gridcolor": "white",
            "linecolor": "white",
            "ticks": ""
           }
          },
          "title": {
           "x": 0.05
          },
          "xaxis": {
           "automargin": true,
           "gridcolor": "white",
           "linecolor": "white",
           "ticks": "",
           "title": {
            "standoff": 15
           },
           "zerolinecolor": "white",
           "zerolinewidth": 2
          },
          "yaxis": {
           "automargin": true,
           "gridcolor": "white",
           "linecolor": "white",
           "ticks": "",
           "title": {
            "standoff": 15
           },
           "zerolinecolor": "white",
           "zerolinewidth": 2
          }
         }
        },
        "title": {
         "text": "pChEMBL Value v.s. Year"
        },
        "width": 1000,
        "xaxis": {
         "anchor": "y",
         "domain": [
          0,
          1
         ],
         "title": {
          "text": "Document Year"
         }
        },
        "yaxis": {
         "anchor": "x",
         "domain": [
          0,
          1
         ],
         "title": {
          "text": "pChEMBL Value"
         }
        }
       }
      }
     },
     "metadata": {},
     "output_type": "display_data"
    }
   ],
   "source": [
    "import plotly.express as px\n",
    "fig = px.box(\n",
    "    df,\n",
    "    x='Document Year',\n",
    "    y='pChEMBL Value',\n",
    "    points='all',\n",
    ")\n",
    "fig.update_layout(\n",
    "    title='pChEMBL Value v.s. Year',\n",
    "    # showlegend=False, # Legendのon/off\n",
    "    width=1000,\n",
    "    # height=700\n",
    "    ) \n",
    "fig.show()"
   ]
  },
  {
   "cell_type": "markdown",
   "metadata": {},
   "source": [
    "### matplotlib"
   ]
  },
  {
   "cell_type": "code",
   "execution_count": 4,
   "metadata": {},
   "outputs": [
    {
     "data": {
      "image/png": "[encoded data removed]",
      "text/plain": [
       "<Figure size 640x480 with 1 Axes>"
      ]
     },
     "metadata": {},
     "output_type": "display_data"
    }
   ],
   "source": [
    "import matplotlib.pyplot as plt\n",
    "import numpy as np\n",
    "# Document ChEMBL IDでfiltering\n",
    "# ddf = df[df['Document ChEMBL ID']=='CHEMBL4622984'].dropna(subset=['Ligand Efficiency LLE', 'Molecular Weight', 'pChEMBL Value'])\n",
    "\n",
    "# %%\n",
    "fig, ax = plt.subplots()\n",
    "# ax.set_xticks([400, 600, 800])\n",
    "ax.scatter(x=df['Molecular Weight'], \n",
    "            y=df['Ligand Efficiency LLE'].replace('','0'), \n",
    "            alpha=0.5,\n",
    "            s=df['pChEMBL Value'] *10,\n",
    "            c=df['AlogP']\n",
    "            )\n",
    "ax.set_xlabel(\"Mw\")\n",
    "ax.set_ylabel(\"LLE\")\n",
    "# ax.set_xlim([400,800])\n",
    "plt.show()\n"
   ]
  },
  {
   "cell_type": "markdown",
   "metadata": {},
   "source": [
    "### Plotly.go scatter"
   ]
  },
  {
   "cell_type": "code",
   "execution_count": 126,
   "metadata": {},
   "outputs": [
    {
     "data": {
      "application/vnd.plotly.v1+json": {
       "config": {
        "plotlyServerURL": "https://plot.ly"
       },
       "data": [
        {
         "mode": "markers",
         "type": "scatter",
         "x": [
          459.59,
          359.43,
          309.34,
          398.48,
          470.46,
          312.38,
          382.49,
          465.53,
          522.65,
          437.53,
          217.27,
          323.42,
          243.7,
          337.45,
          280.33,
          445.93,
          443.55,
          375.43,
          389.46,
          449.34,
          312.38,
          334.41,
          309.38,
          499.57,
          385.48,
          310.41,
          324.43,
          328.42,
          382.51,
          493.62,
          286.38,
          294.36,
          439.52,
          354.22,
          240.31,
          322.37,
          350.2,
          246.7,
          301.39,
          466.54,
          398.48,
          471.49,
          382.47,
          316.36,
          592.68,
          390.49,
          435.49,
          459.49,
          473.52,
          473.52,
          405.52,
          401.9,
          371.44,
          373.46,
          386.45,
          518.06,
          386.89,
          311.35,
          376.42,
          373.39,
          377.41,
          400.27,
          396.24,
          276.32,
          488.02,
          408.89,
          415.52,
          373.32,
          464.6,
          345.4,
          317.4,
          312.33,
          428.35,
          372.45,
          306.37,
          518.42,
          312.38,
          306.37,
          466.54,
          445.75,
          444.85,
          308.35,
          516.67,
          489.55,
          569.73,
          526.61,
          306.37,
          302.38,
          491.66,
          364.39,
          314.39,
          483.5,
          413.44,
          385.84,
          456.55,
          444.54,
          335.46,
          303.37,
          327.43,
          417.54,
          378.48,
          300.37,
          320.36,
          358.45,
          382.47,
          382.47,
          361.23,
          314.39,
          389.86,
          309.34,
          371.43,
          433.54,
          388.22,
          316.41,
          247.3,
          363.45,
          384.48,
          382.47,
          399.45,
          260.34,
          450.35,
          529.57,
          439.47,
          476.46,
          378.43,
          289.34,
          289.34,
          381.4,
          357.24,
          442.31,
          485.38,
          371.23,
          381.23,
          497.39,
          402.48,
          295.35,
          462.4,
          393.44,
          446.32,
          367.87,
          408.45,
          408.87,
          378.26,
          466.47,
          372.43,
          401.47,
          312.38,
          389.46,
          261.29,
          426.31,
          338.76,
          397.23,
          442.31,
          495.41,
          442.52,
          425.47,
          401.85,
          386.48,
          497.04,
          346.35,
          306.37,
          468.61,
          348.36,
          464.6,
          360.41,
          378.44,
          271.32,
          393.2,
          407.3,
          362.82,
          331.42,
          369.36,
          444.54,
          544.6,
          385.47,
          381.44,
          374.47,
          457.47,
          339.18,
          350.2,
          380.23,
          267.12,
          282.13,
          247.69,
          364.23,
          368.19,
          368.44,
          487.6,
          378.46,
          287.37,
          309.34,
          378.36,
          323.42,
          352.22,
          267.12,
          234.21,
          360.2,
          309.37,
          375.43,
          358.45,
          286.34,
          337.77,
          384.48,
          300.37,
          340.77,
          385.47,
          337.39,
          363.43,
          490.56,
          292.35,
          309.37,
          319.37,
          352.83,
          366.85,
          530.64,
          374.47,
          377.4,
          427.46,
          397.48,
          425.47,
          410.41,
          421.46,
          425.47,
          358.2,
          658.48,
          371.41,
          308.35,
          412.84,
          495.43,
          435.45,
          380.37,
          445.45,
          468.44,
          310.41,
          266.31,
          280.34,
          296.33,
          294.36,
          348.33,
          309.34,
          360.2,
          337.43,
          286.33,
          300.67,
          306.15,
          301.39,
          288.35,
          272.35,
          302.38,
          371.43,
          312.38,
          274.32,
          288.35,
          442.49,
          641.62,
          351.74,
          368.19,
          392.51,
          342.4,
          396.24,
          464.36,
          275.31,
          515.61,
          409.45,
          485.58,
          485.58,
          301.39,
          276.32,
          309.34,
          350.45,
          418.54,
          439.47,
          471.49,
          345.45,
          331.42,
          486.57,
          472.59,
          488.02,
          464.55,
          308.35,
          308.35,
          497.04,
          287.37,
          443.31,
          526.52,
          326.45,
          366.35,
          475.48,
          340.43,
          398.48,
          473.36,
          376.75,
          372.22,
          379.47,
          391.52,
          402.5,
          392.51,
          255.36,
          241.3,
          428.5,
          431.5,
          428.5,
          270.34,
          358.35,
          367.38,
          409.44,
          436.49,
          436.49,
          498.53,
          425.47,
          422.46,
          480.54,
          480.54,
          506.55,
          387.42,
          312.38,
          310.36,
          406.49,
          426.46,
          403.36,
          403.48,
          348.4,
          312.38,
          432.48,
          425.51,
          309.37,
          367.38,
          306.37,
          393.2,
          375.21,
          368.19,
          367.84,
          323.4,
          378.45,
          408.51,
          364.43,
          511.63,
          359.43,
          483.58,
          535.67,
          457.58,
          376.75,
          376.75,
          407.26,
          306.37,
          393.23,
          417.26,
          374.23,
          404.25,
          350.2,
          320.4,
          312.38,
          330.32,
          332.41,
          396.43,
          380.23,
          430.53,
          339.46,
          462.6,
          323.4,
          312.38,
          198.22,
          262.7,
          296.16,
          360.2,
          338.19,
          353.21,
          332.41,
          269.31,
          291.31,
          364.43,
          446.56,
          524.69,
          334.37,
          421.47,
          342.42,
          424.44,
          468.49,
          515.55,
          459.51,
          407.52,
          411.94,
          396.47,
          399.52,
          400.27,
          350.2,
          381.23,
          397.23,
          529.57,
          312.38,
          490.58,
          501.63,
          486.57,
          470.53,
          409.37,
          389.41,
          393.45,
          306.37,
          530.46,
          466.54,
          422.46,
          342.45,
          515.71,
          312.38,
          531.7,
          368.46,
          257.34,
          261.32,
          314.39,
          282.35,
          328.42,
          364.43,
          376.46,
          375.41,
          329.43,
          388.5,
          410.47,
          431.54,
          341.42,
          356.38,
          499.52,
          519.62,
          368.39,
          380.88,
          394.91,
          333.4,
          436.95,
          350.4,
          357.42,
          614.22,
          354.76,
          348.43,
          253.31,
          563.65,
          359.29,
          450.35,
          340.81,
          306.37,
          347.38,
          548.83,
          323.4,
          301.39,
          450.33,
          380.23,
          366.81,
          473.58,
          475.59,
          239.32,
          466.54,
          354.44,
          444.56,
          324.43,
          499.57,
          417.95,
          429.48,
          416.27,
          462.9,
          414.44,
          265.28,
          384.85,
          478.5,
          454.46,
          450.57,
          364.46,
          323.36,
          425.42,
          364.45,
          372.43,
          401.35,
          324.39,
          340.36,
          520.64,
          406.44,
          507.52,
          469.52,
          404.37,
          564.66,
          468.34,
          468.34,
          443.5,
          442.49,
          340.17,
          274.32,
          302.38,
          386.24,
          384.85,
          417.47,
          353.43,
          302.38,
          309.33,
          312.38,
          549.6,
          526.52,
          489.55,
          384.48,
          524.69,
          524.69,
          401.85,
          323.4,
          323.36,
          342.4,
          333.4,
          271.32,
          340.43,
          342.42,
          380.52,
          316.38,
          392.48,
          406.46,
          354.46,
          378.4,
          520.64,
          399.45,
          452.49,
          478.53,
          462.49,
          339.4,
          376.41,
          310.36,
          434.45,
          324.39,
          429.48,
          472.37,
          386.46,
          470.43,
          430.48,
          250.66,
          359.22,
          303.36,
          287.37,
          312.38,
          382.49,
          410.54,
          367.35,
          390.49,
          354.46,
          393.4,
          256.31,
          394.26,
          446.94,
          411.46,
          375.46,
          376.75,
          417.26,
          384.65,
          368.19,
          392.24,
          393.27,
          379.25,
          365.22,
          306.37,
          518.61,
          316.41,
          287.39,
          420.52,
          312.38,
          447.47,
          438.54,
          421.28,
          408.29,
          364.23,
          283.36,
          485.54,
          306.37,
          394.36,
          409.44,
          398.48,
          539.64,
          364.23,
          267.12,
          483.5,
          448.49,
          387.85,
          442.95,
          366.85,
          366.85,
          492.53,
          244.3,
          469.52,
          455.4,
          427.9,
          381.4,
          360.42,
          473.58,
          462.55,
          425.51,
          382.47,
          300.37,
          410.52,
          399.47,
          312.38,
          475.64,
          366.2,
          425.51,
          395.51,
          437.93,
          488.59,
          472.59,
          486.62,
          474.61,
          306.37,
          342.44,
          246.31,
          457.49,
          373.48,
          310.36,
          440.85,
          614.22,
          283.11,
          371.43,
          312.38,
          351.74,
          394.21,
          342.45,
          399.5,
          291.31,
          291.31,
          298.39,
          346.39,
          474.49,
          255.32,
          391.44,
          425.89,
          390.47,
          388.5,
          407.26,
          326.4,
          287.37,
          435.56,
          435.56,
          337.43,
          312.38,
          376.75,
          281.31,
          389.44,
          281.32,
          269.31,
          388.22,
          357.38,
          387.47,
          335.43,
          459.51,
          457.53,
          349.78,
          364.43,
          393.41,
          288.35,
          288.35,
          380.37,
          461.5,
          367.46,
          392.51,
          422.53,
          271.32,
          420.36,
          340.43,
          297.38,
          357.42,
          411.31,
          372.89,
          289.77,
          385.48,
          354.46,
          374.49,
          418.4,
          382.47,
          356.43,
          356.82,
          390.5,
          370.48,
          366.39,
          338.46,
          379.25,
          365.22,
          418.24,
          289.34,
          382.45,
          270.34,
          388.48,
          424.44,
          383.42,
          254.34,
          547.63,
          391.48,
          396.47,
          318.38,
          361.23,
          348.19,
          387.23,
          411.26,
          380.88,
          446.51,
          490.56,
          312.38,
          369.41,
          342.42,
          371.45,
          350.4,
          381.48,
          392.43,
          362.46,
          394.41,
          401.47,
          375.38,
          375.43,
          345.42,
          415.45,
          342.4,
          380.38,
          401.42,
          366.36,
          362.39,
          498.47,
          614.22,
          326.4,
          391.44,
          257.3,
          439.56,
          570.65,
          431.5,
          404.49,
          387.39,
          296.34,
          405.46,
          401.45,
          379.42,
          445.9,
          412.48,
          390.47,
          392.46,
          353.39,
          434.44,
          418.46,
          350.43,
          434.44,
          452.43,
          418.46,
          430.47,
          392.44,
          366.81,
          361.43,
          425.51,
          261.33,
          305.34,
          322.41,
          539.64,
          418.93,
          432.53,
          337.36,
          419.46,
          392.46,
          276.32,
          294.36,
          399.24,
          377.45,
          535.57,
          398.48,
          284.32,
          632.66,
          452.58,
          462.55,
          451.47,
          440.47,
          449.45,
          431.46,
          391.52,
          395.48,
          331.4,
          428.93,
          474.49,
          361.41,
          489.53,
          373.46,
          308.34,
          475.98,
          414.47,
          381.44,
          395.48,
          378.48,
          408.51,
          407.4,
          347.2,
          497.39,
          478.62,
          291.31,
          415.9,
          407.52,
          411.94,
          403.49,
          414.83,
          421.47,
          338.8,
          352.83,
          482.01,
          306.37,
          306.37,
          373.48,
          448.57,
          308.39,
          322.41,
          411.47,
          462.43,
          380.45,
          393.27,
          380.23,
          375.21,
          416.27,
          375.21,
          384.45,
          376.75,
          364.26,
          485.38,
          385.47,
          286.34,
          901.82,
          392.44,
          518.62,
          373.46,
          436.51,
          462.55,
          382.45,
          312.38,
          416.45,
          435.42,
          365.25,
          454.88,
          418.31,
          388.39,
          443.36,
          255.32,
          315.28,
          312.38,
          439.47,
          570.65,
          445.48,
          291.31,
          475.43,
          377.49,
          407.52,
          402.5,
          242.24,
          378.48,
          396.47,
          401.85,
          359.29,
          570.65,
          413.87,
          377.45,
          374.47,
          363.37,
          377.45,
          284.37,
          467.62,
          404.47,
          328.38,
          419.41,
          435.45,
          317.36,
          401.42,
          397.46,
          392.46,
          502.62,
          502.62,
          405.46,
          333.33,
          351.82,
          530.46,
          448.52,
          440.45,
          435.5,
          480.54,
          493.54,
          422.46,
          480.54,
          480.54,
          436.49,
          422.46,
          439.47,
          402.34,
          517.68,
          446.51,
          418.46,
          425.51,
          771.34,
          217.27,
          270.34,
          405.46,
          439.5,
          349.44,
          475.55,
          360.34,
          413.48,
          495.63,
          485.59,
          487.6,
          402.93,
          368.19,
          312.38,
          331.42,
          383.45,
          397.44,
          357.37,
          371.4,
          421.93,
          262.7,
          300.67,
          324.17,
          376.25,
          360.2,
          432.53,
          332.77,
          366.2,
          383.44,
          350.2,
          407.26,
          454.45,
          374.47,
          362.43,
          478.62,
          357.2,
          456.34,
          426.31,
          351.43,
          387.23,
          378.48,
          466.54,
          406.49,
          410.4,
          340.17,
          212.25,
          232.67,
          340.36,
          380.41,
          310.36,
          434.44,
          378.43,
          446.55,
          283.34,
          322.41,
          272.35,
          364.26,
          425.47,
          440.45,
          493.54,
          394.36,
          407.31,
          421.53,
          380.45,
          338.76,
          412.43,
          426.46,
          396.43,
          379.42,
          225.25,
          275.35,
          241.29,
          306.37,
          431.5,
          524.69,
          345.79,
          349.39,
          392.46,
          466.54,
          412.45,
          351.82,
          395.48,
          402.5,
          254.34,
          337.45,
          493.54,
          513.65,
          436.56,
          440.47,
          435.42,
          433.48,
          430.47,
          462.51,
          435.42,
          416.45,
          433.48,
          451.47,
          493.96,
          336.36,
          385.44,
          336.46,
          348.47,
          317.39,
          438.56,
          504.62,
          376.46,
          402.5,
          359.39,
          557.53,
          415.43,
          377.44,
          332.41,
          382.43,
          317.37,
          356.43,
          396.54,
          409.46,
          371.46,
          376.75,
          414.51,
          450.35,
          455.48,
          425.47,
          394.36,
          312.38,
          425.52,
          566.64,
          326.36,
          295.34,
          340.38,
          521.6,
          422.46,
          452.49,
          439.47,
          447.48,
          397.83,
          349.37,
          431.46,
          473.54,
          416.45,
          418.46,
          452.43,
          434.44,
          382.39,
          438.51,
          385.48,
          363.78,
          388.45,
          388.45,
          316.27,
          439.47,
          387.35,
          402.29,
          382.42,
          404.52,
          426.43,
          324.43,
          533,
          309.37,
          378.48,
          366.47,
          420.44,
          395.43,
          431.56,
          419.55,
          417.54,
          439.48,
          380.5,
          312.38,
          419.46,
          267.12,
          358.23,
          283.34,
          283.34,
          402.37,
          280.34,
          337.39,
          418.52,
          404.49,
          490.58,
          256.31,
          366.36,
          438.51,
          389.41,
          383.45,
          361.4,
          429.48,
          403.36,
          429.48,
          491.94,
          403.49,
          412.43,
          324.39,
          470.43,
          308.35,
          310.36,
          470.43,
          401.35,
          350.43,
          436.42,
          308.35,
          350.43,
          350.43,
          396.5,
          434.45,
          472.53,
          390.45,
          255.28,
          439.45,
          385.48,
          361.45,
          375.41,
          390.37,
          418.32,
          390.49,
          364.43,
          347.4,
          430.43,
          309.38,
          382.51,
          379.42,
          350.43,
          473.54,
          434.44,
          449.45,
          284.32,
          340.38,
          294.36,
          391.47,
          368.39,
          328.42,
          355.4,
          388.44,
          398.47,
          412.49,
          312.38,
          442.37,
          372.22,
          411.48,
          312.38,
          498.61,
          394.41,
          383.45,
          383.42,
          440.43,
          289.34,
          331.4,
          425.47,
          424.44,
          433.51,
          243.31,
          350.37,
          282.35,
          296.38,
          335.39,
          394.4,
          278.32,
          444.46,
          370.8,
          312.38,
          464.36,
          466.54,
          518.47,
          324.31,
          357.42,
          350.4,
          339.43,
          285.35,
          407.5,
          363.45,
          351.39,
          340.42,
          351.39,
          376.47,
          417.34,
          466.54,
          352.83,
          419.41,
          284.32,
          292.35,
          294.36,
          399.24,
          326.4,
          312.42,
          284.37,
          320.35,
          373.44,
          378.43,
          445.75,
          449.58,
          400.87,
          281.32,
          420.44,
          291.31,
          440.57,
          358.35,
          529.59,
          388.34,
          354.46,
          338.46,
          304.35,
          347.21,
          411.26,
          456.34,
          452.43,
          407.52,
          473.54,
          402.51,
          340.38,
          366.38,
          350.45,
          401.43,
          420.49,
          310.41,
          486.62,
          502.62,
          332.41,
          345.42,
          461.56,
          393.44,
          381.83,
          425.47,
          422.46,
          436.49,
          498.53,
          479.56,
          439.47,
          436.49,
          342.45,
          381.22,
          292.35,
          368.82,
          340.43,
          324.39,
          335.42,
          411.94,
          393.49,
          415.9,
          410.41,
          537.6,
          463.47,
          423.95,
          402.5,
          414.3,
          462.43,
          364.41,
          364.45,
          401.47,
          410.48,
          392.39,
          452.49,
          449.45,
          424.48,
          451.47,
          256.31,
          351.41,
          328.38,
          249.28,
          375.46,
          420.52,
          371.23,
          432.48,
          431.5,
          390.45,
          399.86,
          416.46,
          339.43,
          255.32,
          364.43,
          338.44,
          373.87,
          410.5,
          458.49,
          360.46,
          376.46,
          417.39,
          431.5,
          396.5,
          488.42,
          314.39,
          387.47,
          372.4,
          366.36,
          359.46,
          388.48,
          380.38,
          406.42,
          403.36,
          241.3,
          247.3,
          425.47,
          378.4,
          419.89,
          478.91,
          376.46,
          406.46,
          381.48,
          310.41,
          298.39,
          361.37,
          363.41,
          387.42,
          407.4,
          375.48,
          488.02,
          368.47,
          355.75,
          363.27,
          347.21,
          386.25,
          411.94,
          392.51,
          376.42,
          339.43,
          309.3,
          363.47,
          428.46,
          326.4,
          357.42,
          414.44,
          375.41,
          436.39,
          379.41,
          364.45,
          372.43,
          350.43,
          436.42,
          338.42,
          488.42,
          518.47,
          350.43,
          434.45,
          338.42,
          398.47,
          358.41,
          354.41,
          358.41,
          408.49,
          402.5,
          407.52,
          407.52,
          425.51,
          425.47,
          275.31,
          383.42,
          426.92,
          425.51,
          378.4,
          389.41,
          406.33,
          376.42,
          368.44,
          391.43,
          448.46,
          312.38,
          489.58,
          397.44,
          377.49,
          463.43,
          480.54,
          422.46,
          371.23,
          387.23,
          521.48,
          340.36,
          380.38,
          401.47,
          436.42,
          439.47,
          439.47,
          422.46,
          493.54,
          458.52,
          445.48,
          365.39,
          391.47,
          380.41,
          336.4,
          336.4,
          326.4,
          479.61,
          337.45,
          442.37,
          396.5,
          416.43,
          363.47,
          243.31,
          314.39,
          350.37,
          393.49,
          242.24,
          334.22,
          438.56,
          371.45,
          360.46,
          542.59,
          348.37,
          426.55,
          572.61,
          511.53,
          493.54,
          452.49,
          374.47,
          389.5,
          462.51,
          506.61,
          387.23,
          412.49,
          231.3,
          405.5,
          442.37,
          422.46,
          479.56,
          493.54,
          439.47,
          438.46,
          520.64,
          446.56,
          371.43,
          261.33,
          294.36,
          352.44,
          440.5,
          425.51,
          376.49,
          217.27,
          421.45,
          627.73,
          393.88,
          381.44,
          406.49,
          367.42,
          327.39,
          380.37,
          380.37,
          413.48,
          362.44,
          504.51,
          401.45,
          442.49,
          282.35,
          379.42,
          349.44,
          411.94,
          418.51,
          273.32,
          333.42,
          401.27,
          412.45,
          434.44,
          430.47,
          371.43,
          418.46,
          433.51,
          308.39,
          360.46,
          413.27,
          409.42,
          350.4,
          338.34,
          462.49,
          260.68,
          380.37,
          425.47,
          452.49,
          436.49,
          452.49,
          534.51,
          435.5,
          492.55,
          382.47,
          368.44,
          437.53,
          396.46,
          340.43,
          337.43,
          383.5,
          401.4,
          277.28,
          260.34,
          388.48,
          411.94,
          419.53,
          407.44,
          439.48,
          431.56,
          341.39,
          336.36,
          360.35,
          459.6,
          520.64,
          375.46,
          284.36,
          352.44,
          338.42,
          403.48,
          375.82,
          410.41,
          340.43,
          416.45,
          434.44,
          440.47,
          312.38,
          371.42,
          427.49,
          401.45,
          349.37,
          357.42,
          421.48,
          379.42,
          434.44,
          434.44,
          403.29,
          446.45,
          352.36,
          314.39,
          372.43,
          414.3,
          386.25,
          349.37,
          275.31,
          289.34,
          430.54,
          348.19,
          371.23,
          357.24,
          347.21,
          540.57,
          511.53,
          479.56,
          511.53,
          329.34,
          377.35,
          466.54,
          402.45,
          506.53,
          509.64,
          553.57,
          349.37,
          363.36,
          442.46,
          479.42,
          407.52,
          411.94,
          411.94,
          506.61,
          422.46,
          451.5,
          439.47,
          435.5,
          431.46,
          452.43,
          358.45,
          253.31,
          213.24,
          375.43,
          357.42,
          418.4,
          367.38,
          403.48,
          335.36,
          488.42,
          518.47,
          336.4,
          257.34,
          282.35,
          449.45,
          434.44,
          377.44,
          465.52,
          435.58,
          391.47,
          411.48,
          411.48,
          286.34,
          433.54,
          286.34,
          300.37,
          411.94,
          411.94,
          369.39,
          388.44,
          245.33,
          338.38,
          240.31,
          272.38,
          338.42,
          382.43,
          350.43,
          436.42,
          314.39,
          358.41,
          520.64,
          436.42,
          354.22,
          445.34,
          369.41,
          472.59,
          401.35,
          518.47,
          308.35,
          398.47,
          536.56,
          542.59,
          554.6,
          310.36,
          391.5,
          915.85,
          526.52,
          461.5,
          366.86,
          390.47,
          388.5,
          312.38,
          405.5,
          326.4,
          417.47,
          324.43,
          392.51,
          356.43,
          406.39,
          391.52,
          383.42,
          369.39,
          383.42,
          383.88,
          322.43,
          409.44,
          367.36,
          418.4,
          367.84,
          346.44,
          380.88,
          334.37,
          354.46,
          390.49,
          296.33,
          396.47,
          543.65,
          363.47,
          377.49,
          407.52,
          397.91,
          326.4,
          340.38,
          383.88,
          312.38,
          434.44,
          434.44,
          434.44,
          453.52,
          420.52,
          425.46,
          380.88,
          337.39,
          323.36,
          407.47,
          392.51,
          395.43,
          369.39,
          363.38,
          366.36,
          326.4,
          349.44,
          371.45,
          324.43,
          326.4,
          396.54,
          623.78,
          378.45,
          374.49,
          364.45,
          349.44,
          354.41,
          317.39,
          369.39,
          387.45,
          365.4,
          367.38,
          392.46,
          422.46,
          534.51,
          451.5,
          422.46,
          492.55,
          480.54,
          393.45,
          456.55,
          443.51,
          459.6,
          270.34,
          381.4,
          459.49,
          393.49,
          419.53,
          354.41,
          336.44,
          452.49,
          421.48,
          328.4,
          342.47,
          399.46,
          467.55,
          401.42,
          397.46,
          271.32,
          322.37,
          448.27,
          367.84,
          353.43,
          314.39,
          462.49,
          462.49,
          475.6,
          482.57,
          421.48,
          480.54,
          439.47,
          452.49,
          534.51,
          498.53,
          421.48,
          451.5,
          392.39,
          393.45,
          421.53,
          423.95,
          407.52,
          411.94,
          337.45,
          366.47,
          242.24,
          400.41,
          366.86,
          257.3,
          412.4,
          357.42,
          313.36,
          384.85,
          367.5,
          346.44,
          412.49,
          380.41,
          480.96,
          425.51,
          524.58,
          366.43,
          365.4,
          352.4,
          398.43,
          442.31,
          379.43,
          396.46,
          481.44,
          529.63,
          514.53,
          387.49,
          485.53,
          405.52,
          369.47,
          411.49,
          510.5,
          394.91,
          408.94,
          352.32,
          350.4,
          444.46,
          430.43,
          376.47,
          462.45,
          342.47,
          420.49,
          397.24,
          421.48,
          440.45,
          521.6,
          282.31,
          371.43,
          320.4,
          390.45,
          438.48,
          431.54,
          422.49,
          509.59,
          316.38,
          441.52,
          353.47,
          378.48,
          407.52,
          416.45,
          434.44,
          452.43,
          452.43,
          353.39,
          416.45,
          433.48,
          462.51,
          434.44,
          534.54,
          467.59,
          418.47,
          418.47,
          415.45,
          508.67,
          524.52,
          361.38,
          409.46,
          270.34,
          377.44,
          466.51,
          443.57,
          434.47,
          367.45,
          411.94,
          435.84,
          441.42,
          441.42,
          413.49,
          403.45,
          397.45,
          397.45,
          411.92,
          434.47,
          446.48,
          485.53,
          406.45,
          524.63
         ],
         "y": [
          7.15,
          5.28,
          9,
          6.44,
          6.72,
          6.6,
          5.29,
          6.19,
          6.36,
          5.47,
          4.62,
          6.8,
          6.55,
          6.32,
          5.38,
          6.11,
          6.85,
          6.77,
          6.82,
          7.46,
          8.11,
          6.63,
          7.1,
          5.85,
          6.33,
          6.64,
          6.85,
          6.5,
          6.43,
          5.06,
          5.48,
          5.46,
          6.54,
          8.85,
          7.3,
          8.38,
          6.42,
          5.55,
          5.39,
          7.25,
          5.8,
          6,
          7.32,
          6.11,
          4.84,
          7.3,
          6.54,
          6.96,
          6.37,
          6.77,
          6.77,
          5.89,
          6.8,
          7.7,
          5,
          6.71,
          7.89,
          8.54,
          7.4,
          7.89,
          7.85,
          9.22,
          9.15,
          8.7,
          6.96,
          6.62,
          5.18,
          6.12,
          5.18,
          7.16,
          7.05,
          5.43,
          8.39,
          6.22,
          9.14,
          6.39,
          7.49,
          9.4,
          9.22,
          6.83,
          9.22,
          8.33,
          7.12,
          5.66,
          6.48,
          6.28,
          7.72,
          7.05,
          7.39,
          5.39,
          7.04,
          4.92,
          5.13,
          6.19,
          6.61,
          6.8,
          5.46,
          6.27,
          6.7,
          7.04,
          6.89,
          8.26,
          7.52,
          6.72,
          6.36,
          7.27,
          7.89,
          5.16,
          4.94,
          5.77,
          8.06,
          8.92,
          7.36,
          4.51,
          5.51,
          5.92,
          9.01,
          8.82,
          7.16,
          6.17,
          6.68,
          5.75,
          7.82,
          5.93,
          7.35,
          6.62,
          6.75,
          8.47,
          7.38,
          9.22,
          8.92,
          8.29,
          7.46,
          7.23,
          5.13,
          6.42,
          6.44,
          5.62,
          7.06,
          8.07,
          9.1,
          9.3,
          6.62,
          7.33,
          6.09,
          7.64,
          8.36,
          6.68,
          6.54,
          9.3,
          7.01,
          6.35,
          6.7,
          7.35,
          7.41,
          7.89,
          6.75,
          5.44,
          6.33,
          6.11,
          7.72,
          5.17,
          5.23,
          6.29,
          6.05,
          6.6,
          6.82,
          6.84,
          7.22,
          8.85,
          7.07,
          5.22,
          6.46,
          6.92,
          8.15,
          9,
          6.01,
          5.01,
          5.92,
          8.32,
          5.82,
          5.92,
          6.03,
          6.42,
          7.03,
          6.71,
          6.82,
          7.14,
          5.69,
          5.43,
          9,
          4.52,
          5.9,
          6.08,
          6.1,
          6.27,
          8.31,
          7.92,
          6.92,
          8.68,
          7.48,
          8.17,
          6.96,
          8.2,
          8,
          6.7,
          6.8,
          6.06,
          6.41,
          6.85,
          7.28,
          7.17,
          6.36,
          7.28,
          5.92,
          5.96,
          6.19,
          5.85,
          6.39,
          7.89,
          6.41,
          7.8,
          8.7,
          5.75,
          5.48,
          6.49,
          6.55,
          8.25,
          8,
          6.07,
          6.28,
          6.68,
          5.3,
          6.15,
          6.39,
          6.77,
          5.5,
          5.12,
          5.5,
          8.3,
          7.85,
          6.01,
          7.51,
          5.72,
          7,
          7.28,
          6.41,
          6.89,
          8.15,
          7.21,
          6.31,
          6.72,
          7.47,
          6.12,
          5.18,
          6.68,
          7.65,
          7.54,
          6.84,
          7.18,
          7.03,
          5.54,
          7.03,
          5.49,
          5.15,
          5.38,
          7.01,
          6.4,
          9,
          6.84,
          6.58,
          6.04,
          5.29,
          6.8,
          6.6,
          6.75,
          7.3,
          5.75,
          4.54,
          6.64,
          5.47,
          8.24,
          6.96,
          7.87,
          5.77,
          6.31,
          6.8,
          6.75,
          6.89,
          5.8,
          7.8,
          6.78,
          6.58,
          6.72,
          7.29,
          7.47,
          8.24,
          6.28,
          5.92,
          4.93,
          8.28,
          6.34,
          8.21,
          7.16,
          5.66,
          7.76,
          8.92,
          7.17,
          7.75,
          7.75,
          7.06,
          7.16,
          7.2,
          6.7,
          6.86,
          7.28,
          7.24,
          6.68,
          7.5,
          6,
          6.4,
          5.36,
          8.14,
          7.64,
          5.58,
          5.25,
          7.7,
          9.3,
          8.85,
          8.04,
          8.6,
          6.54,
          7.36,
          8.64,
          7.6,
          7.36,
          6.52,
          7.6,
          6.1,
          6.85,
          6.72,
          6.13,
          6.65,
          6.41,
          8,
          7.96,
          7.96,
          8.02,
          7.99,
          8.32,
          6.15,
          7.92,
          8.52,
          6.28,
          7.5,
          8.11,
          5.7,
          6.7,
          5.83,
          7,
          6.15,
          5.51,
          5.55,
          5.82,
          5.92,
          7.19,
          7.75,
          6,
          7.26,
          7.37,
          6.33,
          6.66,
          6.35,
          7.36,
          6.72,
          6.96,
          7.21,
          6.57,
          6.75,
          7.72,
          7.92,
          7.33,
          7.22,
          4.62,
          6.85,
          8.32,
          9.15,
          9.22,
          5.68,
          6.21,
          6.85,
          7.75,
          6.85,
          6.14,
          9.4,
          6.15,
          6.43,
          7.52,
          5.19,
          7.25,
          9.32,
          6.89,
          5.57,
          5.92,
          5.81,
          5.88,
          5.8,
          6.19,
          5.55,
          7.7,
          7.06,
          6.51,
          6.48,
          6.82,
          7.55,
          6.82,
          7.14,
          6.89,
          6.3,
          6.99,
          9.1,
          6.28,
          6.54,
          6.96,
          7.19,
          6.19,
          6.1,
          6.89,
          6.43,
          7.11,
          7.44,
          7.8,
          6.92,
          7.01,
          6.16,
          5.7,
          6.55,
          5.85,
          7.01,
          7.51,
          8.82,
          4.51,
          7.31,
          8.27,
          7,
          7.52,
          6.15,
          5.32,
          5.51,
          7.18,
          5.58,
          6.64,
          6.19,
          8.4,
          6.77,
          6.7,
          6.46,
          6.6,
          6.89,
          6.52,
          6.34,
          7.35,
          6.42,
          7,
          6.01,
          6.1,
          6.3,
          7.3,
          5.09,
          6.22,
          5.77,
          6.01,
          6.6,
          7.2,
          5.44,
          6.94,
          7.07,
          7.51,
          7.4,
          7.06,
          5.29,
          6.77,
          6.82,
          6.55,
          5.7,
          7.01,
          6.7,
          7.12,
          6.68,
          7.7,
          7.45,
          5.56,
          5.09,
          5.03,
          7.15,
          6.82,
          7.68,
          7.46,
          9.4,
          6.04,
          5.28,
          5.82,
          6.7,
          6.5,
          6.37,
          8.44,
          7.44,
          7.55,
          6.13,
          6.8,
          6.57,
          7.57,
          7.8,
          6.12,
          6.06,
          6.82,
          7.28,
          5.47,
          8.15,
          8.22,
          6.22,
          7.5,
          6.22,
          6.93,
          5.96,
          6.12,
          6.64,
          7.54,
          5.37,
          5.43,
          8.44,
          5.97,
          5.16,
          6.68,
          8.32,
          6.51,
          7.33,
          6.36,
          8.12,
          8.55,
          6.9,
          5.95,
          8.8,
          7.82,
          8.29,
          8.15,
          8.11,
          8.48,
          8.36,
          9,
          9.3,
          8,
          5.25,
          8.01,
          6.83,
          7.38,
          6.7,
          6.61,
          7.52,
          7.66,
          8.07,
          6.03,
          5.54,
          9.05,
          7.5,
          6.59,
          5.8,
          6.3,
          7.13,
          5.96,
          5.24,
          6.7,
          6.08,
          6.4,
          7.6,
          6.62,
          6.92,
          6.82,
          6.82,
          5.36,
          6.39,
          6.51,
          6.02,
          6.2,
          6.92,
          6.94,
          8.01,
          6.82,
          6.16,
          6.15,
          7.62,
          5.39,
          6.36,
          7.06,
          5.82,
          6.33,
          7.09,
          7.1,
          7.08,
          7.1,
          9.26,
          5.17,
          4.8,
          7.34,
          6.08,
          8.05,
          8.64,
          5.72,
          6.62,
          7.28,
          6.2,
          8.8,
          8.49,
          5.79,
          7.1,
          5.6,
          5.53,
          6.85,
          6.07,
          6.68,
          7.25,
          5.51,
          5,
          6.06,
          5.28,
          8.82,
          8.3,
          6.96,
          7.35,
          7.34,
          8.77,
          8.32,
          8.8,
          7.26,
          6.72,
          6.85,
          7,
          8.39,
          6.88,
          6.25,
          5.73,
          5.24,
          6.89,
          5.62,
          7.22,
          7.39,
          7.1,
          7.66,
          5.33,
          7.1,
          7.85,
          7.54,
          7.42,
          7.43,
          6.21,
          6.11,
          6.05,
          6.06,
          6.82,
          7.24,
          8.92,
          8.23,
          6.92,
          6.35,
          6.01,
          6.75,
          6.54,
          7,
          6.13,
          7.36,
          6.57,
          6.5,
          6.34,
          6.61,
          8.89,
          5.02,
          6.15,
          6.75,
          6.54,
          6.64,
          7.77,
          6.23,
          6.47,
          7.29,
          7.57,
          6.11,
          7.72,
          7.7,
          9.15,
          7.14,
          6.97,
          6.75,
          6.42,
          6.63,
          6.38,
          6.6,
          7.06,
          6.55,
          6.21,
          6.21,
          6.77,
          7.06,
          10.15,
          4.7,
          6.5,
          6.3,
          9.04,
          6.93,
          8.23,
          7.48,
          9.34,
          8.8,
          7.16,
          5.64,
          8.3,
          9.7,
          6.82,
          6.29,
          6.6,
          6.24,
          6.11,
          7.52,
          8.04,
          6.11,
          7.26,
          5.59,
          6.5,
          6.2,
          5.6,
          9.1,
          9.13,
          9.82,
          9.89,
          7.02,
          7.16,
          7.92,
          6.12,
          6.42,
          5.66,
          6.3,
          6.48,
          6.94,
          5.6,
          5.6,
          5.57,
          7.43,
          6.8,
          5.64,
          7.96,
          9.24,
          4.3,
          6.96,
          7.6,
          7.89,
          6.08,
          5.74,
          6.44,
          6.54,
          5.3,
          7.48,
          6.64,
          10.82,
          7.05,
          7.39,
          6.61,
          8.07,
          7.82,
          6.1,
          9,
          5.73,
          8.14,
          6.96,
          5.23,
          6.29,
          9.15,
          6.4,
          6.55,
          7.66,
          7.47,
          7.44,
          7.25,
          7.51,
          8.92,
          7.5,
          5.37,
          5.89,
          7.68,
          7.7,
          7.33,
          7.92,
          7.47,
          6.4,
          7.46,
          7.5,
          7.96,
          9.3,
          5.48,
          6.03,
          7.2,
          7.16,
          5.64,
          6.56,
          6.37,
          6.56,
          7.84,
          6.8,
          8.47,
          8.74,
          6.24,
          6.65,
          9.3,
          6.85,
          9.26,
          6.19,
          8.1,
          6.82,
          7.1,
          7.19,
          6.23,
          6.51,
          6.38,
          6.31,
          6.46,
          6.33,
          8.21,
          7.85,
          9,
          9.52,
          6.37,
          5.7,
          6.44,
          6.75,
          6.04,
          6.6,
          8.36,
          5.47,
          6.46,
          8.12,
          8.04,
          7.26,
          5.25,
          7.36,
          7.23,
          5.46,
          7.38,
          6.6,
          6.85,
          6.82,
          6.35,
          5.99,
          5.68,
          6.68,
          6.15,
          6.34,
          6.48,
          6.5,
          6.24,
          6.62,
          9.49,
          9.02,
          8.89,
          6.75,
          6.21,
          5.57,
          6.85,
          6.5,
          5.35,
          6.64,
          8.72,
          9.57,
          8.05,
          7.96,
          6.74,
          7.39,
          7.85,
          6.89,
          8.89,
          9.6,
          7.21,
          6.12,
          8.26,
          5.89,
          7.1,
          5.51,
          6.08,
          6.89,
          7.64,
          5.14,
          5.82,
          6.51,
          8.18,
          6.75,
          6.36,
          6.96,
          6.8,
          8.3,
          7.94,
          8.11,
          7.15,
          6.75,
          6.89,
          6.48,
          7.57,
          7.22,
          5.5,
          6.05,
          7.02,
          7.72,
          8,
          7.18,
          5.84,
          8.51,
          6.58,
          6.42,
          8.52,
          7.19,
          6.38,
          5.82,
          7.33,
          9.22,
          9,
          6.28,
          5.62,
          6.34,
          6.26,
          9.69,
          6.7,
          7.55,
          6.6,
          5.62,
          5.96,
          5.85,
          7.7,
          7.3,
          7.6,
          6.8,
          5.2,
          7.96,
          6.8,
          8.1,
          9.3,
          8.28,
          7.5,
          8.12,
          7.16,
          8.32,
          7.28,
          7.8,
          6.07,
          7.17,
          7.43,
          7.31,
          6.09,
          5.41,
          5.47,
          7.22,
          7.52,
          6.36,
          6.39,
          8.7,
          6.17,
          6.78,
          5.42,
          6.2,
          6.6,
          7.85,
          8.07,
          6.52,
          7.12,
          7.36,
          5.75,
          7.52,
          9.7,
          9.42,
          9.32,
          9.59,
          9.54,
          6.63,
          6.42,
          6.47,
          7.05,
          8.04,
          6.64,
          6.11,
          6.26,
          5.84,
          4.59,
          8.57,
          8.11,
          8.74,
          8.43,
          9.17,
          8.05,
          6.82,
          5.7,
          6.8,
          7.85,
          6.4,
          5.39,
          6.03,
          7.28,
          6.48,
          5.92,
          7.02,
          5.9,
          7.82,
          9.7,
          7.5,
          6.21,
          5,
          7.53,
          6.54,
          6.1,
          7.47,
          8.07,
          7.28,
          7.04,
          7.24,
          6.45,
          9.4,
          5.75,
          10.04,
          6.96,
          7.03,
          6.82,
          7.58,
          6.5,
          6.36,
          6.68,
          6.24,
          8.15,
          8.8,
          6.51,
          6.52,
          7.82,
          5.76,
          6.21,
          6.07,
          6.92,
          6.28,
          6.48,
          6.51,
          7.32,
          6.96,
          6.82,
          6.8,
          7.21,
          6.58,
          6.43,
          7.03,
          7.14,
          6.16,
          7.47,
          6.7,
          6.64,
          6.85,
          8.22,
          7.52,
          6.46,
          8.54,
          6.27,
          6.12,
          6.17,
          7.44,
          4.96,
          8.18,
          7.72,
          7.64,
          5.51,
          7.48,
          8.1,
          5.62,
          5.36,
          8,
          7.11,
          7.54,
          7.77,
          7.18,
          5.96,
          7,
          5.92,
          4.9,
          5.39,
          6.43,
          7.5,
          6.96,
          5.21,
          6.52,
          7.16,
          6.62,
          5.38,
          6.26,
          6.43,
          6.24,
          6.47,
          6.75,
          6.92,
          6.96,
          7.36,
          6.92,
          5.6,
          6.35,
          7.43,
          6.29,
          6.88,
          9.89,
          10.15,
          9.66,
          7.2,
          6.96,
          6.29,
          6.82,
          8.65,
          6.31,
          6.89,
          6.43,
          7.8,
          6.82,
          6.48,
          7.98,
          8.1,
          9.52,
          6.1,
          7.89,
          6.02,
          7.89,
          8.74,
          8,
          6.54,
          5.33,
          6.1,
          10.7,
          6.28,
          8.31,
          6.82,
          6.66,
          6.66,
          6.48,
          6.17,
          6.43,
          7.47,
          6.57,
          8.4,
          7.47,
          7.17,
          9.46,
          5.38,
          6.8,
          6.77,
          7,
          6.34,
          6.85,
          6.3,
          7.21,
          6.7,
          6.96,
          6.85,
          7.39,
          6.96,
          9.63,
          6.41,
          6.89,
          6.28,
          6.35,
          7.62,
          6.12,
          6.09,
          6.38,
          6.1,
          6.7,
          6.57,
          7.49,
          6.52,
          6.96,
          8.15,
          5.24,
          7.24,
          5.74,
          8.42,
          7.16,
          7.12,
          6.77,
          6.46,
          6.57,
          8.34,
          8.77,
          9.22,
          6.44,
          6.87,
          6.81,
          6.09,
          7.5,
          5.89,
          8.05,
          5.75,
          6.17,
          6.37,
          6.03,
          7.24,
          6.77,
          5.58,
          5.2,
          5.1,
          6.3,
          7.48,
          9.7,
          8.85,
          8.35,
          9.29,
          9.32,
          7.77,
          6.65,
          6.06,
          8.14,
          7.35,
          7.37,
          6.26,
          6.25,
          6.32,
          7.21,
          6.8,
          6.51,
          6.92,
          6.8,
          7,
          6.54,
          8.17,
          8,
          6.47,
          6.75,
          5.32,
          9.28,
          5.48,
          6.24,
          6.55,
          6.77,
          7.89,
          7.66,
          7.11,
          8.41,
          6.73,
          6.89,
          5.1,
          7.5,
          5.03,
          6.68,
          6.58,
          8.96,
          8.68,
          8.77,
          6.92,
          7.57,
          6.75,
          6.68,
          7.04,
          6.19,
          6.2,
          8.26,
          6.58,
          7.66,
          7.92,
          8.7,
          7.6,
          5.5,
          5.71,
          7.82,
          10.22,
          6.58,
          6.7,
          8.89,
          7.48,
          8.82,
          7.34,
          5.38,
          10.7,
          9.3,
          4.55,
          6.36,
          6.46,
          6.43,
          6.19,
          7,
          6.72,
          7.96,
          6.8,
          5.28,
          7.54,
          5.92,
          5.85,
          5.99,
          6.01,
          9.1,
          8.89,
          9.3,
          8,
          6.75,
          5.66,
          6,
          7.39,
          6.21,
          8.59,
          6.26,
          7.25,
          7.34,
          6.11,
          6.02,
          6.2,
          5.14,
          5.31,
          6.96,
          6.62,
          6.29,
          6.39,
          6.11,
          7,
          7.52,
          6.39,
          8.3,
          8.4,
          8.04,
          6.7,
          7.6,
          6.92,
          6.3,
          6.79,
          7.18,
          10.7,
          5.74,
          7.82,
          5.6,
          5.58,
          5.77,
          7.64,
          6.08,
          6.51,
          6.41,
          6.38,
          7.64,
          6.58,
          5.55,
          5.7,
          6.56,
          6.64,
          9.52,
          6.95,
          9.4,
          5.44,
          8.3,
          7.62,
          6.28,
          6.89,
          8.42,
          10.7,
          7.92,
          7.16,
          7.27,
          8.52,
          7.13,
          5.32,
          7.4,
          8.22,
          6.16,
          5.85,
          8.32,
          6.21,
          7.12,
          6.52,
          6.96,
          6.52,
          6.96,
          6.37,
          4.85,
          5.57,
          5.38,
          5.25,
          8.59,
          8.06,
          6.96,
          6.75,
          7.8,
          5.7,
          8.79,
          7.42,
          8,
          8.21,
          6.34,
          5.57,
          5.87,
          7.08,
          7.28,
          6.98,
          7.82,
          6.17,
          8.08,
          6.35,
          7.54,
          7.92,
          7.62,
          7.23,
          6.85,
          7,
          7.06,
          7.28,
          5.19,
          5.57,
          7.16,
          5.77,
          7.13,
          5.31,
          5.96,
          6.4,
          7.34,
          7.92,
          6.92,
          5.76,
          7.8,
          6.24,
          6.1,
          6.06,
          6.47,
          7.55,
          6.44,
          7.26,
          5.29,
          6.75,
          5.66,
          6.96,
          8.07,
          8.72,
          7.96,
          7.36,
          7.01,
          5.6,
          9.85,
          7.22,
          7.28,
          6.89,
          6.68,
          6.57,
          6.64,
          7,
          6.5,
          6.62,
          6.82,
          7.92,
          6.43,
          5.33,
          8.05,
          8.85,
          7.89,
          7.3,
          8.07,
          7.54,
          7.38,
          9.04,
          6.36,
          7.6,
          6.04,
          7.72,
          6.44,
          6.28,
          6.44,
          6.51,
          7.8,
          6.15,
          7.31,
          7.1,
          7.72,
          7.22,
          6.43,
          7.31,
          8.92,
          7.89,
          7.35,
          7.52,
          6.47,
          7.34,
          7.38,
          7.72,
          6.54,
          7.92,
          8.1,
          7,
          9.54,
          6.85,
          6.57,
          7.14,
          7.28,
          6.28,
          7.24,
          5.8,
          7.36,
          6.37,
          9.48,
          7.21,
          6.63,
          9.52,
          8.48,
          7.2,
          6.66,
          5.43,
          8.49,
          7.36,
          5.06,
          5.5,
          5.7,
          6.44,
          8.06,
          6.77,
          7.77,
          5.46,
          7.22,
          7.33,
          6.97,
          9.28,
          8.74,
          9.15,
          7.17,
          7.27,
          7.84,
          8.7,
          8.7,
          8.7,
          8.15,
          8.22,
          8.05,
          6.7,
          7.22,
          6.82,
          7.1,
          7.7,
          7.52,
          8,
          6.63,
          6.83,
          7.07,
          6.23,
          7.6,
          6.39,
          6.27,
          6.85,
          6.16,
          5.48,
          6.1,
          6.6,
          6.5,
          6.12,
          7.66,
          6.66,
          6.48,
          10.74,
          6.42,
          8.71,
          7,
          6.04,
          6.48,
          6.16,
          6.94,
          7.14,
          6.64,
          5.96,
          6.51,
          7.31,
          6.03,
          7.58,
          7.66,
          6.16,
          5.85,
          7.23,
          7.44,
          7.89,
          5.76,
          8.1,
          8.4,
          5.47,
          6.48,
          6,
          6.8,
          7.64,
          8.8,
          6.7,
          7.42,
          6.32,
          8.1,
          5.82,
          6.92,
          7.29,
          7.64,
          7.92,
          6.6,
          7.5,
          7.31,
          5.68,
          6.52,
          6.12,
          5.28,
          5.61,
          8.05,
          6.86,
          7.31,
          6.62,
          6.48,
          6.12,
          7.15,
          7.04,
          8.1,
          7.17,
          8.1,
          8.22,
          6.22,
          5.44,
          5.82,
          7.74,
          6.51,
          6.58,
          6.48,
          6.82,
          6.85,
          6.37,
          7.5,
          5.37,
          7.34,
          7.2,
          6.23,
          6.56,
          7.37,
          7.32,
          8.3,
          6.68,
          6.18,
          8,
          10.07,
          7,
          6.43,
          7.32,
          7.5,
          7.13,
          6.4,
          6.39,
          6.82,
          6.64,
          6.32,
          7.54,
          7.36,
          7.22,
          7.82,
          8.32,
          6.38,
          6.51,
          7.17,
          6.47,
          6.21,
          7.13,
          7,
          7,
          7.8,
          6.44,
          6.4,
          4.38,
          8.05,
          7.34,
          6.89,
          8.28,
          6.64,
          9.3,
          9.36,
          9.27,
          7.77,
          7.85,
          7.8,
          5.64,
          5.82,
          5.81,
          7.12,
          6.12,
          7.66,
          7.58,
          5.92,
          7.05,
          6.7,
          6.23,
          9.6,
          8.19,
          6.23,
          6.41,
          6.27,
          7.24,
          7.38,
          6.6,
          7.42,
          6.77,
          6.8,
          6.51,
          6.01,
          7.03,
          7.4,
          7.06,
          8.02,
          7.24,
          8.8,
          9.15,
          9.72,
          7.89,
          7.28,
          7.14,
          7.39,
          6.47,
          7.96,
          5.64,
          7.55,
          6.87,
          7.29,
          7.31,
          5.69,
          6.62,
          5.25,
          6.2,
          6.68,
          7.02,
          6.24,
          6.34,
          7.5,
          6.47,
          6.31,
          6.96,
          6.32,
          8,
          7.12,
          7.14,
          8.7,
          5.4,
          5.62,
          5.93,
          8.15,
          7.43,
          5.63,
          5.67,
          8.4,
          7.91,
          6.83,
          7.25,
          6.38,
          6.96,
          7.21,
          6.72,
          6.89,
          8.55,
          7.28,
          6.24,
          6.41,
          8.31,
          6.06,
          7.66,
          6.62,
          6.8,
          8.2,
          6.32,
          7.39,
          6.79,
          7.38,
          5.55,
          7.21,
          7.7,
          7.44,
          8.24,
          8.3,
          7.96,
          7.4,
          7.42,
          6.8,
          6.82,
          7.19,
          7.1,
          9.47,
          9.92,
          10.46,
          10.62,
          6.21,
          6.83,
          6.87,
          6.54,
          7.09,
          7.89,
          8.7,
          9.31,
          6.8,
          6.75,
          8.37,
          7.97,
          7.75,
          6.58,
          7.58,
          7.08,
          7.1,
          6.7,
          6.36,
          7.62,
          8.09,
          7.41,
          6.32,
          8,
          7.4,
          6.72,
          7.62,
          8.1,
          7.75,
          7.21,
          7.35,
          6.46,
          5.76,
          8.69
         ]
        }
       ],
       "layout": {
        "template": {
         "data": {
          "bar": [
           {
            "error_x": {
             "color": "#2a3f5f"
            },
            "error_y": {
             "color": "#2a3f5f"
            },
            "marker": {
             "line": {
              "color": "#E5ECF6",
              "width": 0.5
             },
             "pattern": {
              "fillmode": "overlay",
              "size": 10,
              "solidity": 0.2
             }
            },
            "type": "bar"
           }
          ],
          "barpolar": [
           {
            "marker": {
             "line": {
              "color": "#E5ECF6",
              "width": 0.5
             },
             "pattern": {
              "fillmode": "overlay",
              "size": 10,
              "solidity": 0.2
             }
            },
            "type": "barpolar"
           }
          ],
          "carpet": [
           {
            "aaxis": {
             "endlinecolor": "#2a3f5f",
             "gridcolor": "white",
             "linecolor": "white",
             "minorgridcolor": "white",
             "startlinecolor": "#2a3f5f"
            },
            "baxis": {
             "endlinecolor": "#2a3f5f",
             "gridcolor": "white",
             "linecolor": "white",
             "minorgridcolor": "white",
             "startlinecolor": "#2a3f5f"
            },
            "type": "carpet"
           }
          ],
          "choropleth": [
           {
            "colorbar": {
             "outlinewidth": 0,
             "ticks": ""
            },
            "type": "choropleth"
           }
          ],
          "contour": [
           {
            "colorbar": {
             "outlinewidth": 0,
             "ticks": ""
            },
            "colorscale": [
             [
              0,
              "#0d0887"
             ],
             [
              0.1111111111111111,
              "#46039f"
             ],
             [
              0.2222222222222222,
              "#7201a8"
             ],
             [
              0.3333333333333333,
              "#9c179e"
             ],
             [
              0.4444444444444444,
              "#bd3786"
             ],
             [
              0.5555555555555556,
              "#d8576b"
             ],
             [
              0.6666666666666666,
              "#ed7953"
             ],
             [
              0.7777777777777778,
              "#fb9f3a"
             ],
             [
              0.8888888888888888,
              "#fdca26"
             ],
             [
              1,
              "#f0f921"
             ]
            ],
            "type": "contour"
           }
          ],
          "contourcarpet": [
           {
            "colorbar": {
             "outlinewidth": 0,
             "ticks": ""
            },
            "type": "contourcarpet"
           }
          ],
          "heatmap": [
           {
            "colorbar": {
             "outlinewidth": 0,
             "ticks": ""
            },
            "colorscale": [
             [
              0,
              "#0d0887"
             ],
             [
              0.1111111111111111,
              "#46039f"
             ],
             [
              0.2222222222222222,
              "#7201a8"
             ],
             [
              0.3333333333333333,
              "#9c179e"
             ],
             [
              0.4444444444444444,
              "#bd3786"
             ],
             [
              0.5555555555555556,
              "#d8576b"
             ],
             [
              0.6666666666666666,
              "#ed7953"
             ],
             [
              0.7777777777777778,
              "#fb9f3a"
             ],
             [
              0.8888888888888888,
              "#fdca26"
             ],
             [
              1,
              "#f0f921"
             ]
            ],
            "type": "heatmap"
           }
          ],
          "heatmapgl": [
           {
            "colorbar": {
             "outlinewidth": 0,
             "ticks": ""
            },
            "colorscale": [
             [
              0,
              "#0d0887"
             ],
             [
              0.1111111111111111,
              "#46039f"
             ],
             [
              0.2222222222222222,
              "#7201a8"
             ],
             [
              0.3333333333333333,
              "#9c179e"
             ],
             [
              0.4444444444444444,
              "#bd3786"
             ],
             [
              0.5555555555555556,
              "#d8576b"
             ],
             [
              0.6666666666666666,
              "#ed7953"
             ],
             [
              0.7777777777777778,
              "#fb9f3a"
             ],
             [
              0.8888888888888888,
              "#fdca26"
             ],
             [
              1,
              "#f0f921"
             ]
            ],
            "type": "heatmapgl"
           }
          ],
          "histogram": [
           {
            "marker": {
             "pattern": {
              "fillmode": "overlay",
              "size": 10,
              "solidity": 0.2
             }
            },
            "type": "histogram"
           }
          ],
          "histogram2d": [
           {
            "colorbar": {
             "outlinewidth": 0,
             "ticks": ""
            },
            "colorscale": [
             [
              0,
              "#0d0887"
             ],
             [
              0.1111111111111111,
              "#46039f"
             ],
             [
              0.2222222222222222,
              "#7201a8"
             ],
             [
              0.3333333333333333,
              "#9c179e"
             ],
             [
              0.4444444444444444,
              "#bd3786"
             ],
             [
              0.5555555555555556,
              "#d8576b"
             ],
             [
              0.6666666666666666,
              "#ed7953"
             ],
             [
              0.7777777777777778,
              "#fb9f3a"
             ],
             [
              0.8888888888888888,
              "#fdca26"
             ],
             [
              1,
              "#f0f921"
             ]
            ],
            "type": "histogram2d"
           }
          ],
          "histogram2dcontour": [
           {
            "colorbar": {
             "outlinewidth": 0,
             "ticks": ""
            },
            "colorscale": [
             [
              0,
              "#0d0887"
             ],
             [
              0.1111111111111111,
              "#46039f"
             ],
             [
              0.2222222222222222,
              "#7201a8"
             ],
             [
              0.3333333333333333,
              "#9c179e"
             ],
             [
              0.4444444444444444,
              "#bd3786"
             ],
             [
              0.5555555555555556,
              "#d8576b"
             ],
             [
              0.6666666666666666,
              "#ed7953"
             ],
             [
              0.7777777777777778,
              "#fb9f3a"
             ],
             [
              0.8888888888888888,
              "#fdca26"
             ],
             [
              1,
              "#f0f921"
             ]
            ],
            "type": "histogram2dcontour"
           }
          ],
          "mesh3d": [
           {
            "colorbar": {
             "outlinewidth": 0,
             "ticks": ""
            },
            "type": "mesh3d"
           }
          ],
          "parcoords": [
           {
            "line": {
             "colorbar": {
              "outlinewidth": 0,
              "ticks": ""
             }
            },
            "type": "parcoords"
           }
          ],
          "pie": [
           {
            "automargin": true,
            "type": "pie"
           }
          ],
          "scatter": [
           {
            "fillpattern": {
             "fillmode": "overlay",
             "size": 10,
             "solidity": 0.2
            },
            "type": "scatter"
           }
          ],
          "scatter3d": [
           {
            "line": {
             "colorbar": {
              "outlinewidth": 0,
              "ticks": ""
             }
            },
            "marker": {
             "colorbar": {
              "outlinewidth": 0,
              "ticks": ""
             }
            },
            "type": "scatter3d"
           }
          ],
          "scattercarpet": [
           {
            "marker": {
             "colorbar": {
              "outlinewidth": 0,
              "ticks": ""
             }
            },
            "type": "scattercarpet"
           }
          ],
          "scattergeo": [
           {
            "marker": {
             "colorbar": {
              "outlinewidth": 0,
              "ticks": ""
             }
            },
            "type": "scattergeo"
           }
          ],
          "scattergl": [
           {
            "marker": {
             "colorbar": {
              "outlinewidth": 0,
              "ticks": ""
             }
            },
            "type": "scattergl"
           }
          ],
          "scattermapbox": [
           {
            "marker": {
             "colorbar": {
              "outlinewidth": 0,
              "ticks": ""
             }
            },
            "type": "scattermapbox"
           }
          ],
          "scatterpolar": [
           {
            "marker": {
             "colorbar": {
              "outlinewidth": 0,
              "ticks": ""
             }
            },
            "type": "scatterpolar"
           }
          ],
          "scatterpolargl": [
           {
            "marker": {
             "colorbar": {
              "outlinewidth": 0,
              "ticks": ""
             }
            },
            "type": "scatterpolargl"
           }
          ],
          "scatterternary": [
           {
            "marker": {
             "colorbar": {
              "outlinewidth": 0,
              "ticks": ""
             }
            },
            "type": "scatterternary"
           }
          ],
          "surface": [
           {
            "colorbar": {
             "outlinewidth": 0,
             "ticks": ""
            },
            "colorscale": [
             [
              0,
              "#0d0887"
             ],
             [
              0.1111111111111111,
              "#46039f"
             ],
             [
              0.2222222222222222,
              "#7201a8"
             ],
             [
              0.3333333333333333,
              "#9c179e"
             ],
             [
              0.4444444444444444,
              "#bd3786"
             ],
             [
              0.5555555555555556,
              "#d8576b"
             ],
             [
              0.6666666666666666,
              "#ed7953"
             ],
             [
              0.7777777777777778,
              "#fb9f3a"
             ],
             [
              0.8888888888888888,
              "#fdca26"
             ],
             [
              1,
              "#f0f921"
             ]
            ],
            "type": "surface"
           }
          ],
          "table": [
           {
            "cells": {
             "fill": {
              "color": "#EBF0F8"
             },
             "line": {
              "color": "white"
             }
            },
            "header": {
             "fill": {
              "color": "#C8D4E3"
             },
             "line": {
              "color": "white"
             }
            },
            "type": "table"
           }
          ]
         },
         "layout": {
          "annotationdefaults": {
           "arrowcolor": "#2a3f5f",
           "arrowhead": 0,
           "arrowwidth": 1
          },
          "autotypenumbers": "strict",
          "coloraxis": {
           "colorbar": {
            "outlinewidth": 0,
            "ticks": ""
           }
          },
          "colorscale": {
           "diverging": [
            [
             0,
             "#8e0152"
            ],
            [
             0.1,
             "#c51b7d"
            ],
            [
             0.2,
             "#de77ae"
            ],
            [
             0.3,
             "#f1b6da"
            ],
            [
             0.4,
             "#fde0ef"
            ],
            [
             0.5,
             "#f7f7f7"
            ],
            [
             0.6,
             "#e6f5d0"
            ],
            [
             0.7,
             "#b8e186"
            ],
            [
             0.8,
             "#7fbc41"
            ],
            [
             0.9,
             "#4d9221"
            ],
            [
             1,
             "#276419"
            ]
           ],
           "sequential": [
            [
             0,
             "#0d0887"
            ],
            [
             0.1111111111111111,
             "#46039f"
            ],
            [
             0.2222222222222222,
             "#7201a8"
            ],
            [
             0.3333333333333333,
             "#9c179e"
            ],
            [
             0.4444444444444444,
             "#bd3786"
            ],
            [
             0.5555555555555556,
             "#d8576b"
            ],
            [
             0.6666666666666666,
             "#ed7953"
            ],
            [
             0.7777777777777778,
             "#fb9f3a"
            ],
            [
             0.8888888888888888,
             "#fdca26"
            ],
            [
             1,
             "#f0f921"
            ]
           ],
           "sequentialminus": [
            [
             0,
             "#0d0887"
            ],
            [
             0.1111111111111111,
             "#46039f"
            ],
            [
             0.2222222222222222,
             "#7201a8"
            ],
            [
             0.3333333333333333,
             "#9c179e"
            ],
            [
             0.4444444444444444,
             "#bd3786"
            ],
            [
             0.5555555555555556,
             "#d8576b"
            ],
            [
             0.6666666666666666,
             "#ed7953"
            ],
            [
             0.7777777777777778,
             "#fb9f3a"
            ],
            [
             0.8888888888888888,
             "#fdca26"
            ],
            [
             1,
             "#f0f921"
            ]
           ]
          },
          "colorway": [
           "#636efa",
           "#EF553B",
           "#00cc96",
           "#ab63fa",
           "#FFA15A",
           "#19d3f3",
           "#FF6692",
           "#B6E880",
           "#FF97FF",
           "#FECB52"
          ],
          "font": {
           "color": "#2a3f5f"
          },
          "geo": {
           "bgcolor": "white",
           "lakecolor": "white",
           "landcolor": "#E5ECF6",
           "showlakes": true,
           "showland": true,
           "subunitcolor": "white"
          },
          "hoverlabel": {
           "align": "left"
          },
          "hovermode": "closest",
          "mapbox": {
           "style": "light"
          },
          "paper_bgcolor": "white",
          "plot_bgcolor": "#E5ECF6",
          "polar": {
           "angularaxis": {
            "gridcolor": "white",
            "linecolor": "white",
            "ticks": ""
           },
           "bgcolor": "#E5ECF6",
           "radialaxis": {
            "gridcolor": "white",
            "linecolor": "white",
            "ticks": ""
           }
          },
          "scene": {
           "xaxis": {
            "backgroundcolor": "#E5ECF6",
            "gridcolor": "white",
            "gridwidth": 2,
            "linecolor": "white",
            "showbackground": true,
            "ticks": "",
            "zerolinecolor": "white"
           },
           "yaxis": {
            "backgroundcolor": "#E5ECF6",
            "gridcolor": "white",
            "gridwidth": 2,
            "linecolor": "white",
            "showbackground": true,
            "ticks": "",
            "zerolinecolor": "white"
           },
           "zaxis": {
            "backgroundcolor": "#E5ECF6",
            "gridcolor": "white",
            "gridwidth": 2,
            "linecolor": "white",
            "showbackground": true,
            "ticks": "",
            "zerolinecolor": "white"
           }
          },
          "shapedefaults": {
           "line": {
            "color": "#2a3f5f"
           }
          },
          "ternary": {
           "aaxis": {
            "gridcolor": "white",
            "linecolor": "white",
            "ticks": ""
           },
           "baxis": {
            "gridcolor": "white",
            "linecolor": "white",
            "ticks": ""
           },
           "bgcolor": "#E5ECF6",
           "caxis": {
            "gridcolor": "white",
            "linecolor": "white",
            "ticks": ""
           }
          },
          "title": {
           "x": 0.05
          },
          "xaxis": {
           "automargin": true,
           "gridcolor": "white",
           "linecolor": "white",
           "ticks": "",
           "title": {
            "standoff": 15
           },
           "zerolinecolor": "white",
           "zerolinewidth": 2
          },
          "yaxis": {
           "automargin": true,
           "gridcolor": "white",
           "linecolor": "white",
           "ticks": "",
           "title": {
            "standoff": 15
           },
           "zerolinecolor": "white",
           "zerolinewidth": 2
          }
         }
        }
       }
      }
     },
     "metadata": {},
     "output_type": "display_data"
    }
   ],
   "source": [
    "import plotly.graph_objects as go\n",
    "\n",
    "data1 = go.Scatter(x=df['Molecular Weight'], \n",
    "                    y=df['pChEMBL Value'],\n",
    "                    mode='markers',\n",
    "                    # fill='Murcko_generic_SMILES'\n",
    "                    )\n",
    "go.Figure(data1)\n"
   ]
  },
  {
   "cell_type": "markdown",
   "metadata": {},
   "source": [
    "### Plotly.px scatter"
   ]
  },
  {
   "cell_type": "code",
   "execution_count": 47,
   "metadata": {},
   "outputs": [
    {
     "data": {
      "application/vnd.plotly.v1+json": {
       "config": {
        "plotlyServerURL": "https://plot.ly"
       },
       "data": [
        {
         "customdata": [
          [
           "CHEMBL4831483",
           0
          ],
          [
           "CHEMBL4831483",
           1
          ],
          [
           "CHEMBL4831483",
           2
          ],
          [
           "CHEMBL4831483",
           3
          ],
          [
           "CHEMBL4831483",
           4
          ],
          [
           "CHEMBL4831483",
           13
          ],
          [
           "CHEMBL4831483",
           14
          ],
          [
           "CHEMBL4831483",
           16
          ],
          [
           "CHEMBL4831483",
           18
          ],
          [
           "CHEMBL4831483",
           19
          ],
          [
           "CHEMBL4831483",
           22
          ],
          [
           "CHEMBL4831483",
           25
          ],
          [
           "CHEMBL4831483",
           26
          ],
          [
           "CHEMBL4831483",
           27
          ],
          [
           "CHEMBL4831483",
           29
          ],
          [
           "CHEMBL4831483",
           31
          ],
          [
           "CHEMBL4831483",
           32
          ],
          [
           "CHEMBL4831483",
           34
          ],
          [
           "CHEMBL4831483",
           35
          ],
          [
           "CHEMBL4831483",
           38
          ],
          [
           "CHEMBL4831483",
           43
          ],
          [
           "CHEMBL4831483",
           44
          ],
          [
           "CHEMBL4831483",
           45
          ],
          [
           "CHEMBL4831483",
           47
          ],
          [
           "CHEMBL4831483",
           48
          ],
          [
           "CHEMBL4831483",
           49
          ],
          [
           "CHEMBL4831483",
           50
          ],
          [
           "CHEMBL4831483",
           51
          ],
          [
           "CHEMBL4831483",
           52
          ],
          [
           "CHEMBL4831483",
           53
          ],
          [
           "CHEMBL4831483",
           54
          ],
          [
           "CHEMBL4831483",
           55
          ],
          [
           "CHEMBL4831483",
           56
          ],
          [
           "CHEMBL4831483",
           57
          ]
         ],
         "hovertemplate": "<b>%{hovertext}</b><br><br>Document ChEMBL ID=%{customdata[0]}<br>Molecular Weight=%{x}<br>Ligand Efficiency LLE=%{y}<br>index=%{customdata[1]}<extra></extra>",
         "hovertext": [
          "CHEMBL4864930",
          "CHEMBL4846173",
          "CHEMBL4854368",
          "CHEMBL4857861",
          "CHEMBL4860368",
          "CHEMBL4874978",
          "CHEMBL4877143",
          "CHEMBL4870400",
          "CHEMBL4874748",
          "CHEMBL4878063",
          "CHEMBL4851261",
          "CHEMBL4845924",
          "CHEMBL4850314",
          "CHEMBL4870398",
          "CHEMBL4857861",
          "CHEMBL4854844",
          "CHEMBL4869436",
          "CHEMBL4855167",
          "CHEMBL4854494",
          "CHEMBL4065616",
          "CHEMBL4852069",
          "CHEMBL4848534",
          "CHEMBL4065616",
          "CHEMBL4065616",
          "CHEMBL4863334",
          "CHEMBL4857654",
          "CHEMBL4865625",
          "CHEMBL4878063",
          "CHEMBL4852238",
          "CHEMBL4863973",
          "CHEMBL4870398",
          "CHEMBL4845924",
          "CHEMBL4869436",
          "CHEMBL4875555"
         ],
         "legendgroup": "CHEMBL4831483",
         "marker": {
          "color": "#636efa",
          "opacity": 0.5,
          "symbol": "circle"
         },
         "mode": "markers",
         "name": "CHEMBL4831483",
         "orientation": "v",
         "showlegend": true,
         "type": "scatter",
         "x": [
          400.55,
          444.18,
          389.32,
          449.37,
          379.31,
          444.18,
          310.42,
          444.18,
          465.42,
          310.42,
          340.45,
          402.52,
          397.54,
          386.52,
          449.37,
          296.39,
          465.42,
          383.52,
          405.32,
          602.59,
          340.45,
          310.42,
          602.59,
          602.59,
          444.18,
          405.32,
          389.32,
          310.42,
          405.32,
          364.39,
          386.52,
          402.52,
          465.42,
          405.32
         ],
         "xaxis": "x",
         "y": [
          -0.59,
          -0.59,
          0,
          0.71,
          0.23,
          -0.64,
          1.04,
          -0.51,
          -1.1,
          1.42,
          1.41,
          0.41,
          1.52,
          -0.09,
          0.94,
          1.59,
          -0.84,
          1.52,
          0.62,
          3.2,
          1.19,
          0.98,
          3.5,
          3.61,
          -0.31,
          0.71,
          0.65,
          1.35,
          0.65,
          0.5,
          -0.02,
          0.53,
          -0.83,
          0.8
         ],
         "yaxis": "y"
        },
        {
         "customdata": [
          [
           "CHEMBL4808212",
           5
          ],
          [
           "CHEMBL4808212",
           6
          ],
          [
           "CHEMBL4808212",
           7
          ],
          [
           "CHEMBL4808212",
           8
          ],
          [
           "CHEMBL4808212",
           9
          ],
          [
           "CHEMBL4808212",
           10
          ],
          [
           "CHEMBL4808212",
           11
          ],
          [
           "CHEMBL4808212",
           12
          ],
          [
           "CHEMBL4808212",
           15
          ],
          [
           "CHEMBL4808212",
           20
          ],
          [
           "CHEMBL4808212",
           23
          ],
          [
           "CHEMBL4808212",
           24
          ],
          [
           "CHEMBL4808212",
           28
          ],
          [
           "CHEMBL4808212",
           36
          ],
          [
           "CHEMBL4808212",
           39
          ],
          [
           "CHEMBL4808212",
           40
          ],
          [
           "CHEMBL4808212",
           41
          ],
          [
           "CHEMBL4808212",
           42
          ],
          [
           "CHEMBL4808212",
           46
          ],
          [
           "CHEMBL4808212",
           58
          ]
         ],
         "hovertemplate": "<b>%{hovertext}</b><br><br>Document ChEMBL ID=%{customdata[0]}<br>Molecular Weight=%{x}<br>Ligand Efficiency LLE=%{y}<br>index=%{customdata[1]}<extra></extra>",
         "hovertext": [
          "CHEMBL4850298",
          "CHEMBL92708",
          "CHEMBL3559293",
          "CHEMBL213543",
          "CHEMBL4852855",
          "CHEMBL4796938",
          "CHEMBL4868590",
          "CHEMBL92708",
          "CHEMBL4857345",
          "CHEMBL2316746",
          "CHEMBL4764751",
          "CHEMBL3559293",
          "CHEMBL4796938",
          "CHEMBL3559293",
          "CHEMBL4764751",
          "CHEMBL4777223",
          "CHEMBL4518490",
          "CHEMBL231813",
          "CHEMBL64925",
          "CHEMBL4796938"
         ],
         "legendgroup": "CHEMBL4808212",
         "marker": {
          "color": "#EF553B",
          "opacity": 0.5,
          "symbol": "circle"
         },
         "mode": "markers",
         "name": "CHEMBL4808212",
         "orientation": "v",
         "showlegend": true,
         "type": "scatter",
         "x": [
          403.48,
          362.47,
          485.56,
          572.7,
          600.76,
          452.56,
          504.67,
          362.47,
          601.75,
          635.79,
          464.5,
          485.56,
          452.56,
          485.56,
          464.5,
          472.54,
          461.6,
          679.86,
          475.63,
          452.56
         ],
         "xaxis": "x",
         "y": [
          5.84,
          2.12,
          6.98,
          3.94,
          4.9,
          5.06,
          3.6,
          1.77,
          5.23,
          3.06,
          5.78,
          6.93,
          5.4,
          6.97,
          5.54,
          7.21,
          2.16,
          2.49,
          1.82,
          4.83
         ],
         "yaxis": "y"
        },
        {
         "customdata": [
          [
           "CHEMBL4808239",
           17
          ],
          [
           "CHEMBL4808239",
           59
          ]
         ],
         "hovertemplate": "<b>%{hovertext}</b><br><br>Document ChEMBL ID=%{customdata[0]}<br>Molecular Weight=%{x}<br>Ligand Efficiency LLE=%{y}<br>index=%{customdata[1]}<extra></extra>",
         "hovertext": [
          "CHEMBL4875501",
          "CHEMBL4875501"
         ],
         "legendgroup": "CHEMBL4808239",
         "marker": {
          "color": "#00cc96",
          "opacity": 0.5,
          "symbol": "circle"
         },
         "mode": "markers",
         "name": "CHEMBL4808239",
         "orientation": "v",
         "showlegend": true,
         "type": "scatter",
         "x": [
          1468.68,
          1468.68
         ],
         "xaxis": "x",
         "y": [
          0,
          0
         ],
         "yaxis": "y"
        },
        {
         "customdata": [
          [
           "CHEMBL4819138",
           21
          ],
          [
           "CHEMBL4819138",
           30
          ],
          [
           "CHEMBL4819138",
           33
          ],
          [
           "CHEMBL4819138",
           37
          ]
         ],
         "hovertemplate": "<b>%{hovertext}</b><br><br>Document ChEMBL ID=%{customdata[0]}<br>Molecular Weight=%{x}<br>Ligand Efficiency LLE=%{y}<br>index=%{customdata[1]}<extra></extra>",
         "hovertext": [
          "CHEMBL4869416",
          "CHEMBL4877358",
          "CHEMBL4869416",
          "CHEMBL4877358"
         ],
         "legendgroup": "CHEMBL4819138",
         "marker": {
          "color": "#ab63fa",
          "opacity": 0.5,
          "symbol": "circle"
         },
         "mode": "markers",
         "name": "CHEMBL4819138",
         "orientation": "v",
         "showlegend": true,
         "type": "scatter",
         "x": [
          555.53,
          504.47,
          555.53,
          504.47
         ],
         "xaxis": "x",
         "y": [
          5.46,
          5.72,
          6.18,
          5.96
         ],
         "yaxis": "y"
        }
       ],
       "layout": {
        "legend": {
         "title": {
          "text": "Document ChEMBL ID"
         },
         "tracegroupgap": 0
        },
        "margin": {
         "t": 60
        },
        "template": {
         "data": {
          "bar": [
           {
            "error_x": {
             "color": "#2a3f5f"
            },
            "error_y": {
             "color": "#2a3f5f"
            },
            "marker": {
             "line": {
              "color": "#E5ECF6",
              "width": 0.5
             },
             "pattern": {
              "fillmode": "overlay",
              "size": 10,
              "solidity": 0.2
             }
            },
            "type": "bar"
           }
          ],
          "barpolar": [
           {
            "marker": {
             "line": {
              "color": "#E5ECF6",
              "width": 0.5
             },
             "pattern": {
              "fillmode": "overlay",
              "size": 10,
              "solidity": 0.2
             }
            },
            "type": "barpolar"
           }
          ],
          "carpet": [
           {
            "aaxis": {
             "endlinecolor": "#2a3f5f",
             "gridcolor": "white",
             "linecolor": "white",
             "minorgridcolor": "white",
             "startlinecolor": "#2a3f5f"
            },
            "baxis": {
             "endlinecolor": "#2a3f5f",
             "gridcolor": "white",
             "linecolor": "white",
             "minorgridcolor": "white",
             "startlinecolor": "#2a3f5f"
            },
            "type": "carpet"
           }
          ],
          "choropleth": [
           {
            "colorbar": {
             "outlinewidth": 0,
             "ticks": ""
            },
            "type": "choropleth"
           }
          ],
          "contour": [
           {
            "colorbar": {
             "outlinewidth": 0,
             "ticks": ""
            },
            "colorscale": [
             [
              0,
              "#0d0887"
             ],
             [
              0.1111111111111111,
              "#46039f"
             ],
             [
              0.2222222222222222,
              "#7201a8"
             ],
             [
              0.3333333333333333,
              "#9c179e"
             ],
             [
              0.4444444444444444,
              "#bd3786"
             ],
             [
              0.5555555555555556,
              "#d8576b"
             ],
             [
              0.6666666666666666,
              "#ed7953"
             ],
             [
              0.7777777777777778,
              "#fb9f3a"
             ],
             [
              0.8888888888888888,
              "#fdca26"
             ],
             [
              1,
              "#f0f921"
             ]
            ],
            "type": "contour"
           }
          ],
          "contourcarpet": [
           {
            "colorbar": {
             "outlinewidth": 0,
             "ticks": ""
            },
            "type": "contourcarpet"
           }
          ],
          "heatmap": [
           {
            "colorbar": {
             "outlinewidth": 0,
             "ticks": ""
            },
            "colorscale": [
             [
              0,
              "#0d0887"
             ],
             [
              0.1111111111111111,
              "#46039f"
             ],
             [
              0.2222222222222222,
              "#7201a8"
             ],
             [
              0.3333333333333333,
              "#9c179e"
             ],
             [
              0.4444444444444444,
              "#bd3786"
             ],
             [
              0.5555555555555556,
              "#d8576b"
             ],
             [
              0.6666666666666666,
              "#ed7953"
             ],
             [
              0.7777777777777778,
              "#fb9f3a"
             ],
             [
              0.8888888888888888,
              "#fdca26"
             ],
             [
              1,
              "#f0f921"
             ]
            ],
            "type": "heatmap"
           }
          ],
          "heatmapgl": [
           {
            "colorbar": {
             "outlinewidth": 0,
             "ticks": ""
            },
            "colorscale": [
             [
              0,
              "#0d0887"
             ],
             [
              0.1111111111111111,
              "#46039f"
             ],
             [
              0.2222222222222222,
              "#7201a8"
             ],
             [
              0.3333333333333333,
              "#9c179e"
             ],
             [
              0.4444444444444444,
              "#bd3786"
             ],
             [
              0.5555555555555556,
              "#d8576b"
             ],
             [
              0.6666666666666666,
              "#ed7953"
             ],
             [
              0.7777777777777778,
              "#fb9f3a"
             ],
             [
              0.8888888888888888,
              "#fdca26"
             ],
             [
              1,
              "#f0f921"
             ]
            ],
            "type": "heatmapgl"
           }
          ],
          "histogram": [
           {
            "marker": {
             "pattern": {
              "fillmode": "overlay",
              "size": 10,
              "solidity": 0.2
             }
            },
            "type": "histogram"
           }
          ],
          "histogram2d": [
           {
            "colorbar": {
             "outlinewidth": 0,
             "ticks": ""
            },
            "colorscale": [
             [
              0,
              "#0d0887"
             ],
             [
              0.1111111111111111,
              "#46039f"
             ],
             [
              0.2222222222222222,
              "#7201a8"
             ],
             [
              0.3333333333333333,
              "#9c179e"
             ],
             [
              0.4444444444444444,
              "#bd3786"
             ],
             [
              0.5555555555555556,
              "#d8576b"
             ],
             [
              0.6666666666666666,
              "#ed7953"
             ],
             [
              0.7777777777777778,
              "#fb9f3a"
             ],
             [
              0.8888888888888888,
              "#fdca26"
             ],
             [
              1,
              "#f0f921"
             ]
            ],
            "type": "histogram2d"
           }
          ],
          "histogram2dcontour": [
           {
            "colorbar": {
             "outlinewidth": 0,
             "ticks": ""
            },
            "colorscale": [
             [
              0,
              "#0d0887"
             ],
             [
              0.1111111111111111,
              "#46039f"
             ],
             [
              0.2222222222222222,
              "#7201a8"
             ],
             [
              0.3333333333333333,
              "#9c179e"
             ],
             [
              0.4444444444444444,
              "#bd3786"
             ],
             [
              0.5555555555555556,
              "#d8576b"
             ],
             [
              0.6666666666666666,
              "#ed7953"
             ],
             [
              0.7777777777777778,
              "#fb9f3a"
             ],
             [
              0.8888888888888888,
              "#fdca26"
             ],
             [
              1,
              "#f0f921"
             ]
            ],
            "type": "histogram2dcontour"
           }
          ],
          "mesh3d": [
           {
            "colorbar": {
             "outlinewidth": 0,
             "ticks": ""
            },
            "type": "mesh3d"
           }
          ],
          "parcoords": [
           {
            "line": {
             "colorbar": {
              "outlinewidth": 0,
              "ticks": ""
             }
            },
            "type": "parcoords"
           }
          ],
          "pie": [
           {
            "automargin": true,
            "type": "pie"
           }
          ],
          "scatter": [
           {
            "fillpattern": {
             "fillmode": "overlay",
             "size": 10,
             "solidity": 0.2
            },
            "type": "scatter"
           }
          ],
          "scatter3d": [
           {
            "line": {
             "colorbar": {
              "outlinewidth": 0,
              "ticks": ""
             }
            },
            "marker": {
             "colorbar": {
              "outlinewidth": 0,
              "ticks": ""
             }
            },
            "type": "scatter3d"
           }
          ],
          "scattercarpet": [
           {
            "marker": {
             "colorbar": {
              "outlinewidth": 0,
              "ticks": ""
             }
            },
            "type": "scattercarpet"
           }
          ],
          "scattergeo": [
           {
            "marker": {
             "colorbar": {
              "outlinewidth": 0,
              "ticks": ""
             }
            },
            "type": "scattergeo"
           }
          ],
          "scattergl": [
           {
            "marker": {
             "colorbar": {
              "outlinewidth": 0,
              "ticks": ""
             }
            },
            "type": "scattergl"
           }
          ],
          "scattermapbox": [
           {
            "marker": {
             "colorbar": {
              "outlinewidth": 0,
              "ticks": ""
             }
            },
            "type": "scattermapbox"
           }
          ],
          "scatterpolar": [
           {
            "marker": {
             "colorbar": {
              "outlinewidth": 0,
              "ticks": ""
             }
            },
            "type": "scatterpolar"
           }
          ],
          "scatterpolargl": [
           {
            "marker": {
             "colorbar": {
              "outlinewidth": 0,
              "ticks": ""
             }
            },
            "type": "scatterpolargl"
           }
          ],
          "scatterternary": [
           {
            "marker": {
             "colorbar": {
              "outlinewidth": 0,
              "ticks": ""
             }
            },
            "type": "scatterternary"
           }
          ],
          "surface": [
           {
            "colorbar": {
             "outlinewidth": 0,
             "ticks": ""
            },
            "colorscale": [
             [
              0,
              "#0d0887"
             ],
             [
              0.1111111111111111,
              "#46039f"
             ],
             [
              0.2222222222222222,
              "#7201a8"
             ],
             [
              0.3333333333333333,
              "#9c179e"
             ],
             [
              0.4444444444444444,
              "#bd3786"
             ],
             [
              0.5555555555555556,
              "#d8576b"
             ],
             [
              0.6666666666666666,
              "#ed7953"
             ],
             [
              0.7777777777777778,
              "#fb9f3a"
             ],
             [
              0.8888888888888888,
              "#fdca26"
             ],
             [
              1,
              "#f0f921"
             ]
            ],
            "type": "surface"
           }
          ],
          "table": [
           {
            "cells": {
             "fill": {
              "color": "#EBF0F8"
             },
             "line": {
              "color": "white"
             }
            },
            "header": {
             "fill": {
              "color": "#C8D4E3"
             },
             "line": {
              "color": "white"
             }
            },
            "type": "table"
           }
          ]
         },
         "layout": {
          "annotationdefaults": {
           "arrowcolor": "#2a3f5f",
           "arrowhead": 0,
           "arrowwidth": 1
          },
          "autotypenumbers": "strict",
          "coloraxis": {
           "colorbar": {
            "outlinewidth": 0,
            "ticks": ""
           }
          },
          "colorscale": {
           "diverging": [
            [
             0,
             "#8e0152"
            ],
            [
             0.1,
             "#c51b7d"
            ],
            [
             0.2,
             "#de77ae"
            ],
            [
             0.3,
             "#f1b6da"
            ],
            [
             0.4,
             "#fde0ef"
            ],
            [
             0.5,
             "#f7f7f7"
            ],
            [
             0.6,
             "#e6f5d0"
            ],
            [
             0.7,
             "#b8e186"
            ],
            [
             0.8,
             "#7fbc41"
            ],
            [
             0.9,
             "#4d9221"
            ],
            [
             1,
             "#276419"
            ]
           ],
           "sequential": [
            [
             0,
             "#0d0887"
            ],
            [
             0.1111111111111111,
             "#46039f"
            ],
            [
             0.2222222222222222,
             "#7201a8"
            ],
            [
             0.3333333333333333,
             "#9c179e"
            ],
            [
             0.4444444444444444,
             "#bd3786"
            ],
            [
             0.5555555555555556,
             "#d8576b"
            ],
            [
             0.6666666666666666,
             "#ed7953"
            ],
            [
             0.7777777777777778,
             "#fb9f3a"
            ],
            [
             0.8888888888888888,
             "#fdca26"
            ],
            [
             1,
             "#f0f921"
            ]
           ],
           "sequentialminus": [
            [
             0,
             "#0d0887"
            ],
            [
             0.1111111111111111,
             "#46039f"
            ],
            [
             0.2222222222222222,
             "#7201a8"
            ],
            [
             0.3333333333333333,
             "#9c179e"
            ],
            [
             0.4444444444444444,
             "#bd3786"
            ],
            [
             0.5555555555555556,
             "#d8576b"
            ],
            [
             0.6666666666666666,
             "#ed7953"
            ],
            [
             0.7777777777777778,
             "#fb9f3a"
            ],
            [
             0.8888888888888888,
             "#fdca26"
            ],
            [
             1,
             "#f0f921"
            ]
           ]
          },
          "colorway": [
           "#636efa",
           "#EF553B",
           "#00cc96",
           "#ab63fa",
           "#FFA15A",
           "#19d3f3",
           "#FF6692",
           "#B6E880",
           "#FF97FF",
           "#FECB52"
          ],
          "font": {
           "color": "#2a3f5f"
          },
          "geo": {
           "bgcolor": "white",
           "lakecolor": "white",
           "landcolor": "#E5ECF6",
           "showlakes": true,
           "showland": true,
           "subunitcolor": "white"
          },
          "hoverlabel": {
           "align": "left"
          },
          "hovermode": "closest",
          "mapbox": {
           "style": "light"
          },
          "paper_bgcolor": "white",
          "plot_bgcolor": "#E5ECF6",
          "polar": {
           "angularaxis": {
            "gridcolor": "white",
            "linecolor": "white",
            "ticks": ""
           },
           "bgcolor": "#E5ECF6",
           "radialaxis": {
            "gridcolor": "white",
            "linecolor": "white",
            "ticks": ""
           }
          },
          "scene": {
           "xaxis": {
            "backgroundcolor": "#E5ECF6",
            "gridcolor": "white",
            "gridwidth": 2,
            "linecolor": "white",
            "showbackground": true,
            "ticks": "",
            "zerolinecolor": "white"
           },
           "yaxis": {
            "backgroundcolor": "#E5ECF6",
            "gridcolor": "white",
            "gridwidth": 2,
            "linecolor": "white",
            "showbackground": true,
            "ticks": "",
            "zerolinecolor": "white"
           },
           "zaxis": {
            "backgroundcolor": "#E5ECF6",
            "gridcolor": "white",
            "gridwidth": 2,
            "linecolor": "white",
            "showbackground": true,
            "ticks": "",
            "zerolinecolor": "white"
           }
          },
          "shapedefaults": {
           "line": {
            "color": "#2a3f5f"
           }
          },
          "ternary": {
           "aaxis": {
            "gridcolor": "white",
            "linecolor": "white",
            "ticks": ""
           },
           "baxis": {
            "gridcolor": "white",
            "linecolor": "white",
            "ticks": ""
           },
           "bgcolor": "#E5ECF6",
           "caxis": {
            "gridcolor": "white",
            "linecolor": "white",
            "ticks": ""
           }
          },
          "title": {
           "x": 0.05
          },
          "xaxis": {
           "automargin": true,
           "gridcolor": "white",
           "linecolor": "white",
           "ticks": "",
           "title": {
            "standoff": 15
           },
           "zerolinecolor": "white",
           "zerolinewidth": 2
          },
          "yaxis": {
           "automargin": true,
           "gridcolor": "white",
           "linecolor": "white",
           "ticks": "",
           "title": {
            "standoff": 15
           },
           "zerolinecolor": "white",
           "zerolinewidth": 2
          }
         }
        },
        "title": {
         "text": "LLE v.s. MW"
        },
        "width": 1000,
        "xaxis": {
         "anchor": "y",
         "domain": [
          0,
          1
         ],
         "title": {
          "text": "Molecular Weight"
         }
        },
        "yaxis": {
         "anchor": "x",
         "domain": [
          0,
          1
         ],
         "title": {
          "text": "Ligand Efficiency LLE"
         }
        }
       }
      }
     },
     "metadata": {},
     "output_type": "display_data"
    }
   ],
   "source": [
    "import plotly.express as px\n",
    "fig = px.scatter(df,\n",
    "                    x='Molecular Weight',\n",
    "                    y='Ligand Efficiency LLE',\n",
    "                    # color='AlogP',\n",
    "                    color='Document ChEMBL ID',\n",
    "                    # color='Murcko_generic_SMILES',\n",
    "                    # size='pChEMBL Value',\n",
    "                    hover_name='Molecule ChEMBL ID',\n",
    "                    hover_data=['Document ChEMBL ID', df.index],\n",
    "                    opacity=0.5\n",
    "                )\n",
    "fig.update_layout(\n",
    "    title='LLE v.s. MW',\n",
    "    # showlegend=False, # Legendのon/off\n",
    "    width=1000,\n",
    "    # height=700\n",
    "    ) \n",
    "fig.show()\n"
   ]
  },
  {
   "cell_type": "markdown",
   "metadata": {},
   "source": [
    "### Plotly.3D scatter"
   ]
  },
  {
   "cell_type": "code",
   "execution_count": 50,
   "metadata": {},
   "outputs": [
    {
     "data": {
      "application/vnd.plotly.v1+json": {
       "config": {
        "plotlyServerURL": "https://plot.ly"
       },
       "data": [
        {
         "customdata": [
          [
           "CHEMBL4864930",
           0
          ],
          [
           "CHEMBL4846173",
           1
          ],
          [
           "CHEMBL4854368",
           2
          ],
          [
           "CHEMBL4857861",
           3
          ],
          [
           "CHEMBL4860368",
           4
          ],
          [
           "CHEMBL4874978",
           13
          ],
          [
           "CHEMBL4877143",
           14
          ],
          [
           "CHEMBL4870400",
           16
          ],
          [
           "CHEMBL4874748",
           18
          ],
          [
           "CHEMBL4878063",
           19
          ],
          [
           "CHEMBL4851261",
           22
          ],
          [
           "CHEMBL4845924",
           25
          ],
          [
           "CHEMBL4850314",
           26
          ],
          [
           "CHEMBL4870398",
           27
          ],
          [
           "CHEMBL4857861",
           29
          ],
          [
           "CHEMBL4854844",
           31
          ],
          [
           "CHEMBL4869436",
           32
          ],
          [
           "CHEMBL4855167",
           34
          ],
          [
           "CHEMBL4854494",
           35
          ],
          [
           "CHEMBL4065616",
           38
          ],
          [
           "CHEMBL4852069",
           43
          ],
          [
           "CHEMBL4848534",
           44
          ],
          [
           "CHEMBL4065616",
           45
          ],
          [
           "CHEMBL4065616",
           47
          ],
          [
           "CHEMBL4863334",
           48
          ],
          [
           "CHEMBL4857654",
           49
          ],
          [
           "CHEMBL4865625",
           50
          ],
          [
           "CHEMBL4878063",
           51
          ],
          [
           "CHEMBL4852238",
           52
          ],
          [
           "CHEMBL4863973",
           53
          ],
          [
           "CHEMBL4870398",
           54
          ],
          [
           "CHEMBL4845924",
           55
          ],
          [
           "CHEMBL4869436",
           56
          ],
          [
           "CHEMBL4875555",
           57
          ]
         ],
         "hovertemplate": "<b>%{hovertext}</b><br><br>Document ChEMBL ID=CHEMBL4831483<br>Molecular Weight=%{x}<br>AlogP=%{y}<br>pChEMBL Value=%{z}<br>Molecule ChEMBL ID=%{customdata[0]}<br>index=%{customdata[1]}<extra></extra>",
         "hovertext": [
          "CHEMBL4864930",
          "CHEMBL4846173",
          "CHEMBL4854368",
          "CHEMBL4857861",
          "CHEMBL4860368",
          "CHEMBL4874978",
          "CHEMBL4877143",
          "CHEMBL4870400",
          "CHEMBL4874748",
          "CHEMBL4878063",
          "CHEMBL4851261",
          "CHEMBL4845924",
          "CHEMBL4850314",
          "CHEMBL4870398",
          "CHEMBL4857861",
          "CHEMBL4854844",
          "CHEMBL4869436",
          "CHEMBL4855167",
          "CHEMBL4854494",
          "CHEMBL4065616",
          "CHEMBL4852069",
          "CHEMBL4848534",
          "CHEMBL4065616",
          "CHEMBL4065616",
          "CHEMBL4863334",
          "CHEMBL4857654",
          "CHEMBL4865625",
          "CHEMBL4878063",
          "CHEMBL4852238",
          "CHEMBL4863973",
          "CHEMBL4870398",
          "CHEMBL4845924",
          "CHEMBL4869436",
          "CHEMBL4875555"
         ],
         "legendgroup": "CHEMBL4831483",
         "marker": {
          "color": "#636efa",
          "opacity": 0.5,
          "symbol": "circle"
         },
         "mode": "markers",
         "name": "CHEMBL4831483",
         "scene": "scene",
         "showlegend": true,
         "type": "scatter3d",
         "x": [
          400.55,
          444.18,
          389.32,
          449.37,
          379.31,
          444.18,
          310.42,
          444.18,
          465.42,
          310.42,
          340.45,
          402.52,
          397.54,
          386.52,
          449.37,
          296.39,
          465.42,
          383.52,
          405.32,
          602.59,
          340.45,
          310.42,
          602.59,
          602.59,
          444.18,
          405.32,
          389.32,
          310.42,
          405.32,
          364.39,
          386.52,
          402.52,
          465.42,
          405.32
         ],
         "y": [
          5.5,
          5.65,
          4.68,
          5.01,
          4.89,
          5.65,
          4.14,
          5.65,
          6.25,
          3.92,
          3.6,
          5.25,
          3.53,
          5.49,
          5.01,
          3.58,
          6.25,
          3.52,
          4.35,
          2.31,
          3.93,
          3.59,
          2.31,
          2.31,
          5.65,
          4.35,
          4.68,
          3.92,
          4.35,
          4.6,
          5.49,
          5.25,
          6.25,
          4.35
         ],
         "z": [
          4.91,
          5.06,
          4.68,
          5.72,
          5.12,
          5.01,
          5.17,
          5.14,
          5.15,
          5.34,
          5.01,
          5.66,
          5.05,
          5.4,
          5.96,
          5.17,
          5.42,
          5.04,
          4.97,
          5.51,
          5.12,
          4.57,
          5.81,
          5.92,
          5.34,
          5.06,
          5.33,
          5.27,
          5,
          5.1,
          5.47,
          5.78,
          5.42,
          5.15
         ]
        },
        {
         "customdata": [
          [
           "CHEMBL4850298",
           5
          ],
          [
           "CHEMBL92708",
           6
          ],
          [
           "CHEMBL3559293",
           7
          ],
          [
           "CHEMBL213543",
           8
          ],
          [
           "CHEMBL4852855",
           9
          ],
          [
           "CHEMBL4796938",
           10
          ],
          [
           "CHEMBL4868590",
           11
          ],
          [
           "CHEMBL92708",
           12
          ],
          [
           "CHEMBL4857345",
           15
          ],
          [
           "CHEMBL2316746",
           20
          ],
          [
           "CHEMBL4764751",
           23
          ],
          [
           "CHEMBL3559293",
           24
          ],
          [
           "CHEMBL4796938",
           28
          ],
          [
           "CHEMBL3559293",
           36
          ],
          [
           "CHEMBL4764751",
           39
          ],
          [
           "CHEMBL4777223",
           40
          ],
          [
           "CHEMBL4518490",
           41
          ],
          [
           "CHEMBL231813",
           42
          ],
          [
           "CHEMBL64925",
           46
          ],
          [
           "CHEMBL4796938",
           58
          ]
         ],
         "hovertemplate": "<b>%{hovertext}</b><br><br>Document ChEMBL ID=CHEMBL4808212<br>Molecular Weight=%{x}<br>AlogP=%{y}<br>pChEMBL Value=%{z}<br>Molecule ChEMBL ID=%{customdata[0]}<br>index=%{customdata[1]}<extra></extra>",
         "hovertext": [
          "CHEMBL4850298",
          "CHEMBL92708",
          "CHEMBL3559293",
          "CHEMBL213543",
          "CHEMBL4852855",
          "CHEMBL4796938",
          "CHEMBL4868590",
          "CHEMBL92708",
          "CHEMBL4857345",
          "CHEMBL2316746",
          "CHEMBL4764751",
          "CHEMBL3559293",
          "CHEMBL4796938",
          "CHEMBL3559293",
          "CHEMBL4764751",
          "CHEMBL4777223",
          "CHEMBL4518490",
          "CHEMBL231813",
          "CHEMBL64925",
          "CHEMBL4796938"
         ],
         "legendgroup": "CHEMBL4808212",
         "marker": {
          "color": "#EF553B",
          "opacity": 0.5,
          "symbol": "circle"
         },
         "mode": "markers",
         "name": "CHEMBL4808212",
         "scene": "scene",
         "showlegend": true,
         "type": "scatter3d",
         "x": [
          403.48,
          362.47,
          485.56,
          572.7,
          600.76,
          452.56,
          504.67,
          362.47,
          601.75,
          635.79,
          464.5,
          485.56,
          452.56,
          485.56,
          464.5,
          472.54,
          461.6,
          679.86,
          475.63,
          452.56
         ],
         "y": [
          1.54,
          3.2,
          0.54,
          2.6,
          3.15,
          2.45,
          1.78,
          3.2,
          1.96,
          3.97,
          1.86,
          0.54,
          2.45,
          0.54,
          1.86,
          0.89,
          3.34,
          2.45,
          3.59,
          2.45
         ],
         "z": [
          7.38,
          5.32,
          7.52,
          6.54,
          8.05,
          7.51,
          5.38,
          4.97,
          7.19,
          7.03,
          7.64,
          7.47,
          7.85,
          7.51,
          7.4,
          8.1,
          5.5,
          4.94,
          5.41,
          7.28
         ]
        },
        {
         "customdata": [
          [
           "CHEMBL4875501",
           17
          ],
          [
           "CHEMBL4875501",
           59
          ]
         ],
         "hovertemplate": "<b>%{hovertext}</b><br><br>Document ChEMBL ID=CHEMBL4808239<br>Molecular Weight=%{x}<br>AlogP=%{y}<br>pChEMBL Value=%{z}<br>Molecule ChEMBL ID=%{customdata[0]}<br>index=%{customdata[1]}<extra></extra>",
         "hovertext": [
          "CHEMBL4875501",
          "CHEMBL4875501"
         ],
         "legendgroup": "CHEMBL4808239",
         "marker": {
          "color": "#00cc96",
          "opacity": 0.5,
          "symbol": "circle"
         },
         "mode": "markers",
         "name": "CHEMBL4808239",
         "scene": "scene",
         "showlegend": true,
         "type": "scatter3d",
         "x": [
          1468.68,
          1468.68
         ],
         "y": [
          0,
          0
         ],
         "z": [
          4.24,
          4.15
         ]
        },
        {
         "customdata": [
          [
           "CHEMBL4869416",
           21
          ],
          [
           "CHEMBL4877358",
           30
          ],
          [
           "CHEMBL4869416",
           33
          ],
          [
           "CHEMBL4877358",
           37
          ]
         ],
         "hovertemplate": "<b>%{hovertext}</b><br><br>Document ChEMBL ID=CHEMBL4819138<br>Molecular Weight=%{x}<br>AlogP=%{y}<br>pChEMBL Value=%{z}<br>Molecule ChEMBL ID=%{customdata[0]}<br>index=%{customdata[1]}<extra></extra>",
         "hovertext": [
          "CHEMBL4869416",
          "CHEMBL4877358",
          "CHEMBL4869416",
          "CHEMBL4877358"
         ],
         "legendgroup": "CHEMBL4819138",
         "marker": {
          "color": "#ab63fa",
          "opacity": 0.5,
          "symbol": "circle"
         },
         "mode": "markers",
         "name": "CHEMBL4819138",
         "scene": "scene",
         "showlegend": true,
         "type": "scatter3d",
         "x": [
          555.53,
          504.47,
          555.53,
          504.47
         ],
         "y": [
          0.89,
          1.24,
          0.89,
          1.24
         ],
         "z": [
          6.35,
          6.96,
          7.07,
          7.2
         ]
        }
       ],
       "layout": {
        "height": 1000,
        "legend": {
         "title": {
          "text": "Document ChEMBL ID"
         },
         "tracegroupgap": 0
        },
        "margin": {
         "t": 60
        },
        "scene": {
         "domain": {
          "x": [
           0,
           1
          ],
          "y": [
           0,
           1
          ]
         },
         "xaxis": {
          "title": {
           "text": "Molecular Weight"
          }
         },
         "yaxis": {
          "title": {
           "text": "AlogP"
          }
         },
         "zaxis": {
          "title": {
           "text": "pChEMBL Value"
          }
         }
        },
        "template": {
         "data": {
          "bar": [
           {
            "error_x": {
             "color": "#2a3f5f"
            },
            "error_y": {
             "color": "#2a3f5f"
            },
            "marker": {
             "line": {
              "color": "#E5ECF6",
              "width": 0.5
             },
             "pattern": {
              "fillmode": "overlay",
              "size": 10,
              "solidity": 0.2
             }
            },
            "type": "bar"
           }
          ],
          "barpolar": [
           {
            "marker": {
             "line": {
              "color": "#E5ECF6",
              "width": 0.5
             },
             "pattern": {
              "fillmode": "overlay",
              "size": 10,
              "solidity": 0.2
             }
            },
            "type": "barpolar"
           }
          ],
          "carpet": [
           {
            "aaxis": {
             "endlinecolor": "#2a3f5f",
             "gridcolor": "white",
             "linecolor": "white",
             "minorgridcolor": "white",
             "startlinecolor": "#2a3f5f"
            },
            "baxis": {
             "endlinecolor": "#2a3f5f",
             "gridcolor": "white",
             "linecolor": "white",
             "minorgridcolor": "white",
             "startlinecolor": "#2a3f5f"
            },
            "type": "carpet"
           }
          ],
          "choropleth": [
           {
            "colorbar": {
             "outlinewidth": 0,
             "ticks": ""
            },
            "type": "choropleth"
           }
          ],
          "contour": [
           {
            "colorbar": {
             "outlinewidth": 0,
             "ticks": ""
            },
            "colorscale": [
             [
              0,
              "#0d0887"
             ],
             [
              0.1111111111111111,
              "#46039f"
             ],
             [
              0.2222222222222222,
              "#7201a8"
             ],
             [
              0.3333333333333333,
              "#9c179e"
             ],
             [
              0.4444444444444444,
              "#bd3786"
             ],
             [
              0.5555555555555556,
              "#d8576b"
             ],
             [
              0.6666666666666666,
              "#ed7953"
             ],
             [
              0.7777777777777778,
              "#fb9f3a"
             ],
             [
              0.8888888888888888,
              "#fdca26"
             ],
             [
              1,
              "#f0f921"
             ]
            ],
            "type": "contour"
           }
          ],
          "contourcarpet": [
           {
            "colorbar": {
             "outlinewidth": 0,
             "ticks": ""
            },
            "type": "contourcarpet"
           }
          ],
          "heatmap": [
           {
            "colorbar": {
             "outlinewidth": 0,
             "ticks": ""
            },
            "colorscale": [
             [
              0,
              "#0d0887"
             ],
             [
              0.1111111111111111,
              "#46039f"
             ],
             [
              0.2222222222222222,
              "#7201a8"
             ],
             [
              0.3333333333333333,
              "#9c179e"
             ],
             [
              0.4444444444444444,
              "#bd3786"
             ],
             [
              0.5555555555555556,
              "#d8576b"
             ],
             [
              0.6666666666666666,
              "#ed7953"
             ],
             [
              0.7777777777777778,
              "#fb9f3a"
             ],
             [
              0.8888888888888888,
              "#fdca26"
             ],
             [
              1,
              "#f0f921"
             ]
            ],
            "type": "heatmap"
           }
          ],
          "heatmapgl": [
           {
            "colorbar": {
             "outlinewidth": 0,
             "ticks": ""
            },
            "colorscale": [
             [
              0,
              "#0d0887"
             ],
             [
              0.1111111111111111,
              "#46039f"
             ],
             [
              0.2222222222222222,
              "#7201a8"
             ],
             [
              0.3333333333333333,
              "#9c179e"
             ],
             [
              0.4444444444444444,
              "#bd3786"
             ],
             [
              0.5555555555555556,
              "#d8576b"
             ],
             [
              0.6666666666666666,
              "#ed7953"
             ],
             [
              0.7777777777777778,
              "#fb9f3a"
             ],
             [
              0.8888888888888888,
              "#fdca26"
             ],
             [
              1,
              "#f0f921"
             ]
            ],
            "type": "heatmapgl"
           }
          ],
          "histogram": [
           {
            "marker": {
             "pattern": {
              "fillmode": "overlay",
              "size": 10,
              "solidity": 0.2
             }
            },
            "type": "histogram"
           }
          ],
          "histogram2d": [
           {
            "colorbar": {
             "outlinewidth": 0,
             "ticks": ""
            },
            "colorscale": [
             [
              0,
              "#0d0887"
             ],
             [
              0.1111111111111111,
              "#46039f"
             ],
             [
              0.2222222222222222,
              "#7201a8"
             ],
             [
              0.3333333333333333,
              "#9c179e"
             ],
             [
              0.4444444444444444,
              "#bd3786"
             ],
             [
              0.5555555555555556,
              "#d8576b"
             ],
             [
              0.6666666666666666,
              "#ed7953"
             ],
             [
              0.7777777777777778,
              "#fb9f3a"
             ],
             [
              0.8888888888888888,
              "#fdca26"
             ],
             [
              1,
              "#f0f921"
             ]
            ],
            "type": "histogram2d"
           }
          ],
          "histogram2dcontour": [
           {
            "colorbar": {
             "outlinewidth": 0,
             "ticks": ""
            },
            "colorscale": [
             [
              0,
              "#0d0887"
             ],
             [
              0.1111111111111111,
              "#46039f"
             ],
             [
              0.2222222222222222,
              "#7201a8"
             ],
             [
              0.3333333333333333,
              "#9c179e"
             ],
             [
              0.4444444444444444,
              "#bd3786"
             ],
             [
              0.5555555555555556,
              "#d8576b"
             ],
             [
              0.6666666666666666,
              "#ed7953"
             ],
             [
              0.7777777777777778,
              "#fb9f3a"
             ],
             [
              0.8888888888888888,
              "#fdca26"
             ],
             [
              1,
              "#f0f921"
             ]
            ],
            "type": "histogram2dcontour"
           }
          ],
          "mesh3d": [
           {
            "colorbar": {
             "outlinewidth": 0,
             "ticks": ""
            },
            "type": "mesh3d"
           }
          ],
          "parcoords": [
           {
            "line": {
             "colorbar": {
              "outlinewidth": 0,
              "ticks": ""
             }
            },
            "type": "parcoords"
           }
          ],
          "pie": [
           {
            "automargin": true,
            "type": "pie"
           }
          ],
          "scatter": [
           {
            "fillpattern": {
             "fillmode": "overlay",
             "size": 10,
             "solidity": 0.2
            },
            "type": "scatter"
           }
          ],
          "scatter3d": [
           {
            "line": {
             "colorbar": {
              "outlinewidth": 0,
              "ticks": ""
             }
            },
            "marker": {
             "colorbar": {
              "outlinewidth": 0,
              "ticks": ""
             }
            },
            "type": "scatter3d"
           }
          ],
          "scattercarpet": [
           {
            "marker": {
             "colorbar": {
              "outlinewidth": 0,
              "ticks": ""
             }
            },
            "type": "scattercarpet"
           }
          ],
          "scattergeo": [
           {
            "marker": {
             "colorbar": {
              "outlinewidth": 0,
              "ticks": ""
             }
            },
            "type": "scattergeo"
           }
          ],
          "scattergl": [
           {
            "marker": {
             "colorbar": {
              "outlinewidth": 0,
              "ticks": ""
             }
            },
            "type": "scattergl"
           }
          ],
          "scattermapbox": [
           {
            "marker": {
             "colorbar": {
              "outlinewidth": 0,
              "ticks": ""
             }
            },
            "type": "scattermapbox"
           }
          ],
          "scatterpolar": [
           {
            "marker": {
             "colorbar": {
              "outlinewidth": 0,
              "ticks": ""
             }
            },
            "type": "scatterpolar"
           }
          ],
          "scatterpolargl": [
           {
            "marker": {
             "colorbar": {
              "outlinewidth": 0,
              "ticks": ""
             }
            },
            "type": "scatterpolargl"
           }
          ],
          "scatterternary": [
           {
            "marker": {
             "colorbar": {
              "outlinewidth": 0,
              "ticks": ""
             }
            },
            "type": "scatterternary"
           }
          ],
          "surface": [
           {
            "colorbar": {
             "outlinewidth": 0,
             "ticks": ""
            },
            "colorscale": [
             [
              0,
              "#0d0887"
             ],
             [
              0.1111111111111111,
              "#46039f"
             ],
             [
              0.2222222222222222,
              "#7201a8"
             ],
             [
              0.3333333333333333,
              "#9c179e"
             ],
             [
              0.4444444444444444,
              "#bd3786"
             ],
             [
              0.5555555555555556,
              "#d8576b"
             ],
             [
              0.6666666666666666,
              "#ed7953"
             ],
             [
              0.7777777777777778,
              "#fb9f3a"
             ],
             [
              0.8888888888888888,
              "#fdca26"
             ],
             [
              1,
              "#f0f921"
             ]
            ],
            "type": "surface"
           }
          ],
          "table": [
           {
            "cells": {
             "fill": {
              "color": "#EBF0F8"
             },
             "line": {
              "color": "white"
             }
            },
            "header": {
             "fill": {
              "color": "#C8D4E3"
             },
             "line": {
              "color": "white"
             }
            },
            "type": "table"
           }
          ]
         },
         "layout": {
          "annotationdefaults": {
           "arrowcolor": "#2a3f5f",
           "arrowhead": 0,
           "arrowwidth": 1
          },
          "autotypenumbers": "strict",
          "coloraxis": {
           "colorbar": {
            "outlinewidth": 0,
            "ticks": ""
           }
          },
          "colorscale": {
           "diverging": [
            [
             0,
             "#8e0152"
            ],
            [
             0.1,
             "#c51b7d"
            ],
            [
             0.2,
             "#de77ae"
            ],
            [
             0.3,
             "#f1b6da"
            ],
            [
             0.4,
             "#fde0ef"
            ],
            [
             0.5,
             "#f7f7f7"
            ],
            [
             0.6,
             "#e6f5d0"
            ],
            [
             0.7,
             "#b8e186"
            ],
            [
             0.8,
             "#7fbc41"
            ],
            [
             0.9,
             "#4d9221"
            ],
            [
             1,
             "#276419"
            ]
           ],
           "sequential": [
            [
             0,
             "#0d0887"
            ],
            [
             0.1111111111111111,
             "#46039f"
            ],
            [
             0.2222222222222222,
             "#7201a8"
            ],
            [
             0.3333333333333333,
             "#9c179e"
            ],
            [
             0.4444444444444444,
             "#bd3786"
            ],
            [
             0.5555555555555556,
             "#d8576b"
            ],
            [
             0.6666666666666666,
             "#ed7953"
            ],
            [
             0.7777777777777778,
             "#fb9f3a"
            ],
            [
             0.8888888888888888,
             "#fdca26"
            ],
            [
             1,
             "#f0f921"
            ]
           ],
           "sequentialminus": [
            [
             0,
             "#0d0887"
            ],
            [
             0.1111111111111111,
             "#46039f"
            ],
            [
             0.2222222222222222,
             "#7201a8"
            ],
            [
             0.3333333333333333,
             "#9c179e"
            ],
            [
             0.4444444444444444,
             "#bd3786"
            ],
            [
             0.5555555555555556,
             "#d8576b"
            ],
            [
             0.6666666666666666,
             "#ed7953"
            ],
            [
             0.7777777777777778,
             "#fb9f3a"
            ],
            [
             0.8888888888888888,
             "#fdca26"
            ],
            [
             1,
             "#f0f921"
            ]
           ]
          },
          "colorway": [
           "#636efa",
           "#EF553B",
           "#00cc96",
           "#ab63fa",
           "#FFA15A",
           "#19d3f3",
           "#FF6692",
           "#B6E880",
           "#FF97FF",
           "#FECB52"
          ],
          "font": {
           "color": "#2a3f5f"
          },
          "geo": {
           "bgcolor": "white",
           "lakecolor": "white",
           "landcolor": "#E5ECF6",
           "showlakes": true,
           "showland": true,
           "subunitcolor": "white"
          },
          "hoverlabel": {
           "align": "left"
          },
          "hovermode": "closest",
          "mapbox": {
           "style": "light"
          },
          "paper_bgcolor": "white",
          "plot_bgcolor": "#E5ECF6",
          "polar": {
           "angularaxis": {
            "gridcolor": "white",
            "linecolor": "white",
            "ticks": ""
           },
           "bgcolor": "#E5ECF6",
           "radialaxis": {
            "gridcolor": "white",
            "linecolor": "white",
            "ticks": ""
           }
          },
          "scene": {
           "xaxis": {
            "backgroundcolor": "#E5ECF6",
            "gridcolor": "white",
            "gridwidth": 2,
            "linecolor": "white",
            "showbackground": true,
            "ticks": "",
            "zerolinecolor": "white"
           },
           "yaxis": {
            "backgroundcolor": "#E5ECF6",
            "gridcolor": "white",
            "gridwidth": 2,
            "linecolor": "white",
            "showbackground": true,
            "ticks": "",
            "zerolinecolor": "white"
           },
           "zaxis": {
            "backgroundcolor": "#E5ECF6",
            "gridcolor": "white",
            "gridwidth": 2,
            "linecolor": "white",
            "showbackground": true,
            "ticks": "",
            "zerolinecolor": "white"
           }
          },
          "shapedefaults": {
           "line": {
            "color": "#2a3f5f"
           }
          },
          "ternary": {
           "aaxis": {
            "gridcolor": "white",
            "linecolor": "white",
            "ticks": ""
           },
           "baxis": {
            "gridcolor": "white",
            "linecolor": "white",
            "ticks": ""
           },
           "bgcolor": "#E5ECF6",
           "caxis": {
            "gridcolor": "white",
            "linecolor": "white",
            "ticks": ""
           }
          },
          "title": {
           "x": 0.05
          },
          "xaxis": {
           "automargin": true,
           "gridcolor": "white",
           "linecolor": "white",
           "ticks": "",
           "title": {
            "standoff": 15
           },
           "zerolinecolor": "white",
           "zerolinewidth": 2
          },
          "yaxis": {
           "automargin": true,
           "gridcolor": "white",
           "linecolor": "white",
           "ticks": "",
           "title": {
            "standoff": 15
           },
           "zerolinecolor": "white",
           "zerolinewidth": 2
          }
         }
        },
        "width": 1200
       }
      }
     },
     "metadata": {},
     "output_type": "display_data"
    }
   ],
   "source": [
    "import plotly.express as px\n",
    "fig = px.scatter_3d(df,\n",
    "                    x='Molecular Weight',\n",
    "                    z='pChEMBL Value',\n",
    "                    y='AlogP',\n",
    "                    color='Document ChEMBL ID',\n",
    "                    # color='Murcko_generic_SMILES',\n",
    "                    # size='pChEMBL Value',\n",
    "                    hover_name='Molecule ChEMBL ID',\n",
    "                    hover_data=['Molecule ChEMBL ID',df.index],\n",
    "                    opacity=0.5)\n",
    "fig.update_layout(\n",
    "    # showlegend=False, # Legendのon/off\n",
    "    width=1200,\n",
    "    height=1000\n",
    "    ) \n",
    "fig.show()"
   ]
  },
  {
   "cell_type": "markdown",
   "metadata": {},
   "source": [
    "### Plotly.violin"
   ]
  },
  {
   "cell_type": "code",
   "execution_count": 35,
   "metadata": {},
   "outputs": [
    {
     "data": {
      "application/vnd.plotly.v1+json": {
       "config": {
        "plotlyServerURL": "https://plot.ly"
       },
       "data": [
        {
         "alignmentgroup": "True",
         "box": {
          "visible": true
         },
         "customdata": [
          [
           400.55,
           5.5,
           4.91
          ],
          [
           444.18,
           5.65,
           5.06
          ],
          [
           389.32,
           4.68,
           4.68
          ],
          [
           449.37,
           5.01,
           5.72
          ],
          [
           379.31,
           4.89,
           5.12
          ],
          [
           444.18,
           5.65,
           5.01
          ],
          [
           310.42,
           4.14,
           5.17
          ],
          [
           444.18,
           5.65,
           5.14
          ],
          [
           465.42,
           6.25,
           5.15
          ],
          [
           310.42,
           3.92,
           5.34
          ],
          [
           340.45,
           3.6,
           5.01
          ],
          [
           402.52,
           5.25,
           5.66
          ],
          [
           397.54,
           3.53,
           5.05
          ],
          [
           386.52,
           5.49,
           5.4
          ],
          [
           449.37,
           5.01,
           5.96
          ],
          [
           296.39,
           3.58,
           5.17
          ],
          [
           465.42,
           6.25,
           5.42
          ],
          [
           383.52,
           3.52,
           5.04
          ],
          [
           405.32,
           4.35,
           4.97
          ],
          [
           602.59,
           2.31,
           5.51
          ],
          [
           340.45,
           3.93,
           5.12
          ],
          [
           310.42,
           3.59,
           4.57
          ],
          [
           602.59,
           2.31,
           5.81
          ],
          [
           602.59,
           2.31,
           5.92
          ],
          [
           444.18,
           5.65,
           5.34
          ],
          [
           405.32,
           4.35,
           5.06
          ],
          [
           389.32,
           4.68,
           5.33
          ],
          [
           310.42,
           3.92,
           5.27
          ],
          [
           405.32,
           4.35,
           5
          ],
          [
           364.39,
           4.6,
           5.1
          ],
          [
           386.52,
           5.49,
           5.47
          ],
          [
           402.52,
           5.25,
           5.78
          ],
          [
           465.42,
           6.25,
           5.42
          ],
          [
           405.32,
           4.35,
           5.15
          ]
         ],
         "hovertemplate": "Document ChEMBL ID=%{x}<br>Ligand Efficiency LLE=%{y}<br>Molecular Weight=%{customdata[0]}<br>AlogP=%{customdata[1]}<br>pChEMBL Value=%{customdata[2]}<extra></extra>",
         "legendgroup": "CHEMBL4831483",
         "marker": {
          "color": "#636efa"
         },
         "name": "CHEMBL4831483",
         "offsetgroup": "CHEMBL4831483",
         "orientation": "v",
         "points": "all",
         "scalegroup": "True",
         "showlegend": true,
         "type": "violin",
         "x": [
          "CHEMBL4831483",
          "CHEMBL4831483",
          "CHEMBL4831483",
          "CHEMBL4831483",
          "CHEMBL4831483",
          "CHEMBL4831483",
          "CHEMBL4831483",
          "CHEMBL4831483",
          "CHEMBL4831483",
          "CHEMBL4831483",
          "CHEMBL4831483",
          "CHEMBL4831483",
          "CHEMBL4831483",
          "CHEMBL4831483",
          "CHEMBL4831483",
          "CHEMBL4831483",
          "CHEMBL4831483",
          "CHEMBL4831483",
          "CHEMBL4831483",
          "CHEMBL4831483",
          "CHEMBL4831483",
          "CHEMBL4831483",
          "CHEMBL4831483",
          "CHEMBL4831483",
          "CHEMBL4831483",
          "CHEMBL4831483",
          "CHEMBL4831483",
          "CHEMBL4831483",
          "CHEMBL4831483",
          "CHEMBL4831483",
          "CHEMBL4831483",
          "CHEMBL4831483",
          "CHEMBL4831483",
          "CHEMBL4831483"
         ],
         "x0": " ",
         "xaxis": "x",
         "y": [
          -0.59,
          -0.59,
          0,
          0.71,
          0.23,
          -0.64,
          1.04,
          -0.51,
          -1.1,
          1.42,
          1.41,
          0.41,
          1.52,
          -0.09,
          0.94,
          1.59,
          -0.84,
          1.52,
          0.62,
          3.2,
          1.19,
          0.98,
          3.5,
          3.61,
          -0.31,
          0.71,
          0.65,
          1.35,
          0.65,
          0.5,
          -0.02,
          0.53,
          -0.83,
          0.8
         ],
         "y0": " ",
         "yaxis": "y"
        },
        {
         "alignmentgroup": "True",
         "box": {
          "visible": true
         },
         "customdata": [
          [
           403.48,
           1.54,
           7.38
          ],
          [
           362.47,
           3.2,
           5.32
          ],
          [
           485.56,
           0.54,
           7.52
          ],
          [
           572.7,
           2.6,
           6.54
          ],
          [
           600.76,
           3.15,
           8.05
          ],
          [
           452.56,
           2.45,
           7.51
          ],
          [
           504.67,
           1.78,
           5.38
          ],
          [
           362.47,
           3.2,
           4.97
          ],
          [
           601.75,
           1.96,
           7.19
          ],
          [
           635.79,
           3.97,
           7.03
          ],
          [
           464.5,
           1.86,
           7.64
          ],
          [
           485.56,
           0.54,
           7.47
          ],
          [
           452.56,
           2.45,
           7.85
          ],
          [
           485.56,
           0.54,
           7.51
          ],
          [
           464.5,
           1.86,
           7.4
          ],
          [
           472.54,
           0.89,
           8.1
          ],
          [
           461.6,
           3.34,
           5.5
          ],
          [
           679.86,
           2.45,
           4.94
          ],
          [
           475.63,
           3.59,
           5.41
          ],
          [
           452.56,
           2.45,
           7.28
          ]
         ],
         "hovertemplate": "Document ChEMBL ID=%{x}<br>Ligand Efficiency LLE=%{y}<br>Molecular Weight=%{customdata[0]}<br>AlogP=%{customdata[1]}<br>pChEMBL Value=%{customdata[2]}<extra></extra>",
         "legendgroup": "CHEMBL4808212",
         "marker": {
          "color": "#EF553B"
         },
         "name": "CHEMBL4808212",
         "offsetgroup": "CHEMBL4808212",
         "orientation": "v",
         "points": "all",
         "scalegroup": "True",
         "showlegend": true,
         "type": "violin",
         "x": [
          "CHEMBL4808212",
          "CHEMBL4808212",
          "CHEMBL4808212",
          "CHEMBL4808212",
          "CHEMBL4808212",
          "CHEMBL4808212",
          "CHEMBL4808212",
          "CHEMBL4808212",
          "CHEMBL4808212",
          "CHEMBL4808212",
          "CHEMBL4808212",
          "CHEMBL4808212",
          "CHEMBL4808212",
          "CHEMBL4808212",
          "CHEMBL4808212",
          "CHEMBL4808212",
          "CHEMBL4808212",
          "CHEMBL4808212",
          "CHEMBL4808212",
          "CHEMBL4808212"
         ],
         "x0": " ",
         "xaxis": "x",
         "y": [
          5.84,
          2.12,
          6.98,
          3.94,
          4.9,
          5.06,
          3.6,
          1.77,
          5.23,
          3.06,
          5.78,
          6.93,
          5.4,
          6.97,
          5.54,
          7.21,
          2.16,
          2.49,
          1.82,
          4.83
         ],
         "y0": " ",
         "yaxis": "y"
        },
        {
         "alignmentgroup": "True",
         "box": {
          "visible": true
         },
         "customdata": [
          [
           1468.68,
           0,
           4.24
          ],
          [
           1468.68,
           0,
           4.15
          ]
         ],
         "hovertemplate": "Document ChEMBL ID=%{x}<br>Ligand Efficiency LLE=%{y}<br>Molecular Weight=%{customdata[0]}<br>AlogP=%{customdata[1]}<br>pChEMBL Value=%{customdata[2]}<extra></extra>",
         "legendgroup": "CHEMBL4808239",
         "marker": {
          "color": "#00cc96"
         },
         "name": "CHEMBL4808239",
         "offsetgroup": "CHEMBL4808239",
         "orientation": "v",
         "points": "all",
         "scalegroup": "True",
         "showlegend": true,
         "type": "violin",
         "x": [
          "CHEMBL4808239",
          "CHEMBL4808239"
         ],
         "x0": " ",
         "xaxis": "x",
         "y": [
          0,
          0
         ],
         "y0": " ",
         "yaxis": "y"
        },
        {
         "alignmentgroup": "True",
         "box": {
          "visible": true
         },
         "customdata": [
          [
           555.53,
           0.89,
           6.35
          ],
          [
           504.47,
           1.24,
           6.96
          ],
          [
           555.53,
           0.89,
           7.07
          ],
          [
           504.47,
           1.24,
           7.2
          ]
         ],
         "hovertemplate": "Document ChEMBL ID=%{x}<br>Ligand Efficiency LLE=%{y}<br>Molecular Weight=%{customdata[0]}<br>AlogP=%{customdata[1]}<br>pChEMBL Value=%{customdata[2]}<extra></extra>",
         "legendgroup": "CHEMBL4819138",
         "marker": {
          "color": "#ab63fa"
         },
         "name": "CHEMBL4819138",
         "offsetgroup": "CHEMBL4819138",
         "orientation": "v",
         "points": "all",
         "scalegroup": "True",
         "showlegend": true,
         "type": "violin",
         "x": [
          "CHEMBL4819138",
          "CHEMBL4819138",
          "CHEMBL4819138",
          "CHEMBL4819138"
         ],
         "x0": " ",
         "xaxis": "x",
         "y": [
          5.46,
          5.72,
          6.18,
          5.96
         ],
         "y0": " ",
         "yaxis": "y"
        }
       ],
       "layout": {
        "legend": {
         "title": {
          "text": "Document ChEMBL ID"
         },
         "tracegroupgap": 0
        },
        "margin": {
         "t": 60
        },
        "template": {
         "data": {
          "bar": [
           {
            "error_x": {
             "color": "#2a3f5f"
            },
            "error_y": {
             "color": "#2a3f5f"
            },
            "marker": {
             "line": {
              "color": "#E5ECF6",
              "width": 0.5
             },
             "pattern": {
              "fillmode": "overlay",
              "size": 10,
              "solidity": 0.2
             }
            },
            "type": "bar"
           }
          ],
          "barpolar": [
           {
            "marker": {
             "line": {
              "color": "#E5ECF6",
              "width": 0.5
             },
             "pattern": {
              "fillmode": "overlay",
              "size": 10,
              "solidity": 0.2
             }
            },
            "type": "barpolar"
           }
          ],
          "carpet": [
           {
            "aaxis": {
             "endlinecolor": "#2a3f5f",
             "gridcolor": "white",
             "linecolor": "white",
             "minorgridcolor": "white",
             "startlinecolor": "#2a3f5f"
            },
            "baxis": {
             "endlinecolor": "#2a3f5f",
             "gridcolor": "white",
             "linecolor": "white",
             "minorgridcolor": "white",
             "startlinecolor": "#2a3f5f"
            },
            "type": "carpet"
           }
          ],
          "choropleth": [
           {
            "colorbar": {
             "outlinewidth": 0,
             "ticks": ""
            },
            "type": "choropleth"
           }
          ],
          "contour": [
           {
            "colorbar": {
             "outlinewidth": 0,
             "ticks": ""
            },
            "colorscale": [
             [
              0,
              "#0d0887"
             ],
             [
              0.1111111111111111,
              "#46039f"
             ],
             [
              0.2222222222222222,
              "#7201a8"
             ],
             [
              0.3333333333333333,
              "#9c179e"
             ],
             [
              0.4444444444444444,
              "#bd3786"
             ],
             [
              0.5555555555555556,
              "#d8576b"
             ],
             [
              0.6666666666666666,
              "#ed7953"
             ],
             [
              0.7777777777777778,
              "#fb9f3a"
             ],
             [
              0.8888888888888888,
              "#fdca26"
             ],
             [
              1,
              "#f0f921"
             ]
            ],
            "type": "contour"
           }
          ],
          "contourcarpet": [
           {
            "colorbar": {
             "outlinewidth": 0,
             "ticks": ""
            },
            "type": "contourcarpet"
           }
          ],
          "heatmap": [
           {
            "colorbar": {
             "outlinewidth": 0,
             "ticks": ""
            },
            "colorscale": [
             [
              0,
              "#0d0887"
             ],
             [
              0.1111111111111111,
              "#46039f"
             ],
             [
              0.2222222222222222,
              "#7201a8"
             ],
             [
              0.3333333333333333,
              "#9c179e"
             ],
             [
              0.4444444444444444,
              "#bd3786"
             ],
             [
              0.5555555555555556,
              "#d8576b"
             ],
             [
              0.6666666666666666,
              "#ed7953"
             ],
             [
              0.7777777777777778,
              "#fb9f3a"
             ],
             [
              0.8888888888888888,
              "#fdca26"
             ],
             [
              1,
              "#f0f921"
             ]
            ],
            "type": "heatmap"
           }
          ],
          "heatmapgl": [
           {
            "colorbar": {
             "outlinewidth": 0,
             "ticks": ""
            },
            "colorscale": [
             [
              0,
              "#0d0887"
             ],
             [
              0.1111111111111111,
              "#46039f"
             ],
             [
              0.2222222222222222,
              "#7201a8"
             ],
             [
              0.3333333333333333,
              "#9c179e"
             ],
             [
              0.4444444444444444,
              "#bd3786"
             ],
             [
              0.5555555555555556,
              "#d8576b"
             ],
             [
              0.6666666666666666,
              "#ed7953"
             ],
             [
              0.7777777777777778,
              "#fb9f3a"
             ],
             [
              0.8888888888888888,
              "#fdca26"
             ],
             [
              1,
              "#f0f921"
             ]
            ],
            "type": "heatmapgl"
           }
          ],
          "histogram": [
           {
            "marker": {
             "pattern": {
              "fillmode": "overlay",
              "size": 10,
              "solidity": 0.2
             }
            },
            "type": "histogram"
           }
          ],
          "histogram2d": [
           {
            "colorbar": {
             "outlinewidth": 0,
             "ticks": ""
            },
            "colorscale": [
             [
              0,
              "#0d0887"
             ],
             [
              0.1111111111111111,
              "#46039f"
             ],
             [
              0.2222222222222222,
              "#7201a8"
             ],
             [
              0.3333333333333333,
              "#9c179e"
             ],
             [
              0.4444444444444444,
              "#bd3786"
             ],
             [
              0.5555555555555556,
              "#d8576b"
             ],
             [
              0.6666666666666666,
              "#ed7953"
             ],
             [
              0.7777777777777778,
              "#fb9f3a"
             ],
             [
              0.8888888888888888,
              "#fdca26"
             ],
             [
              1,
              "#f0f921"
             ]
            ],
            "type": "histogram2d"
           }
          ],
          "histogram2dcontour": [
           {
            "colorbar": {
             "outlinewidth": 0,
             "ticks": ""
            },
            "colorscale": [
             [
              0,
              "#0d0887"
             ],
             [
              0.1111111111111111,
              "#46039f"
             ],
             [
              0.2222222222222222,
              "#7201a8"
             ],
             [
              0.3333333333333333,
              "#9c179e"
             ],
             [
              0.4444444444444444,
              "#bd3786"
             ],
             [
              0.5555555555555556,
              "#d8576b"
             ],
             [
              0.6666666666666666,
              "#ed7953"
             ],
             [
              0.7777777777777778,
              "#fb9f3a"
             ],
             [
              0.8888888888888888,
              "#fdca26"
             ],
             [
              1,
              "#f0f921"
             ]
            ],
            "type": "histogram2dcontour"
           }
          ],
          "mesh3d": [
           {
            "colorbar": {
             "outlinewidth": 0,
             "ticks": ""
            },
            "type": "mesh3d"
           }
          ],
          "parcoords": [
           {
            "line": {
             "colorbar": {
              "outlinewidth": 0,
              "ticks": ""
             }
            },
            "type": "parcoords"
           }
          ],
          "pie": [
           {
            "automargin": true,
            "type": "pie"
           }
          ],
          "scatter": [
           {
            "fillpattern": {
             "fillmode": "overlay",
             "size": 10,
             "solidity": 0.2
            },
            "type": "scatter"
           }
          ],
          "scatter3d": [
           {
            "line": {
             "colorbar": {
              "outlinewidth": 0,
              "ticks": ""
             }
            },
            "marker": {
             "colorbar": {
              "outlinewidth": 0,
              "ticks": ""
             }
            },
            "type": "scatter3d"
           }
          ],
          "scattercarpet": [
           {
            "marker": {
             "colorbar": {
              "outlinewidth": 0,
              "ticks": ""
             }
            },
            "type": "scattercarpet"
           }
          ],
          "scattergeo": [
           {
            "marker": {
             "colorbar": {
              "outlinewidth": 0,
              "ticks": ""
             }
            },
            "type": "scattergeo"
           }
          ],
          "scattergl": [
           {
            "marker": {
             "colorbar": {
              "outlinewidth": 0,
              "ticks": ""
             }
            },
            "type": "scattergl"
           }
          ],
          "scattermapbox": [
           {
            "marker": {
             "colorbar": {
              "outlinewidth": 0,
              "ticks": ""
             }
            },
            "type": "scattermapbox"
           }
          ],
          "scatterpolar": [
           {
            "marker": {
             "colorbar": {
              "outlinewidth": 0,
              "ticks": ""
             }
            },
            "type": "scatterpolar"
           }
          ],
          "scatterpolargl": [
           {
            "marker": {
             "colorbar": {
              "outlinewidth": 0,
              "ticks": ""
             }
            },
            "type": "scatterpolargl"
           }
          ],
          "scatterternary": [
           {
            "marker": {
             "colorbar": {
              "outlinewidth": 0,
              "ticks": ""
             }
            },
            "type": "scatterternary"
           }
          ],
          "surface": [
           {
            "colorbar": {
             "outlinewidth": 0,
             "ticks": ""
            },
            "colorscale": [
             [
              0,
              "#0d0887"
             ],
             [
              0.1111111111111111,
              "#46039f"
             ],
             [
              0.2222222222222222,
              "#7201a8"
             ],
             [
              0.3333333333333333,
              "#9c179e"
             ],
             [
              0.4444444444444444,
              "#bd3786"
             ],
             [
              0.5555555555555556,
              "#d8576b"
             ],
             [
              0.6666666666666666,
              "#ed7953"
             ],
             [
              0.7777777777777778,
              "#fb9f3a"
             ],
             [
              0.8888888888888888,
              "#fdca26"
             ],
             [
              1,
              "#f0f921"
             ]
            ],
            "type": "surface"
           }
          ],
          "table": [
           {
            "cells": {
             "fill": {
              "color": "#EBF0F8"
             },
             "line": {
              "color": "white"
             }
            },
            "header": {
             "fill": {
              "color": "#C8D4E3"
             },
             "line": {
              "color": "white"
             }
            },
            "type": "table"
           }
          ]
         },
         "layout": {
          "annotationdefaults": {
           "arrowcolor": "#2a3f5f",
           "arrowhead": 0,
           "arrowwidth": 1
          },
          "autotypenumbers": "strict",
          "coloraxis": {
           "colorbar": {
            "outlinewidth": 0,
            "ticks": ""
           }
          },
          "colorscale": {
           "diverging": [
            [
             0,
             "#8e0152"
            ],
            [
             0.1,
             "#c51b7d"
            ],
            [
             0.2,
             "#de77ae"
            ],
            [
             0.3,
             "#f1b6da"
            ],
            [
             0.4,
             "#fde0ef"
            ],
            [
             0.5,
             "#f7f7f7"
            ],
            [
             0.6,
             "#e6f5d0"
            ],
            [
             0.7,
             "#b8e186"
            ],
            [
             0.8,
             "#7fbc41"
            ],
            [
             0.9,
             "#4d9221"
            ],
            [
             1,
             "#276419"
            ]
           ],
           "sequential": [
            [
             0,
             "#0d0887"
            ],
            [
             0.1111111111111111,
             "#46039f"
            ],
            [
             0.2222222222222222,
             "#7201a8"
            ],
            [
             0.3333333333333333,
             "#9c179e"
            ],
            [
             0.4444444444444444,
             "#bd3786"
            ],
            [
             0.5555555555555556,
             "#d8576b"
            ],
            [
             0.6666666666666666,
             "#ed7953"
            ],
            [
             0.7777777777777778,
             "#fb9f3a"
            ],
            [
             0.8888888888888888,
             "#fdca26"
            ],
            [
             1,
             "#f0f921"
            ]
           ],
           "sequentialminus": [
            [
             0,
             "#0d0887"
            ],
            [
             0.1111111111111111,
             "#46039f"
            ],
            [
             0.2222222222222222,
             "#7201a8"
            ],
            [
             0.3333333333333333,
             "#9c179e"
            ],
            [
             0.4444444444444444,
             "#bd3786"
            ],
            [
             0.5555555555555556,
             "#d8576b"
            ],
            [
             0.6666666666666666,
             "#ed7953"
            ],
            [
             0.7777777777777778,
             "#fb9f3a"
            ],
            [
             0.8888888888888888,
             "#fdca26"
            ],
            [
             1,
             "#f0f921"
            ]
           ]
          },
          "colorway": [
           "#636efa",
           "#EF553B",
           "#00cc96",
           "#ab63fa",
           "#FFA15A",
           "#19d3f3",
           "#FF6692",
           "#B6E880",
           "#FF97FF",
           "#FECB52"
          ],
          "font": {
           "color": "#2a3f5f"
          },
          "geo": {
           "bgcolor": "white",
           "lakecolor": "white",
           "landcolor": "#E5ECF6",
           "showlakes": true,
           "showland": true,
           "subunitcolor": "white"
          },
          "hoverlabel": {
           "align": "left"
          },
          "hovermode": "closest",
          "mapbox": {
           "style": "light"
          },
          "paper_bgcolor": "white",
          "plot_bgcolor": "#E5ECF6",
          "polar": {
           "angularaxis": {
            "gridcolor": "white",
            "linecolor": "white",
            "ticks": ""
           },
           "bgcolor": "#E5ECF6",
           "radialaxis": {
            "gridcolor": "white",
            "linecolor": "white",
            "ticks": ""
           }
          },
          "scene": {
           "xaxis": {
            "backgroundcolor": "#E5ECF6",
            "gridcolor": "white",
            "gridwidth": 2,
            "linecolor": "white",
            "showbackground": true,
            "ticks": "",
            "zerolinecolor": "white"
           },
           "yaxis": {
            "backgroundcolor": "#E5ECF6",
            "gridcolor": "white",
            "gridwidth": 2,
            "linecolor": "white",
            "showbackground": true,
            "ticks": "",
            "zerolinecolor": "white"
           },
           "zaxis": {
            "backgroundcolor": "#E5ECF6",
            "gridcolor": "white",
            "gridwidth": 2,
            "linecolor": "white",
            "showbackground": true,
            "ticks": "",
            "zerolinecolor": "white"
           }
          },
          "shapedefaults": {
           "line": {
            "color": "#2a3f5f"
           }
          },
          "ternary": {
           "aaxis": {
            "gridcolor": "white",
            "linecolor": "white",
            "ticks": ""
           },
           "baxis": {
            "gridcolor": "white",
            "linecolor": "white",
            "ticks": ""
           },
           "bgcolor": "#E5ECF6",
           "caxis": {
            "gridcolor": "white",
            "linecolor": "white",
            "ticks": ""
           }
          },
          "title": {
           "x": 0.05
          },
          "xaxis": {
           "automargin": true,
           "gridcolor": "white",
           "linecolor": "white",
           "ticks": "",
           "title": {
            "standoff": 15
           },
           "zerolinecolor": "white",
           "zerolinewidth": 2
          },
          "yaxis": {
           "automargin": true,
           "gridcolor": "white",
           "linecolor": "white",
           "ticks": "",
           "title": {
            "standoff": 15
           },
           "zerolinecolor": "white",
           "zerolinewidth": 2
          }
         }
        },
        "title": {
         "text": "pValue v.s. Document ChEMBL ID"
        },
        "violinmode": "overlay",
        "width": 1000,
        "xaxis": {
         "anchor": "y",
         "categoryarray": [
          "CHEMBL4831483",
          "CHEMBL4808212",
          "CHEMBL4808239",
          "CHEMBL4819138"
         ],
         "categoryorder": "array",
         "domain": [
          0,
          1
         ],
         "title": {
          "text": "Document ChEMBL ID"
         }
        },
        "yaxis": {
         "anchor": "x",
         "domain": [
          0,
          1
         ],
         "title": {
          "text": "Ligand Efficiency LLE"
         }
        }
       }
      }
     },
     "metadata": {},
     "output_type": "display_data"
    }
   ],
   "source": [
    "fig = px.violin(df,\n",
    "                x='Document ChEMBL ID',\n",
    "                y='Ligand Efficiency LLE',\n",
    "                color='Document ChEMBL ID',\n",
    "                box=True,\n",
    "                points='all',\n",
    "                hover_data=['Molecular Weight', 'AlogP', 'pChEMBL Value']\n",
    "                )\n",
    "fig.update_layout(\n",
    "    title='pValue v.s. Document ChEMBL ID',\n",
    "    # showlegend=False, # Legendのon/off\n",
    "    width=1000,\n",
    "    # height=700\n",
    "    ) \n",
    "\n",
    "fig.show()"
   ]
  },
  {
   "cell_type": "markdown",
   "metadata": {},
   "source": [
    "### Plotly.box"
   ]
  },
  {
   "cell_type": "code",
   "execution_count": 51,
   "metadata": {},
   "outputs": [
    {
     "data": {
      "application/vnd.plotly.v1+json": {
       "config": {
        "plotlyServerURL": "https://plot.ly"
       },
       "data": [
        {
         "alignmentgroup": "True",
         "boxpoints": "all",
         "customdata": [
          [
           400.55,
           5.5,
           4.91,
           0
          ],
          [
           444.18,
           5.65,
           5.06,
           1
          ],
          [
           389.32,
           4.68,
           4.68,
           2
          ],
          [
           449.37,
           5.01,
           5.72,
           3
          ],
          [
           379.31,
           4.89,
           5.12,
           4
          ],
          [
           444.18,
           5.65,
           5.01,
           13
          ],
          [
           310.42,
           4.14,
           5.17,
           14
          ],
          [
           444.18,
           5.65,
           5.14,
           16
          ],
          [
           465.42,
           6.25,
           5.15,
           18
          ],
          [
           310.42,
           3.92,
           5.34,
           19
          ],
          [
           340.45,
           3.6,
           5.01,
           22
          ],
          [
           402.52,
           5.25,
           5.66,
           25
          ],
          [
           397.54,
           3.53,
           5.05,
           26
          ],
          [
           386.52,
           5.49,
           5.4,
           27
          ],
          [
           449.37,
           5.01,
           5.96,
           29
          ],
          [
           296.39,
           3.58,
           5.17,
           31
          ],
          [
           465.42,
           6.25,
           5.42,
           32
          ],
          [
           383.52,
           3.52,
           5.04,
           34
          ],
          [
           405.32,
           4.35,
           4.97,
           35
          ],
          [
           602.59,
           2.31,
           5.51,
           38
          ],
          [
           340.45,
           3.93,
           5.12,
           43
          ],
          [
           310.42,
           3.59,
           4.57,
           44
          ],
          [
           602.59,
           2.31,
           5.81,
           45
          ],
          [
           602.59,
           2.31,
           5.92,
           47
          ],
          [
           444.18,
           5.65,
           5.34,
           48
          ],
          [
           405.32,
           4.35,
           5.06,
           49
          ],
          [
           389.32,
           4.68,
           5.33,
           50
          ],
          [
           310.42,
           3.92,
           5.27,
           51
          ],
          [
           405.32,
           4.35,
           5,
           52
          ],
          [
           364.39,
           4.6,
           5.1,
           53
          ],
          [
           386.52,
           5.49,
           5.47,
           54
          ],
          [
           402.52,
           5.25,
           5.78,
           55
          ],
          [
           465.42,
           6.25,
           5.42,
           56
          ],
          [
           405.32,
           4.35,
           5.15,
           57
          ]
         ],
         "hovertemplate": "Document ChEMBL ID=%{x}<br>Ligand Efficiency LLE=%{y}<br>Molecular Weight=%{customdata[0]}<br>AlogP=%{customdata[1]}<br>pChEMBL Value=%{customdata[2]}<br>index=%{customdata[3]}<extra></extra>",
         "legendgroup": "CHEMBL4831483",
         "marker": {
          "color": "#636efa"
         },
         "name": "CHEMBL4831483",
         "notched": false,
         "offsetgroup": "CHEMBL4831483",
         "orientation": "v",
         "showlegend": true,
         "type": "box",
         "x": [
          "CHEMBL4831483",
          "CHEMBL4831483",
          "CHEMBL4831483",
          "CHEMBL4831483",
          "CHEMBL4831483",
          "CHEMBL4831483",
          "CHEMBL4831483",
          "CHEMBL4831483",
          "CHEMBL4831483",
          "CHEMBL4831483",
          "CHEMBL4831483",
          "CHEMBL4831483",
          "CHEMBL4831483",
          "CHEMBL4831483",
          "CHEMBL4831483",
          "CHEMBL4831483",
          "CHEMBL4831483",
          "CHEMBL4831483",
          "CHEMBL4831483",
          "CHEMBL4831483",
          "CHEMBL4831483",
          "CHEMBL4831483",
          "CHEMBL4831483",
          "CHEMBL4831483",
          "CHEMBL4831483",
          "CHEMBL4831483",
          "CHEMBL4831483",
          "CHEMBL4831483",
          "CHEMBL4831483",
          "CHEMBL4831483",
          "CHEMBL4831483",
          "CHEMBL4831483",
          "CHEMBL4831483",
          "CHEMBL4831483"
         ],
         "x0": " ",
         "xaxis": "x",
         "y": [
          -0.59,
          -0.59,
          0,
          0.71,
          0.23,
          -0.64,
          1.04,
          -0.51,
          -1.1,
          1.42,
          1.41,
          0.41,
          1.52,
          -0.09,
          0.94,
          1.59,
          -0.84,
          1.52,
          0.62,
          3.2,
          1.19,
          0.98,
          3.5,
          3.61,
          -0.31,
          0.71,
          0.65,
          1.35,
          0.65,
          0.5,
          -0.02,
          0.53,
          -0.83,
          0.8
         ],
         "y0": " ",
         "yaxis": "y"
        },
        {
         "alignmentgroup": "True",
         "boxpoints": "all",
         "customdata": [
          [
           403.48,
           1.54,
           7.38,
           5
          ],
          [
           362.47,
           3.2,
           5.32,
           6
          ],
          [
           485.56,
           0.54,
           7.52,
           7
          ],
          [
           572.7,
           2.6,
           6.54,
           8
          ],
          [
           600.76,
           3.15,
           8.05,
           9
          ],
          [
           452.56,
           2.45,
           7.51,
           10
          ],
          [
           504.67,
           1.78,
           5.38,
           11
          ],
          [
           362.47,
           3.2,
           4.97,
           12
          ],
          [
           601.75,
           1.96,
           7.19,
           15
          ],
          [
           635.79,
           3.97,
           7.03,
           20
          ],
          [
           464.5,
           1.86,
           7.64,
           23
          ],
          [
           485.56,
           0.54,
           7.47,
           24
          ],
          [
           452.56,
           2.45,
           7.85,
           28
          ],
          [
           485.56,
           0.54,
           7.51,
           36
          ],
          [
           464.5,
           1.86,
           7.4,
           39
          ],
          [
           472.54,
           0.89,
           8.1,
           40
          ],
          [
           461.6,
           3.34,
           5.5,
           41
          ],
          [
           679.86,
           2.45,
           4.94,
           42
          ],
          [
           475.63,
           3.59,
           5.41,
           46
          ],
          [
           452.56,
           2.45,
           7.28,
           58
          ]
         ],
         "hovertemplate": "Document ChEMBL ID=%{x}<br>Ligand Efficiency LLE=%{y}<br>Molecular Weight=%{customdata[0]}<br>AlogP=%{customdata[1]}<br>pChEMBL Value=%{customdata[2]}<br>index=%{customdata[3]}<extra></extra>",
         "legendgroup": "CHEMBL4808212",
         "marker": {
          "color": "#EF553B"
         },
         "name": "CHEMBL4808212",
         "notched": false,
         "offsetgroup": "CHEMBL4808212",
         "orientation": "v",
         "showlegend": true,
         "type": "box",
         "x": [
          "CHEMBL4808212",
          "CHEMBL4808212",
          "CHEMBL4808212",
          "CHEMBL4808212",
          "CHEMBL4808212",
          "CHEMBL4808212",
          "CHEMBL4808212",
          "CHEMBL4808212",
          "CHEMBL4808212",
          "CHEMBL4808212",
          "CHEMBL4808212",
          "CHEMBL4808212",
          "CHEMBL4808212",
          "CHEMBL4808212",
          "CHEMBL4808212",
          "CHEMBL4808212",
          "CHEMBL4808212",
          "CHEMBL4808212",
          "CHEMBL4808212",
          "CHEMBL4808212"
         ],
         "x0": " ",
         "xaxis": "x",
         "y": [
          5.84,
          2.12,
          6.98,
          3.94,
          4.9,
          5.06,
          3.6,
          1.77,
          5.23,
          3.06,
          5.78,
          6.93,
          5.4,
          6.97,
          5.54,
          7.21,
          2.16,
          2.49,
          1.82,
          4.83
         ],
         "y0": " ",
         "yaxis": "y"
        },
        {
         "alignmentgroup": "True",
         "boxpoints": "all",
         "customdata": [
          [
           1468.68,
           0,
           4.24,
           17
          ],
          [
           1468.68,
           0,
           4.15,
           59
          ]
         ],
         "hovertemplate": "Document ChEMBL ID=%{x}<br>Ligand Efficiency LLE=%{y}<br>Molecular Weight=%{customdata[0]}<br>AlogP=%{customdata[1]}<br>pChEMBL Value=%{customdata[2]}<br>index=%{customdata[3]}<extra></extra>",
         "legendgroup": "CHEMBL4808239",
         "marker": {
          "color": "#00cc96"
         },
         "name": "CHEMBL4808239",
         "notched": false,
         "offsetgroup": "CHEMBL4808239",
         "orientation": "v",
         "showlegend": true,
         "type": "box",
         "x": [
          "CHEMBL4808239",
          "CHEMBL4808239"
         ],
         "x0": " ",
         "xaxis": "x",
         "y": [
          0,
          0
         ],
         "y0": " ",
         "yaxis": "y"
        },
        {
         "alignmentgroup": "True",
         "boxpoints": "all",
         "customdata": [
          [
           555.53,
           0.89,
           6.35,
           21
          ],
          [
           504.47,
           1.24,
           6.96,
           30
          ],
          [
           555.53,
           0.89,
           7.07,
           33
          ],
          [
           504.47,
           1.24,
           7.2,
           37
          ]
         ],
         "hovertemplate": "Document ChEMBL ID=%{x}<br>Ligand Efficiency LLE=%{y}<br>Molecular Weight=%{customdata[0]}<br>AlogP=%{customdata[1]}<br>pChEMBL Value=%{customdata[2]}<br>index=%{customdata[3]}<extra></extra>",
         "legendgroup": "CHEMBL4819138",
         "marker": {
          "color": "#ab63fa"
         },
         "name": "CHEMBL4819138",
         "notched": false,
         "offsetgroup": "CHEMBL4819138",
         "orientation": "v",
         "showlegend": true,
         "type": "box",
         "x": [
          "CHEMBL4819138",
          "CHEMBL4819138",
          "CHEMBL4819138",
          "CHEMBL4819138"
         ],
         "x0": " ",
         "xaxis": "x",
         "y": [
          5.46,
          5.72,
          6.18,
          5.96
         ],
         "y0": " ",
         "yaxis": "y"
        }
       ],
       "layout": {
        "boxmode": "overlay",
        "legend": {
         "title": {
          "text": "Document ChEMBL ID"
         },
         "tracegroupgap": 0
        },
        "margin": {
         "t": 60
        },
        "template": {
         "data": {
          "bar": [
           {
            "error_x": {
             "color": "#2a3f5f"
            },
            "error_y": {
             "color": "#2a3f5f"
            },
            "marker": {
             "line": {
              "color": "#E5ECF6",
              "width": 0.5
             },
             "pattern": {
              "fillmode": "overlay",
              "size": 10,
              "solidity": 0.2
             }
            },
            "type": "bar"
           }
          ],
          "barpolar": [
           {
            "marker": {
             "line": {
              "color": "#E5ECF6",
              "width": 0.5
             },
             "pattern": {
              "fillmode": "overlay",
              "size": 10,
              "solidity": 0.2
             }
            },
            "type": "barpolar"
           }
          ],
          "carpet": [
           {
            "aaxis": {
             "endlinecolor": "#2a3f5f",
             "gridcolor": "white",
             "linecolor": "white",
             "minorgridcolor": "white",
             "startlinecolor": "#2a3f5f"
            },
            "baxis": {
             "endlinecolor": "#2a3f5f",
             "gridcolor": "white",
             "linecolor": "white",
             "minorgridcolor": "white",
             "startlinecolor": "#2a3f5f"
            },
            "type": "carpet"
           }
          ],
          "choropleth": [
           {
            "colorbar": {
             "outlinewidth": 0,
             "ticks": ""
            },
            "type": "choropleth"
           }
          ],
          "contour": [
           {
            "colorbar": {
             "outlinewidth": 0,
             "ticks": ""
            },
            "colorscale": [
             [
              0,
              "#0d0887"
             ],
             [
              0.1111111111111111,
              "#46039f"
             ],
             [
              0.2222222222222222,
              "#7201a8"
             ],
             [
              0.3333333333333333,
              "#9c179e"
             ],
             [
              0.4444444444444444,
              "#bd3786"
             ],
             [
              0.5555555555555556,
              "#d8576b"
             ],
             [
              0.6666666666666666,
              "#ed7953"
             ],
             [
              0.7777777777777778,
              "#fb9f3a"
             ],
             [
              0.8888888888888888,
              "#fdca26"
             ],
             [
              1,
              "#f0f921"
             ]
            ],
            "type": "contour"
           }
          ],
          "contourcarpet": [
           {
            "colorbar": {
             "outlinewidth": 0,
             "ticks": ""
            },
            "type": "contourcarpet"
           }
          ],
          "heatmap": [
           {
            "colorbar": {
             "outlinewidth": 0,
             "ticks": ""
            },
            "colorscale": [
             [
              0,
              "#0d0887"
             ],
             [
              0.1111111111111111,
              "#46039f"
             ],
             [
              0.2222222222222222,
              "#7201a8"
             ],
             [
              0.3333333333333333,
              "#9c179e"
             ],
             [
              0.4444444444444444,
              "#bd3786"
             ],
             [
              0.5555555555555556,
              "#d8576b"
             ],
             [
              0.6666666666666666,
              "#ed7953"
             ],
             [
              0.7777777777777778,
              "#fb9f3a"
             ],
             [
              0.8888888888888888,
              "#fdca26"
             ],
             [
              1,
              "#f0f921"
             ]
            ],
            "type": "heatmap"
           }
          ],
          "heatmapgl": [
           {
            "colorbar": {
             "outlinewidth": 0,
             "ticks": ""
            },
            "colorscale": [
             [
              0,
              "#0d0887"
             ],
             [
              0.1111111111111111,
              "#46039f"
             ],
             [
              0.2222222222222222,
              "#7201a8"
             ],
             [
              0.3333333333333333,
              "#9c179e"
             ],
             [
              0.4444444444444444,
              "#bd3786"
             ],
             [
              0.5555555555555556,
              "#d8576b"
             ],
             [
              0.6666666666666666,
              "#ed7953"
             ],
             [
              0.7777777777777778,
              "#fb9f3a"
             ],
             [
              0.8888888888888888,
              "#fdca26"
             ],
             [
              1,
              "#f0f921"
             ]
            ],
            "type": "heatmapgl"
           }
          ],
          "histogram": [
           {
            "marker": {
             "pattern": {
              "fillmode": "overlay",
              "size": 10,
              "solidity": 0.2
             }
            },
            "type": "histogram"
           }
          ],
          "histogram2d": [
           {
            "colorbar": {
             "outlinewidth": 0,
             "ticks": ""
            },
            "colorscale": [
             [
              0,
              "#0d0887"
             ],
             [
              0.1111111111111111,
              "#46039f"
             ],
             [
              0.2222222222222222,
              "#7201a8"
             ],
             [
              0.3333333333333333,
              "#9c179e"
             ],
             [
              0.4444444444444444,
              "#bd3786"
             ],
             [
              0.5555555555555556,
              "#d8576b"
             ],
             [
              0.6666666666666666,
              "#ed7953"
             ],
             [
              0.7777777777777778,
              "#fb9f3a"
             ],
             [
              0.8888888888888888,
              "#fdca26"
             ],
             [
              1,
              "#f0f921"
             ]
            ],
            "type": "histogram2d"
           }
          ],
          "histogram2dcontour": [
           {
            "colorbar": {
             "outlinewidth": 0,
             "ticks": ""
            },
            "colorscale": [
             [
              0,
              "#0d0887"
             ],
             [
              0.1111111111111111,
              "#46039f"
             ],
             [
              0.2222222222222222,
              "#7201a8"
             ],
             [
              0.3333333333333333,
              "#9c179e"
             ],
             [
              0.4444444444444444,
              "#bd3786"
             ],
             [
              0.5555555555555556,
              "#d8576b"
             ],
             [
              0.6666666666666666,
              "#ed7953"
             ],
             [
              0.7777777777777778,
              "#fb9f3a"
             ],
             [
              0.8888888888888888,
              "#fdca26"
             ],
             [
              1,
              "#f0f921"
             ]
            ],
            "type": "histogram2dcontour"
           }
          ],
          "mesh3d": [
           {
            "colorbar": {
             "outlinewidth": 0,
             "ticks": ""
            },
            "type": "mesh3d"
           }
          ],
          "parcoords": [
           {
            "line": {
             "colorbar": {
              "outlinewidth": 0,
              "ticks": ""
             }
            },
            "type": "parcoords"
           }
          ],
          "pie": [
           {
            "automargin": true,
            "type": "pie"
           }
          ],
          "scatter": [
           {
            "fillpattern": {
             "fillmode": "overlay",
             "size": 10,
             "solidity": 0.2
            },
            "type": "scatter"
           }
          ],
          "scatter3d": [
           {
            "line": {
             "colorbar": {
              "outlinewidth": 0,
              "ticks": ""
             }
            },
            "marker": {
             "colorbar": {
              "outlinewidth": 0,
              "ticks": ""
             }
            },
            "type": "scatter3d"
           }
          ],
          "scattercarpet": [
           {
            "marker": {
             "colorbar": {
              "outlinewidth": 0,
              "ticks": ""
             }
            },
            "type": "scattercarpet"
           }
          ],
          "scattergeo": [
           {
            "marker": {
             "colorbar": {
              "outlinewidth": 0,
              "ticks": ""
             }
            },
            "type": "scattergeo"
           }
          ],
          "scattergl": [
           {
            "marker": {
             "colorbar": {
              "outlinewidth": 0,
              "ticks": ""
             }
            },
            "type": "scattergl"
           }
          ],
          "scattermapbox": [
           {
            "marker": {
             "colorbar": {
              "outlinewidth": 0,
              "ticks": ""
             }
            },
            "type": "scattermapbox"
           }
          ],
          "scatterpolar": [
           {
            "marker": {
             "colorbar": {
              "outlinewidth": 0,
              "ticks": ""
             }
            },
            "type": "scatterpolar"
           }
          ],
          "scatterpolargl": [
           {
            "marker": {
             "colorbar": {
              "outlinewidth": 0,
              "ticks": ""
             }
            },
            "type": "scatterpolargl"
           }
          ],
          "scatterternary": [
           {
            "marker": {
             "colorbar": {
              "outlinewidth": 0,
              "ticks": ""
             }
            },
            "type": "scatterternary"
           }
          ],
          "surface": [
           {
            "colorbar": {
             "outlinewidth": 0,
             "ticks": ""
            },
            "colorscale": [
             [
              0,
              "#0d0887"
             ],
             [
              0.1111111111111111,
              "#46039f"
             ],
             [
              0.2222222222222222,
              "#7201a8"
             ],
             [
              0.3333333333333333,
              "#9c179e"
             ],
             [
              0.4444444444444444,
              "#bd3786"
             ],
             [
              0.5555555555555556,
              "#d8576b"
             ],
             [
              0.6666666666666666,
              "#ed7953"
             ],
             [
              0.7777777777777778,
              "#fb9f3a"
             ],
             [
              0.8888888888888888,
              "#fdca26"
             ],
             [
              1,
              "#f0f921"
             ]
            ],
            "type": "surface"
           }
          ],
          "table": [
           {
            "cells": {
             "fill": {
              "color": "#EBF0F8"
             },
             "line": {
              "color": "white"
             }
            },
            "header": {
             "fill": {
              "color": "#C8D4E3"
             },
             "line": {
              "color": "white"
             }
            },
            "type": "table"
           }
          ]
         },
         "layout": {
          "annotationdefaults": {
           "arrowcolor": "#2a3f5f",
           "arrowhead": 0,
           "arrowwidth": 1
          },
          "autotypenumbers": "strict",
          "coloraxis": {
           "colorbar": {
            "outlinewidth": 0,
            "ticks": ""
           }
          },
          "colorscale": {
           "diverging": [
            [
             0,
             "#8e0152"
            ],
            [
             0.1,
             "#c51b7d"
            ],
            [
             0.2,
             "#de77ae"
            ],
            [
             0.3,
             "#f1b6da"
            ],
            [
             0.4,
             "#fde0ef"
            ],
            [
             0.5,
             "#f7f7f7"
            ],
            [
             0.6,
             "#e6f5d0"
            ],
            [
             0.7,
             "#b8e186"
            ],
            [
             0.8,
             "#7fbc41"
            ],
            [
             0.9,
             "#4d9221"
            ],
            [
             1,
             "#276419"
            ]
           ],
           "sequential": [
            [
             0,
             "#0d0887"
            ],
            [
             0.1111111111111111,
             "#46039f"
            ],
            [
             0.2222222222222222,
             "#7201a8"
            ],
            [
             0.3333333333333333,
             "#9c179e"
            ],
            [
             0.4444444444444444,
             "#bd3786"
            ],
            [
             0.5555555555555556,
             "#d8576b"
            ],
            [
             0.6666666666666666,
             "#ed7953"
            ],
            [
             0.7777777777777778,
             "#fb9f3a"
            ],
            [
             0.8888888888888888,
             "#fdca26"
            ],
            [
             1,
             "#f0f921"
            ]
           ],
           "sequentialminus": [
            [
             0,
             "#0d0887"
            ],
            [
             0.1111111111111111,
             "#46039f"
            ],
            [
             0.2222222222222222,
             "#7201a8"
            ],
            [
             0.3333333333333333,
             "#9c179e"
            ],
            [
             0.4444444444444444,
             "#bd3786"
            ],
            [
             0.5555555555555556,
             "#d8576b"
            ],
            [
             0.6666666666666666,
             "#ed7953"
            ],
            [
             0.7777777777777778,
             "#fb9f3a"
            ],
            [
             0.8888888888888888,
             "#fdca26"
            ],
            [
             1,
             "#f0f921"
            ]
           ]
          },
          "colorway": [
           "#636efa",
           "#EF553B",
           "#00cc96",
           "#ab63fa",
           "#FFA15A",
           "#19d3f3",
           "#FF6692",
           "#B6E880",
           "#FF97FF",
           "#FECB52"
          ],
          "font": {
           "color": "#2a3f5f"
          },
          "geo": {
           "bgcolor": "white",
           "lakecolor": "white",
           "landcolor": "#E5ECF6",
           "showlakes": true,
           "showland": true,
           "subunitcolor": "white"
          },
          "hoverlabel": {
           "align": "left"
          },
          "hovermode": "closest",
          "mapbox": {
           "style": "light"
          },
          "paper_bgcolor": "white",
          "plot_bgcolor": "#E5ECF6",
          "polar": {
           "angularaxis": {
            "gridcolor": "white",
            "linecolor": "white",
            "ticks": ""
           },
           "bgcolor": "#E5ECF6",
           "radialaxis": {
            "gridcolor": "white",
            "linecolor": "white",
            "ticks": ""
           }
          },
          "scene": {
           "xaxis": {
            "backgroundcolor": "#E5ECF6",
            "gridcolor": "white",
            "gridwidth": 2,
            "linecolor": "white",
            "showbackground": true,
            "ticks": "",
            "zerolinecolor": "white"
           },
           "yaxis": {
            "backgroundcolor": "#E5ECF6",
            "gridcolor": "white",
            "gridwidth": 2,
            "linecolor": "white",
            "showbackground": true,
            "ticks": "",
            "zerolinecolor": "white"
           },
           "zaxis": {
            "backgroundcolor": "#E5ECF6",
            "gridcolor": "white",
            "gridwidth": 2,
            "linecolor": "white",
            "showbackground": true,
            "ticks": "",
            "zerolinecolor": "white"
           }
          },
          "shapedefaults": {
           "line": {
            "color": "#2a3f5f"
           }
          },
          "ternary": {
           "aaxis": {
            "gridcolor": "white",
            "linecolor": "white",
            "ticks": ""
           },
           "baxis": {
            "gridcolor": "white",
            "linecolor": "white",
            "ticks": ""
           },
           "bgcolor": "#E5ECF6",
           "caxis": {
            "gridcolor": "white",
            "linecolor": "white",
            "ticks": ""
           }
          },
          "title": {
           "x": 0.05
          },
          "xaxis": {
           "automargin": true,
           "gridcolor": "white",
           "linecolor": "white",
           "ticks": "",
           "title": {
            "standoff": 15
           },
           "zerolinecolor": "white",
           "zerolinewidth": 2
          },
          "yaxis": {
           "automargin": true,
           "gridcolor": "white",
           "linecolor": "white",
           "ticks": "",
           "title": {
            "standoff": 15
           },
           "zerolinecolor": "white",
           "zerolinewidth": 2
          }
         }
        },
        "title": {
         "text": "LLE v.s. Document ChEMBL ID"
        },
        "width": 1000,
        "xaxis": {
         "anchor": "y",
         "categoryarray": [
          "CHEMBL4831483",
          "CHEMBL4808212",
          "CHEMBL4808239",
          "CHEMBL4819138"
         ],
         "categoryorder": "array",
         "domain": [
          0,
          1
         ],
         "title": {
          "text": "Document ChEMBL ID"
         }
        },
        "yaxis": {
         "anchor": "x",
         "domain": [
          0,
          1
         ],
         "title": {
          "text": "Ligand Efficiency LLE"
         }
        }
       }
      }
     },
     "metadata": {},
     "output_type": "display_data"
    }
   ],
   "source": [
    "fig = px.box(df,\n",
    "                y='Ligand Efficiency LLE',\n",
    "                x='Document ChEMBL ID',\n",
    "                color='Document ChEMBL ID',\n",
    "                points='all',\n",
    "                hover_data=['Molecular Weight', 'AlogP', 'pChEMBL Value', df.index]\n",
    "                )\n",
    "fig.update_layout(\n",
    "    title='LLE v.s. Document ChEMBL ID',\n",
    "    # showlegend=False, # Legendのon/off\n",
    "    width=1000,\n",
    "    # height=700\n",
    "    ) \n",
    "\n",
    "fig.show()"
   ]
  },
  {
   "cell_type": "markdown",
   "metadata": {},
   "source": [
    "### matplotlib.mouseover"
   ]
  },
  {
   "cell_type": "code",
   "execution_count": 8,
   "metadata": {},
   "outputs": [
    {
     "data": {
      "application/vnd.jupyter.widget-view+json": {
       "model_id": "8590a88584c047a997a70e740efcfcac",
       "version_major": 2,
       "version_minor": 0
      },
      "image/png": "[encoded data removed]",
      "text/html": [
       "\n",
       "            <div style=\"display: inline-block;\">\n",
       "                <div class=\"jupyter-widgets widget-label\" style=\"text-align: center;\">\n",
       "                    Figure\n",
       "                </div>\n",
       "                <img src='data:image/png;base64,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' width=640.0/>\n",
       "            </div>\n",
       "        "
      ],
      "text/plain": [
       "Canvas(toolbar=Toolbar(toolitems=[('Home', 'Reset original view', 'home', 'home'), ('Back', 'Back to previous …"
      ]
     },
     "metadata": {},
     "output_type": "display_data"
    }
   ],
   "source": [
    "# https://choron81.hatenablog.com/entry/2022/11/30/000000\n",
    "import matplotlib.pyplot as plt\n",
    "%matplotlib widget\n",
    "from matplotlib.offsetbox import OffsetImage, AnnotationBbox\n",
    "\n",
    "mols = [Chem.MolFromSmiles(Smile) for Smile in df[\"Smiles\"]]\n",
    "ims=[Draw.MolToImage(mol) for mol in mols]\n",
    "\n",
    "# %%\n",
    "fig, ax = plt.subplots()\n",
    "imagebox = OffsetImage(ims[0], zoom=0.3)\n",
    "imagebox.image.axes = ax\n",
    "\n",
    "annot = AnnotationBbox(imagebox,\n",
    "                       xy=(0,0),\n",
    "                       xybox=(60,-60),\n",
    "                       xycoords=\"data\",\n",
    "                       boxcoords=\"offset points\",\n",
    "                       pad=0.5,\n",
    "                       arrowprops=dict( arrowstyle=\"->\"))\n",
    "annot.set_visible(False)\n",
    "ax.add_artist(annot)\n",
    "    \n",
    "x = df[\"Molecular Weight\"]#x軸は分子量。\n",
    "y = df[\"pChEMBL Value\"]#y軸は活性値。\n",
    "colors = df[\"AlogP\"]#色はAlogP。\n",
    "sc = plt.scatter(x, y, c=colors, alpha=0.5)\n",
    "\n",
    "def update_annot(ind):\n",
    "    i = ind[\"ind\"][0]\n",
    "    pos = sc.get_offsets()[i]\n",
    "    annot.xy = (pos[0], pos[1])\n",
    "    imagebox.set_data(ims[i])\n",
    "\n",
    "def hover(event):\n",
    "    vis = annot.get_visible()\n",
    "    if event.inaxes == ax:\n",
    "        cont, ind = sc.contains(event)\n",
    "        if cont:\n",
    "            update_annot(ind)\n",
    "            annot.set_visible(True)\n",
    "            fig.canvas.draw_idle()\n",
    "        else:\n",
    "            if vis:\n",
    "                annot.set_visible(False)\n",
    "                fig.canvas.draw_idle()\n",
    "\n",
    "fig.canvas.mpl_connect(\"motion_notify_event\", hover)\n",
    "\n",
    "ax.set_xlabel(\"Mw\")\n",
    "ax.set_ylabel(\"Activity\")\n",
    "# plt.yscale('log')#y軸は対数軸にした。\n",
    "\n",
    "# fig.colorbar(sc, ax=ax)#カラーバーを付けた。\n",
    "\n",
    "plt.show()\n",
    "\n"
   ]
  },
  {
   "cell_type": "markdown",
   "metadata": {},
   "source": [
    "### Drawing molecules"
   ]
  },
  {
   "cell_type": "code",
   "execution_count": 141,
   "metadata": {},
   "outputs": [
    {
     "data": {
      "image/png": "[encoded data removed]",
      "text/plain": [
       "<PIL.PngImagePlugin.PngImageFile image mode=RGB size=300x300>"
      ]
     },
     "execution_count": 141,
     "metadata": {},
     "output_type": "execute_result"
    }
   ],
   "source": [
    "Draw.MolToImage(df['Molecule_Image'].iloc[58])"
   ]
  },
  {
   "cell_type": "code",
   "execution_count": 82,
   "metadata": {},
   "outputs": [
    {
     "data": {
      "image/png": "[encoded data removed]",
      "text/plain": [
       "<IPython.core.display.Image object>"
      ]
     },
     "execution_count": 82,
     "metadata": {},
     "output_type": "execute_result"
    }
   ],
   "source": [
    "Draw.MolsToGridImage(df['Molecule_Image'].iloc[0:3],\n",
    "                        molsPerRow=3,\n",
    "                        subImgSize=(400,300)\n",
    "                        )"
   ]
  },
  {
   "cell_type": "markdown",
   "metadata": {},
   "source": [
    "### Filtering by Document ChEMBLE ID"
   ]
  },
  {
   "cell_type": "code",
   "execution_count": 111,
   "metadata": {},
   "outputs": [],
   "source": [
    "# filtering with Document ChEMBLE ID CHEMBL4808212\n",
    "DocID = input('Document ChEMBL ID?')\n",
    "ddf = df[df['Document ChEMBL ID']==DocID]"
   ]
  },
  {
   "cell_type": "markdown",
   "metadata": {},
   "source": [
    "### Viewing top 3 compounds"
   ]
  },
  {
   "cell_type": "code",
   "execution_count": 113,
   "metadata": {},
   "outputs": [
    {
     "data": {
      "image/png": "[encoded data removed]",
      "text/plain": [
       "<IPython.core.display.Image object>"
      ]
     },
     "execution_count": 113,
     "metadata": {},
     "output_type": "execute_result"
    }
   ],
   "source": [
    "Draw.MolsToGridImage(ddf.sort_values('pChEMBL Value', ascending=False)['Molecule_Image'].iloc[0:3],\n",
    "                        molsPerRow=3,\n",
    "                        subImgSize=(400,300),\n",
    "                        )"
   ]
  },
  {
   "cell_type": "markdown",
   "metadata": {},
   "source": [
    "### show summary table"
   ]
  },
  {
   "cell_type": "code",
   "execution_count": 94,
   "metadata": {},
   "outputs": [
    {
     "data": {
      "text/html": [
       "<div>\n",
       "<style scoped>\n",
       "    .dataframe tbody tr th:only-of-type {\n",
       "        vertical-align: middle;\n",
       "    }\n",
       "\n",
       "    .dataframe tbody tr th {\n",
       "        vertical-align: top;\n",
       "    }\n",
       "\n",
       "    .dataframe thead th {\n",
       "        text-align: right;\n",
       "    }\n",
       "</style>\n",
       "<table border=\"1\" class=\"dataframe\">\n",
       "  <thead>\n",
       "    <tr style=\"text-align: right;\">\n",
       "      <th></th>\n",
       "      <th>Molecule Name</th>\n",
       "      <th>Molecule ChEMBL ID</th>\n",
       "      <th>Molecule_Image</th>\n",
       "      <th>pChEMBL Value</th>\n",
       "      <th>AlogP</th>\n",
       "      <th>#RO5 Violations</th>\n",
       "      <th>Assay Description</th>\n",
       "      <th>Document ChEMBL ID</th>\n",
       "    </tr>\n",
       "  </thead>\n",
       "  <tbody>\n",
       "    <tr>\n",
       "      <th>0</th>\n",
       "      <td>NaN</td>\n",
       "      <td>CHEMBL4864930</td>\n",
       "      <td style=\"text-align: center;\"><img data-content=\"rdkit/molecule\" src=\"data:image/png;base64,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\" alt=\"Mol\"/></td>\n",
       "      <td>4.91</td>\n",
       "      <td>5.50</td>\n",
       "      <td>1</td>\n",
       "      <td>Inhibition of SARS-CoV-2 RdRp transfected in h...</td>\n",
       "      <td>CHEMBL4831483</td>\n",
       "    </tr>\n",
       "    <tr>\n",
       "      <th>1</th>\n",
       "      <td>NaN</td>\n",
       "      <td>CHEMBL4846173</td>\n",
       "      <td style=\"text-align: center;\"><img data-content=\"rdkit/molecule\" src=\"data:image/png;base64,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\" alt=\"Mol\"/></td>\n",
       "      <td>5.06</td>\n",
       "      <td>5.65</td>\n",
       "      <td>1</td>\n",
       "      <td>Inhibition of SARS-CoV-2 RdRp transfected in h...</td>\n",
       "      <td>CHEMBL4831483</td>\n",
       "    </tr>\n",
       "    <tr>\n",
       "      <th>2</th>\n",
       "      <td>NaN</td>\n",
       "      <td>CHEMBL4854368</td>\n",
       "      <td style=\"text-align: center;\"><img data-content=\"rdkit/molecule\" src=\"data:image/png;base64,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\" alt=\"Mol\"/></td>\n",
       "      <td>4.68</td>\n",
       "      <td>4.68</td>\n",
       "      <td>0</td>\n",
       "      <td>Inhibition of SARS-CoV-2 RdRp transfected in h...</td>\n",
       "      <td>CHEMBL4831483</td>\n",
       "    </tr>\n",
       "  </tbody>\n",
       "</table>\n",
       "</div>"
      ],
      "text/plain": [
       "  Molecule Name Molecule ChEMBL ID  \\\n",
       "0           NaN      CHEMBL4864930   \n",
       "1           NaN      CHEMBL4846173   \n",
       "2           NaN      CHEMBL4854368   \n",
       "\n",
       "                                      Molecule_Image  pChEMBL Value  AlogP  \\\n",
       "0  <img data-content=\"rdkit/molecule\" src=\"data:i...           4.91   5.50   \n",
       "1  <img data-content=\"rdkit/molecule\" src=\"data:i...           5.06   5.65   \n",
       "2  <img data-content=\"rdkit/molecule\" src=\"data:i...           4.68   4.68   \n",
       "\n",
       "   #RO5 Violations                                  Assay Description  \\\n",
       "0                1  Inhibition of SARS-CoV-2 RdRp transfected in h...   \n",
       "1                1  Inhibition of SARS-CoV-2 RdRp transfected in h...   \n",
       "2                0  Inhibition of SARS-CoV-2 RdRp transfected in h...   \n",
       "\n",
       "  Document ChEMBL ID  \n",
       "0      CHEMBL4831483  \n",
       "1      CHEMBL4831483  \n",
       "2      CHEMBL4831483  "
      ]
     },
     "execution_count": 94,
     "metadata": {},
     "output_type": "execute_result"
    }
   ],
   "source": [
    "ddf.filter(items=['Molecule Name', \n",
    "                 'Molecule ChEMBL ID',\n",
    "                 'Molecule_Image',\n",
    "                 'Moleculer Weight',\n",
    "                 'pChEMBL Value',\n",
    "                 'AlogP',\n",
    "                 'Ligand effieicncy LLE',\n",
    "                 '#RO5 Violations',\n",
    "                 'Assay Description',\n",
    "                 'Document ChEMBL ID'\n",
    "                 ]).head(3)\n"
   ]
  },
  {
   "cell_type": "markdown",
   "metadata": {},
   "source": [
    "### Save summary csv"
   ]
  },
  {
   "cell_type": "code",
   "execution_count": 145,
   "metadata": {},
   "outputs": [],
   "source": [
    "ddf.filter(items=['Molecule Name', \n",
    "                 'Molecule ChEMBL ID',\n",
    "                 'Smiles',\n",
    "                 'Moleculer Weight',\n",
    "                 'pChEMBL Value',\n",
    "                 'AlogP',\n",
    "                 'Ligand effieicncy LLE',\n",
    "                 '#RO5 Violations',\n",
    "                 'Assay Description',\n",
    "                 'Document ChEMBL ID'\n",
    "                 ]).to_csv('test2.csv')\n"
   ]
  },
  {
   "cell_type": "markdown",
   "metadata": {},
   "source": [
    "### Plotly.scatter"
   ]
  },
  {
   "cell_type": "code",
   "execution_count": 132,
   "metadata": {},
   "outputs": [
    {
     "data": {
      "application/vnd.plotly.v1+json": {
       "config": {
        "plotlyServerURL": "https://plot.ly"
       },
       "data": [
        {
         "customdata": [
          [
           "O=C(CNC(=O)OCc1ccccc1)NCC[C@@H]1CCNC1=O",
           5
          ],
          [
           "O=C(CNC(=O)OCc1ccccc1)NCC[C@@H]1CCNC1=O",
           7
          ],
          [
           "O=C(CNC(=O)OCc1ccccc1)NCC[C@@H]1CCNC1=O",
           24
          ],
          [
           "O=C(CNC(=O)OCc1ccccc1)NCC[C@@H]1CCNC1=O",
           36
          ]
         ],
         "hovertemplate": "<b>%{hovertext}</b><br><br>Murcko_SMILES=%{customdata[0]}<br>Molecular Weight=%{x}<br>Ligand Efficiency LLE=%{y}<br>index=%{customdata[1]}<extra></extra>",
         "hovertext": [
          "CHEMBL4850298",
          "CHEMBL3559293",
          "CHEMBL3559293",
          "CHEMBL3559293"
         ],
         "legendgroup": "O=C(CNC(=O)OCc1ccccc1)NCC[C@@H]1CCNC1=O",
         "marker": {
          "color": "#636efa",
          "opacity": 0.5,
          "symbol": "circle"
         },
         "mode": "markers",
         "name": "O=C(CNC(=O)OCc1ccccc1)NCC[C@@H]1CCNC1=O",
         "orientation": "v",
         "showlegend": true,
         "type": "scatter",
         "x": [
          403.48,
          485.56,
          485.56,
          485.56
         ],
         "xaxis": "x",
         "y": [
          5.84,
          6.98,
          6.93,
          6.97
         ],
         "yaxis": "y"
        },
        {
         "customdata": [
          [
           "c1ccccc1",
           6
          ],
          [
           "c1ccccc1",
           12
          ],
          [
           "c1ccccc1",
           41
          ],
          [
           "c1ccccc1",
           46
          ]
         ],
         "hovertemplate": "<b>%{hovertext}</b><br><br>Murcko_SMILES=%{customdata[0]}<br>Molecular Weight=%{x}<br>Ligand Efficiency LLE=%{y}<br>index=%{customdata[1]}<extra></extra>",
         "hovertext": [
          "CHEMBL92708",
          "CHEMBL92708",
          "CHEMBL4518490",
          "CHEMBL64925"
         ],
         "legendgroup": "c1ccccc1",
         "marker": {
          "color": "#EF553B",
          "opacity": 0.5,
          "symbol": "circle"
         },
         "mode": "markers",
         "name": "c1ccccc1",
         "orientation": "v",
         "showlegend": true,
         "type": "scatter",
         "x": [
          362.47,
          362.47,
          461.6,
          475.63
         ],
         "xaxis": "x",
         "y": [
          2.12,
          1.77,
          2.16,
          1.82
         ],
         "yaxis": "y"
        },
        {
         "customdata": [
          [
           "O=C(CNC(=O)CNC(=O)OCc1ccccc1)NCC[C@@H]1CCNC1=O",
           8
          ],
          [
           "O=C(CNC(=O)CNC(=O)OCc1ccccc1)NCC[C@@H]1CCNC1=O",
           15
          ]
         ],
         "hovertemplate": "<b>%{hovertext}</b><br><br>Murcko_SMILES=%{customdata[0]}<br>Molecular Weight=%{x}<br>Ligand Efficiency LLE=%{y}<br>index=%{customdata[1]}<extra></extra>",
         "hovertext": [
          "CHEMBL213543",
          "CHEMBL4857345"
         ],
         "legendgroup": "O=C(CNC(=O)CNC(=O)OCc1ccccc1)NCC[C@@H]1CCNC1=O",
         "marker": {
          "color": "#00cc96",
          "opacity": 0.5,
          "symbol": "circle"
         },
         "mode": "markers",
         "name": "O=C(CNC(=O)CNC(=O)OCc1ccccc1)NCC[C@@H]1CCNC1=O",
         "orientation": "v",
         "showlegend": true,
         "type": "scatter",
         "x": [
          572.7,
          601.75
         ],
         "xaxis": "x",
         "y": [
          3.94,
          5.23
         ],
         "yaxis": "y"
        },
        {
         "customdata": [
          [
           "O=C(CNC(=O)OCc1ccccc1)N[C@@H](CC1CCCCC1)C(=O)NCC[C@@H]1CCNC1=O",
           9
          ]
         ],
         "hovertemplate": "<b>%{hovertext}</b><br><br>Murcko_SMILES=%{customdata[0]}<br>Molecular Weight=%{x}<br>Ligand Efficiency LLE=%{y}<br>index=%{customdata[1]}<extra></extra>",
         "hovertext": [
          "CHEMBL4852855"
         ],
         "legendgroup": "O=C(CNC(=O)OCc1ccccc1)N[C@@H](CC1CCCCC1)C(=O)NCC[C@@H]1CCNC1=O",
         "marker": {
          "color": "#ab63fa",
          "opacity": 0.5,
          "symbol": "circle"
         },
         "mode": "markers",
         "name": "O=C(CNC(=O)OCc1ccccc1)N[C@@H](CC1CCCCC1)C(=O)NCC[C@@H]1CCNC1=O",
         "orientation": "v",
         "showlegend": true,
         "type": "scatter",
         "x": [
          600.76
         ],
         "xaxis": "x",
         "y": [
          4.9
         ],
         "yaxis": "y"
        },
        {
         "customdata": [
          [
           "O=C(N[C@@H](CC1CCCCC1)C(=O)NCC[C@@H]1CCNC1=O)c1cc2ccccc2[nH]1",
           10
          ],
          [
           "O=C(N[C@@H](CC1CCCCC1)C(=O)NCC[C@@H]1CCNC1=O)c1cc2ccccc2[nH]1",
           28
          ],
          [
           "O=C(N[C@@H](CC1CCCCC1)C(=O)NCC[C@@H]1CCNC1=O)c1cc2ccccc2[nH]1",
           58
          ]
         ],
         "hovertemplate": "<b>%{hovertext}</b><br><br>Murcko_SMILES=%{customdata[0]}<br>Molecular Weight=%{x}<br>Ligand Efficiency LLE=%{y}<br>index=%{customdata[1]}<extra></extra>",
         "hovertext": [
          "CHEMBL4796938",
          "CHEMBL4796938",
          "CHEMBL4796938"
         ],
         "legendgroup": "O=C(N[C@@H](CC1CCCCC1)C(=O)NCC[C@@H]1CCNC1=O)c1cc2ccccc2[nH]1",
         "marker": {
          "color": "#FFA15A",
          "opacity": 0.5,
          "symbol": "circle"
         },
         "mode": "markers",
         "name": "O=C(N[C@@H](CC1CCCCC1)C(=O)NCC[C@@H]1CCNC1=O)c1cc2ccccc2[nH]1",
         "orientation": "v",
         "showlegend": true,
         "type": "scatter",
         "x": [
          452.56,
          452.56,
          452.56
         ],
         "xaxis": "x",
         "y": [
          5.06,
          5.4,
          4.83
         ],
         "yaxis": "y"
        },
        {
         "customdata": [
          [
           "O=C(NCCC1CCC1)[C@H]1NC[C@@H]2C[C@H]12",
           11
          ]
         ],
         "hovertemplate": "<b>%{hovertext}</b><br><br>Murcko_SMILES=%{customdata[0]}<br>Molecular Weight=%{x}<br>Ligand Efficiency LLE=%{y}<br>index=%{customdata[1]}<extra></extra>",
         "hovertext": [
          "CHEMBL4868590"
         ],
         "legendgroup": "O=C(NCCC1CCC1)[C@H]1NC[C@@H]2C[C@H]12",
         "marker": {
          "color": "#19d3f3",
          "opacity": 0.5,
          "symbol": "circle"
         },
         "mode": "markers",
         "name": "O=C(NCCC1CCC1)[C@H]1NC[C@@H]2C[C@H]12",
         "orientation": "v",
         "showlegend": true,
         "type": "scatter",
         "x": [
          504.67
         ],
         "xaxis": "x",
         "y": [
          3.6
         ],
         "yaxis": "y"
        },
        {
         "customdata": [
          [
           "O=C(CNC(=O)OCc1ccccc1)NCC(=O)N[C@@H](C[C@@H]1CCNC1=O)C(=O)c1nc2ccccc2s1",
           20
          ]
         ],
         "hovertemplate": "<b>%{hovertext}</b><br><br>Murcko_SMILES=%{customdata[0]}<br>Molecular Weight=%{x}<br>Ligand Efficiency LLE=%{y}<br>index=%{customdata[1]}<extra></extra>",
         "hovertext": [
          "CHEMBL2316746"
         ],
         "legendgroup": "O=C(CNC(=O)OCc1ccccc1)NCC(=O)N[C@@H](C[C@@H]1CCNC1=O)C(=O)c1nc2ccccc2s1",
         "marker": {
          "color": "#FF6692",
          "opacity": 0.5,
          "symbol": "circle"
         },
         "mode": "markers",
         "name": "O=C(CNC(=O)OCc1ccccc1)NCC(=O)N[C@@H](C[C@@H]1CCNC1=O)C(=O)c1nc2ccccc2s1",
         "orientation": "v",
         "showlegend": true,
         "type": "scatter",
         "x": [
          635.79
         ],
         "xaxis": "x",
         "y": [
          3.06
         ],
         "yaxis": "y"
        },
        {
         "customdata": [
          [
           "O=C(N[C@@H](Cc1ccccc1)C(=O)NCC[C@@H]1CCNC1=O)c1cc2ccccc2[nH]1",
           23
          ],
          [
           "O=C(N[C@@H](Cc1ccccc1)C(=O)NCC[C@@H]1CCNC1=O)c1cc2ccccc2[nH]1",
           39
          ]
         ],
         "hovertemplate": "<b>%{hovertext}</b><br><br>Murcko_SMILES=%{customdata[0]}<br>Molecular Weight=%{x}<br>Ligand Efficiency LLE=%{y}<br>index=%{customdata[1]}<extra></extra>",
         "hovertext": [
          "CHEMBL4764751",
          "CHEMBL4764751"
         ],
         "legendgroup": "O=C(N[C@@H](Cc1ccccc1)C(=O)NCC[C@@H]1CCNC1=O)c1cc2ccccc2[nH]1",
         "marker": {
          "color": "#B6E880",
          "opacity": 0.5,
          "symbol": "circle"
         },
         "mode": "markers",
         "name": "O=C(N[C@@H](Cc1ccccc1)C(=O)NCC[C@@H]1CCNC1=O)c1cc2ccccc2[nH]1",
         "orientation": "v",
         "showlegend": true,
         "type": "scatter",
         "x": [
          464.5,
          464.5
         ],
         "xaxis": "x",
         "y": [
          5.78,
          5.54
         ],
         "yaxis": "y"
        },
        {
         "customdata": [
          [
           "O=C(CNC(=O)c1cc2ccccc2[nH]1)NCC[C@@H]1CCNC1=O",
           40
          ]
         ],
         "hovertemplate": "<b>%{hovertext}</b><br><br>Murcko_SMILES=%{customdata[0]}<br>Molecular Weight=%{x}<br>Ligand Efficiency LLE=%{y}<br>index=%{customdata[1]}<extra></extra>",
         "hovertext": [
          "CHEMBL4777223"
         ],
         "legendgroup": "O=C(CNC(=O)c1cc2ccccc2[nH]1)NCC[C@@H]1CCNC1=O",
         "marker": {
          "color": "#FF97FF",
          "opacity": 0.5,
          "symbol": "circle"
         },
         "mode": "markers",
         "name": "O=C(CNC(=O)c1cc2ccccc2[nH]1)NCC[C@@H]1CCNC1=O",
         "orientation": "v",
         "showlegend": true,
         "type": "scatter",
         "x": [
          472.54
         ],
         "xaxis": "x",
         "y": [
          7.21
         ],
         "yaxis": "y"
        },
        {
         "customdata": [
          [
           "O=C(CNC(=O)[C@@H]1[C@H]2CCC[C@H]2CN1C(=O)CNC(=O)[C@@H](NC(=O)c1cnccn1)C1CCCCC1)C(=O)NC1CC1",
           42
          ]
         ],
         "hovertemplate": "<b>%{hovertext}</b><br><br>Murcko_SMILES=%{customdata[0]}<br>Molecular Weight=%{x}<br>Ligand Efficiency LLE=%{y}<br>index=%{customdata[1]}<extra></extra>",
         "hovertext": [
          "CHEMBL231813"
         ],
         "legendgroup": "O=C(CNC(=O)[C@@H]1[C@H]2CCC[C@H]2CN1C(=O)CNC(=O)[C@@H](NC(=O)c1cnccn1)C1CCCCC1)C(=O)NC1CC1",
         "marker": {
          "color": "#FECB52",
          "opacity": 0.5,
          "symbol": "circle"
         },
         "mode": "markers",
         "name": "O=C(CNC(=O)[C@@H]1[C@H]2CCC[C@H]2CN1C(=O)CNC(=O)[C@@H](NC(=O)c1cnccn1)C1CCCCC1)C(=O)NC1CC1",
         "orientation": "v",
         "showlegend": true,
         "type": "scatter",
         "x": [
          679.86
         ],
         "xaxis": "x",
         "y": [
          2.49
         ],
         "yaxis": "y"
        }
       ],
       "layout": {
        "legend": {
         "title": {
          "text": "Murcko_SMILES"
         },
         "tracegroupgap": 0
        },
        "margin": {
         "t": 60
        },
        "template": {
         "data": {
          "bar": [
           {
            "error_x": {
             "color": "#2a3f5f"
            },
            "error_y": {
             "color": "#2a3f5f"
            },
            "marker": {
             "line": {
              "color": "#E5ECF6",
              "width": 0.5
             },
             "pattern": {
              "fillmode": "overlay",
              "size": 10,
              "solidity": 0.2
             }
            },
            "type": "bar"
           }
          ],
          "barpolar": [
           {
            "marker": {
             "line": {
              "color": "#E5ECF6",
              "width": 0.5
             },
             "pattern": {
              "fillmode": "overlay",
              "size": 10,
              "solidity": 0.2
             }
            },
            "type": "barpolar"
           }
          ],
          "carpet": [
           {
            "aaxis": {
             "endlinecolor": "#2a3f5f",
             "gridcolor": "white",
             "linecolor": "white",
             "minorgridcolor": "white",
             "startlinecolor": "#2a3f5f"
            },
            "baxis": {
             "endlinecolor": "#2a3f5f",
             "gridcolor": "white",
             "linecolor": "white",
             "minorgridcolor": "white",
             "startlinecolor": "#2a3f5f"
            },
            "type": "carpet"
           }
          ],
          "choropleth": [
           {
            "colorbar": {
             "outlinewidth": 0,
             "ticks": ""
            },
            "type": "choropleth"
           }
          ],
          "contour": [
           {
            "colorbar": {
             "outlinewidth": 0,
             "ticks": ""
            },
            "colorscale": [
             [
              0,
              "#0d0887"
             ],
             [
              0.1111111111111111,
              "#46039f"
             ],
             [
              0.2222222222222222,
              "#7201a8"
             ],
             [
              0.3333333333333333,
              "#9c179e"
             ],
             [
              0.4444444444444444,
              "#bd3786"
             ],
             [
              0.5555555555555556,
              "#d8576b"
             ],
             [
              0.6666666666666666,
              "#ed7953"
             ],
             [
              0.7777777777777778,
              "#fb9f3a"
             ],
             [
              0.8888888888888888,
              "#fdca26"
             ],
             [
              1,
              "#f0f921"
             ]
            ],
            "type": "contour"
           }
          ],
          "contourcarpet": [
           {
            "colorbar": {
             "outlinewidth": 0,
             "ticks": ""
            },
            "type": "contourcarpet"
           }
          ],
          "heatmap": [
           {
            "colorbar": {
             "outlinewidth": 0,
             "ticks": ""
            },
            "colorscale": [
             [
              0,
              "#0d0887"
             ],
             [
              0.1111111111111111,
              "#46039f"
             ],
             [
              0.2222222222222222,
              "#7201a8"
             ],
             [
              0.3333333333333333,
              "#9c179e"
             ],
             [
              0.4444444444444444,
              "#bd3786"
             ],
             [
              0.5555555555555556,
              "#d8576b"
             ],
             [
              0.6666666666666666,
              "#ed7953"
             ],
             [
              0.7777777777777778,
              "#fb9f3a"
             ],
             [
              0.8888888888888888,
              "#fdca26"
             ],
             [
              1,
              "#f0f921"
             ]
            ],
            "type": "heatmap"
           }
          ],
          "heatmapgl": [
           {
            "colorbar": {
             "outlinewidth": 0,
             "ticks": ""
            },
            "colorscale": [
             [
              0,
              "#0d0887"
             ],
             [
              0.1111111111111111,
              "#46039f"
             ],
             [
              0.2222222222222222,
              "#7201a8"
             ],
             [
              0.3333333333333333,
              "#9c179e"
             ],
             [
              0.4444444444444444,
              "#bd3786"
             ],
             [
              0.5555555555555556,
              "#d8576b"
             ],
             [
              0.6666666666666666,
              "#ed7953"
             ],
             [
              0.7777777777777778,
              "#fb9f3a"
             ],
             [
              0.8888888888888888,
              "#fdca26"
             ],
             [
              1,
              "#f0f921"
             ]
            ],
            "type": "heatmapgl"
           }
          ],
          "histogram": [
           {
            "marker": {
             "pattern": {
              "fillmode": "overlay",
              "size": 10,
              "solidity": 0.2
             }
            },
            "type": "histogram"
           }
          ],
          "histogram2d": [
           {
            "colorbar": {
             "outlinewidth": 0,
             "ticks": ""
            },
            "colorscale": [
             [
              0,
              "#0d0887"
             ],
             [
              0.1111111111111111,
              "#46039f"
             ],
             [
              0.2222222222222222,
              "#7201a8"
             ],
             [
              0.3333333333333333,
              "#9c179e"
             ],
             [
              0.4444444444444444,
              "#bd3786"
             ],
             [
              0.5555555555555556,
              "#d8576b"
             ],
             [
              0.6666666666666666,
              "#ed7953"
             ],
             [
              0.7777777777777778,
              "#fb9f3a"
             ],
             [
              0.8888888888888888,
              "#fdca26"
             ],
             [
              1,
              "#f0f921"
             ]
            ],
            "type": "histogram2d"
           }
          ],
          "histogram2dcontour": [
           {
            "colorbar": {
             "outlinewidth": 0,
             "ticks": ""
            },
            "colorscale": [
             [
              0,
              "#0d0887"
             ],
             [
              0.1111111111111111,
              "#46039f"
             ],
             [
              0.2222222222222222,
              "#7201a8"
             ],
             [
              0.3333333333333333,
              "#9c179e"
             ],
             [
              0.4444444444444444,
              "#bd3786"
             ],
             [
              0.5555555555555556,
              "#d8576b"
             ],
             [
              0.6666666666666666,
              "#ed7953"
             ],
             [
              0.7777777777777778,
              "#fb9f3a"
             ],
             [
              0.8888888888888888,
              "#fdca26"
             ],
             [
              1,
              "#f0f921"
             ]
            ],
            "type": "histogram2dcontour"
           }
          ],
          "mesh3d": [
           {
            "colorbar": {
             "outlinewidth": 0,
             "ticks": ""
            },
            "type": "mesh3d"
           }
          ],
          "parcoords": [
           {
            "line": {
             "colorbar": {
              "outlinewidth": 0,
              "ticks": ""
             }
            },
            "type": "parcoords"
           }
          ],
          "pie": [
           {
            "automargin": true,
            "type": "pie"
           }
          ],
          "scatter": [
           {
            "fillpattern": {
             "fillmode": "overlay",
             "size": 10,
             "solidity": 0.2
            },
            "type": "scatter"
           }
          ],
          "scatter3d": [
           {
            "line": {
             "colorbar": {
              "outlinewidth": 0,
              "ticks": ""
             }
            },
            "marker": {
             "colorbar": {
              "outlinewidth": 0,
              "ticks": ""
             }
            },
            "type": "scatter3d"
           }
          ],
          "scattercarpet": [
           {
            "marker": {
             "colorbar": {
              "outlinewidth": 0,
              "ticks": ""
             }
            },
            "type": "scattercarpet"
           }
          ],
          "scattergeo": [
           {
            "marker": {
             "colorbar": {
              "outlinewidth": 0,
              "ticks": ""
             }
            },
            "type": "scattergeo"
           }
          ],
          "scattergl": [
           {
            "marker": {
             "colorbar": {
              "outlinewidth": 0,
              "ticks": ""
             }
            },
            "type": "scattergl"
           }
          ],
          "scattermapbox": [
           {
            "marker": {
             "colorbar": {
              "outlinewidth": 0,
              "ticks": ""
             }
            },
            "type": "scattermapbox"
           }
          ],
          "scatterpolar": [
           {
            "marker": {
             "colorbar": {
              "outlinewidth": 0,
              "ticks": ""
             }
            },
            "type": "scatterpolar"
           }
          ],
          "scatterpolargl": [
           {
            "marker": {
             "colorbar": {
              "outlinewidth": 0,
              "ticks": ""
             }
            },
            "type": "scatterpolargl"
           }
          ],
          "scatterternary": [
           {
            "marker": {
             "colorbar": {
              "outlinewidth": 0,
              "ticks": ""
             }
            },
            "type": "scatterternary"
           }
          ],
          "surface": [
           {
            "colorbar": {
             "outlinewidth": 0,
             "ticks": ""
            },
            "colorscale": [
             [
              0,
              "#0d0887"
             ],
             [
              0.1111111111111111,
              "#46039f"
             ],
             [
              0.2222222222222222,
              "#7201a8"
             ],
             [
              0.3333333333333333,
              "#9c179e"
             ],
             [
              0.4444444444444444,
              "#bd3786"
             ],
             [
              0.5555555555555556,
              "#d8576b"
             ],
             [
              0.6666666666666666,
              "#ed7953"
             ],
             [
              0.7777777777777778,
              "#fb9f3a"
             ],
             [
              0.8888888888888888,
              "#fdca26"
             ],
             [
              1,
              "#f0f921"
             ]
            ],
            "type": "surface"
           }
          ],
          "table": [
           {
            "cells": {
             "fill": {
              "color": "#EBF0F8"
             },
             "line": {
              "color": "white"
             }
            },
            "header": {
             "fill": {
              "color": "#C8D4E3"
             },
             "line": {
              "color": "white"
             }
            },
            "type": "table"
           }
          ]
         },
         "layout": {
          "annotationdefaults": {
           "arrowcolor": "#2a3f5f",
           "arrowhead": 0,
           "arrowwidth": 1
          },
          "autotypenumbers": "strict",
          "coloraxis": {
           "colorbar": {
            "outlinewidth": 0,
            "ticks": ""
           }
          },
          "colorscale": {
           "diverging": [
            [
             0,
             "#8e0152"
            ],
            [
             0.1,
             "#c51b7d"
            ],
            [
             0.2,
             "#de77ae"
            ],
            [
             0.3,
             "#f1b6da"
            ],
            [
             0.4,
             "#fde0ef"
            ],
            [
             0.5,
             "#f7f7f7"
            ],
            [
             0.6,
             "#e6f5d0"
            ],
            [
             0.7,
             "#b8e186"
            ],
            [
             0.8,
             "#7fbc41"
            ],
            [
             0.9,
             "#4d9221"
            ],
            [
             1,
             "#276419"
            ]
           ],
           "sequential": [
            [
             0,
             "#0d0887"
            ],
            [
             0.1111111111111111,
             "#46039f"
            ],
            [
             0.2222222222222222,
             "#7201a8"
            ],
            [
             0.3333333333333333,
             "#9c179e"
            ],
            [
             0.4444444444444444,
             "#bd3786"
            ],
            [
             0.5555555555555556,
             "#d8576b"
            ],
            [
             0.6666666666666666,
             "#ed7953"
            ],
            [
             0.7777777777777778,
             "#fb9f3a"
            ],
            [
             0.8888888888888888,
             "#fdca26"
            ],
            [
             1,
             "#f0f921"
            ]
           ],
           "sequentialminus": [
            [
             0,
             "#0d0887"
            ],
            [
             0.1111111111111111,
             "#46039f"
            ],
            [
             0.2222222222222222,
             "#7201a8"
            ],
            [
             0.3333333333333333,
             "#9c179e"
            ],
            [
             0.4444444444444444,
             "#bd3786"
            ],
            [
             0.5555555555555556,
             "#d8576b"
            ],
            [
             0.6666666666666666,
             "#ed7953"
            ],
            [
             0.7777777777777778,
             "#fb9f3a"
            ],
            [
             0.8888888888888888,
             "#fdca26"
            ],
            [
             1,
             "#f0f921"
            ]
           ]
          },
          "colorway": [
           "#636efa",
           "#EF553B",
           "#00cc96",
           "#ab63fa",
           "#FFA15A",
           "#19d3f3",
           "#FF6692",
           "#B6E880",
           "#FF97FF",
           "#FECB52"
          ],
          "font": {
           "color": "#2a3f5f"
          },
          "geo": {
           "bgcolor": "white",
           "lakecolor": "white",
           "landcolor": "#E5ECF6",
           "showlakes": true,
           "showland": true,
           "subunitcolor": "white"
          },
          "hoverlabel": {
           "align": "left"
          },
          "hovermode": "closest",
          "mapbox": {
           "style": "light"
          },
          "paper_bgcolor": "white",
          "plot_bgcolor": "#E5ECF6",
          "polar": {
           "angularaxis": {
            "gridcolor": "white",
            "linecolor": "white",
            "ticks": ""
           },
           "bgcolor": "#E5ECF6",
           "radialaxis": {
            "gridcolor": "white",
            "linecolor": "white",
            "ticks": ""
           }
          },
          "scene": {
           "xaxis": {
            "backgroundcolor": "#E5ECF6",
            "gridcolor": "white",
            "gridwidth": 2,
            "linecolor": "white",
            "showbackground": true,
            "ticks": "",
            "zerolinecolor": "white"
           },
           "yaxis": {
            "backgroundcolor": "#E5ECF6",
            "gridcolor": "white",
            "gridwidth": 2,
            "linecolor": "white",
            "showbackground": true,
            "ticks": "",
            "zerolinecolor": "white"
           },
           "zaxis": {
            "backgroundcolor": "#E5ECF6",
            "gridcolor": "white",
            "gridwidth": 2,
            "linecolor": "white",
            "showbackground": true,
            "ticks": "",
            "zerolinecolor": "white"
           }
          },
          "shapedefaults": {
           "line": {
            "color": "#2a3f5f"
           }
          },
          "ternary": {
           "aaxis": {
            "gridcolor": "white",
            "linecolor": "white",
            "ticks": ""
           },
           "baxis": {
            "gridcolor": "white",
            "linecolor": "white",
            "ticks": ""
           },
           "bgcolor": "#E5ECF6",
           "caxis": {
            "gridcolor": "white",
            "linecolor": "white",
            "ticks": ""
           }
          },
          "title": {
           "x": 0.05
          },
          "xaxis": {
           "automargin": true,
           "gridcolor": "white",
           "linecolor": "white",
           "ticks": "",
           "title": {
            "standoff": 15
           },
           "zerolinecolor": "white",
           "zerolinewidth": 2
          },
          "yaxis": {
           "automargin": true,
           "gridcolor": "white",
           "linecolor": "white",
           "ticks": "",
           "title": {
            "standoff": 15
           },
           "zerolinecolor": "white",
           "zerolinewidth": 2
          }
         }
        },
        "title": {
         "text": "LLE v.s. MW"
        },
        "width": 1400,
        "xaxis": {
         "anchor": "y",
         "domain": [
          0,
          1
         ],
         "title": {
          "text": "Molecular Weight"
         }
        },
        "yaxis": {
         "anchor": "x",
         "domain": [
          0,
          1
         ],
         "title": {
          "text": "Ligand Efficiency LLE"
         }
        }
       }
      }
     },
     "metadata": {},
     "output_type": "display_data"
    }
   ],
   "source": [
    "import plotly.express as px\n",
    "fig = px.scatter(ddf,\n",
    "                    x='Molecular Weight',\n",
    "                    y='Ligand Efficiency LLE',\n",
    "                    # color='AlogP',\n",
    "                    color='Murcko_SMILES',\n",
    "                    # color='Murcko_generic_SMILES',\n",
    "                    # size='pChEMBL Value',\n",
    "                    hover_name='Molecule ChEMBL ID',\n",
    "                    hover_data=['Murcko_SMILES', ddf.index],\n",
    "                    opacity=0.5\n",
    "                )\n",
    "fig.update_layout(\n",
    "    title='LLE v.s. MW',\n",
    "    # showlegend=False, # Legendのon/off\n",
    "    width=1400,\n",
    "    # height=700\n",
    "    ) \n",
    "fig.show()\n"
   ]
  },
  {
   "cell_type": "markdown",
   "metadata": {},
   "source": [
    "### Plotly.box"
   ]
  },
  {
   "cell_type": "code",
   "execution_count": 138,
   "metadata": {},
   "outputs": [
    {
     "data": {
      "application/vnd.plotly.v1+json": {
       "config": {
        "plotlyServerURL": "https://plot.ly"
       },
       "data": [
        {
         "alignmentgroup": "True",
         "boxpoints": "all",
         "customdata": [
          [
           403.48,
           1.54,
           7.38,
           5
          ],
          [
           485.56,
           0.54,
           7.52,
           7
          ],
          [
           485.56,
           0.54,
           7.47,
           24
          ],
          [
           485.56,
           0.54,
           7.51,
           36
          ]
         ],
         "hovertemplate": "Murcko_SMILES=%{y}<br>Ligand Efficiency LLE=%{x}<br>Molecular Weight=%{customdata[0]}<br>AlogP=%{customdata[1]}<br>pChEMBL Value=%{customdata[2]}<br>index=%{customdata[3]}<extra></extra>",
         "legendgroup": "O=C(CNC(=O)OCc1ccccc1)NCC[C@@H]1CCNC1=O",
         "marker": {
          "color": "#636efa"
         },
         "name": "O=C(CNC(=O)OCc1ccccc1)NCC[C@@H]1CCNC1=O",
         "notched": false,
         "offsetgroup": "O=C(CNC(=O)OCc1ccccc1)NCC[C@@H]1CCNC1=O",
         "orientation": "h",
         "showlegend": true,
         "type": "box",
         "x": [
          5.84,
          6.98,
          6.93,
          6.97
         ],
         "x0": " ",
         "xaxis": "x",
         "y": [
          "O=C(CNC(=O)OCc1ccccc1)NCC[C@@H]1CCNC1=O",
          "O=C(CNC(=O)OCc1ccccc1)NCC[C@@H]1CCNC1=O",
          "O=C(CNC(=O)OCc1ccccc1)NCC[C@@H]1CCNC1=O",
          "O=C(CNC(=O)OCc1ccccc1)NCC[C@@H]1CCNC1=O"
         ],
         "y0": " ",
         "yaxis": "y"
        },
        {
         "alignmentgroup": "True",
         "boxpoints": "all",
         "customdata": [
          [
           362.47,
           3.2,
           5.32,
           6
          ],
          [
           362.47,
           3.2,
           4.97,
           12
          ],
          [
           461.6,
           3.34,
           5.5,
           41
          ],
          [
           475.63,
           3.59,
           5.41,
           46
          ]
         ],
         "hovertemplate": "Murcko_SMILES=%{y}<br>Ligand Efficiency LLE=%{x}<br>Molecular Weight=%{customdata[0]}<br>AlogP=%{customdata[1]}<br>pChEMBL Value=%{customdata[2]}<br>index=%{customdata[3]}<extra></extra>",
         "legendgroup": "c1ccccc1",
         "marker": {
          "color": "#EF553B"
         },
         "name": "c1ccccc1",
         "notched": false,
         "offsetgroup": "c1ccccc1",
         "orientation": "h",
         "showlegend": true,
         "type": "box",
         "x": [
          2.12,
          1.77,
          2.16,
          1.82
         ],
         "x0": " ",
         "xaxis": "x",
         "y": [
          "c1ccccc1",
          "c1ccccc1",
          "c1ccccc1",
          "c1ccccc1"
         ],
         "y0": " ",
         "yaxis": "y"
        },
        {
         "alignmentgroup": "True",
         "boxpoints": "all",
         "customdata": [
          [
           572.7,
           2.6,
           6.54,
           8
          ],
          [
           601.75,
           1.96,
           7.19,
           15
          ]
         ],
         "hovertemplate": "Murcko_SMILES=%{y}<br>Ligand Efficiency LLE=%{x}<br>Molecular Weight=%{customdata[0]}<br>AlogP=%{customdata[1]}<br>pChEMBL Value=%{customdata[2]}<br>index=%{customdata[3]}<extra></extra>",
         "legendgroup": "O=C(CNC(=O)CNC(=O)OCc1ccccc1)NCC[C@@H]1CCNC1=O",
         "marker": {
          "color": "#00cc96"
         },
         "name": "O=C(CNC(=O)CNC(=O)OCc1ccccc1)NCC[C@@H]1CCNC1=O",
         "notched": false,
         "offsetgroup": "O=C(CNC(=O)CNC(=O)OCc1ccccc1)NCC[C@@H]1CCNC1=O",
         "orientation": "h",
         "showlegend": true,
         "type": "box",
         "x": [
          3.94,
          5.23
         ],
         "x0": " ",
         "xaxis": "x",
         "y": [
          "O=C(CNC(=O)CNC(=O)OCc1ccccc1)NCC[C@@H]1CCNC1=O",
          "O=C(CNC(=O)CNC(=O)OCc1ccccc1)NCC[C@@H]1CCNC1=O"
         ],
         "y0": " ",
         "yaxis": "y"
        },
        {
         "alignmentgroup": "True",
         "boxpoints": "all",
         "customdata": [
          [
           600.76,
           3.15,
           8.05,
           9
          ]
         ],
         "hovertemplate": "Murcko_SMILES=%{y}<br>Ligand Efficiency LLE=%{x}<br>Molecular Weight=%{customdata[0]}<br>AlogP=%{customdata[1]}<br>pChEMBL Value=%{customdata[2]}<br>index=%{customdata[3]}<extra></extra>",
         "legendgroup": "O=C(CNC(=O)OCc1ccccc1)N[C@@H](CC1CCCCC1)C(=O)NCC[C@@H]1CCNC1=O",
         "marker": {
          "color": "#ab63fa"
         },
         "name": "O=C(CNC(=O)OCc1ccccc1)N[C@@H](CC1CCCCC1)C(=O)NCC[C@@H]1CCNC1=O",
         "notched": false,
         "offsetgroup": "O=C(CNC(=O)OCc1ccccc1)N[C@@H](CC1CCCCC1)C(=O)NCC[C@@H]1CCNC1=O",
         "orientation": "h",
         "showlegend": true,
         "type": "box",
         "x": [
          4.9
         ],
         "x0": " ",
         "xaxis": "x",
         "y": [
          "O=C(CNC(=O)OCc1ccccc1)N[C@@H](CC1CCCCC1)C(=O)NCC[C@@H]1CCNC1=O"
         ],
         "y0": " ",
         "yaxis": "y"
        },
        {
         "alignmentgroup": "True",
         "boxpoints": "all",
         "customdata": [
          [
           452.56,
           2.45,
           7.51,
           10
          ],
          [
           452.56,
           2.45,
           7.85,
           28
          ],
          [
           452.56,
           2.45,
           7.28,
           58
          ]
         ],
         "hovertemplate": "Murcko_SMILES=%{y}<br>Ligand Efficiency LLE=%{x}<br>Molecular Weight=%{customdata[0]}<br>AlogP=%{customdata[1]}<br>pChEMBL Value=%{customdata[2]}<br>index=%{customdata[3]}<extra></extra>",
         "legendgroup": "O=C(N[C@@H](CC1CCCCC1)C(=O)NCC[C@@H]1CCNC1=O)c1cc2ccccc2[nH]1",
         "marker": {
          "color": "#FFA15A"
         },
         "name": "O=C(N[C@@H](CC1CCCCC1)C(=O)NCC[C@@H]1CCNC1=O)c1cc2ccccc2[nH]1",
         "notched": false,
         "offsetgroup": "O=C(N[C@@H](CC1CCCCC1)C(=O)NCC[C@@H]1CCNC1=O)c1cc2ccccc2[nH]1",
         "orientation": "h",
         "showlegend": true,
         "type": "box",
         "x": [
          5.06,
          5.4,
          4.83
         ],
         "x0": " ",
         "xaxis": "x",
         "y": [
          "O=C(N[C@@H](CC1CCCCC1)C(=O)NCC[C@@H]1CCNC1=O)c1cc2ccccc2[nH]1",
          "O=C(N[C@@H](CC1CCCCC1)C(=O)NCC[C@@H]1CCNC1=O)c1cc2ccccc2[nH]1",
          "O=C(N[C@@H](CC1CCCCC1)C(=O)NCC[C@@H]1CCNC1=O)c1cc2ccccc2[nH]1"
         ],
         "y0": " ",
         "yaxis": "y"
        },
        {
         "alignmentgroup": "True",
         "boxpoints": "all",
         "customdata": [
          [
           504.67,
           1.78,
           5.38,
           11
          ]
         ],
         "hovertemplate": "Murcko_SMILES=%{y}<br>Ligand Efficiency LLE=%{x}<br>Molecular Weight=%{customdata[0]}<br>AlogP=%{customdata[1]}<br>pChEMBL Value=%{customdata[2]}<br>index=%{customdata[3]}<extra></extra>",
         "legendgroup": "O=C(NCCC1CCC1)[C@H]1NC[C@@H]2C[C@H]12",
         "marker": {
          "color": "#19d3f3"
         },
         "name": "O=C(NCCC1CCC1)[C@H]1NC[C@@H]2C[C@H]12",
         "notched": false,
         "offsetgroup": "O=C(NCCC1CCC1)[C@H]1NC[C@@H]2C[C@H]12",
         "orientation": "h",
         "showlegend": true,
         "type": "box",
         "x": [
          3.6
         ],
         "x0": " ",
         "xaxis": "x",
         "y": [
          "O=C(NCCC1CCC1)[C@H]1NC[C@@H]2C[C@H]12"
         ],
         "y0": " ",
         "yaxis": "y"
        },
        {
         "alignmentgroup": "True",
         "boxpoints": "all",
         "customdata": [
          [
           635.79,
           3.97,
           7.03,
           20
          ]
         ],
         "hovertemplate": "Murcko_SMILES=%{y}<br>Ligand Efficiency LLE=%{x}<br>Molecular Weight=%{customdata[0]}<br>AlogP=%{customdata[1]}<br>pChEMBL Value=%{customdata[2]}<br>index=%{customdata[3]}<extra></extra>",
         "legendgroup": "O=C(CNC(=O)OCc1ccccc1)NCC(=O)N[C@@H](C[C@@H]1CCNC1=O)C(=O)c1nc2ccccc2s1",
         "marker": {
          "color": "#FF6692"
         },
         "name": "O=C(CNC(=O)OCc1ccccc1)NCC(=O)N[C@@H](C[C@@H]1CCNC1=O)C(=O)c1nc2ccccc2s1",
         "notched": false,
         "offsetgroup": "O=C(CNC(=O)OCc1ccccc1)NCC(=O)N[C@@H](C[C@@H]1CCNC1=O)C(=O)c1nc2ccccc2s1",
         "orientation": "h",
         "showlegend": true,
         "type": "box",
         "x": [
          3.06
         ],
         "x0": " ",
         "xaxis": "x",
         "y": [
          "O=C(CNC(=O)OCc1ccccc1)NCC(=O)N[C@@H](C[C@@H]1CCNC1=O)C(=O)c1nc2ccccc2s1"
         ],
         "y0": " ",
         "yaxis": "y"
        },
        {
         "alignmentgroup": "True",
         "boxpoints": "all",
         "customdata": [
          [
           464.5,
           1.86,
           7.64,
           23
          ],
          [
           464.5,
           1.86,
           7.4,
           39
          ]
         ],
         "hovertemplate": "Murcko_SMILES=%{y}<br>Ligand Efficiency LLE=%{x}<br>Molecular Weight=%{customdata[0]}<br>AlogP=%{customdata[1]}<br>pChEMBL Value=%{customdata[2]}<br>index=%{customdata[3]}<extra></extra>",
         "legendgroup": "O=C(N[C@@H](Cc1ccccc1)C(=O)NCC[C@@H]1CCNC1=O)c1cc2ccccc2[nH]1",
         "marker": {
          "color": "#B6E880"
         },
         "name": "O=C(N[C@@H](Cc1ccccc1)C(=O)NCC[C@@H]1CCNC1=O)c1cc2ccccc2[nH]1",
         "notched": false,
         "offsetgroup": "O=C(N[C@@H](Cc1ccccc1)C(=O)NCC[C@@H]1CCNC1=O)c1cc2ccccc2[nH]1",
         "orientation": "h",
         "showlegend": true,
         "type": "box",
         "x": [
          5.78,
          5.54
         ],
         "x0": " ",
         "xaxis": "x",
         "y": [
          "O=C(N[C@@H](Cc1ccccc1)C(=O)NCC[C@@H]1CCNC1=O)c1cc2ccccc2[nH]1",
          "O=C(N[C@@H](Cc1ccccc1)C(=O)NCC[C@@H]1CCNC1=O)c1cc2ccccc2[nH]1"
         ],
         "y0": " ",
         "yaxis": "y"
        },
        {
         "alignmentgroup": "True",
         "boxpoints": "all",
         "customdata": [
          [
           472.54,
           0.89,
           8.1,
           40
          ]
         ],
         "hovertemplate": "Murcko_SMILES=%{y}<br>Ligand Efficiency LLE=%{x}<br>Molecular Weight=%{customdata[0]}<br>AlogP=%{customdata[1]}<br>pChEMBL Value=%{customdata[2]}<br>index=%{customdata[3]}<extra></extra>",
         "legendgroup": "O=C(CNC(=O)c1cc2ccccc2[nH]1)NCC[C@@H]1CCNC1=O",
         "marker": {
          "color": "#FF97FF"
         },
         "name": "O=C(CNC(=O)c1cc2ccccc2[nH]1)NCC[C@@H]1CCNC1=O",
         "notched": false,
         "offsetgroup": "O=C(CNC(=O)c1cc2ccccc2[nH]1)NCC[C@@H]1CCNC1=O",
         "orientation": "h",
         "showlegend": true,
         "type": "box",
         "x": [
          7.21
         ],
         "x0": " ",
         "xaxis": "x",
         "y": [
          "O=C(CNC(=O)c1cc2ccccc2[nH]1)NCC[C@@H]1CCNC1=O"
         ],
         "y0": " ",
         "yaxis": "y"
        },
        {
         "alignmentgroup": "True",
         "boxpoints": "all",
         "customdata": [
          [
           679.86,
           2.45,
           4.94,
           42
          ]
         ],
         "hovertemplate": "Murcko_SMILES=%{y}<br>Ligand Efficiency LLE=%{x}<br>Molecular Weight=%{customdata[0]}<br>AlogP=%{customdata[1]}<br>pChEMBL Value=%{customdata[2]}<br>index=%{customdata[3]}<extra></extra>",
         "legendgroup": "O=C(CNC(=O)[C@@H]1[C@H]2CCC[C@H]2CN1C(=O)CNC(=O)[C@@H](NC(=O)c1cnccn1)C1CCCCC1)C(=O)NC1CC1",
         "marker": {
          "color": "#FECB52"
         },
         "name": "O=C(CNC(=O)[C@@H]1[C@H]2CCC[C@H]2CN1C(=O)CNC(=O)[C@@H](NC(=O)c1cnccn1)C1CCCCC1)C(=O)NC1CC1",
         "notched": false,
         "offsetgroup": "O=C(CNC(=O)[C@@H]1[C@H]2CCC[C@H]2CN1C(=O)CNC(=O)[C@@H](NC(=O)c1cnccn1)C1CCCCC1)C(=O)NC1CC1",
         "orientation": "h",
         "showlegend": true,
         "type": "box",
         "x": [
          2.49
         ],
         "x0": " ",
         "xaxis": "x",
         "y": [
          "O=C(CNC(=O)[C@@H]1[C@H]2CCC[C@H]2CN1C(=O)CNC(=O)[C@@H](NC(=O)c1cnccn1)C1CCCCC1)C(=O)NC1CC1"
         ],
         "y0": " ",
         "yaxis": "y"
        }
       ],
       "layout": {
        "boxmode": "overlay",
        "legend": {
         "title": {
          "text": "Murcko_SMILES"
         },
         "tracegroupgap": 0
        },
        "margin": {
         "t": 60
        },
        "showlegend": false,
        "template": {
         "data": {
          "bar": [
           {
            "error_x": {
             "color": "#2a3f5f"
            },
            "error_y": {
             "color": "#2a3f5f"
            },
            "marker": {
             "line": {
              "color": "#E5ECF6",
              "width": 0.5
             },
             "pattern": {
              "fillmode": "overlay",
              "size": 10,
              "solidity": 0.2
             }
            },
            "type": "bar"
           }
          ],
          "barpolar": [
           {
            "marker": {
             "line": {
              "color": "#E5ECF6",
              "width": 0.5
             },
             "pattern": {
              "fillmode": "overlay",
              "size": 10,
              "solidity": 0.2
             }
            },
            "type": "barpolar"
           }
          ],
          "carpet": [
           {
            "aaxis": {
             "endlinecolor": "#2a3f5f",
             "gridcolor": "white",
             "linecolor": "white",
             "minorgridcolor": "white",
             "startlinecolor": "#2a3f5f"
            },
            "baxis": {
             "endlinecolor": "#2a3f5f",
             "gridcolor": "white",
             "linecolor": "white",
             "minorgridcolor": "white",
             "startlinecolor": "#2a3f5f"
            },
            "type": "carpet"
           }
          ],
          "choropleth": [
           {
            "colorbar": {
             "outlinewidth": 0,
             "ticks": ""
            },
            "type": "choropleth"
           }
          ],
          "contour": [
           {
            "colorbar": {
             "outlinewidth": 0,
             "ticks": ""
            },
            "colorscale": [
             [
              0,
              "#0d0887"
             ],
             [
              0.1111111111111111,
              "#46039f"
             ],
             [
              0.2222222222222222,
              "#7201a8"
             ],
             [
              0.3333333333333333,
              "#9c179e"
             ],
             [
              0.4444444444444444,
              "#bd3786"
             ],
             [
              0.5555555555555556,
              "#d8576b"
             ],
             [
              0.6666666666666666,
              "#ed7953"
             ],
             [
              0.7777777777777778,
              "#fb9f3a"
             ],
             [
              0.8888888888888888,
              "#fdca26"
             ],
             [
              1,
              "#f0f921"
             ]
            ],
            "type": "contour"
           }
          ],
          "contourcarpet": [
           {
            "colorbar": {
             "outlinewidth": 0,
             "ticks": ""
            },
            "type": "contourcarpet"
           }
          ],
          "heatmap": [
           {
            "colorbar": {
             "outlinewidth": 0,
             "ticks": ""
            },
            "colorscale": [
             [
              0,
              "#0d0887"
             ],
             [
              0.1111111111111111,
              "#46039f"
             ],
             [
              0.2222222222222222,
              "#7201a8"
             ],
             [
              0.3333333333333333,
              "#9c179e"
             ],
             [
              0.4444444444444444,
              "#bd3786"
             ],
             [
              0.5555555555555556,
              "#d8576b"
             ],
             [
              0.6666666666666666,
              "#ed7953"
             ],
             [
              0.7777777777777778,
              "#fb9f3a"
             ],
             [
              0.8888888888888888,
              "#fdca26"
             ],
             [
              1,
              "#f0f921"
             ]
            ],
            "type": "heatmap"
           }
          ],
          "heatmapgl": [
           {
            "colorbar": {
             "outlinewidth": 0,
             "ticks": ""
            },
            "colorscale": [
             [
              0,
              "#0d0887"
             ],
             [
              0.1111111111111111,
              "#46039f"
             ],
             [
              0.2222222222222222,
              "#7201a8"
             ],
             [
              0.3333333333333333,
              "#9c179e"
             ],
             [
              0.4444444444444444,
              "#bd3786"
             ],
             [
              0.5555555555555556,
              "#d8576b"
             ],
             [
              0.6666666666666666,
              "#ed7953"
             ],
             [
              0.7777777777777778,
              "#fb9f3a"
             ],
             [
              0.8888888888888888,
              "#fdca26"
             ],
             [
              1,
              "#f0f921"
             ]
            ],
            "type": "heatmapgl"
           }
          ],
          "histogram": [
           {
            "marker": {
             "pattern": {
              "fillmode": "overlay",
              "size": 10,
              "solidity": 0.2
             }
            },
            "type": "histogram"
           }
          ],
          "histogram2d": [
           {
            "colorbar": {
             "outlinewidth": 0,
             "ticks": ""
            },
            "colorscale": [
             [
              0,
              "#0d0887"
             ],
             [
              0.1111111111111111,
              "#46039f"
             ],
             [
              0.2222222222222222,
              "#7201a8"
             ],
             [
              0.3333333333333333,
              "#9c179e"
             ],
             [
              0.4444444444444444,
              "#bd3786"
             ],
             [
              0.5555555555555556,
              "#d8576b"
             ],
             [
              0.6666666666666666,
              "#ed7953"
             ],
             [
              0.7777777777777778,
              "#fb9f3a"
             ],
             [
              0.8888888888888888,
              "#fdca26"
             ],
             [
              1,
              "#f0f921"
             ]
            ],
            "type": "histogram2d"
           }
          ],
          "histogram2dcontour": [
           {
            "colorbar": {
             "outlinewidth": 0,
             "ticks": ""
            },
            "colorscale": [
             [
              0,
              "#0d0887"
             ],
             [
              0.1111111111111111,
              "#46039f"
             ],
             [
              0.2222222222222222,
              "#7201a8"
             ],
             [
              0.3333333333333333,
              "#9c179e"
             ],
             [
              0.4444444444444444,
              "#bd3786"
             ],
             [
              0.5555555555555556,
              "#d8576b"
             ],
             [
              0.6666666666666666,
              "#ed7953"
             ],
             [
              0.7777777777777778,
              "#fb9f3a"
             ],
             [
              0.8888888888888888,
              "#fdca26"
             ],
             [
              1,
              "#f0f921"
             ]
            ],
            "type": "histogram2dcontour"
           }
          ],
          "mesh3d": [
           {
            "colorbar": {
             "outlinewidth": 0,
             "ticks": ""
            },
            "type": "mesh3d"
           }
          ],
          "parcoords": [
           {
            "line": {
             "colorbar": {
              "outlinewidth": 0,
              "ticks": ""
             }
            },
            "type": "parcoords"
           }
          ],
          "pie": [
           {
            "automargin": true,
            "type": "pie"
           }
          ],
          "scatter": [
           {
            "fillpattern": {
             "fillmode": "overlay",
             "size": 10,
             "solidity": 0.2
            },
            "type": "scatter"
           }
          ],
          "scatter3d": [
           {
            "line": {
             "colorbar": {
              "outlinewidth": 0,
              "ticks": ""
             }
            },
            "marker": {
             "colorbar": {
              "outlinewidth": 0,
              "ticks": ""
             }
            },
            "type": "scatter3d"
           }
          ],
          "scattercarpet": [
           {
            "marker": {
             "colorbar": {
              "outlinewidth": 0,
              "ticks": ""
             }
            },
            "type": "scattercarpet"
           }
          ],
          "scattergeo": [
           {
            "marker": {
             "colorbar": {
              "outlinewidth": 0,
              "ticks": ""
             }
            },
            "type": "scattergeo"
           }
          ],
          "scattergl": [
           {
            "marker": {
             "colorbar": {
              "outlinewidth": 0,
              "ticks": ""
             }
            },
            "type": "scattergl"
           }
          ],
          "scattermapbox": [
           {
            "marker": {
             "colorbar": {
              "outlinewidth": 0,
              "ticks": ""
             }
            },
            "type": "scattermapbox"
           }
          ],
          "scatterpolar": [
           {
            "marker": {
             "colorbar": {
              "outlinewidth": 0,
              "ticks": ""
             }
            },
            "type": "scatterpolar"
           }
          ],
          "scatterpolargl": [
           {
            "marker": {
             "colorbar": {
              "outlinewidth": 0,
              "ticks": ""
             }
            },
            "type": "scatterpolargl"
           }
          ],
          "scatterternary": [
           {
            "marker": {
             "colorbar": {
              "outlinewidth": 0,
              "ticks": ""
             }
            },
            "type": "scatterternary"
           }
          ],
          "surface": [
           {
            "colorbar": {
             "outlinewidth": 0,
             "ticks": ""
            },
            "colorscale": [
             [
              0,
              "#0d0887"
             ],
             [
              0.1111111111111111,
              "#46039f"
             ],
             [
              0.2222222222222222,
              "#7201a8"
             ],
             [
              0.3333333333333333,
              "#9c179e"
             ],
             [
              0.4444444444444444,
              "#bd3786"
             ],
             [
              0.5555555555555556,
              "#d8576b"
             ],
             [
              0.6666666666666666,
              "#ed7953"
             ],
             [
              0.7777777777777778,
              "#fb9f3a"
             ],
             [
              0.8888888888888888,
              "#fdca26"
             ],
             [
              1,
              "#f0f921"
             ]
            ],
            "type": "surface"
           }
          ],
          "table": [
           {
            "cells": {
             "fill": {
              "color": "#EBF0F8"
             },
             "line": {
              "color": "white"
             }
            },
            "header": {
             "fill": {
              "color": "#C8D4E3"
             },
             "line": {
              "color": "white"
             }
            },
            "type": "table"
           }
          ]
         },
         "layout": {
          "annotationdefaults": {
           "arrowcolor": "#2a3f5f",
           "arrowhead": 0,
           "arrowwidth": 1
          },
          "autotypenumbers": "strict",
          "coloraxis": {
           "colorbar": {
            "outlinewidth": 0,
            "ticks": ""
           }
          },
          "colorscale": {
           "diverging": [
            [
             0,
             "#8e0152"
            ],
            [
             0.1,
             "#c51b7d"
            ],
            [
             0.2,
             "#de77ae"
            ],
            [
             0.3,
             "#f1b6da"
            ],
            [
             0.4,
             "#fde0ef"
            ],
            [
             0.5,
             "#f7f7f7"
            ],
            [
             0.6,
             "#e6f5d0"
            ],
            [
             0.7,
             "#b8e186"
            ],
            [
             0.8,
             "#7fbc41"
            ],
            [
             0.9,
             "#4d9221"
            ],
            [
             1,
             "#276419"
            ]
           ],
           "sequential": [
            [
             0,
             "#0d0887"
            ],
            [
             0.1111111111111111,
             "#46039f"
            ],
            [
             0.2222222222222222,
             "#7201a8"
            ],
            [
             0.3333333333333333,
             "#9c179e"
            ],
            [
             0.4444444444444444,
             "#bd3786"
            ],
            [
             0.5555555555555556,
             "#d8576b"
            ],
            [
             0.6666666666666666,
             "#ed7953"
            ],
            [
             0.7777777777777778,
             "#fb9f3a"
            ],
            [
             0.8888888888888888,
             "#fdca26"
            ],
            [
             1,
             "#f0f921"
            ]
           ],
           "sequentialminus": [
            [
             0,
             "#0d0887"
            ],
            [
             0.1111111111111111,
             "#46039f"
            ],
            [
             0.2222222222222222,
             "#7201a8"
            ],
            [
             0.3333333333333333,
             "#9c179e"
            ],
            [
             0.4444444444444444,
             "#bd3786"
            ],
            [
             0.5555555555555556,
             "#d8576b"
            ],
            [
             0.6666666666666666,
             "#ed7953"
            ],
            [
             0.7777777777777778,
             "#fb9f3a"
            ],
            [
             0.8888888888888888,
             "#fdca26"
            ],
            [
             1,
             "#f0f921"
            ]
           ]
          },
          "colorway": [
           "#636efa",
           "#EF553B",
           "#00cc96",
           "#ab63fa",
           "#FFA15A",
           "#19d3f3",
           "#FF6692",
           "#B6E880",
           "#FF97FF",
           "#FECB52"
          ],
          "font": {
           "color": "#2a3f5f"
          },
          "geo": {
           "bgcolor": "white",
           "lakecolor": "white",
           "landcolor": "#E5ECF6",
           "showlakes": true,
           "showland": true,
           "subunitcolor": "white"
          },
          "hoverlabel": {
           "align": "left"
          },
          "hovermode": "closest",
          "mapbox": {
           "style": "light"
          },
          "paper_bgcolor": "white",
          "plot_bgcolor": "#E5ECF6",
          "polar": {
           "angularaxis": {
            "gridcolor": "white",
            "linecolor": "white",
            "ticks": ""
           },
           "bgcolor": "#E5ECF6",
           "radialaxis": {
            "gridcolor": "white",
            "linecolor": "white",
            "ticks": ""
           }
          },
          "scene": {
           "xaxis": {
            "backgroundcolor": "#E5ECF6",
            "gridcolor": "white",
            "gridwidth": 2,
            "linecolor": "white",
            "showbackground": true,
            "ticks": "",
            "zerolinecolor": "white"
           },
           "yaxis": {
            "backgroundcolor": "#E5ECF6",
            "gridcolor": "white",
            "gridwidth": 2,
            "linecolor": "white",
            "showbackground": true,
            "ticks": "",
            "zerolinecolor": "white"
           },
           "zaxis": {
            "backgroundcolor": "#E5ECF6",
            "gridcolor": "white",
            "gridwidth": 2,
            "linecolor": "white",
            "showbackground": true,
            "ticks": "",
            "zerolinecolor": "white"
           }
          },
          "shapedefaults": {
           "line": {
            "color": "#2a3f5f"
           }
          },
          "ternary": {
           "aaxis": {
            "gridcolor": "white",
            "linecolor": "white",
            "ticks": ""
           },
           "baxis": {
            "gridcolor": "white",
            "linecolor": "white",
            "ticks": ""
           },
           "bgcolor": "#E5ECF6",
           "caxis": {
            "gridcolor": "white",
            "linecolor": "white",
            "ticks": ""
           }
          },
          "title": {
           "x": 0.05
          },
          "xaxis": {
           "automargin": true,
           "gridcolor": "white",
           "linecolor": "white",
           "ticks": "",
           "title": {
            "standoff": 15
           },
           "zerolinecolor": "white",
           "zerolinewidth": 2
          },
          "yaxis": {
           "automargin": true,
           "gridcolor": "white",
           "linecolor": "white",
           "ticks": "",
           "title": {
            "standoff": 15
           },
           "zerolinecolor": "white",
           "zerolinewidth": 2
          }
         }
        },
        "title": {
         "text": "LLE v.s. Document ChEMBL ID"
        },
        "width": 1600,
        "xaxis": {
         "anchor": "y",
         "domain": [
          0,
          1
         ],
         "title": {
          "text": "Ligand Efficiency LLE"
         }
        },
        "yaxis": {
         "anchor": "x",
         "categoryarray": [
          "O=C(CNC(=O)[C@@H]1[C@H]2CCC[C@H]2CN1C(=O)CNC(=O)[C@@H](NC(=O)c1cnccn1)C1CCCCC1)C(=O)NC1CC1",
          "O=C(CNC(=O)c1cc2ccccc2[nH]1)NCC[C@@H]1CCNC1=O",
          "O=C(N[C@@H](Cc1ccccc1)C(=O)NCC[C@@H]1CCNC1=O)c1cc2ccccc2[nH]1",
          "O=C(CNC(=O)OCc1ccccc1)NCC(=O)N[C@@H](C[C@@H]1CCNC1=O)C(=O)c1nc2ccccc2s1",
          "O=C(NCCC1CCC1)[C@H]1NC[C@@H]2C[C@H]12",
          "O=C(N[C@@H](CC1CCCCC1)C(=O)NCC[C@@H]1CCNC1=O)c1cc2ccccc2[nH]1",
          "O=C(CNC(=O)OCc1ccccc1)N[C@@H](CC1CCCCC1)C(=O)NCC[C@@H]1CCNC1=O",
          "O=C(CNC(=O)CNC(=O)OCc1ccccc1)NCC[C@@H]1CCNC1=O",
          "c1ccccc1",
          "O=C(CNC(=O)OCc1ccccc1)NCC[C@@H]1CCNC1=O"
         ],
         "categoryorder": "array",
         "domain": [
          0,
          1
         ],
         "title": {
          "text": "Murcko_SMILES"
         }
        }
       }
      }
     },
     "metadata": {},
     "output_type": "display_data"
    }
   ],
   "source": [
    "fig = px.box(ddf,\n",
    "                x='Ligand Efficiency LLE',\n",
    "                y='Murcko_SMILES',\n",
    "                color='Murcko_SMILES',\n",
    "                points='all',\n",
    "                hover_data=['Molecular Weight', 'AlogP', 'pChEMBL Value', ddf.index]\n",
    "                )\n",
    "fig.update_layout(\n",
    "    title='LLE v.s. Document ChEMBL ID',\n",
    "    showlegend=False, # Legendのon/off\n",
    "    width=1600,\n",
    "    # height=800\n",
    "    ) \n",
    "\n",
    "fig.show()"
   ]
  },
  {
   "cell_type": "code",
   "execution_count": null,
   "metadata": {},
   "outputs": [],
   "source": []
  },
  {
   "cell_type": "code",
   "execution_count": null,
   "metadata": {},
   "outputs": [],
   "source": []
  },
  {
   "cell_type": "code",
   "execution_count": null,
   "metadata": {},
   "outputs": [],
   "source": []
  },
  {
   "cell_type": "markdown",
   "metadata": {},
   "source": [
    "##### add pdb id\n",
    "##### pymol"
   ]
  },
  {
   "cell_type": "markdown",
   "metadata": {},
   "source": []
  }
 ],
 "metadata": {
  "kernelspec": {
   "display_name": "Python 3.10.6 ('pymol')",
   "language": "python",
   "name": "python3"
  },
  "language_info": {
   "codemirror_mode": {
    "name": "ipython",
    "version": 3
   },
   "file_extension": ".py",
   "mimetype": "text/x-python",
   "name": "python",
   "nbconvert_exporter": "python",
   "pygments_lexer": "ipython3",
   "version": "3.10.6"
  },
  "orig_nbformat": 4,
  "vscode": {
   "interpreter": {
    "hash": "ccd261da9c8ca32c8405b2975246cd7ab0f3455db7e03ddf16b51d50dde3d20e"
   }
  }
 },
 "nbformat": 4,
 "nbformat_minor": 2
}
